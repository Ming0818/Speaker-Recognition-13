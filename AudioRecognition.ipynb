{
 "cells": [
  {
   "cell_type": "markdown",
   "metadata": {
    "colab_type": "text",
    "id": "4o2mHJO6skA5"
   },
   "source": [
    "# <font color = 'red'> Interact with Google Colab"
   ]
  },
  {
   "cell_type": "code",
   "execution_count": 0,
   "metadata": {
    "colab": {},
    "colab_type": "code",
    "id": "k2uD1ctlYaqg"
   },
   "outputs": [],
   "source": [
    "# !ln -sf /opt/bin/nvidia-smi /usr/bin/nvidia-smi\n",
    "# !pip install gputil -q\n",
    "# !pip install psutil -q\n",
    "# !pip install humanize -q\n",
    "# import psutil\n",
    "# import humanize\n",
    "# import os\n",
    "# import GPUtil as GPU\n",
    "# GPUs = GPU.getGPUs()\n",
    "# # XXX: only one GPU on Colab and isn’t guaranteed\n",
    "# gpu = GPUs[0]\n",
    "# def printm():\n",
    "#  process = psutil.Process(os.getpid())\n",
    "#  print(\"Gen RAM Free: \" + humanize.naturalsize( psutil.virtual_memory().available ), \" | Proc size: \" + humanize.naturalsize( process.memory_info().rss))\n",
    "#  print(\"GPU RAM Free: {0:.0f}MB | Used: {1:.0f}MB | Util {2:3.0f}% | Total {3:.0f}MB\".format(gpu.memoryFree, gpu.memoryUsed, gpu.memoryUtil*100, gpu.memoryTotal))\n",
    "# printm()"
   ]
  },
  {
   "cell_type": "code",
   "execution_count": 1,
   "metadata": {
    "colab": {
     "base_uri": "https://localhost:8080/",
     "height": 51
    },
    "colab_type": "code",
    "executionInfo": {
     "elapsed": 35680,
     "status": "ok",
     "timestamp": 1549508802645,
     "user": {
      "displayName": "Patrina Bailey",
      "photoUrl": "https://lh6.googleusercontent.com/-_-IxxZOx6Gk/AAAAAAAAAAI/AAAAAAAAJ6M/E0SG_dIR-sM/s64/photo.jpg",
      "userId": "15476889788748924708"
     },
     "user_tz": 300
    },
    "id": "kvjd_AWDsZ-v",
    "outputId": "da9032bb-450a-4668-f286-eb379faab7b7"
   },
   "outputs": [
    {
     "name": "stdout",
     "output_type": "stream",
     "text": [
      "\u001b[?25l\r",
      "\u001b[K    1% |▎                               | 10kB 27.3MB/s eta 0:00:01\r",
      "\u001b[K    2% |▋                               | 20kB 2.2MB/s eta 0:00:01\r",
      "\u001b[K    3% |█                               | 30kB 3.2MB/s eta 0:00:01\r",
      "\u001b[K    4% |█▎                              | 40kB 2.1MB/s eta 0:00:01\r",
      "\u001b[K    5% |█▋                              | 51kB 2.6MB/s eta 0:00:01\r",
      "\u001b[K    6% |██                              | 61kB 3.1MB/s eta 0:00:01\r",
      "\u001b[K    7% |██▎                             | 71kB 3.5MB/s eta 0:00:01\r",
      "\u001b[K    8% |██▋                             | 81kB 4.0MB/s eta 0:00:01\r",
      "\u001b[K    9% |███                             | 92kB 4.5MB/s eta 0:00:01\r",
      "\u001b[K    10% |███▎                            | 102kB 3.5MB/s eta 0:00:01\r",
      "\u001b[K    11% |███▋                            | 112kB 3.5MB/s eta 0:00:01\r",
      "\u001b[K    12% |████                            | 122kB 4.9MB/s eta 0:00:01\r",
      "\u001b[K    13% |████▎                           | 133kB 4.9MB/s eta 0:00:01\r",
      "\u001b[K    14% |████▋                           | 143kB 9.4MB/s eta 0:00:01\r",
      "\u001b[K    15% |█████                           | 153kB 9.4MB/s eta 0:00:01\r",
      "\u001b[K    16% |█████▎                          | 163kB 9.4MB/s eta 0:00:01\r",
      "\u001b[K    17% |█████▋                          | 174kB 9.3MB/s eta 0:00:01\r",
      "\u001b[K    18% |██████                          | 184kB 9.3MB/s eta 0:00:01\r",
      "\u001b[K    19% |██████▎                         | 194kB 9.3MB/s eta 0:00:01\r",
      "\u001b[K    20% |██████▋                         | 204kB 44.0MB/s eta 0:00:01\r",
      "\u001b[K    21% |███████                         | 215kB 10.3MB/s eta 0:00:01\r",
      "\u001b[K    22% |███████▎                        | 225kB 10.2MB/s eta 0:00:01\r",
      "\u001b[K    23% |███████▋                        | 235kB 10.2MB/s eta 0:00:01\r",
      "\u001b[K    24% |████████                        | 245kB 10.2MB/s eta 0:00:01\r",
      "\u001b[K    25% |████████▎                       | 256kB 10.1MB/s eta 0:00:01\r",
      "\u001b[K    26% |████████▋                       | 266kB 9.9MB/s eta 0:00:01\r",
      "\u001b[K    27% |█████████                       | 276kB 10.1MB/s eta 0:00:01\r",
      "\u001b[K    29% |█████████▎                      | 286kB 10.1MB/s eta 0:00:01\r",
      "\u001b[K    30% |█████████▋                      | 296kB 10.0MB/s eta 0:00:01\r",
      "\u001b[K    31% |██████████                      | 307kB 10.2MB/s eta 0:00:01\r",
      "\u001b[K    32% |██████████▎                     | 317kB 43.2MB/s eta 0:00:01\r",
      "\u001b[K    33% |██████████▋                     | 327kB 43.9MB/s eta 0:00:01\r",
      "\u001b[K    34% |███████████                     | 337kB 45.0MB/s eta 0:00:01\r",
      "\u001b[K    35% |███████████▎                    | 348kB 40.8MB/s eta 0:00:01\r",
      "\u001b[K    36% |███████████▋                    | 358kB 41.9MB/s eta 0:00:01\r",
      "\u001b[K    37% |████████████                    | 368kB 48.0MB/s eta 0:00:01\r",
      "\u001b[K    38% |████████████▎                   | 378kB 47.8MB/s eta 0:00:01\r",
      "\u001b[K    39% |████████████▋                   | 389kB 46.9MB/s eta 0:00:01\r",
      "\u001b[K    40% |█████████████                   | 399kB 12.3MB/s eta 0:00:01\r",
      "\u001b[K    41% |█████████████▎                  | 409kB 12.1MB/s eta 0:00:01\r",
      "\u001b[K    42% |█████████████▋                  | 419kB 12.2MB/s eta 0:00:01\r",
      "\u001b[K    43% |██████████████                  | 430kB 12.3MB/s eta 0:00:01\r",
      "\u001b[K    44% |██████████████▎                 | 440kB 12.3MB/s eta 0:00:01\r",
      "\u001b[K    45% |██████████████▋                 | 450kB 12.6MB/s eta 0:00:01\r",
      "\u001b[K    46% |███████████████                 | 460kB 12.5MB/s eta 0:00:01\r",
      "\u001b[K    47% |███████████████▎                | 471kB 12.5MB/s eta 0:00:01\r",
      "\u001b[K    48% |███████████████▋                | 481kB 12.4MB/s eta 0:00:01\r",
      "\u001b[K    49% |████████████████                | 491kB 12.4MB/s eta 0:00:01\r",
      "\u001b[K    50% |████████████████▎               | 501kB 48.7MB/s eta 0:00:01\r",
      "\u001b[K    51% |████████████████▋               | 512kB 49.3MB/s eta 0:00:01\r",
      "\u001b[K    52% |█████████████████               | 522kB 49.6MB/s eta 0:00:01\r",
      "\u001b[K    53% |█████████████████▎              | 532kB 49.9MB/s eta 0:00:01\r",
      "\u001b[K    54% |█████████████████▋              | 542kB 48.4MB/s eta 0:00:01\r",
      "\u001b[K    55% |██████████████████              | 552kB 49.5MB/s eta 0:00:01\r",
      "\u001b[K    57% |██████████████████▎             | 563kB 51.5MB/s eta 0:00:01\r",
      "\u001b[K    58% |██████████████████▋             | 573kB 51.0MB/s eta 0:00:01\r",
      "\u001b[K    59% |███████████████████             | 583kB 52.4MB/s eta 0:00:01\r",
      "\u001b[K    60% |███████████████████▎            | 593kB 52.9MB/s eta 0:00:01\r",
      "\u001b[K    61% |███████████████████▋            | 604kB 52.6MB/s eta 0:00:01\r",
      "\u001b[K    62% |████████████████████            | 614kB 54.4MB/s eta 0:00:01\r",
      "\u001b[K    63% |████████████████████▎           | 624kB 53.2MB/s eta 0:00:01\r",
      "\u001b[K    64% |████████████████████▋           | 634kB 53.6MB/s eta 0:00:01\r",
      "\u001b[K    65% |█████████████████████           | 645kB 54.7MB/s eta 0:00:01\r",
      "\u001b[K    66% |█████████████████████▎          | 655kB 55.0MB/s eta 0:00:01\r",
      "\u001b[K    67% |█████████████████████▋          | 665kB 43.1MB/s eta 0:00:01\r",
      "\u001b[K    68% |██████████████████████          | 675kB 15.2MB/s eta 0:00:01\r",
      "\u001b[K    69% |██████████████████████▎         | 686kB 14.9MB/s eta 0:00:01\r",
      "\u001b[K    70% |██████████████████████▋         | 696kB 14.9MB/s eta 0:00:01\r",
      "\u001b[K    71% |███████████████████████         | 706kB 14.8MB/s eta 0:00:01\r",
      "\u001b[K    72% |███████████████████████▎        | 716kB 14.9MB/s eta 0:00:01\r",
      "\u001b[K    73% |███████████████████████▋        | 727kB 14.8MB/s eta 0:00:01\r",
      "\u001b[K    74% |████████████████████████        | 737kB 14.7MB/s eta 0:00:01\r",
      "\u001b[K    75% |████████████████████████▎       | 747kB 14.7MB/s eta 0:00:01\r",
      "\u001b[K    76% |████████████████████████▋       | 757kB 14.8MB/s eta 0:00:01\r",
      "\u001b[K    77% |████████████████████████▉       | 768kB 16.0MB/s eta 0:00:01\r",
      "\u001b[K    78% |█████████████████████████▏      | 778kB 48.9MB/s eta 0:00:01\r",
      "\u001b[K    79% |█████████████████████████▌      | 788kB 51.8MB/s eta 0:00:01\r",
      "\u001b[K    80% |█████████████████████████▉      | 798kB 51.7MB/s eta 0:00:01\r",
      "\u001b[K    81% |██████████████████████████▏     | 808kB 51.1MB/s eta 0:00:01\r",
      "\u001b[K    82% |██████████████████████████▌     | 819kB 50.9MB/s eta 0:00:01\r",
      "\u001b[K    83% |██████████████████████████▉     | 829kB 52.1MB/s eta 0:00:01\r",
      "\u001b[K    85% |███████████████████████████▏    | 839kB 51.8MB/s eta 0:00:01\r",
      "\u001b[K    86% |███████████████████████████▌    | 849kB 50.9MB/s eta 0:00:01\r",
      "\u001b[K    87% |███████████████████████████▉    | 860kB 46.9MB/s eta 0:00:01\r",
      "\u001b[K    88% |████████████████████████████▏   | 870kB 46.4MB/s eta 0:00:01\r",
      "\u001b[K    89% |████████████████████████████▌   | 880kB 47.4MB/s eta 0:00:01\r",
      "\u001b[K    90% |████████████████████████████▉   | 890kB 48.1MB/s eta 0:00:01\r",
      "\u001b[K    91% |█████████████████████████████▏  | 901kB 48.5MB/s eta 0:00:01\r",
      "\u001b[K    92% |█████████████████████████████▌  | 911kB 49.6MB/s eta 0:00:01\r",
      "\u001b[K    93% |█████████████████████████████▉  | 921kB 13.9MB/s eta 0:00:01\r",
      "\u001b[K    94% |██████████████████████████████▏ | 931kB 13.8MB/s eta 0:00:01\r",
      "\u001b[K    95% |██████████████████████████████▌ | 942kB 13.8MB/s eta 0:00:01\r",
      "\u001b[K    96% |██████████████████████████████▉ | 952kB 13.9MB/s eta 0:00:01\r",
      "\u001b[K    97% |███████████████████████████████▏| 962kB 14.2MB/s eta 0:00:01\r",
      "\u001b[K    98% |███████████████████████████████▌| 972kB 14.3MB/s eta 0:00:01\r",
      "\u001b[K    99% |███████████████████████████████▉| 983kB 14.1MB/s eta 0:00:01\r",
      "\u001b[K    100% |████████████████████████████████| 993kB 10.1MB/s \n",
      "\u001b[?25h  Building wheel for PyDrive (setup.py) ... \u001b[?25ldone\n",
      "\u001b[?25h"
     ]
    }
   ],
   "source": [
    "# Install the PyDrive wrapper & import libraries.\n",
    "# This only needs to be done once per notebook.\n",
    "\n",
    "# PyDrive simplifies many common Google Drive API tasks.\n",
    "!pip install -U -q PyDrive\n",
    "# -q means quiet\n",
    "\n",
    "# provide the ability to authenticate to Google APIs using various methods.\n",
    "from pydrive.auth import GoogleAuth\n",
    "from pydrive.drive import GoogleDrive\n",
    "from google.colab import auth\n",
    "from oauth2client.client import GoogleCredentials\n",
    "\n",
    "# Authenticate and create the PyDrive client.\n",
    "# This only needs to be done once per notebook.\n",
    "auth.authenticate_user()\n",
    "gauth = GoogleAuth()\n",
    "gauth.credentials = GoogleCredentials.get_application_default()\n",
    "drive = GoogleDrive(gauth)\n"
   ]
  },
  {
   "cell_type": "code",
   "execution_count": 2,
   "metadata": {
    "colab": {
     "base_uri": "https://localhost:8080/",
     "height": 122
    },
    "colab_type": "code",
    "executionInfo": {
     "elapsed": 18768,
     "status": "ok",
     "timestamp": 1549508823990,
     "user": {
      "displayName": "Patrina Bailey",
      "photoUrl": "https://lh6.googleusercontent.com/-_-IxxZOx6Gk/AAAAAAAAAAI/AAAAAAAAJ6M/E0SG_dIR-sM/s64/photo.jpg",
      "userId": "15476889788748924708"
     },
     "user_tz": 300
    },
    "id": "2KCznvL0moU6",
    "outputId": "bb96e9bc-6a1c-4046-c827-73f257e7cbb4"
   },
   "outputs": [
    {
     "name": "stdout",
     "output_type": "stream",
     "text": [
      "Go to this URL in a browser: https://accounts.google.com/o/oauth2/auth?client_id=947318989803-6bn6qk8qdgf4n4g3pfee6491hc0brc4i.apps.googleusercontent.com&redirect_uri=urn%3Aietf%3Awg%3Aoauth%3A2.0%3Aoob&scope=email%20https%3A%2F%2Fwww.googleapis.com%2Fauth%2Fdocs.test%20https%3A%2F%2Fwww.googleapis.com%2Fauth%2Fdrive%20https%3A%2F%2Fwww.googleapis.com%2Fauth%2Fdrive.photos.readonly%20https%3A%2F%2Fwww.googleapis.com%2Fauth%2Fpeopleapi.readonly&response_type=code\n",
      "\n",
      "Enter your authorization code:\n",
      "··········\n",
      "Mounted at /content/drive\n"
     ]
    }
   ],
   "source": [
    "\n",
    "# Be able to work within google folder\n",
    "from google.colab import drive\n",
    "drive.mount('/content/drive')"
   ]
  },
  {
   "cell_type": "code",
   "execution_count": 3,
   "metadata": {
    "colab": {
     "base_uri": "https://localhost:8080/",
     "height": 170
    },
    "colab_type": "code",
    "executionInfo": {
     "elapsed": 1281,
     "status": "ok",
     "timestamp": 1549508826274,
     "user": {
      "displayName": "Patrina Bailey",
      "photoUrl": "https://lh6.googleusercontent.com/-_-IxxZOx6Gk/AAAAAAAAAAI/AAAAAAAAJ6M/E0SG_dIR-sM/s64/photo.jpg",
      "userId": "15476889788748924708"
     },
     "user_tz": 300
    },
    "id": "VrrO1zP5Shbd",
    "outputId": "c2b9b2d7-d235-4594-dba1-e550a69723cd"
   },
   "outputs": [
    {
     "name": "stdout",
     "output_type": "stream",
     "text": [
      "Filesystem     1G-blocks  Used Available Use% Mounted on\n",
      "overlay             359G   22G      319G   7% /\n",
      "tmpfs                 7G    0G        7G   0% /dev\n",
      "tmpfs                 7G    0G        7G   0% /sys/fs/cgroup\n",
      "tmpfs                 7G    1G        7G   1% /var/colab\n",
      "/dev/sda1           365G   26G      340G   7% /opt/bin\n",
      "shm                   6G    0G        6G   0% /dev/shm\n",
      "tmpfs                 7G    0G        7G   0% /sys/firmware\n",
      "drive               100G   44G       57G  44% /content/drive\n"
     ]
    }
   ],
   "source": [
    "# tells you how much data you have on their servers. look at /dev/sda1\n",
    "!df -BG"
   ]
  },
  {
   "cell_type": "code",
   "execution_count": 4,
   "metadata": {
    "colab": {
     "base_uri": "https://localhost:8080/",
     "height": 34
    },
    "colab_type": "code",
    "executionInfo": {
     "elapsed": 1480,
     "status": "ok",
     "timestamp": 1549508827248,
     "user": {
      "displayName": "Patrina Bailey",
      "photoUrl": "https://lh6.googleusercontent.com/-_-IxxZOx6Gk/AAAAAAAAAAI/AAAAAAAAJ6M/E0SG_dIR-sM/s64/photo.jpg",
      "userId": "15476889788748924708"
     },
     "user_tz": 300
    },
    "id": "YR0YVSHmqB5N",
    "outputId": "f5aea667-a093-404c-c7f7-539a4944ca2e"
   },
   "outputs": [
    {
     "name": "stdout",
     "output_type": "stream",
     "text": [
      "/content\n"
     ]
    }
   ],
   "source": [
    "!pwd"
   ]
  },
  {
   "cell_type": "code",
   "execution_count": 5,
   "metadata": {
    "colab": {
     "base_uri": "https://localhost:8080/",
     "height": 68
    },
    "colab_type": "code",
    "executionInfo": {
     "elapsed": 1788,
     "status": "ok",
     "timestamp": 1549508827950,
     "user": {
      "displayName": "Patrina Bailey",
      "photoUrl": "https://lh6.googleusercontent.com/-_-IxxZOx6Gk/AAAAAAAAAAI/AAAAAAAAJ6M/E0SG_dIR-sM/s64/photo.jpg",
      "userId": "15476889788748924708"
     },
     "user_tz": 300
    },
    "id": "TmWNLpbrTvm5",
    "outputId": "b0f0cde3-cd03-44db-a3d4-acaa9d98f797"
   },
   "outputs": [
    {
     "name": "stdout",
     "output_type": "stream",
     "text": [
      "audio_df2.pkl  audio_df.pkl\t       model.json\t train_audio\n",
      "audio_df3.pkl  AudioRecognition.ipynb  model_weights.h5  vox1_meta.csv\n",
      "audio_df4.pkl  full_df.pkl\t       test_audio\n"
     ]
    }
   ],
   "source": [
    "# Change directory to the one this notebook is in\n",
    "import os\n",
    "os.chdir(\"drive/My Drive/Colab Notebooks/\")\n",
    "!ls"
   ]
  },
  {
   "cell_type": "code",
   "execution_count": 6,
   "metadata": {
    "colab": {
     "base_uri": "https://localhost:8080/",
     "height": 34
    },
    "colab_type": "code",
    "executionInfo": {
     "elapsed": 2081,
     "status": "ok",
     "timestamp": 1549508828862,
     "user": {
      "displayName": "Patrina Bailey",
      "photoUrl": "https://lh6.googleusercontent.com/-_-IxxZOx6Gk/AAAAAAAAAAI/AAAAAAAAJ6M/E0SG_dIR-sM/s64/photo.jpg",
      "userId": "15476889788748924708"
     },
     "user_tz": 300
    },
    "id": "iR3uPcYNKt5H",
    "outputId": "2505859d-915d-4890-a736-522e11266dca"
   },
   "outputs": [
    {
     "name": "stdout",
     "output_type": "stream",
     "text": [
      "/content/drive/My Drive/Colab Notebooks\n"
     ]
    }
   ],
   "source": [
    "!pwd"
   ]
  },
  {
   "cell_type": "markdown",
   "metadata": {
    "colab_type": "text",
    "id": "m8bK1dEAkHfR"
   },
   "source": [
    "# <font color = 'red' >Prep data"
   ]
  },
  {
   "cell_type": "markdown",
   "metadata": {
    "colab_type": "text",
    "id": "5H8v-kjAmEuH"
   },
   "source": [
    "data came from: \n",
    "http://www.robots.ox.ac.uk/~vgg/data/voxceleb/vox1.html"
   ]
  },
  {
   "cell_type": "code",
   "execution_count": 0,
   "metadata": {
    "colab": {},
    "colab_type": "code",
    "id": "iwXC1c9zW1AD"
   },
   "outputs": [],
   "source": [
    "# unzip the test set\n",
    "!unzip vox1_test_aac.zip"
   ]
  },
  {
   "cell_type": "code",
   "execution_count": 0,
   "metadata": {
    "colab": {},
    "colab_type": "code",
    "id": "A3tbRrmbW2bE"
   },
   "outputs": [],
   "source": [
    "# concat the 4 parts of training set\n",
    "cat vox1_dev_wav_* > vox1_dev_wav.zip"
   ]
  },
  {
   "cell_type": "code",
   "execution_count": 0,
   "metadata": {
    "colab": {},
    "colab_type": "code",
    "id": "61aOb5wVW3c8"
   },
   "outputs": [],
   "source": [
    "# unzip the concat file\n",
    "!unzip vox1_dev_wav.zip"
   ]
  },
  {
   "cell_type": "code",
   "execution_count": 8,
   "metadata": {
    "colab": {
     "base_uri": "https://localhost:8080/",
     "height": 34
    },
    "colab_type": "code",
    "executionInfo": {
     "elapsed": 1247,
     "status": "ok",
     "timestamp": 1549508844495,
     "user": {
      "displayName": "Patrina Bailey",
      "photoUrl": "https://lh6.googleusercontent.com/-_-IxxZOx6Gk/AAAAAAAAAAI/AAAAAAAAJ6M/E0SG_dIR-sM/s64/photo.jpg",
      "userId": "15476889788748924708"
     },
     "user_tz": 300
    },
    "id": "Qer3SJJrvZPE",
    "outputId": "234df5b9-59c1-4290-ade8-42c48d459596"
   },
   "outputs": [
    {
     "name": "stderr",
     "output_type": "stream",
     "text": [
      "Using TensorFlow backend.\n"
     ]
    }
   ],
   "source": [
    "# import necessary libraries\n",
    "import re\n",
    "import wave \n",
    "import itertools\n",
    "import numpy as np\n",
    "import pandas as pd\n",
    "from os import listdir\n",
    "from os.path import isfile, join\n",
    "from matplotlib import pyplot as plt\n",
    "import seaborn as sns\n",
    "import librosa\n",
    "import librosa.feature \n",
    "import librosa.display\n",
    "# import talos as ta\n",
    "# from talos import live\n",
    "# from talos.model import hidden_layers\n",
    "from keras import layers, optimizers\n",
    "from keras.models import model_from_json\n",
    "from keras.models import Sequential, Model\n",
    "from keras.optimizers import Adam, sgd, Adamax\n",
    "from keras.callbacks import EarlyStopping\n",
    "from keras.layers.advanced_activations import LeakyReLU, PReLU\n",
    "from keras.layers import Dense, LSTM, Dropout, Flatten, Input, Conv1D, MaxPooling1D\n",
    "from keras.activations import relu, elu, softmax, selu\n",
    "from sklearn.preprocessing import LabelEncoder\n",
    "from sklearn.metrics import f1_score, precision_score, recall_score, accuracy_score\n",
    "from sklearn.metrics import classification_report, confusion_matrix\n",
    "from sklearn.model_selection import train_test_split\n",
    "from sklearn.metrics import roc_curve, auc\n"
   ]
  },
  {
   "cell_type": "markdown",
   "metadata": {
    "colab_type": "text",
    "id": "QpThAmiBzuNL"
   },
   "source": [
    "## get labels into dataframe"
   ]
  },
  {
   "cell_type": "code",
   "execution_count": 9,
   "metadata": {
    "colab": {
     "base_uri": "https://localhost:8080/",
     "height": 204
    },
    "colab_type": "code",
    "executionInfo": {
     "elapsed": 728,
     "status": "ok",
     "timestamp": 1549508847874,
     "user": {
      "displayName": "Patrina Bailey",
      "photoUrl": "https://lh6.googleusercontent.com/-_-IxxZOx6Gk/AAAAAAAAAAI/AAAAAAAAJ6M/E0SG_dIR-sM/s64/photo.jpg",
      "userId": "15476889788748924708"
     },
     "user_tz": 300
    },
    "id": "b2f6CUOEztY3",
    "outputId": "926abda4-fbbc-4079-cc70-acc65a8b778b"
   },
   "outputs": [
    {
     "data": {
      "text/html": [
       "<div>\n",
       "<style scoped>\n",
       "    .dataframe tbody tr th:only-of-type {\n",
       "        vertical-align: middle;\n",
       "    }\n",
       "\n",
       "    .dataframe tbody tr th {\n",
       "        vertical-align: top;\n",
       "    }\n",
       "\n",
       "    .dataframe thead th {\n",
       "        text-align: right;\n",
       "    }\n",
       "</style>\n",
       "<table border=\"1\" class=\"dataframe\">\n",
       "  <thead>\n",
       "    <tr style=\"text-align: right;\">\n",
       "      <th></th>\n",
       "      <th>VoxCeleb1 ID</th>\n",
       "      <th>VGGFace1 ID</th>\n",
       "      <th>Gender</th>\n",
       "      <th>Nationality</th>\n",
       "      <th>Set</th>\n",
       "    </tr>\n",
       "  </thead>\n",
       "  <tbody>\n",
       "    <tr>\n",
       "      <th>0</th>\n",
       "      <td>id10001</td>\n",
       "      <td>A.J._Buckley</td>\n",
       "      <td>m</td>\n",
       "      <td>Ireland</td>\n",
       "      <td>dev</td>\n",
       "    </tr>\n",
       "    <tr>\n",
       "      <th>1</th>\n",
       "      <td>id10002</td>\n",
       "      <td>A.R._Rahman</td>\n",
       "      <td>m</td>\n",
       "      <td>India</td>\n",
       "      <td>dev</td>\n",
       "    </tr>\n",
       "    <tr>\n",
       "      <th>2</th>\n",
       "      <td>id10003</td>\n",
       "      <td>Aamir_Khan</td>\n",
       "      <td>m</td>\n",
       "      <td>India</td>\n",
       "      <td>dev</td>\n",
       "    </tr>\n",
       "    <tr>\n",
       "      <th>3</th>\n",
       "      <td>id10004</td>\n",
       "      <td>Aaron_Tveit</td>\n",
       "      <td>m</td>\n",
       "      <td>USA</td>\n",
       "      <td>dev</td>\n",
       "    </tr>\n",
       "    <tr>\n",
       "      <th>4</th>\n",
       "      <td>id10005</td>\n",
       "      <td>Aaron_Yoo</td>\n",
       "      <td>m</td>\n",
       "      <td>USA</td>\n",
       "      <td>dev</td>\n",
       "    </tr>\n",
       "  </tbody>\n",
       "</table>\n",
       "</div>"
      ],
      "text/plain": [
       "  VoxCeleb1 ID   VGGFace1 ID Gender Nationality  Set\n",
       "0      id10001  A.J._Buckley      m     Ireland  dev\n",
       "1      id10002   A.R._Rahman      m       India  dev\n",
       "2      id10003    Aamir_Khan      m       India  dev\n",
       "3      id10004   Aaron_Tveit      m         USA  dev\n",
       "4      id10005     Aaron_Yoo      m         USA  dev"
      ]
     },
     "execution_count": 9,
     "metadata": {
      "tags": []
     },
     "output_type": "execute_result"
    }
   ],
   "source": [
    "# read the meta csv file\n",
    "meta_df = pd.read_csv('vox1_meta.csv', delimiter = '\\t' )\n",
    "meta_df.head()"
   ]
  },
  {
   "cell_type": "code",
   "execution_count": 14,
   "metadata": {
    "colab": {
     "base_uri": "https://localhost:8080/",
     "height": 204
    },
    "colab_type": "code",
    "executionInfo": {
     "elapsed": 822,
     "status": "ok",
     "timestamp": 1549506163211,
     "user": {
      "displayName": "Patrina Bailey",
      "photoUrl": "https://lh6.googleusercontent.com/-_-IxxZOx6Gk/AAAAAAAAAAI/AAAAAAAAJ6M/E0SG_dIR-sM/s64/photo.jpg",
      "userId": "15476889788748924708"
     },
     "user_tz": 300
    },
    "id": "j5dBXkM50RHw",
    "outputId": "7dcbd849-a800-48cc-d59c-97728b95e905"
   },
   "outputs": [
    {
     "data": {
      "text/html": [
       "<div>\n",
       "<style scoped>\n",
       "    .dataframe tbody tr th:only-of-type {\n",
       "        vertical-align: middle;\n",
       "    }\n",
       "\n",
       "    .dataframe tbody tr th {\n",
       "        vertical-align: top;\n",
       "    }\n",
       "\n",
       "    .dataframe thead th {\n",
       "        text-align: right;\n",
       "    }\n",
       "</style>\n",
       "<table border=\"1\" class=\"dataframe\">\n",
       "  <thead>\n",
       "    <tr style=\"text-align: right;\">\n",
       "      <th></th>\n",
       "      <th>id</th>\n",
       "      <th>name</th>\n",
       "      <th>gender</th>\n",
       "      <th>nationality</th>\n",
       "      <th>set</th>\n",
       "    </tr>\n",
       "  </thead>\n",
       "  <tbody>\n",
       "    <tr>\n",
       "      <th>0</th>\n",
       "      <td>id10001</td>\n",
       "      <td>A.J._Buckley</td>\n",
       "      <td>m</td>\n",
       "      <td>Ireland</td>\n",
       "      <td>dev</td>\n",
       "    </tr>\n",
       "    <tr>\n",
       "      <th>1</th>\n",
       "      <td>id10002</td>\n",
       "      <td>A.R._Rahman</td>\n",
       "      <td>m</td>\n",
       "      <td>India</td>\n",
       "      <td>dev</td>\n",
       "    </tr>\n",
       "    <tr>\n",
       "      <th>2</th>\n",
       "      <td>id10003</td>\n",
       "      <td>Aamir_Khan</td>\n",
       "      <td>m</td>\n",
       "      <td>India</td>\n",
       "      <td>dev</td>\n",
       "    </tr>\n",
       "    <tr>\n",
       "      <th>3</th>\n",
       "      <td>id10004</td>\n",
       "      <td>Aaron_Tveit</td>\n",
       "      <td>m</td>\n",
       "      <td>USA</td>\n",
       "      <td>dev</td>\n",
       "    </tr>\n",
       "    <tr>\n",
       "      <th>4</th>\n",
       "      <td>id10005</td>\n",
       "      <td>Aaron_Yoo</td>\n",
       "      <td>m</td>\n",
       "      <td>USA</td>\n",
       "      <td>dev</td>\n",
       "    </tr>\n",
       "  </tbody>\n",
       "</table>\n",
       "</div>"
      ],
      "text/plain": [
       "        id          name gender nationality  set\n",
       "0  id10001  A.J._Buckley      m     Ireland  dev\n",
       "1  id10002   A.R._Rahman      m       India  dev\n",
       "2  id10003    Aamir_Khan      m       India  dev\n",
       "3  id10004   Aaron_Tveit      m         USA  dev\n",
       "4  id10005     Aaron_Yoo      m         USA  dev"
      ]
     },
     "execution_count": 14,
     "metadata": {
      "tags": []
     },
     "output_type": "execute_result"
    }
   ],
   "source": [
    "# change the column names to be more intuitive and lowercased\n",
    "meta_df.columns = ['id', 'name', 'gender', 'nationality', 'set'] # rename columns\n",
    "meta_df.head() # shape of df: (1251, 5)"
   ]
  },
  {
   "cell_type": "markdown",
   "metadata": {
    "colab_type": "text",
    "id": "nBYEDTv0wm49"
   },
   "source": [
    "## get training data\n"
   ]
  },
  {
   "cell_type": "markdown",
   "metadata": {
    "colab_type": "text",
    "id": "vi0HuVi3wtHZ"
   },
   "source": [
    "- **mfcc**: Mel-frequency cepstral coefficients\n",
    "- **melspectrogram**: Compute a Mel-scaled power spectrogram\n",
    "- **chorma-stft**: Compute a chromagram from a waveform or power spectrogram\n",
    "    - in music, the term chroma feature or chromagram closely relates to the twelve different pitch classes. Chroma-based features, which are also referred to as \"pitch class profiles\", are a powerful tool for analyzing music whose pitches can be meaningfully categorized and whose tuning approximates to the equal-tempered scale. \n",
    "- **spectral_contrast**: Compute spectral contrast\n",
    "    - Spectral contrast is defined as the level difference between peaks and valleys in the spectrum\n",
    "- **tonnetz**: Computes the tonal centroid features (tonnetz), following the method of [2]"
   ]
  },
  {
   "cell_type": "code",
   "execution_count": 0,
   "metadata": {
    "colab": {},
    "colab_type": "code",
    "id": "pRp6ejq4BYZd"
   },
   "outputs": [],
   "source": [
    "def extract_feat(filename, filepath):\n",
    "  \n",
    "  # load in audio file\n",
    "  y, sr = librosa.load(filepath + filename) # y = audio file, sr = sample rate\n",
    "\n",
    "  # extract the various features of the audio\n",
    "  mfcc = np.mean(librosa.feature.mfcc(y = y, sr = sr, n_mfcc=40).T, axis = 0)  \n",
    "  mel = np.mean(librosa.feature.melspectrogram(y = y, sr = sr).T, axis = 0)\n",
    "  stft = np.abs(librosa.stft(y))\n",
    "  chroma = np.mean(librosa.feature.chroma_stft(S = stft, y = y, sr = sr).T, axis = 0)\n",
    "  contrast = np.mean(librosa.feature.spectral_contrast(S = stft, y = y, sr = sr).T, axis = 0)\n",
    "  tonnetz =  np.mean(librosa.feature.tonnetz(y = librosa.effects.harmonic(y), sr = sr).T, axis = 0)\n",
    "  \n",
    "  return mfcc,chroma,mel,contrast,tonnetz # shape: (40,), (12,), (128,), (7,), (6,)\n",
    "  "
   ]
  },
  {
   "cell_type": "code",
   "execution_count": 0,
   "metadata": {
    "colab": {
     "base_uri": "https://localhost:8080/",
     "height": 98
    },
    "colab_type": "code",
    "executionInfo": {
     "elapsed": 373,
     "status": "ok",
     "timestamp": 1549338602561,
     "user": {
      "displayName": "Patrina Bailey",
      "photoUrl": "https://lh6.googleusercontent.com/-_-IxxZOx6Gk/AAAAAAAAAAI/AAAAAAAAJ6M/E0SG_dIR-sM/s64/photo.jpg",
      "userId": "15476889788748924708"
     },
     "user_tz": 300
    },
    "id": "NuRZVU5T1mNP",
    "outputId": "bd56f0ae-2da2-4eb5-93d7-5561cd849e76"
   },
   "outputs": [
    {
     "data": {
      "text/html": [
       "<div>\n",
       "<style scoped>\n",
       "    .dataframe tbody tr th:only-of-type {\n",
       "        vertical-align: middle;\n",
       "    }\n",
       "\n",
       "    .dataframe tbody tr th {\n",
       "        vertical-align: top;\n",
       "    }\n",
       "\n",
       "    .dataframe thead th {\n",
       "        text-align: right;\n",
       "    }\n",
       "</style>\n",
       "<table border=\"1\" class=\"dataframe\">\n",
       "  <thead>\n",
       "    <tr style=\"text-align: right;\">\n",
       "      <th></th>\n",
       "      <th>id</th>\n",
       "      <th>mfcc</th>\n",
       "      <th>mfcc</th>\n",
       "      <th>mfcc</th>\n",
       "      <th>mfcc</th>\n",
       "      <th>mfcc</th>\n",
       "      <th>mfcc</th>\n",
       "      <th>mfcc</th>\n",
       "      <th>mfcc</th>\n",
       "      <th>mfcc</th>\n",
       "      <th>...</th>\n",
       "      <th>contrast</th>\n",
       "      <th>contrast</th>\n",
       "      <th>contrast</th>\n",
       "      <th>contrast</th>\n",
       "      <th>tonnetz</th>\n",
       "      <th>tonnetz</th>\n",
       "      <th>tonnetz</th>\n",
       "      <th>tonnetz</th>\n",
       "      <th>tonnetz</th>\n",
       "      <th>tonnetz</th>\n",
       "    </tr>\n",
       "  </thead>\n",
       "  <tbody>\n",
       "  </tbody>\n",
       "</table>\n",
       "<p>0 rows × 194 columns</p>\n",
       "</div>"
      ],
      "text/plain": [
       "Empty DataFrame\n",
       "Columns: [id, mfcc, mfcc, mfcc, mfcc, mfcc, mfcc, mfcc, mfcc, mfcc, mfcc, mfcc, mfcc, mfcc, mfcc, mfcc, mfcc, mfcc, mfcc, mfcc, mfcc, mfcc, mfcc, mfcc, mfcc, mfcc, mfcc, mfcc, mfcc, mfcc, mfcc, mfcc, mfcc, mfcc, mfcc, mfcc, mfcc, mfcc, mfcc, mfcc, mfcc, chroma, chroma, chroma, chroma, chroma, chroma, chroma, chroma, chroma, chroma, chroma, chroma, mel, mel, mel, mel, mel, mel, mel, mel, mel, mel, mel, mel, mel, mel, mel, mel, mel, mel, mel, mel, mel, mel, mel, mel, mel, mel, mel, mel, mel, mel, mel, mel, mel, mel, mel, mel, mel, mel, mel, mel, mel, mel, mel, mel, mel, mel, mel, ...]\n",
       "Index: []\n",
       "\n",
       "[0 rows x 194 columns]"
      ]
     },
     "execution_count": 16,
     "metadata": {
      "tags": []
     },
     "output_type": "execute_result"
    }
   ],
   "source": [
    "# Instatiate a dataframe the train audio features will be in \n",
    "columns = ['id'] + ['mfcc']*40 + ['chroma']*12 + ['mel']*128 + ['contrast']*7 + ['tonnetz']*6\n",
    "audio_df = pd.DataFrame(columns = columns)\n",
    "audio_df # 0 rows × 194 columns"
   ]
  },
  {
   "cell_type": "code",
   "execution_count": 0,
   "metadata": {
    "colab": {},
    "colab_type": "code",
    "id": "DDQXYtGgLK9B"
   },
   "outputs": [],
   "source": [
    "# Get data, extract features, append features into dataframe\n",
    "ids = [f for f in listdir('train_audio/')] # get the filenames (ids) in the train_audio/ directory\n",
    "for idd in ids[344:]:\n",
    "  subfiles = [f for f in listdir('train_audio/{}'.format(idd))] # go into each celeb file\n",
    "  \n",
    "  for subfile in subfiles:\n",
    "    audiofiles = [f for f in listdir('train_audio/{}/{}'.format(idd, subfile))] # extract the audio files in each subfile\n",
    "    \n",
    "    for audiofile in audiofiles:\n",
    "      pathname = 'train_audio/{}/{}/'.format(idd, subfile)\n",
    "      mfcc,chroma,mel,contrast,tonnetz = extract_feat(audiofile, pathname)\n",
    "      features = np.hstack([mfcc,chroma,mel,contrast,tonnetz])\n",
    "     \n",
    "      # get the id in integer form\n",
    "      idd_int = int(idd[2:])\n",
    "\n",
    "      # add id in the front of the features array\n",
    "      labelled = np.insert(features, 0, idd_int, axis = 0)\n",
    "      fill = np.empty((0,194))\n",
    "      row = np.vstack([fill,labelled]) # shape (1,193)\n",
    "      \n",
    "      # put row in a dataframe\n",
    "      row_df = pd.DataFrame(row, columns = columns)\n",
    "\n",
    "      # append row_df into the dataframe\n",
    "      audio_df = audio_df.append(row_df, ignore_index = True)\n",
    "\n"
   ]
  },
  {
   "cell_type": "markdown",
   "metadata": {
    "colab_type": "text",
    "id": "8KD0EH5hLYUs"
   },
   "source": [
    "<font color = 'blue'> **because it takes hours to collect ~100 ids, had to collect in iteration. Saved these iterations in audio_df(#).pkl files. There are four pickle files, all together collected ~500 IDs. **"
   ]
  },
  {
   "cell_type": "code",
   "execution_count": 0,
   "metadata": {
    "colab": {},
    "colab_type": "code",
    "id": "XNkPK857E7wA"
   },
   "outputs": [],
   "source": [
    "# Save dataframe in a pickle file\n",
    "audio_df.to_pickle('audio_df4.pkl')"
   ]
  },
  {
   "cell_type": "code",
   "execution_count": 0,
   "metadata": {
    "colab": {
     "base_uri": "https://localhost:8080/",
     "height": 34
    },
    "colab_type": "code",
    "executionInfo": {
     "elapsed": 277,
     "status": "ok",
     "timestamp": 1549371670337,
     "user": {
      "displayName": "Patrina Bailey",
      "photoUrl": "https://lh6.googleusercontent.com/-_-IxxZOx6Gk/AAAAAAAAAAI/AAAAAAAAJ6M/E0SG_dIR-sM/s64/photo.jpg",
      "userId": "15476889788748924708"
     },
     "user_tz": 300
    },
    "id": "NCoo85Prvur4",
    "outputId": "b96530a8-6a5a-400d-9d39-b66aa1e0537c"
   },
   "outputs": [
    {
     "data": {
      "text/plain": [
       "(194,)"
      ]
     },
     "execution_count": 19,
     "metadata": {
      "tags": []
     },
     "output_type": "execute_result"
    }
   ],
   "source": [
    "df4 = pd.read_pickle('audio_df4.pkl')\n",
    "df4.id.unique().shape"
   ]
  },
  {
   "cell_type": "markdown",
   "metadata": {
    "colab_type": "text",
    "id": "fCH3a9jfgctc"
   },
   "source": [
    "## Test/Train/Split final dataframe"
   ]
  },
  {
   "cell_type": "code",
   "execution_count": 0,
   "metadata": {
    "colab": {},
    "colab_type": "code",
    "id": "mVq0TMkLA0gX"
   },
   "outputs": [],
   "source": [
    "# Read in all the pickle files and concat/join/merge\n",
    "df1 = pd.read_pickle('audio_df.pkl')\n",
    "df2 = pd.read_pickle('audio_df2.pkl')\n",
    "df3 = pd.read_pickle('audio_df3.pkl')\n",
    "df4 = pd.read_pickle('audio_df4.pkl')\n",
    "df = pd.concat([df1,df2,df3,df4])"
   ]
  },
  {
   "cell_type": "code",
   "execution_count": 0,
   "metadata": {
    "colab": {},
    "colab_type": "code",
    "id": "zb7S7D48NbvS"
   },
   "outputs": [],
   "source": [
    "# Set display options to 200 columns to be able to see all 193 columns\n",
    "pd.set_option('display.max_columns', 200)"
   ]
  },
  {
   "cell_type": "code",
   "execution_count": 17,
   "metadata": {
    "colab": {
     "base_uri": "https://localhost:8080/",
     "height": 309
    },
    "colab_type": "code",
    "executionInfo": {
     "elapsed": 5071,
     "status": "ok",
     "timestamp": 1549506178398,
     "user": {
      "displayName": "Patrina Bailey",
      "photoUrl": "https://lh6.googleusercontent.com/-_-IxxZOx6Gk/AAAAAAAAAAI/AAAAAAAAJ6M/E0SG_dIR-sM/s64/photo.jpg",
      "userId": "15476889788748924708"
     },
     "user_tz": 300
    },
    "id": "jR3_uuBuLeaN",
    "outputId": "6280f3cb-b72a-44fd-897f-8c07f5b16bbf"
   },
   "outputs": [
    {
     "data": {
      "text/html": [
       "<div>\n",
       "<style scoped>\n",
       "    .dataframe tbody tr th:only-of-type {\n",
       "        vertical-align: middle;\n",
       "    }\n",
       "\n",
       "    .dataframe tbody tr th {\n",
       "        vertical-align: top;\n",
       "    }\n",
       "\n",
       "    .dataframe thead th {\n",
       "        text-align: right;\n",
       "    }\n",
       "</style>\n",
       "<table border=\"1\" class=\"dataframe\">\n",
       "  <thead>\n",
       "    <tr style=\"text-align: right;\">\n",
       "      <th></th>\n",
       "      <th>id</th>\n",
       "      <th>mfcc</th>\n",
       "      <th>mfcc</th>\n",
       "      <th>mfcc</th>\n",
       "      <th>mfcc</th>\n",
       "      <th>mfcc</th>\n",
       "      <th>mfcc</th>\n",
       "      <th>mfcc</th>\n",
       "      <th>mfcc</th>\n",
       "      <th>mfcc</th>\n",
       "      <th>mfcc</th>\n",
       "      <th>mfcc</th>\n",
       "      <th>mfcc</th>\n",
       "      <th>mfcc</th>\n",
       "      <th>mfcc</th>\n",
       "      <th>mfcc</th>\n",
       "      <th>mfcc</th>\n",
       "      <th>mfcc</th>\n",
       "      <th>mfcc</th>\n",
       "      <th>mfcc</th>\n",
       "      <th>mfcc</th>\n",
       "      <th>mfcc</th>\n",
       "      <th>mfcc</th>\n",
       "      <th>mfcc</th>\n",
       "      <th>mfcc</th>\n",
       "      <th>mfcc</th>\n",
       "      <th>mfcc</th>\n",
       "      <th>mfcc</th>\n",
       "      <th>mfcc</th>\n",
       "      <th>mfcc</th>\n",
       "      <th>mfcc</th>\n",
       "      <th>mfcc</th>\n",
       "      <th>mfcc</th>\n",
       "      <th>mfcc</th>\n",
       "      <th>mfcc</th>\n",
       "      <th>mfcc</th>\n",
       "      <th>mfcc</th>\n",
       "      <th>mfcc</th>\n",
       "      <th>mfcc</th>\n",
       "      <th>mfcc</th>\n",
       "      <th>mfcc</th>\n",
       "      <th>chroma</th>\n",
       "      <th>chroma</th>\n",
       "      <th>chroma</th>\n",
       "      <th>chroma</th>\n",
       "      <th>chroma</th>\n",
       "      <th>chroma</th>\n",
       "      <th>chroma</th>\n",
       "      <th>chroma</th>\n",
       "      <th>chroma</th>\n",
       "      <th>chroma</th>\n",
       "      <th>chroma</th>\n",
       "      <th>chroma</th>\n",
       "      <th>mel</th>\n",
       "      <th>mel</th>\n",
       "      <th>mel</th>\n",
       "      <th>mel</th>\n",
       "      <th>mel</th>\n",
       "      <th>mel</th>\n",
       "      <th>mel</th>\n",
       "      <th>mel</th>\n",
       "      <th>mel</th>\n",
       "      <th>mel</th>\n",
       "      <th>mel</th>\n",
       "      <th>mel</th>\n",
       "      <th>mel</th>\n",
       "      <th>mel</th>\n",
       "      <th>mel</th>\n",
       "      <th>mel</th>\n",
       "      <th>mel</th>\n",
       "      <th>mel</th>\n",
       "      <th>mel</th>\n",
       "      <th>mel</th>\n",
       "      <th>mel</th>\n",
       "      <th>mel</th>\n",
       "      <th>mel</th>\n",
       "      <th>mel</th>\n",
       "      <th>mel</th>\n",
       "      <th>mel</th>\n",
       "      <th>mel</th>\n",
       "      <th>mel</th>\n",
       "      <th>mel</th>\n",
       "      <th>mel</th>\n",
       "      <th>mel</th>\n",
       "      <th>mel</th>\n",
       "      <th>mel</th>\n",
       "      <th>mel</th>\n",
       "      <th>mel</th>\n",
       "      <th>mel</th>\n",
       "      <th>mel</th>\n",
       "      <th>mel</th>\n",
       "      <th>mel</th>\n",
       "      <th>mel</th>\n",
       "      <th>mel</th>\n",
       "      <th>mel</th>\n",
       "      <th>mel</th>\n",
       "      <th>mel</th>\n",
       "      <th>mel</th>\n",
       "      <th>mel</th>\n",
       "      <th>mel</th>\n",
       "      <th>mel</th>\n",
       "      <th>mel</th>\n",
       "      <th>mel</th>\n",
       "      <th>mel</th>\n",
       "      <th>mel</th>\n",
       "      <th>mel</th>\n",
       "      <th>mel</th>\n",
       "      <th>mel</th>\n",
       "      <th>mel</th>\n",
       "      <th>mel</th>\n",
       "      <th>mel</th>\n",
       "      <th>mel</th>\n",
       "      <th>mel</th>\n",
       "      <th>mel</th>\n",
       "      <th>mel</th>\n",
       "      <th>mel</th>\n",
       "      <th>mel</th>\n",
       "      <th>mel</th>\n",
       "      <th>mel</th>\n",
       "      <th>mel</th>\n",
       "      <th>mel</th>\n",
       "      <th>mel</th>\n",
       "      <th>mel</th>\n",
       "      <th>mel</th>\n",
       "      <th>mel</th>\n",
       "      <th>mel</th>\n",
       "      <th>mel</th>\n",
       "      <th>mel</th>\n",
       "      <th>mel</th>\n",
       "      <th>mel</th>\n",
       "      <th>mel</th>\n",
       "      <th>mel</th>\n",
       "      <th>mel</th>\n",
       "      <th>mel</th>\n",
       "      <th>mel</th>\n",
       "      <th>mel</th>\n",
       "      <th>mel</th>\n",
       "      <th>mel</th>\n",
       "      <th>mel</th>\n",
       "      <th>mel</th>\n",
       "      <th>mel</th>\n",
       "      <th>mel</th>\n",
       "      <th>mel</th>\n",
       "      <th>mel</th>\n",
       "      <th>mel</th>\n",
       "      <th>mel</th>\n",
       "      <th>mel</th>\n",
       "      <th>mel</th>\n",
       "      <th>mel</th>\n",
       "      <th>mel</th>\n",
       "      <th>mel</th>\n",
       "      <th>mel</th>\n",
       "      <th>mel</th>\n",
       "      <th>mel</th>\n",
       "      <th>mel</th>\n",
       "      <th>mel</th>\n",
       "      <th>mel</th>\n",
       "      <th>mel</th>\n",
       "      <th>mel</th>\n",
       "      <th>mel</th>\n",
       "      <th>mel</th>\n",
       "      <th>mel</th>\n",
       "      <th>mel</th>\n",
       "      <th>mel</th>\n",
       "      <th>mel</th>\n",
       "      <th>mel</th>\n",
       "      <th>mel</th>\n",
       "      <th>mel</th>\n",
       "      <th>mel</th>\n",
       "      <th>mel</th>\n",
       "      <th>mel</th>\n",
       "      <th>mel</th>\n",
       "      <th>mel</th>\n",
       "      <th>mel</th>\n",
       "      <th>mel</th>\n",
       "      <th>mel</th>\n",
       "      <th>mel</th>\n",
       "      <th>mel</th>\n",
       "      <th>mel</th>\n",
       "      <th>mel</th>\n",
       "      <th>mel</th>\n",
       "      <th>contrast</th>\n",
       "      <th>contrast</th>\n",
       "      <th>contrast</th>\n",
       "      <th>contrast</th>\n",
       "      <th>contrast</th>\n",
       "      <th>contrast</th>\n",
       "      <th>contrast</th>\n",
       "      <th>tonnetz</th>\n",
       "      <th>tonnetz</th>\n",
       "      <th>tonnetz</th>\n",
       "      <th>tonnetz</th>\n",
       "      <th>tonnetz</th>\n",
       "      <th>tonnetz</th>\n",
       "    </tr>\n",
       "  </thead>\n",
       "  <tbody>\n",
       "    <tr>\n",
       "      <th>24778</th>\n",
       "      <td>11100.0</td>\n",
       "      <td>-503.800568</td>\n",
       "      <td>159.991782</td>\n",
       "      <td>-16.537968</td>\n",
       "      <td>37.070034</td>\n",
       "      <td>-4.459876</td>\n",
       "      <td>1.584697</td>\n",
       "      <td>-3.264234</td>\n",
       "      <td>6.204571</td>\n",
       "      <td>-6.923838</td>\n",
       "      <td>-0.757389</td>\n",
       "      <td>2.842366</td>\n",
       "      <td>-3.018444</td>\n",
       "      <td>5.399441</td>\n",
       "      <td>2.729970</td>\n",
       "      <td>4.665108</td>\n",
       "      <td>-9.940535</td>\n",
       "      <td>-2.158047</td>\n",
       "      <td>-1.898706</td>\n",
       "      <td>-0.797725</td>\n",
       "      <td>-0.538610</td>\n",
       "      <td>-3.721104</td>\n",
       "      <td>-6.202170</td>\n",
       "      <td>-9.058631</td>\n",
       "      <td>0.302317</td>\n",
       "      <td>-6.527288</td>\n",
       "      <td>-4.754056</td>\n",
       "      <td>-3.112750</td>\n",
       "      <td>0.613957</td>\n",
       "      <td>0.508048</td>\n",
       "      <td>-2.096162</td>\n",
       "      <td>1.506327</td>\n",
       "      <td>1.187206</td>\n",
       "      <td>1.999975</td>\n",
       "      <td>1.129699</td>\n",
       "      <td>6.913423</td>\n",
       "      <td>2.863409</td>\n",
       "      <td>-0.923728</td>\n",
       "      <td>-0.756724</td>\n",
       "      <td>-0.185686</td>\n",
       "      <td>-0.967237</td>\n",
       "      <td>0.497434</td>\n",
       "      <td>0.479296</td>\n",
       "      <td>0.526856</td>\n",
       "      <td>0.480500</td>\n",
       "      <td>0.492818</td>\n",
       "      <td>0.517734</td>\n",
       "      <td>0.575788</td>\n",
       "      <td>0.639266</td>\n",
       "      <td>0.614953</td>\n",
       "      <td>0.520258</td>\n",
       "      <td>0.534425</td>\n",
       "      <td>0.521624</td>\n",
       "      <td>0.000793</td>\n",
       "      <td>0.005434</td>\n",
       "      <td>0.030386</td>\n",
       "      <td>0.006876</td>\n",
       "      <td>0.006212</td>\n",
       "      <td>0.009032</td>\n",
       "      <td>0.059345</td>\n",
       "      <td>0.094872</td>\n",
       "      <td>0.042270</td>\n",
       "      <td>0.020747</td>\n",
       "      <td>0.055137</td>\n",
       "      <td>0.036292</td>\n",
       "      <td>0.003616</td>\n",
       "      <td>0.011298</td>\n",
       "      <td>0.057143</td>\n",
       "      <td>0.090732</td>\n",
       "      <td>0.046198</td>\n",
       "      <td>0.043124</td>\n",
       "      <td>0.039419</td>\n",
       "      <td>0.044442</td>\n",
       "      <td>0.026989</td>\n",
       "      <td>0.021998</td>\n",
       "      <td>0.088756</td>\n",
       "      <td>0.081188</td>\n",
       "      <td>0.095127</td>\n",
       "      <td>0.057110</td>\n",
       "      <td>0.063391</td>\n",
       "      <td>0.052137</td>\n",
       "      <td>0.061667</td>\n",
       "      <td>0.052075</td>\n",
       "      <td>0.037905</td>\n",
       "      <td>0.012853</td>\n",
       "      <td>0.021025</td>\n",
       "      <td>0.008507</td>\n",
       "      <td>0.006129</td>\n",
       "      <td>0.012864</td>\n",
       "      <td>0.035194</td>\n",
       "      <td>0.050898</td>\n",
       "      <td>0.052126</td>\n",
       "      <td>0.017207</td>\n",
       "      <td>0.024111</td>\n",
       "      <td>0.013910</td>\n",
       "      <td>0.011910</td>\n",
       "      <td>0.016019</td>\n",
       "      <td>0.018280</td>\n",
       "      <td>0.013507</td>\n",
       "      <td>0.003757</td>\n",
       "      <td>0.002855</td>\n",
       "      <td>0.003046</td>\n",
       "      <td>0.001857</td>\n",
       "      <td>0.002147</td>\n",
       "      <td>0.002103</td>\n",
       "      <td>0.003201</td>\n",
       "      <td>0.008896</td>\n",
       "      <td>0.005241</td>\n",
       "      <td>0.003217</td>\n",
       "      <td>0.005578</td>\n",
       "      <td>0.004855</td>\n",
       "      <td>0.004800</td>\n",
       "      <td>0.001446</td>\n",
       "      <td>0.000582</td>\n",
       "      <td>0.001034</td>\n",
       "      <td>0.001469</td>\n",
       "      <td>0.000948</td>\n",
       "      <td>0.000737</td>\n",
       "      <td>0.001306</td>\n",
       "      <td>0.002862</td>\n",
       "      <td>0.001120</td>\n",
       "      <td>0.000777</td>\n",
       "      <td>0.000475</td>\n",
       "      <td>0.000245</td>\n",
       "      <td>0.000148</td>\n",
       "      <td>0.000372</td>\n",
       "      <td>0.001103</td>\n",
       "      <td>0.001979</td>\n",
       "      <td>0.001484</td>\n",
       "      <td>0.001756</td>\n",
       "      <td>0.000432</td>\n",
       "      <td>0.000250</td>\n",
       "      <td>0.000339</td>\n",
       "      <td>0.000319</td>\n",
       "      <td>0.000238</td>\n",
       "      <td>0.000163</td>\n",
       "      <td>0.000097</td>\n",
       "      <td>0.000072</td>\n",
       "      <td>0.000047</td>\n",
       "      <td>0.000091</td>\n",
       "      <td>0.000105</td>\n",
       "      <td>0.000041</td>\n",
       "      <td>0.000033</td>\n",
       "      <td>0.000038</td>\n",
       "      <td>0.000029</td>\n",
       "      <td>0.000019</td>\n",
       "      <td>0.000019</td>\n",
       "      <td>0.000017</td>\n",
       "      <td>0.000017</td>\n",
       "      <td>0.000008</td>\n",
       "      <td>0.000005</td>\n",
       "      <td>0.000009</td>\n",
       "      <td>0.000015</td>\n",
       "      <td>0.000020</td>\n",
       "      <td>0.000010</td>\n",
       "      <td>0.000006</td>\n",
       "      <td>0.000007</td>\n",
       "      <td>0.000009</td>\n",
       "      <td>0.000006</td>\n",
       "      <td>0.000008</td>\n",
       "      <td>0.000008</td>\n",
       "      <td>0.000007</td>\n",
       "      <td>7.056818e-06</td>\n",
       "      <td>9.596689e-06</td>\n",
       "      <td>6.661124e-06</td>\n",
       "      <td>5.487163e-06</td>\n",
       "      <td>3.610811e-06</td>\n",
       "      <td>1.066116e-06</td>\n",
       "      <td>3.940568e-08</td>\n",
       "      <td>4.386587e-09</td>\n",
       "      <td>3.934327e-09</td>\n",
       "      <td>3.616842e-09</td>\n",
       "      <td>3.364994e-09</td>\n",
       "      <td>3.155534e-09</td>\n",
       "      <td>2.986337e-09</td>\n",
       "      <td>2.844588e-09</td>\n",
       "      <td>2.727968e-09</td>\n",
       "      <td>2.635663e-09</td>\n",
       "      <td>2.563692e-09</td>\n",
       "      <td>2.513333e-09</td>\n",
       "      <td>2.481457e-09</td>\n",
       "      <td>18.123065</td>\n",
       "      <td>16.864310</td>\n",
       "      <td>20.108288</td>\n",
       "      <td>18.542917</td>\n",
       "      <td>19.385362</td>\n",
       "      <td>19.506113</td>\n",
       "      <td>60.697950</td>\n",
       "      <td>0.007471</td>\n",
       "      <td>0.020963</td>\n",
       "      <td>0.050210</td>\n",
       "      <td>-0.102916</td>\n",
       "      <td>-0.026035</td>\n",
       "      <td>0.005766</td>\n",
       "    </tr>\n",
       "    <tr>\n",
       "      <th>24779</th>\n",
       "      <td>11100.0</td>\n",
       "      <td>-442.607326</td>\n",
       "      <td>160.302527</td>\n",
       "      <td>-31.399481</td>\n",
       "      <td>21.130893</td>\n",
       "      <td>-10.974108</td>\n",
       "      <td>4.796752</td>\n",
       "      <td>-5.693317</td>\n",
       "      <td>3.232060</td>\n",
       "      <td>0.999348</td>\n",
       "      <td>-0.711150</td>\n",
       "      <td>2.550994</td>\n",
       "      <td>-4.104016</td>\n",
       "      <td>3.072689</td>\n",
       "      <td>3.371486</td>\n",
       "      <td>3.884172</td>\n",
       "      <td>-9.338989</td>\n",
       "      <td>-4.311083</td>\n",
       "      <td>-2.956424</td>\n",
       "      <td>-4.952378</td>\n",
       "      <td>-3.204237</td>\n",
       "      <td>-1.798397</td>\n",
       "      <td>-3.337122</td>\n",
       "      <td>-2.487623</td>\n",
       "      <td>3.405535</td>\n",
       "      <td>-3.631716</td>\n",
       "      <td>-1.138690</td>\n",
       "      <td>-3.985064</td>\n",
       "      <td>0.040738</td>\n",
       "      <td>4.584732</td>\n",
       "      <td>-1.081874</td>\n",
       "      <td>-0.537442</td>\n",
       "      <td>0.576348</td>\n",
       "      <td>0.446506</td>\n",
       "      <td>-1.680391</td>\n",
       "      <td>-0.161449</td>\n",
       "      <td>-2.273001</td>\n",
       "      <td>-3.235756</td>\n",
       "      <td>-5.072984</td>\n",
       "      <td>-3.912861</td>\n",
       "      <td>-1.930381</td>\n",
       "      <td>0.632974</td>\n",
       "      <td>0.534964</td>\n",
       "      <td>0.563326</td>\n",
       "      <td>0.562226</td>\n",
       "      <td>0.545896</td>\n",
       "      <td>0.483770</td>\n",
       "      <td>0.442797</td>\n",
       "      <td>0.494035</td>\n",
       "      <td>0.542529</td>\n",
       "      <td>0.576757</td>\n",
       "      <td>0.589167</td>\n",
       "      <td>0.653003</td>\n",
       "      <td>0.001122</td>\n",
       "      <td>0.006539</td>\n",
       "      <td>0.036587</td>\n",
       "      <td>0.013001</td>\n",
       "      <td>0.013548</td>\n",
       "      <td>0.013358</td>\n",
       "      <td>0.015413</td>\n",
       "      <td>0.063964</td>\n",
       "      <td>0.060538</td>\n",
       "      <td>0.070826</td>\n",
       "      <td>0.159765</td>\n",
       "      <td>0.199303</td>\n",
       "      <td>0.054368</td>\n",
       "      <td>0.009223</td>\n",
       "      <td>0.063817</td>\n",
       "      <td>0.053219</td>\n",
       "      <td>0.120010</td>\n",
       "      <td>0.245420</td>\n",
       "      <td>0.271008</td>\n",
       "      <td>0.344488</td>\n",
       "      <td>0.079667</td>\n",
       "      <td>0.072464</td>\n",
       "      <td>0.166110</td>\n",
       "      <td>0.132764</td>\n",
       "      <td>0.255801</td>\n",
       "      <td>0.269304</td>\n",
       "      <td>0.199609</td>\n",
       "      <td>0.077808</td>\n",
       "      <td>0.054156</td>\n",
       "      <td>0.045447</td>\n",
       "      <td>0.033343</td>\n",
       "      <td>0.043260</td>\n",
       "      <td>0.080957</td>\n",
       "      <td>0.161356</td>\n",
       "      <td>0.161980</td>\n",
       "      <td>0.165373</td>\n",
       "      <td>0.261900</td>\n",
       "      <td>0.237476</td>\n",
       "      <td>0.177378</td>\n",
       "      <td>0.128297</td>\n",
       "      <td>0.091435</td>\n",
       "      <td>0.041402</td>\n",
       "      <td>0.071076</td>\n",
       "      <td>0.108694</td>\n",
       "      <td>0.132639</td>\n",
       "      <td>0.028384</td>\n",
       "      <td>0.018485</td>\n",
       "      <td>0.010136</td>\n",
       "      <td>0.008793</td>\n",
       "      <td>0.010192</td>\n",
       "      <td>0.014159</td>\n",
       "      <td>0.006357</td>\n",
       "      <td>0.041276</td>\n",
       "      <td>0.035302</td>\n",
       "      <td>0.019856</td>\n",
       "      <td>0.015073</td>\n",
       "      <td>0.012102</td>\n",
       "      <td>0.008323</td>\n",
       "      <td>0.010512</td>\n",
       "      <td>0.018413</td>\n",
       "      <td>0.007697</td>\n",
       "      <td>0.002625</td>\n",
       "      <td>0.002576</td>\n",
       "      <td>0.002031</td>\n",
       "      <td>0.004848</td>\n",
       "      <td>0.004092</td>\n",
       "      <td>0.004719</td>\n",
       "      <td>0.003144</td>\n",
       "      <td>0.001334</td>\n",
       "      <td>0.000752</td>\n",
       "      <td>0.000601</td>\n",
       "      <td>0.000957</td>\n",
       "      <td>0.002569</td>\n",
       "      <td>0.003178</td>\n",
       "      <td>0.002321</td>\n",
       "      <td>0.001084</td>\n",
       "      <td>0.000905</td>\n",
       "      <td>0.000736</td>\n",
       "      <td>0.000702</td>\n",
       "      <td>0.000594</td>\n",
       "      <td>0.000371</td>\n",
       "      <td>0.000377</td>\n",
       "      <td>0.000200</td>\n",
       "      <td>0.000216</td>\n",
       "      <td>0.000227</td>\n",
       "      <td>0.000139</td>\n",
       "      <td>0.000093</td>\n",
       "      <td>0.000149</td>\n",
       "      <td>0.000151</td>\n",
       "      <td>0.000127</td>\n",
       "      <td>0.000171</td>\n",
       "      <td>0.000140</td>\n",
       "      <td>0.000114</td>\n",
       "      <td>0.000106</td>\n",
       "      <td>0.000077</td>\n",
       "      <td>0.000030</td>\n",
       "      <td>0.000022</td>\n",
       "      <td>0.000032</td>\n",
       "      <td>0.000041</td>\n",
       "      <td>0.000038</td>\n",
       "      <td>0.000034</td>\n",
       "      <td>0.000099</td>\n",
       "      <td>0.000090</td>\n",
       "      <td>0.000032</td>\n",
       "      <td>0.000026</td>\n",
       "      <td>0.000026</td>\n",
       "      <td>0.000018</td>\n",
       "      <td>0.000023</td>\n",
       "      <td>0.000032</td>\n",
       "      <td>1.272312e-05</td>\n",
       "      <td>8.955307e-06</td>\n",
       "      <td>1.367225e-05</td>\n",
       "      <td>7.171851e-06</td>\n",
       "      <td>4.043730e-06</td>\n",
       "      <td>1.242139e-06</td>\n",
       "      <td>8.010924e-08</td>\n",
       "      <td>1.141345e-08</td>\n",
       "      <td>9.478378e-09</td>\n",
       "      <td>8.492636e-09</td>\n",
       "      <td>7.798572e-09</td>\n",
       "      <td>7.266692e-09</td>\n",
       "      <td>6.860868e-09</td>\n",
       "      <td>6.536293e-09</td>\n",
       "      <td>6.277775e-09</td>\n",
       "      <td>6.078889e-09</td>\n",
       "      <td>5.926311e-09</td>\n",
       "      <td>5.821557e-09</td>\n",
       "      <td>5.755594e-09</td>\n",
       "      <td>16.209617</td>\n",
       "      <td>15.989443</td>\n",
       "      <td>18.808640</td>\n",
       "      <td>18.342743</td>\n",
       "      <td>19.651828</td>\n",
       "      <td>19.176303</td>\n",
       "      <td>58.457264</td>\n",
       "      <td>0.010165</td>\n",
       "      <td>0.010087</td>\n",
       "      <td>0.037996</td>\n",
       "      <td>-0.079704</td>\n",
       "      <td>-0.029291</td>\n",
       "      <td>-0.001756</td>\n",
       "    </tr>\n",
       "    <tr>\n",
       "      <th>24780</th>\n",
       "      <td>11100.0</td>\n",
       "      <td>-485.288794</td>\n",
       "      <td>183.993909</td>\n",
       "      <td>-26.067565</td>\n",
       "      <td>11.609672</td>\n",
       "      <td>-8.942526</td>\n",
       "      <td>-4.337396</td>\n",
       "      <td>1.094897</td>\n",
       "      <td>0.014207</td>\n",
       "      <td>-5.998587</td>\n",
       "      <td>6.376794</td>\n",
       "      <td>5.000262</td>\n",
       "      <td>-11.034626</td>\n",
       "      <td>-0.015949</td>\n",
       "      <td>4.268690</td>\n",
       "      <td>-3.595981</td>\n",
       "      <td>-8.744786</td>\n",
       "      <td>-1.217848</td>\n",
       "      <td>-5.092902</td>\n",
       "      <td>-2.665413</td>\n",
       "      <td>-1.058037</td>\n",
       "      <td>-4.575139</td>\n",
       "      <td>-8.019194</td>\n",
       "      <td>-7.963319</td>\n",
       "      <td>-1.761272</td>\n",
       "      <td>-10.511799</td>\n",
       "      <td>-9.388931</td>\n",
       "      <td>-6.599813</td>\n",
       "      <td>-3.779780</td>\n",
       "      <td>-1.163284</td>\n",
       "      <td>-2.449122</td>\n",
       "      <td>-1.393838</td>\n",
       "      <td>-0.807064</td>\n",
       "      <td>-0.655574</td>\n",
       "      <td>-4.885306</td>\n",
       "      <td>0.219818</td>\n",
       "      <td>4.619997</td>\n",
       "      <td>8.157972</td>\n",
       "      <td>11.245900</td>\n",
       "      <td>11.076964</td>\n",
       "      <td>6.106433</td>\n",
       "      <td>0.472416</td>\n",
       "      <td>0.370513</td>\n",
       "      <td>0.329820</td>\n",
       "      <td>0.346764</td>\n",
       "      <td>0.456383</td>\n",
       "      <td>0.665538</td>\n",
       "      <td>0.642137</td>\n",
       "      <td>0.534971</td>\n",
       "      <td>0.478117</td>\n",
       "      <td>0.462401</td>\n",
       "      <td>0.381104</td>\n",
       "      <td>0.360215</td>\n",
       "      <td>0.000522</td>\n",
       "      <td>0.001570</td>\n",
       "      <td>0.005693</td>\n",
       "      <td>0.006369</td>\n",
       "      <td>0.009270</td>\n",
       "      <td>0.033299</td>\n",
       "      <td>0.194070</td>\n",
       "      <td>0.129483</td>\n",
       "      <td>0.045789</td>\n",
       "      <td>0.003905</td>\n",
       "      <td>0.001021</td>\n",
       "      <td>0.002371</td>\n",
       "      <td>0.014030</td>\n",
       "      <td>0.046403</td>\n",
       "      <td>0.106909</td>\n",
       "      <td>0.164091</td>\n",
       "      <td>0.090521</td>\n",
       "      <td>0.086963</td>\n",
       "      <td>0.045958</td>\n",
       "      <td>0.074889</td>\n",
       "      <td>0.110980</td>\n",
       "      <td>0.049130</td>\n",
       "      <td>0.049725</td>\n",
       "      <td>0.061341</td>\n",
       "      <td>0.051585</td>\n",
       "      <td>0.066949</td>\n",
       "      <td>0.188229</td>\n",
       "      <td>0.188903</td>\n",
       "      <td>0.157806</td>\n",
       "      <td>0.096955</td>\n",
       "      <td>0.022311</td>\n",
       "      <td>0.068481</td>\n",
       "      <td>0.096177</td>\n",
       "      <td>0.057816</td>\n",
       "      <td>0.095490</td>\n",
       "      <td>0.054344</td>\n",
       "      <td>0.041118</td>\n",
       "      <td>0.021336</td>\n",
       "      <td>0.008077</td>\n",
       "      <td>0.032519</td>\n",
       "      <td>0.128685</td>\n",
       "      <td>0.061266</td>\n",
       "      <td>0.018746</td>\n",
       "      <td>0.029230</td>\n",
       "      <td>0.013624</td>\n",
       "      <td>0.015305</td>\n",
       "      <td>0.034468</td>\n",
       "      <td>0.014040</td>\n",
       "      <td>0.009790</td>\n",
       "      <td>0.006121</td>\n",
       "      <td>0.004840</td>\n",
       "      <td>0.015512</td>\n",
       "      <td>0.008388</td>\n",
       "      <td>0.017746</td>\n",
       "      <td>0.013110</td>\n",
       "      <td>0.005659</td>\n",
       "      <td>0.008049</td>\n",
       "      <td>0.007609</td>\n",
       "      <td>0.011967</td>\n",
       "      <td>0.004412</td>\n",
       "      <td>0.001054</td>\n",
       "      <td>0.001223</td>\n",
       "      <td>0.001630</td>\n",
       "      <td>0.001185</td>\n",
       "      <td>0.000486</td>\n",
       "      <td>0.000696</td>\n",
       "      <td>0.000943</td>\n",
       "      <td>0.000466</td>\n",
       "      <td>0.000151</td>\n",
       "      <td>0.000140</td>\n",
       "      <td>0.000110</td>\n",
       "      <td>0.000067</td>\n",
       "      <td>0.000088</td>\n",
       "      <td>0.000222</td>\n",
       "      <td>0.000344</td>\n",
       "      <td>0.000324</td>\n",
       "      <td>0.000386</td>\n",
       "      <td>0.000257</td>\n",
       "      <td>0.000242</td>\n",
       "      <td>0.000322</td>\n",
       "      <td>0.000309</td>\n",
       "      <td>0.000192</td>\n",
       "      <td>0.000149</td>\n",
       "      <td>0.000057</td>\n",
       "      <td>0.000029</td>\n",
       "      <td>0.000041</td>\n",
       "      <td>0.000033</td>\n",
       "      <td>0.000033</td>\n",
       "      <td>0.000015</td>\n",
       "      <td>0.000012</td>\n",
       "      <td>0.000009</td>\n",
       "      <td>0.000011</td>\n",
       "      <td>0.000006</td>\n",
       "      <td>0.000005</td>\n",
       "      <td>0.000003</td>\n",
       "      <td>0.000004</td>\n",
       "      <td>0.000003</td>\n",
       "      <td>0.000004</td>\n",
       "      <td>0.000007</td>\n",
       "      <td>0.000006</td>\n",
       "      <td>0.000006</td>\n",
       "      <td>0.000002</td>\n",
       "      <td>0.000003</td>\n",
       "      <td>0.000003</td>\n",
       "      <td>0.000002</td>\n",
       "      <td>0.000002</td>\n",
       "      <td>0.000003</td>\n",
       "      <td>0.000003</td>\n",
       "      <td>0.000003</td>\n",
       "      <td>2.407622e-06</td>\n",
       "      <td>1.514996e-06</td>\n",
       "      <td>1.679450e-06</td>\n",
       "      <td>1.593449e-06</td>\n",
       "      <td>1.080508e-06</td>\n",
       "      <td>2.516526e-07</td>\n",
       "      <td>7.536460e-08</td>\n",
       "      <td>4.531382e-08</td>\n",
       "      <td>3.777022e-08</td>\n",
       "      <td>3.345398e-08</td>\n",
       "      <td>3.045017e-08</td>\n",
       "      <td>2.817581e-08</td>\n",
       "      <td>2.645287e-08</td>\n",
       "      <td>2.508716e-08</td>\n",
       "      <td>2.400698e-08</td>\n",
       "      <td>2.317983e-08</td>\n",
       "      <td>2.254846e-08</td>\n",
       "      <td>2.211556e-08</td>\n",
       "      <td>2.184430e-08</td>\n",
       "      <td>19.568966</td>\n",
       "      <td>17.647668</td>\n",
       "      <td>21.506072</td>\n",
       "      <td>21.893552</td>\n",
       "      <td>20.946511</td>\n",
       "      <td>20.155151</td>\n",
       "      <td>57.492762</td>\n",
       "      <td>-0.009299</td>\n",
       "      <td>0.001061</td>\n",
       "      <td>-0.017164</td>\n",
       "      <td>-0.085846</td>\n",
       "      <td>-0.004636</td>\n",
       "      <td>0.017903</td>\n",
       "    </tr>\n",
       "    <tr>\n",
       "      <th>24781</th>\n",
       "      <td>11100.0</td>\n",
       "      <td>-245.065071</td>\n",
       "      <td>151.064511</td>\n",
       "      <td>-38.958297</td>\n",
       "      <td>64.883404</td>\n",
       "      <td>-13.837212</td>\n",
       "      <td>17.243977</td>\n",
       "      <td>27.705282</td>\n",
       "      <td>1.842497</td>\n",
       "      <td>-5.586764</td>\n",
       "      <td>-33.966514</td>\n",
       "      <td>8.911245</td>\n",
       "      <td>-10.995370</td>\n",
       "      <td>-23.489653</td>\n",
       "      <td>-1.413575</td>\n",
       "      <td>1.952128</td>\n",
       "      <td>12.300586</td>\n",
       "      <td>-15.156877</td>\n",
       "      <td>4.555376</td>\n",
       "      <td>6.508424</td>\n",
       "      <td>-22.563778</td>\n",
       "      <td>-0.481283</td>\n",
       "      <td>-14.654238</td>\n",
       "      <td>-10.456867</td>\n",
       "      <td>12.072084</td>\n",
       "      <td>-9.021553</td>\n",
       "      <td>-0.989671</td>\n",
       "      <td>14.412788</td>\n",
       "      <td>3.237931</td>\n",
       "      <td>1.414593</td>\n",
       "      <td>1.183669</td>\n",
       "      <td>0.336710</td>\n",
       "      <td>3.661523</td>\n",
       "      <td>-3.547981</td>\n",
       "      <td>-1.043097</td>\n",
       "      <td>2.833205</td>\n",
       "      <td>-2.267681</td>\n",
       "      <td>1.285617</td>\n",
       "      <td>-4.658701</td>\n",
       "      <td>-1.119360</td>\n",
       "      <td>5.155084</td>\n",
       "      <td>0.536894</td>\n",
       "      <td>0.523960</td>\n",
       "      <td>0.559828</td>\n",
       "      <td>0.618278</td>\n",
       "      <td>0.647445</td>\n",
       "      <td>0.541000</td>\n",
       "      <td>0.509117</td>\n",
       "      <td>0.456515</td>\n",
       "      <td>0.526898</td>\n",
       "      <td>0.657898</td>\n",
       "      <td>0.624820</td>\n",
       "      <td>0.595695</td>\n",
       "      <td>0.108796</td>\n",
       "      <td>0.541510</td>\n",
       "      <td>1.494819</td>\n",
       "      <td>0.864747</td>\n",
       "      <td>1.438759</td>\n",
       "      <td>2.012480</td>\n",
       "      <td>3.114951</td>\n",
       "      <td>21.496714</td>\n",
       "      <td>31.904784</td>\n",
       "      <td>25.889306</td>\n",
       "      <td>36.432177</td>\n",
       "      <td>13.280785</td>\n",
       "      <td>1.619520</td>\n",
       "      <td>0.770733</td>\n",
       "      <td>3.219379</td>\n",
       "      <td>7.050670</td>\n",
       "      <td>6.812521</td>\n",
       "      <td>4.209394</td>\n",
       "      <td>7.169079</td>\n",
       "      <td>5.664094</td>\n",
       "      <td>1.260896</td>\n",
       "      <td>0.852129</td>\n",
       "      <td>0.549142</td>\n",
       "      <td>0.194683</td>\n",
       "      <td>0.094934</td>\n",
       "      <td>0.271491</td>\n",
       "      <td>0.580219</td>\n",
       "      <td>5.189417</td>\n",
       "      <td>8.306912</td>\n",
       "      <td>4.077939</td>\n",
       "      <td>2.129786</td>\n",
       "      <td>2.072622</td>\n",
       "      <td>5.182110</td>\n",
       "      <td>6.749469</td>\n",
       "      <td>3.834243</td>\n",
       "      <td>3.135310</td>\n",
       "      <td>2.685067</td>\n",
       "      <td>4.049170</td>\n",
       "      <td>1.950059</td>\n",
       "      <td>1.223609</td>\n",
       "      <td>2.247702</td>\n",
       "      <td>3.884009</td>\n",
       "      <td>1.774382</td>\n",
       "      <td>1.170372</td>\n",
       "      <td>1.111732</td>\n",
       "      <td>1.442600</td>\n",
       "      <td>1.909349</td>\n",
       "      <td>2.164764</td>\n",
       "      <td>1.883826</td>\n",
       "      <td>0.609570</td>\n",
       "      <td>0.370517</td>\n",
       "      <td>0.463228</td>\n",
       "      <td>0.441120</td>\n",
       "      <td>0.462427</td>\n",
       "      <td>0.293852</td>\n",
       "      <td>0.194079</td>\n",
       "      <td>0.171825</td>\n",
       "      <td>0.133636</td>\n",
       "      <td>1.031969</td>\n",
       "      <td>0.540905</td>\n",
       "      <td>0.091394</td>\n",
       "      <td>0.020530</td>\n",
       "      <td>0.002251</td>\n",
       "      <td>0.012173</td>\n",
       "      <td>0.062106</td>\n",
       "      <td>0.123772</td>\n",
       "      <td>0.368276</td>\n",
       "      <td>0.797135</td>\n",
       "      <td>0.357009</td>\n",
       "      <td>0.314608</td>\n",
       "      <td>0.526035</td>\n",
       "      <td>0.464763</td>\n",
       "      <td>0.494539</td>\n",
       "      <td>0.858060</td>\n",
       "      <td>1.988180</td>\n",
       "      <td>1.387661</td>\n",
       "      <td>0.792763</td>\n",
       "      <td>0.673456</td>\n",
       "      <td>1.040225</td>\n",
       "      <td>0.848740</td>\n",
       "      <td>0.204700</td>\n",
       "      <td>0.034160</td>\n",
       "      <td>0.019386</td>\n",
       "      <td>0.024073</td>\n",
       "      <td>0.043195</td>\n",
       "      <td>0.051860</td>\n",
       "      <td>0.063158</td>\n",
       "      <td>0.088456</td>\n",
       "      <td>0.097171</td>\n",
       "      <td>0.160235</td>\n",
       "      <td>0.138793</td>\n",
       "      <td>0.066637</td>\n",
       "      <td>0.031959</td>\n",
       "      <td>0.007413</td>\n",
       "      <td>0.002262</td>\n",
       "      <td>0.002185</td>\n",
       "      <td>0.009627</td>\n",
       "      <td>0.038512</td>\n",
       "      <td>0.076637</td>\n",
       "      <td>0.118891</td>\n",
       "      <td>0.109286</td>\n",
       "      <td>0.052654</td>\n",
       "      <td>0.018820</td>\n",
       "      <td>0.005708</td>\n",
       "      <td>0.004651</td>\n",
       "      <td>0.005241</td>\n",
       "      <td>0.001435</td>\n",
       "      <td>0.000033</td>\n",
       "      <td>0.000002</td>\n",
       "      <td>4.148847e-07</td>\n",
       "      <td>3.101894e-07</td>\n",
       "      <td>3.152449e-07</td>\n",
       "      <td>2.569581e-07</td>\n",
       "      <td>1.733312e-07</td>\n",
       "      <td>8.675330e-08</td>\n",
       "      <td>4.705479e-08</td>\n",
       "      <td>3.916420e-08</td>\n",
       "      <td>3.369339e-08</td>\n",
       "      <td>2.982289e-08</td>\n",
       "      <td>2.693547e-08</td>\n",
       "      <td>2.465684e-08</td>\n",
       "      <td>2.287610e-08</td>\n",
       "      <td>2.143892e-08</td>\n",
       "      <td>2.028743e-08</td>\n",
       "      <td>1.939513e-08</td>\n",
       "      <td>1.871170e-08</td>\n",
       "      <td>1.823823e-08</td>\n",
       "      <td>1.794401e-08</td>\n",
       "      <td>14.076762</td>\n",
       "      <td>17.334168</td>\n",
       "      <td>23.895092</td>\n",
       "      <td>16.602850</td>\n",
       "      <td>24.084574</td>\n",
       "      <td>30.465436</td>\n",
       "      <td>46.417020</td>\n",
       "      <td>0.000386</td>\n",
       "      <td>0.020902</td>\n",
       "      <td>0.035148</td>\n",
       "      <td>-0.054016</td>\n",
       "      <td>-0.017736</td>\n",
       "      <td>0.006993</td>\n",
       "    </tr>\n",
       "    <tr>\n",
       "      <th>24782</th>\n",
       "      <td>11100.0</td>\n",
       "      <td>-248.627770</td>\n",
       "      <td>155.198986</td>\n",
       "      <td>-34.390508</td>\n",
       "      <td>46.996799</td>\n",
       "      <td>-19.865917</td>\n",
       "      <td>8.591392</td>\n",
       "      <td>24.312880</td>\n",
       "      <td>14.931386</td>\n",
       "      <td>15.091263</td>\n",
       "      <td>-24.988573</td>\n",
       "      <td>-4.616273</td>\n",
       "      <td>-8.151826</td>\n",
       "      <td>-5.866359</td>\n",
       "      <td>-10.660226</td>\n",
       "      <td>-26.923120</td>\n",
       "      <td>8.691167</td>\n",
       "      <td>3.961607</td>\n",
       "      <td>-6.163567</td>\n",
       "      <td>-0.486175</td>\n",
       "      <td>0.843321</td>\n",
       "      <td>-0.647939</td>\n",
       "      <td>-7.275344</td>\n",
       "      <td>0.497309</td>\n",
       "      <td>-14.372342</td>\n",
       "      <td>-5.901338</td>\n",
       "      <td>5.480820</td>\n",
       "      <td>-12.958535</td>\n",
       "      <td>-0.361551</td>\n",
       "      <td>2.497690</td>\n",
       "      <td>3.464214</td>\n",
       "      <td>7.193841</td>\n",
       "      <td>-1.106161</td>\n",
       "      <td>7.100684</td>\n",
       "      <td>3.597750</td>\n",
       "      <td>0.144246</td>\n",
       "      <td>1.816157</td>\n",
       "      <td>-4.186132</td>\n",
       "      <td>-3.398857</td>\n",
       "      <td>-1.743872</td>\n",
       "      <td>-0.519501</td>\n",
       "      <td>0.586439</td>\n",
       "      <td>0.582491</td>\n",
       "      <td>0.615522</td>\n",
       "      <td>0.557301</td>\n",
       "      <td>0.505101</td>\n",
       "      <td>0.517623</td>\n",
       "      <td>0.517072</td>\n",
       "      <td>0.577805</td>\n",
       "      <td>0.631334</td>\n",
       "      <td>0.622539</td>\n",
       "      <td>0.611907</td>\n",
       "      <td>0.599925</td>\n",
       "      <td>0.105920</td>\n",
       "      <td>0.467849</td>\n",
       "      <td>1.076475</td>\n",
       "      <td>0.793000</td>\n",
       "      <td>1.439990</td>\n",
       "      <td>2.131597</td>\n",
       "      <td>9.019579</td>\n",
       "      <td>32.419324</td>\n",
       "      <td>35.022377</td>\n",
       "      <td>20.609777</td>\n",
       "      <td>13.506990</td>\n",
       "      <td>2.347880</td>\n",
       "      <td>0.966765</td>\n",
       "      <td>1.660041</td>\n",
       "      <td>3.588389</td>\n",
       "      <td>4.513102</td>\n",
       "      <td>3.573969</td>\n",
       "      <td>2.361245</td>\n",
       "      <td>1.280359</td>\n",
       "      <td>0.467326</td>\n",
       "      <td>0.134435</td>\n",
       "      <td>0.144517</td>\n",
       "      <td>0.577176</td>\n",
       "      <td>1.394501</td>\n",
       "      <td>1.915011</td>\n",
       "      <td>8.929031</td>\n",
       "      <td>9.435276</td>\n",
       "      <td>2.215534</td>\n",
       "      <td>4.382540</td>\n",
       "      <td>5.678197</td>\n",
       "      <td>7.023208</td>\n",
       "      <td>12.068122</td>\n",
       "      <td>7.764633</td>\n",
       "      <td>5.108208</td>\n",
       "      <td>6.621411</td>\n",
       "      <td>8.702986</td>\n",
       "      <td>7.613229</td>\n",
       "      <td>9.046283</td>\n",
       "      <td>10.816843</td>\n",
       "      <td>9.685508</td>\n",
       "      <td>5.519378</td>\n",
       "      <td>3.727723</td>\n",
       "      <td>4.177566</td>\n",
       "      <td>6.447048</td>\n",
       "      <td>5.834067</td>\n",
       "      <td>3.144169</td>\n",
       "      <td>2.718003</td>\n",
       "      <td>1.080829</td>\n",
       "      <td>0.877817</td>\n",
       "      <td>0.646774</td>\n",
       "      <td>0.726231</td>\n",
       "      <td>0.339065</td>\n",
       "      <td>0.121204</td>\n",
       "      <td>0.057631</td>\n",
       "      <td>0.046279</td>\n",
       "      <td>0.045617</td>\n",
       "      <td>0.040016</td>\n",
       "      <td>0.020995</td>\n",
       "      <td>0.007697</td>\n",
       "      <td>0.031670</td>\n",
       "      <td>0.093844</td>\n",
       "      <td>0.167326</td>\n",
       "      <td>0.213018</td>\n",
       "      <td>0.240931</td>\n",
       "      <td>0.270418</td>\n",
       "      <td>0.334137</td>\n",
       "      <td>0.375846</td>\n",
       "      <td>0.398335</td>\n",
       "      <td>0.218672</td>\n",
       "      <td>0.513310</td>\n",
       "      <td>0.353635</td>\n",
       "      <td>0.145692</td>\n",
       "      <td>0.174510</td>\n",
       "      <td>0.272515</td>\n",
       "      <td>0.142709</td>\n",
       "      <td>0.051990</td>\n",
       "      <td>0.039068</td>\n",
       "      <td>0.091555</td>\n",
       "      <td>0.136489</td>\n",
       "      <td>0.160709</td>\n",
       "      <td>0.172265</td>\n",
       "      <td>0.203239</td>\n",
       "      <td>0.118917</td>\n",
       "      <td>0.078777</td>\n",
       "      <td>0.130462</td>\n",
       "      <td>0.046902</td>\n",
       "      <td>0.027368</td>\n",
       "      <td>0.012811</td>\n",
       "      <td>0.012970</td>\n",
       "      <td>0.006990</td>\n",
       "      <td>0.009978</td>\n",
       "      <td>0.027250</td>\n",
       "      <td>0.025636</td>\n",
       "      <td>0.025410</td>\n",
       "      <td>0.027141</td>\n",
       "      <td>0.020168</td>\n",
       "      <td>0.021944</td>\n",
       "      <td>0.011948</td>\n",
       "      <td>0.008220</td>\n",
       "      <td>0.026534</td>\n",
       "      <td>0.040798</td>\n",
       "      <td>0.040358</td>\n",
       "      <td>0.039717</td>\n",
       "      <td>0.028370</td>\n",
       "      <td>0.018373</td>\n",
       "      <td>0.005395</td>\n",
       "      <td>0.000444</td>\n",
       "      <td>0.000008</td>\n",
       "      <td>0.000001</td>\n",
       "      <td>5.600791e-07</td>\n",
       "      <td>4.436708e-07</td>\n",
       "      <td>3.612102e-07</td>\n",
       "      <td>3.039560e-07</td>\n",
       "      <td>1.974624e-07</td>\n",
       "      <td>7.464940e-08</td>\n",
       "      <td>3.639231e-08</td>\n",
       "      <td>3.299891e-08</td>\n",
       "      <td>3.035463e-08</td>\n",
       "      <td>2.815176e-08</td>\n",
       "      <td>2.636237e-08</td>\n",
       "      <td>2.484636e-08</td>\n",
       "      <td>2.361095e-08</td>\n",
       "      <td>2.257019e-08</td>\n",
       "      <td>2.170813e-08</td>\n",
       "      <td>2.102621e-08</td>\n",
       "      <td>2.049209e-08</td>\n",
       "      <td>2.011938e-08</td>\n",
       "      <td>1.988239e-08</td>\n",
       "      <td>14.235088</td>\n",
       "      <td>16.730982</td>\n",
       "      <td>22.263361</td>\n",
       "      <td>20.216165</td>\n",
       "      <td>21.885407</td>\n",
       "      <td>29.649005</td>\n",
       "      <td>47.240011</td>\n",
       "      <td>0.014806</td>\n",
       "      <td>-0.003009</td>\n",
       "      <td>-0.001559</td>\n",
       "      <td>-0.052127</td>\n",
       "      <td>-0.002941</td>\n",
       "      <td>-0.016477</td>\n",
       "    </tr>\n",
       "  </tbody>\n",
       "</table>\n",
       "</div>"
      ],
      "text/plain": [
       "            id        mfcc        mfcc       mfcc       mfcc       mfcc  \\\n",
       "24778  11100.0 -503.800568  159.991782 -16.537968  37.070034  -4.459876   \n",
       "24779  11100.0 -442.607326  160.302527 -31.399481  21.130893 -10.974108   \n",
       "24780  11100.0 -485.288794  183.993909 -26.067565  11.609672  -8.942526   \n",
       "24781  11100.0 -245.065071  151.064511 -38.958297  64.883404 -13.837212   \n",
       "24782  11100.0 -248.627770  155.198986 -34.390508  46.996799 -19.865917   \n",
       "\n",
       "            mfcc       mfcc       mfcc       mfcc       mfcc      mfcc  \\\n",
       "24778   1.584697  -3.264234   6.204571  -6.923838  -0.757389  2.842366   \n",
       "24779   4.796752  -5.693317   3.232060   0.999348  -0.711150  2.550994   \n",
       "24780  -4.337396   1.094897   0.014207  -5.998587   6.376794  5.000262   \n",
       "24781  17.243977  27.705282   1.842497  -5.586764 -33.966514  8.911245   \n",
       "24782   8.591392  24.312880  14.931386  15.091263 -24.988573 -4.616273   \n",
       "\n",
       "            mfcc       mfcc       mfcc       mfcc       mfcc       mfcc  \\\n",
       "24778  -3.018444   5.399441   2.729970   4.665108  -9.940535  -2.158047   \n",
       "24779  -4.104016   3.072689   3.371486   3.884172  -9.338989  -4.311083   \n",
       "24780 -11.034626  -0.015949   4.268690  -3.595981  -8.744786  -1.217848   \n",
       "24781 -10.995370 -23.489653  -1.413575   1.952128  12.300586 -15.156877   \n",
       "24782  -8.151826  -5.866359 -10.660226 -26.923120   8.691167   3.961607   \n",
       "\n",
       "           mfcc      mfcc       mfcc      mfcc       mfcc       mfcc  \\\n",
       "24778 -1.898706 -0.797725  -0.538610 -3.721104  -6.202170  -9.058631   \n",
       "24779 -2.956424 -4.952378  -3.204237 -1.798397  -3.337122  -2.487623   \n",
       "24780 -5.092902 -2.665413  -1.058037 -4.575139  -8.019194  -7.963319   \n",
       "24781  4.555376  6.508424 -22.563778 -0.481283 -14.654238 -10.456867   \n",
       "24782 -6.163567 -0.486175   0.843321 -0.647939  -7.275344   0.497309   \n",
       "\n",
       "            mfcc       mfcc      mfcc       mfcc      mfcc      mfcc  \\\n",
       "24778   0.302317  -6.527288 -4.754056  -3.112750  0.613957  0.508048   \n",
       "24779   3.405535  -3.631716 -1.138690  -3.985064  0.040738  4.584732   \n",
       "24780  -1.761272 -10.511799 -9.388931  -6.599813 -3.779780 -1.163284   \n",
       "24781  12.072084  -9.021553 -0.989671  14.412788  3.237931  1.414593   \n",
       "24782 -14.372342  -5.901338  5.480820 -12.958535 -0.361551  2.497690   \n",
       "\n",
       "           mfcc      mfcc      mfcc      mfcc      mfcc      mfcc      mfcc  \\\n",
       "24778 -2.096162  1.506327  1.187206  1.999975  1.129699  6.913423  2.863409   \n",
       "24779 -1.081874 -0.537442  0.576348  0.446506 -1.680391 -0.161449 -2.273001   \n",
       "24780 -2.449122 -1.393838 -0.807064 -0.655574 -4.885306  0.219818  4.619997   \n",
       "24781  1.183669  0.336710  3.661523 -3.547981 -1.043097  2.833205 -2.267681   \n",
       "24782  3.464214  7.193841 -1.106161  7.100684  3.597750  0.144246  1.816157   \n",
       "\n",
       "           mfcc       mfcc       mfcc      mfcc    chroma    chroma    chroma  \\\n",
       "24778 -0.923728  -0.756724  -0.185686 -0.967237  0.497434  0.479296  0.526856   \n",
       "24779 -3.235756  -5.072984  -3.912861 -1.930381  0.632974  0.534964  0.563326   \n",
       "24780  8.157972  11.245900  11.076964  6.106433  0.472416  0.370513  0.329820   \n",
       "24781  1.285617  -4.658701  -1.119360  5.155084  0.536894  0.523960  0.559828   \n",
       "24782 -4.186132  -3.398857  -1.743872 -0.519501  0.586439  0.582491  0.615522   \n",
       "\n",
       "         chroma    chroma    chroma    chroma    chroma    chroma    chroma  \\\n",
       "24778  0.480500  0.492818  0.517734  0.575788  0.639266  0.614953  0.520258   \n",
       "24779  0.562226  0.545896  0.483770  0.442797  0.494035  0.542529  0.576757   \n",
       "24780  0.346764  0.456383  0.665538  0.642137  0.534971  0.478117  0.462401   \n",
       "24781  0.618278  0.647445  0.541000  0.509117  0.456515  0.526898  0.657898   \n",
       "24782  0.557301  0.505101  0.517623  0.517072  0.577805  0.631334  0.622539   \n",
       "\n",
       "         chroma    chroma       mel       mel       mel       mel       mel  \\\n",
       "24778  0.534425  0.521624  0.000793  0.005434  0.030386  0.006876  0.006212   \n",
       "24779  0.589167  0.653003  0.001122  0.006539  0.036587  0.013001  0.013548   \n",
       "24780  0.381104  0.360215  0.000522  0.001570  0.005693  0.006369  0.009270   \n",
       "24781  0.624820  0.595695  0.108796  0.541510  1.494819  0.864747  1.438759   \n",
       "24782  0.611907  0.599925  0.105920  0.467849  1.076475  0.793000  1.439990   \n",
       "\n",
       "            mel       mel        mel        mel        mel        mel  \\\n",
       "24778  0.009032  0.059345   0.094872   0.042270   0.020747   0.055137   \n",
       "24779  0.013358  0.015413   0.063964   0.060538   0.070826   0.159765   \n",
       "24780  0.033299  0.194070   0.129483   0.045789   0.003905   0.001021   \n",
       "24781  2.012480  3.114951  21.496714  31.904784  25.889306  36.432177   \n",
       "24782  2.131597  9.019579  32.419324  35.022377  20.609777  13.506990   \n",
       "\n",
       "             mel       mel       mel       mel       mel       mel       mel  \\\n",
       "24778   0.036292  0.003616  0.011298  0.057143  0.090732  0.046198  0.043124   \n",
       "24779   0.199303  0.054368  0.009223  0.063817  0.053219  0.120010  0.245420   \n",
       "24780   0.002371  0.014030  0.046403  0.106909  0.164091  0.090521  0.086963   \n",
       "24781  13.280785  1.619520  0.770733  3.219379  7.050670  6.812521  4.209394   \n",
       "24782   2.347880  0.966765  1.660041  3.588389  4.513102  3.573969  2.361245   \n",
       "\n",
       "            mel       mel       mel       mel       mel       mel       mel  \\\n",
       "24778  0.039419  0.044442  0.026989  0.021998  0.088756  0.081188  0.095127   \n",
       "24779  0.271008  0.344488  0.079667  0.072464  0.166110  0.132764  0.255801   \n",
       "24780  0.045958  0.074889  0.110980  0.049130  0.049725  0.061341  0.051585   \n",
       "24781  7.169079  5.664094  1.260896  0.852129  0.549142  0.194683  0.094934   \n",
       "24782  1.280359  0.467326  0.134435  0.144517  0.577176  1.394501  1.915011   \n",
       "\n",
       "            mel       mel       mel       mel       mel       mel        mel  \\\n",
       "24778  0.057110  0.063391  0.052137  0.061667  0.052075  0.037905   0.012853   \n",
       "24779  0.269304  0.199609  0.077808  0.054156  0.045447  0.033343   0.043260   \n",
       "24780  0.066949  0.188229  0.188903  0.157806  0.096955  0.022311   0.068481   \n",
       "24781  0.271491  0.580219  5.189417  8.306912  4.077939  2.129786   2.072622   \n",
       "24782  8.929031  9.435276  2.215534  4.382540  5.678197  7.023208  12.068122   \n",
       "\n",
       "            mel       mel       mel       mel       mel       mel        mel  \\\n",
       "24778  0.021025  0.008507  0.006129  0.012864  0.035194  0.050898   0.052126   \n",
       "24779  0.080957  0.161356  0.161980  0.165373  0.261900  0.237476   0.177378   \n",
       "24780  0.096177  0.057816  0.095490  0.054344  0.041118  0.021336   0.008077   \n",
       "24781  5.182110  6.749469  3.834243  3.135310  2.685067  4.049170   1.950059   \n",
       "24782  7.764633  5.108208  6.621411  8.702986  7.613229  9.046283  10.816843   \n",
       "\n",
       "            mel       mel       mel       mel       mel       mel       mel  \\\n",
       "24778  0.017207  0.024111  0.013910  0.011910  0.016019  0.018280  0.013507   \n",
       "24779  0.128297  0.091435  0.041402  0.071076  0.108694  0.132639  0.028384   \n",
       "24780  0.032519  0.128685  0.061266  0.018746  0.029230  0.013624  0.015305   \n",
       "24781  1.223609  2.247702  3.884009  1.774382  1.170372  1.111732  1.442600   \n",
       "24782  9.685508  5.519378  3.727723  4.177566  6.447048  5.834067  3.144169   \n",
       "\n",
       "            mel       mel       mel       mel       mel       mel       mel  \\\n",
       "24778  0.003757  0.002855  0.003046  0.001857  0.002147  0.002103  0.003201   \n",
       "24779  0.018485  0.010136  0.008793  0.010192  0.014159  0.006357  0.041276   \n",
       "24780  0.034468  0.014040  0.009790  0.006121  0.004840  0.015512  0.008388   \n",
       "24781  1.909349  2.164764  1.883826  0.609570  0.370517  0.463228  0.441120   \n",
       "24782  2.718003  1.080829  0.877817  0.646774  0.726231  0.339065  0.121204   \n",
       "\n",
       "            mel       mel       mel       mel       mel       mel       mel  \\\n",
       "24778  0.008896  0.005241  0.003217  0.005578  0.004855  0.004800  0.001446   \n",
       "24779  0.035302  0.019856  0.015073  0.012102  0.008323  0.010512  0.018413   \n",
       "24780  0.017746  0.013110  0.005659  0.008049  0.007609  0.011967  0.004412   \n",
       "24781  0.462427  0.293852  0.194079  0.171825  0.133636  1.031969  0.540905   \n",
       "24782  0.057631  0.046279  0.045617  0.040016  0.020995  0.007697  0.031670   \n",
       "\n",
       "            mel       mel       mel       mel       mel       mel       mel  \\\n",
       "24778  0.000582  0.001034  0.001469  0.000948  0.000737  0.001306  0.002862   \n",
       "24779  0.007697  0.002625  0.002576  0.002031  0.004848  0.004092  0.004719   \n",
       "24780  0.001054  0.001223  0.001630  0.001185  0.000486  0.000696  0.000943   \n",
       "24781  0.091394  0.020530  0.002251  0.012173  0.062106  0.123772  0.368276   \n",
       "24782  0.093844  0.167326  0.213018  0.240931  0.270418  0.334137  0.375846   \n",
       "\n",
       "            mel       mel       mel       mel       mel       mel       mel  \\\n",
       "24778  0.001120  0.000777  0.000475  0.000245  0.000148  0.000372  0.001103   \n",
       "24779  0.003144  0.001334  0.000752  0.000601  0.000957  0.002569  0.003178   \n",
       "24780  0.000466  0.000151  0.000140  0.000110  0.000067  0.000088  0.000222   \n",
       "24781  0.797135  0.357009  0.314608  0.526035  0.464763  0.494539  0.858060   \n",
       "24782  0.398335  0.218672  0.513310  0.353635  0.145692  0.174510  0.272515   \n",
       "\n",
       "            mel       mel       mel       mel       mel       mel       mel  \\\n",
       "24778  0.001979  0.001484  0.001756  0.000432  0.000250  0.000339  0.000319   \n",
       "24779  0.002321  0.001084  0.000905  0.000736  0.000702  0.000594  0.000371   \n",
       "24780  0.000344  0.000324  0.000386  0.000257  0.000242  0.000322  0.000309   \n",
       "24781  1.988180  1.387661  0.792763  0.673456  1.040225  0.848740  0.204700   \n",
       "24782  0.142709  0.051990  0.039068  0.091555  0.136489  0.160709  0.172265   \n",
       "\n",
       "            mel       mel       mel       mel       mel       mel       mel  \\\n",
       "24778  0.000238  0.000163  0.000097  0.000072  0.000047  0.000091  0.000105   \n",
       "24779  0.000377  0.000200  0.000216  0.000227  0.000139  0.000093  0.000149   \n",
       "24780  0.000192  0.000149  0.000057  0.000029  0.000041  0.000033  0.000033   \n",
       "24781  0.034160  0.019386  0.024073  0.043195  0.051860  0.063158  0.088456   \n",
       "24782  0.203239  0.118917  0.078777  0.130462  0.046902  0.027368  0.012811   \n",
       "\n",
       "            mel       mel       mel       mel       mel       mel       mel  \\\n",
       "24778  0.000041  0.000033  0.000038  0.000029  0.000019  0.000019  0.000017   \n",
       "24779  0.000151  0.000127  0.000171  0.000140  0.000114  0.000106  0.000077   \n",
       "24780  0.000015  0.000012  0.000009  0.000011  0.000006  0.000005  0.000003   \n",
       "24781  0.097171  0.160235  0.138793  0.066637  0.031959  0.007413  0.002262   \n",
       "24782  0.012970  0.006990  0.009978  0.027250  0.025636  0.025410  0.027141   \n",
       "\n",
       "            mel       mel       mel       mel       mel       mel       mel  \\\n",
       "24778  0.000017  0.000008  0.000005  0.000009  0.000015  0.000020  0.000010   \n",
       "24779  0.000030  0.000022  0.000032  0.000041  0.000038  0.000034  0.000099   \n",
       "24780  0.000004  0.000003  0.000004  0.000007  0.000006  0.000006  0.000002   \n",
       "24781  0.002185  0.009627  0.038512  0.076637  0.118891  0.109286  0.052654   \n",
       "24782  0.020168  0.021944  0.011948  0.008220  0.026534  0.040798  0.040358   \n",
       "\n",
       "            mel       mel       mel       mel       mel       mel       mel  \\\n",
       "24778  0.000006  0.000007  0.000009  0.000006  0.000008  0.000008  0.000007   \n",
       "24779  0.000090  0.000032  0.000026  0.000026  0.000018  0.000023  0.000032   \n",
       "24780  0.000003  0.000003  0.000002  0.000002  0.000003  0.000003  0.000003   \n",
       "24781  0.018820  0.005708  0.004651  0.005241  0.001435  0.000033  0.000002   \n",
       "24782  0.039717  0.028370  0.018373  0.005395  0.000444  0.000008  0.000001   \n",
       "\n",
       "                mel           mel           mel           mel           mel  \\\n",
       "24778  7.056818e-06  9.596689e-06  6.661124e-06  5.487163e-06  3.610811e-06   \n",
       "24779  1.272312e-05  8.955307e-06  1.367225e-05  7.171851e-06  4.043730e-06   \n",
       "24780  2.407622e-06  1.514996e-06  1.679450e-06  1.593449e-06  1.080508e-06   \n",
       "24781  4.148847e-07  3.101894e-07  3.152449e-07  2.569581e-07  1.733312e-07   \n",
       "24782  5.600791e-07  4.436708e-07  3.612102e-07  3.039560e-07  1.974624e-07   \n",
       "\n",
       "                mel           mel           mel           mel           mel  \\\n",
       "24778  1.066116e-06  3.940568e-08  4.386587e-09  3.934327e-09  3.616842e-09   \n",
       "24779  1.242139e-06  8.010924e-08  1.141345e-08  9.478378e-09  8.492636e-09   \n",
       "24780  2.516526e-07  7.536460e-08  4.531382e-08  3.777022e-08  3.345398e-08   \n",
       "24781  8.675330e-08  4.705479e-08  3.916420e-08  3.369339e-08  2.982289e-08   \n",
       "24782  7.464940e-08  3.639231e-08  3.299891e-08  3.035463e-08  2.815176e-08   \n",
       "\n",
       "                mel           mel           mel           mel           mel  \\\n",
       "24778  3.364994e-09  3.155534e-09  2.986337e-09  2.844588e-09  2.727968e-09   \n",
       "24779  7.798572e-09  7.266692e-09  6.860868e-09  6.536293e-09  6.277775e-09   \n",
       "24780  3.045017e-08  2.817581e-08  2.645287e-08  2.508716e-08  2.400698e-08   \n",
       "24781  2.693547e-08  2.465684e-08  2.287610e-08  2.143892e-08  2.028743e-08   \n",
       "24782  2.636237e-08  2.484636e-08  2.361095e-08  2.257019e-08  2.170813e-08   \n",
       "\n",
       "                mel           mel           mel           mel   contrast  \\\n",
       "24778  2.635663e-09  2.563692e-09  2.513333e-09  2.481457e-09  18.123065   \n",
       "24779  6.078889e-09  5.926311e-09  5.821557e-09  5.755594e-09  16.209617   \n",
       "24780  2.317983e-08  2.254846e-08  2.211556e-08  2.184430e-08  19.568966   \n",
       "24781  1.939513e-08  1.871170e-08  1.823823e-08  1.794401e-08  14.076762   \n",
       "24782  2.102621e-08  2.049209e-08  2.011938e-08  1.988239e-08  14.235088   \n",
       "\n",
       "        contrast   contrast   contrast   contrast   contrast   contrast  \\\n",
       "24778  16.864310  20.108288  18.542917  19.385362  19.506113  60.697950   \n",
       "24779  15.989443  18.808640  18.342743  19.651828  19.176303  58.457264   \n",
       "24780  17.647668  21.506072  21.893552  20.946511  20.155151  57.492762   \n",
       "24781  17.334168  23.895092  16.602850  24.084574  30.465436  46.417020   \n",
       "24782  16.730982  22.263361  20.216165  21.885407  29.649005  47.240011   \n",
       "\n",
       "        tonnetz   tonnetz   tonnetz   tonnetz   tonnetz   tonnetz  \n",
       "24778  0.007471  0.020963  0.050210 -0.102916 -0.026035  0.005766  \n",
       "24779  0.010165  0.010087  0.037996 -0.079704 -0.029291 -0.001756  \n",
       "24780 -0.009299  0.001061 -0.017164 -0.085846 -0.004636  0.017903  \n",
       "24781  0.000386  0.020902  0.035148 -0.054016 -0.017736  0.006993  \n",
       "24782  0.014806 -0.003009 -0.001559 -0.052127 -0.002941 -0.016477  "
      ]
     },
     "execution_count": 17,
     "metadata": {
      "tags": []
     },
     "output_type": "execute_result"
    }
   ],
   "source": [
    "df.shape # (64483, 194)\n",
    "df.tail()"
   ]
  },
  {
   "cell_type": "code",
   "execution_count": 18,
   "metadata": {
    "colab": {
     "base_uri": "https://localhost:8080/",
     "height": 34
    },
    "colab_type": "code",
    "executionInfo": {
     "elapsed": 610,
     "status": "ok",
     "timestamp": 1549506181390,
     "user": {
      "displayName": "Patrina Bailey",
      "photoUrl": "https://lh6.googleusercontent.com/-_-IxxZOx6Gk/AAAAAAAAAAI/AAAAAAAAJ6M/E0SG_dIR-sM/s64/photo.jpg",
      "userId": "15476889788748924708"
     },
     "user_tz": 300
    },
    "id": "_xRFGg5fNFw5",
    "outputId": "79df278b-b6d7-4c98-a803-dbe0a923be67"
   },
   "outputs": [
    {
     "data": {
      "text/plain": [
       "(537,)"
      ]
     },
     "execution_count": 18,
     "metadata": {
      "tags": []
     },
     "output_type": "execute_result"
    }
   ],
   "source": [
    "# Check how many ids were loaded into dataframe...not going to load all of them\n",
    "df.id.unique().shape # (537,)"
   ]
  },
  {
   "cell_type": "code",
   "execution_count": 0,
   "metadata": {
    "colab": {},
    "colab_type": "code",
    "id": "EBtL8R_khAdk"
   },
   "outputs": [],
   "source": [
    "# Split the dataframe into x and y\n",
    "y = df.id\n",
    "x = df.iloc[:,1:]"
   ]
  },
  {
   "cell_type": "code",
   "execution_count": 0,
   "metadata": {
    "colab": {},
    "colab_type": "code",
    "id": "ZsfssuE_ggdc"
   },
   "outputs": [],
   "source": [
    "# Train, test, split into training and testing\n",
    "x_train1, x_test, y_train1, y_test = train_test_split(x,y, test_size = 0.1, random_state = 121)"
   ]
  },
  {
   "cell_type": "code",
   "execution_count": 0,
   "metadata": {
    "colab": {},
    "colab_type": "code",
    "id": "bi7PGiDcIzGw"
   },
   "outputs": [],
   "source": [
    "# Split the training data into training and validation\n",
    "x_train, x_val, y_train, y_val = train_test_split(x_train1, y_train1, test_size = 0.2, random_state = 121)"
   ]
  },
  {
   "cell_type": "code",
   "execution_count": 22,
   "metadata": {
    "colab": {
     "base_uri": "https://localhost:8080/",
     "height": 34
    },
    "colab_type": "code",
    "executionInfo": {
     "elapsed": 522,
     "status": "ok",
     "timestamp": 1549506183606,
     "user": {
      "displayName": "Patrina Bailey",
      "photoUrl": "https://lh6.googleusercontent.com/-_-IxxZOx6Gk/AAAAAAAAAAI/AAAAAAAAJ6M/E0SG_dIR-sM/s64/photo.jpg",
      "userId": "15476889788748924708"
     },
     "user_tz": 300
    },
    "id": "OYiV2M-blnJR",
    "outputId": "38f8d663-7e27-426a-b9eb-cf0599cb556c"
   },
   "outputs": [
    {
     "data": {
      "text/plain": [
       "(6449,)"
      ]
     },
     "execution_count": 22,
     "metadata": {
      "tags": []
     },
     "output_type": "execute_result"
    }
   ],
   "source": [
    "# look at the shape of each portion of data\n",
    "x_train.shape # (46427, 193)\n",
    "x_val.shape # (11607, 193)\n",
    "x_test.shape # (6449, 193)\n",
    "\n",
    "y_train.shape # (46427,)\n",
    "y_val.shape # (11607,)\n",
    "y_test.shape # (6449,) "
   ]
  },
  {
   "cell_type": "code",
   "execution_count": 23,
   "metadata": {
    "colab": {
     "base_uri": "https://localhost:8080/",
     "height": 34
    },
    "colab_type": "code",
    "executionInfo": {
     "elapsed": 279,
     "status": "ok",
     "timestamp": 1549506184490,
     "user": {
      "displayName": "Patrina Bailey",
      "photoUrl": "https://lh6.googleusercontent.com/-_-IxxZOx6Gk/AAAAAAAAAAI/AAAAAAAAJ6M/E0SG_dIR-sM/s64/photo.jpg",
      "userId": "15476889788748924708"
     },
     "user_tz": 300
    },
    "id": "6aL1SuKXl1Wy",
    "outputId": "b2f11ef6-7f40-40a6-ee2d-3ec2d2db4737"
   },
   "outputs": [
    {
     "data": {
      "text/plain": [
       "(6449, 1, 193)"
      ]
     },
     "execution_count": 23,
     "metadata": {
      "tags": []
     },
     "output_type": "execute_result"
    }
   ],
   "source": [
    "# reshape x datasets from 2D into 3D arrays\n",
    "x_train_array = x_train.values # convert df to array\n",
    "x_train_ = np.reshape(x_train_array, newshape = (46427, 1,193))\n",
    "x_train_.shape # (46427, 1, 193)\n",
    "\n",
    "x_val_array = x_val.values # convert df to array\n",
    "x_val_ = np.reshape(x_val_array, newshape = (11607, 1,193))\n",
    "x_val_.shape # (11607, 1,193)\n",
    "\n",
    "x_test_array = x_test.values # convert df to array\n",
    "x_test_ = np.reshape(x_test_array, newshape = (6449, 1, 193))\n",
    "x_test_.shape # (6449, 1, 193)\n"
   ]
  },
  {
   "cell_type": "code",
   "execution_count": 24,
   "metadata": {
    "colab": {
     "base_uri": "https://localhost:8080/",
     "height": 34
    },
    "colab_type": "code",
    "executionInfo": {
     "elapsed": 946,
     "status": "ok",
     "timestamp": 1549506187227,
     "user": {
      "displayName": "Patrina Bailey",
      "photoUrl": "https://lh6.googleusercontent.com/-_-IxxZOx6Gk/AAAAAAAAAAI/AAAAAAAAJ6M/E0SG_dIR-sM/s64/photo.jpg",
      "userId": "15476889788748924708"
     },
     "user_tz": 300
    },
    "id": "AYiUjW4gm1ZY",
    "outputId": "e76f8ce4-9845-4248-8b1f-55fbe7c120c6"
   },
   "outputs": [
    {
     "data": {
      "text/plain": [
       "(6449, 537)"
      ]
     },
     "execution_count": 24,
     "metadata": {
      "tags": []
     },
     "output_type": "execute_result"
    }
   ],
   "source": [
    "# reshape y data for last layer in models (softmax activation function)\n",
    "y_train_cat = pd.get_dummies(y_train) # converts variables in one column to have their own column\n",
    "y_train_ = y_train_cat.values \n",
    "y_train_.shape # (46427, 537)\n",
    "\n",
    "y_val_cat = pd.get_dummies(y_val) # converts variables in one column to have their own column\n",
    "y_val_ = y_val_cat.values \n",
    "y_val_.shape # (11607, 537)\n",
    "\n",
    "y_test_cat = pd.get_dummies(y_test) # converts variables in one column to have their own column\n",
    "y_test_ = y_test_cat.values \n",
    "y_test_.shape # (6449, 537)\n"
   ]
  },
  {
   "cell_type": "markdown",
   "metadata": {
    "colab_type": "text",
    "id": "7wXEGyHyZjlc"
   },
   "source": [
    "# <font color = 'red' >Models"
   ]
  },
  {
   "cell_type": "markdown",
   "metadata": {
    "colab_type": "text",
    "id": "_wXa-j-ChlHe"
   },
   "source": [
    "## PReLU Model"
   ]
  },
  {
   "cell_type": "code",
   "execution_count": 0,
   "metadata": {
    "colab": {},
    "colab_type": "code",
    "id": "FfiiqzAhhkj8"
   },
   "outputs": [],
   "source": [
    "# Set seed to get same results\n",
    "np.random.seed(123)\n",
    "# Define model as Sequential class\n",
    "model = Sequential()"
   ]
  },
  {
   "cell_type": "code",
   "execution_count": 0,
   "metadata": {
    "colab": {
     "base_uri": "https://localhost:8080/",
     "height": 139
    },
    "colab_type": "code",
    "executionInfo": {
     "elapsed": 914,
     "status": "ok",
     "timestamp": 1549490724165,
     "user": {
      "displayName": "Patrina Bailey",
      "photoUrl": "https://lh6.googleusercontent.com/-_-IxxZOx6Gk/AAAAAAAAAAI/AAAAAAAAJ6M/E0SG_dIR-sM/s64/photo.jpg",
      "userId": "15476889788748924708"
     },
     "user_tz": 300
    },
    "id": "uNNOSFXOcFlF",
    "outputId": "ccd03e52-71ad-4bee-f5b5-26b66a0acdf5"
   },
   "outputs": [
    {
     "name": "stdout",
     "output_type": "stream",
     "text": [
      "WARNING:tensorflow:From /usr/local/lib/python3.6/dist-packages/tensorflow/python/framework/op_def_library.py:263: colocate_with (from tensorflow.python.framework.ops) is deprecated and will be removed in a future version.\n",
      "Instructions for updating:\n",
      "Colocations handled automatically by placer.\n",
      "WARNING:tensorflow:From /usr/local/lib/python3.6/dist-packages/keras/backend/tensorflow_backend.py:3445: calling dropout (from tensorflow.python.ops.nn_ops) with keep_prob is deprecated and will be removed in a future version.\n",
      "Instructions for updating:\n",
      "Please use `rate` instead of `keep_prob`. Rate should be set to `rate = 1 - keep_prob`.\n"
     ]
    }
   ],
   "source": [
    "model.add(layers.Dense(128, input_shape = (1,193)))\n",
    "model.add(PReLU(alpha_initializer='zeros'))\n",
    "\n",
    "model.add(PReLU())\n",
    "model.add(PReLU())\n",
    "model.add(Dropout(rate = 0.1))\n",
    "\n",
    "model.add(layers.Dense(256))\n",
    "model.add(PReLU())\n",
    "model.add(PReLU())\n",
    "\n",
    "model.add(layers.Dense(542))\n",
    "model.add(PReLU())\n",
    "model.add(PReLU())\n",
    "model.add(Dropout(rate = 0.1))\n",
    "\n",
    "model.add(layers.Dense(542))\n",
    "model.add(PReLU())\n",
    "model.add(PReLU())\n",
    "\n",
    "model.add(layers.Dense(256))\n",
    "model.add(PReLU())\n",
    "model.add(PReLU())\n",
    "model.add(Dropout(rate = 0.1))\n",
    "\n",
    "model.add(layers.Dense(256))\n",
    "model.add(PReLU())\n",
    "model.add(PReLU())\n",
    "\n",
    "model.add(layers.Dense(128))\n",
    "model.add(PReLU())\n",
    "model.add(PReLU())\n",
    "model.add(Dropout(rate = 0.1))\n",
    "\n",
    "model.add(layers.Dense(128))\n",
    "model.add(PReLU())\n",
    "model.add(PReLU())\n",
    "\n",
    "model.add(layers.Dense(128))\n",
    "model.add(PReLU())\n",
    "\n",
    "model.add(layers.Flatten())\n",
    "model.add(Dense(537, activation = 'softmax'))"
   ]
  },
  {
   "cell_type": "code",
   "execution_count": 0,
   "metadata": {
    "colab": {},
    "colab_type": "code",
    "id": "YiAoWE0riZHe"
   },
   "outputs": [],
   "source": [
    "opt = Adamax(lr = 1e-3, decay = 1e-5)\n",
    "model.compile(loss = 'categorical_crossentropy', \n",
    "              optimizer = opt,\n",
    "             metrics = ['accuracy'])"
   ]
  },
  {
   "cell_type": "code",
   "execution_count": 0,
   "metadata": {
    "colab": {},
    "colab_type": "code",
    "id": "GXm0dYDxQuhj"
   },
   "outputs": [],
   "source": [
    "earlystop = EarlyStopping(monitor='val_loss',\n",
    "                              min_delta=0.001,\n",
    "                              patience=3,\n",
    "                              verbose=0, mode='auto')"
   ]
  },
  {
   "cell_type": "code",
   "execution_count": 0,
   "metadata": {
    "colab": {
     "base_uri": "https://localhost:8080/",
     "height": 54
    },
    "colab_type": "code",
    "executionInfo": {
     "elapsed": 14534,
     "status": "ok",
     "timestamp": 1549492439667,
     "user": {
      "displayName": "Patrina Bailey",
      "photoUrl": "https://lh6.googleusercontent.com/-_-IxxZOx6Gk/AAAAAAAAAAI/AAAAAAAAJ6M/E0SG_dIR-sM/s64/photo.jpg",
      "userId": "15476889788748924708"
     },
     "user_tz": 300
    },
    "id": "XByf38p2iY_-",
    "outputId": "cc597890-bc82-4254-a58a-bdfd1d21b12e"
   },
   "outputs": [
    {
     "name": "stdout",
     "output_type": "stream",
     "text": [
      "46427/46427 [==============================] - 28s 598us/step - loss: 0.9288 - acc: 0.7560 - val_loss: 1.5074 - val_acc: 0.7010\n"
     ]
    }
   ],
   "source": [
    "history = model.fit(x_train_, \n",
    "                    y_train_, \n",
    "                    epochs = 100, \n",
    "                    batch_size = 25,\n",
    "                    validation_data= (x_val_,y_val_), callbacks = [earlystop])\n"
   ]
  },
  {
   "cell_type": "markdown",
   "metadata": {
    "colab_type": "text",
    "id": "1XFNbiw2nQ19"
   },
   "source": [
    "### Errors & Accuracy Plot"
   ]
  },
  {
   "cell_type": "code",
   "execution_count": 0,
   "metadata": {
    "colab": {
     "base_uri": "https://localhost:8080/",
     "height": 423
    },
    "colab_type": "code",
    "executionInfo": {
     "elapsed": 1202,
     "status": "ok",
     "timestamp": 1549492525980,
     "user": {
      "displayName": "Patrina Bailey",
      "photoUrl": "https://lh6.googleusercontent.com/-_-IxxZOx6Gk/AAAAAAAAAAI/AAAAAAAAJ6M/E0SG_dIR-sM/s64/photo.jpg",
      "userId": "15476889788748924708"
     },
     "user_tz": 300
    },
    "id": "xulF3tQ4nNkH",
    "outputId": "2d00ef42-4d33-4f0a-f6dc-76efe03a5015"
   },
   "outputs": [
    {
     "data": {
      "image/png": "[encoded data removed]",
      "text/plain": [
       "<Figure size 1800x432 with 2 Axes>"
      ]
     },
     "metadata": {
      "tags": []
     },
     "output_type": "display_data"
    }
   ],
   "source": [
    "%matplotlib inline\n",
    "# Look at the history of the model\n",
    "hist_dense = model.history.history # contains information from fitting model\n",
    "hist_dense.keys() # returns: dict_keys(['val_loss', 'val_acc', 'loss', 'acc'])\n",
    "\n",
    "# Call each key to get the values to plot\n",
    "loss_prelu = hist_dense['loss'] \n",
    "val_loss_prelu = hist_dense['val_loss']\n",
    "acc_prelu = hist_dense['acc']\n",
    "val_acc_prelu = hist_dense['val_acc']\n",
    "\n",
    "epochs = range(1, len(loss_prelu) + 1)\n",
    "\n",
    "# Plot Losses of training and validation sets v. epochs\n",
    "plt.figure(figsize=(25,6))\n",
    "plt.subplot(131)\n",
    "plt.plot(epochs, loss_prelu, 'k', label = 'Training loss')\n",
    "plt.plot(epochs, val_loss_prelu, 'r', label = 'Validation loss')\n",
    "\n",
    "# Add the good stuff                      \n",
    "plt.title('Training and validation loss over epochs')\n",
    "plt.xlabel('epochs')\n",
    "plt.ylabel('Loss')\n",
    "plt.legend()\n",
    "\n",
    "# Plot accuracy scores over epochs for training and validation sets                      \n",
    "plt.subplot(132)\n",
    "plt.plot(epochs, acc_prelu, 'k', label='Training acc')\n",
    "plt.plot(epochs, val_acc_prelu, 'r', label= 'Validation acc')\n",
    "\n",
    "# Add the good stuff                      \n",
    "plt.title('Training and validation accuracy over epochs [PReLU]')\n",
    "plt.xlabel('epochs')\n",
    "plt.ylabel('accuracy')\n",
    "plt.legend()\n",
    "\n",
    "plt.show()"
   ]
  },
  {
   "cell_type": "markdown",
   "metadata": {
    "colab_type": "text",
    "id": "4add3biujqcD"
   },
   "source": [
    "### Basic Metrics"
   ]
  },
  {
   "cell_type": "code",
   "execution_count": 0,
   "metadata": {
    "colab": {},
    "colab_type": "code",
    "id": "MRleeFQfx9Ta"
   },
   "outputs": [],
   "source": [
    "# Use model to predict on testing set\n",
    "y_pred = model.predict(x_test_)"
   ]
  },
  {
   "cell_type": "code",
   "execution_count": 0,
   "metadata": {
    "colab": {},
    "colab_type": "code",
    "id": "gdk4zTOyZQR0"
   },
   "outputs": [],
   "source": [
    "# Convert y_pred from continuous variables to discreet binary (0,1)\n",
    "yy = []\n",
    "for elem in y_pred: # each element is an array\n",
    "  row = []\n",
    "  for e in elem: # each number in the array\n",
    "    if e == elem.max(): # since softmax outputs probability...\n",
    "      row.append(1) # assign highest prob as 1\n",
    "    else:\n",
    "      row.append(0) # assign all other probs as 0\n",
    "  yy.append(row)\n",
    "y_pred_ = np.array(yy)      "
   ]
  },
  {
   "cell_type": "code",
   "execution_count": 0,
   "metadata": {
    "colab": {
     "base_uri": "https://localhost:8080/",
     "height": 34
    },
    "colab_type": "code",
    "executionInfo": {
     "elapsed": 380,
     "status": "ok",
     "timestamp": 1549492616061,
     "user": {
      "displayName": "Patrina Bailey",
      "photoUrl": "https://lh6.googleusercontent.com/-_-IxxZOx6Gk/AAAAAAAAAAI/AAAAAAAAJ6M/E0SG_dIR-sM/s64/photo.jpg",
      "userId": "15476889788748924708"
     },
     "user_tz": 300
    },
    "id": "E_h4VLuBoZl-",
    "outputId": "127cc3d5-0dc2-4632-c354-5b487d8b19f6"
   },
   "outputs": [
    {
     "data": {
      "text/plain": [
       "0.7021173008041286"
      ]
     },
     "execution_count": 30,
     "metadata": {
      "tags": []
     },
     "output_type": "execute_result"
    }
   ],
   "source": [
    "f1_score(y_test_, y_pred_, average= 'weighted') # 0.7021173008041286\n",
    "precision_score(y_test_, y_pred_, average= 'weighted') # 0.7242833973660131\n",
    "accuracy_score(y_test_, y_pred_) # 0.7066211815785393\n",
    "recall_score(y_test_, y_pred_, average= 'weighted') # 0.7066211815785393"
   ]
  },
  {
   "cell_type": "markdown",
   "metadata": {
    "colab_type": "text",
    "id": "7UEY58Mzn2VA"
   },
   "source": [
    "### AUC/ ROC Curve"
   ]
  },
  {
   "cell_type": "code",
   "execution_count": 0,
   "metadata": {
    "colab": {},
    "colab_type": "code",
    "id": "_yInNNPxn1aF"
   },
   "outputs": [],
   "source": [
    "# Iterate through y_test_ and y_pred_ to get predictions for each of the 537 IDs\n",
    "fpr = dict()\n",
    "tpr = dict()\n",
    "roc_auc = dict()\n",
    "for i in range(y_test_.shape[1]):\n",
    "  # use y_pred not y_pred_, because the roc_curve function needs probability for threshold metric\n",
    "  fpr[i], tpr[i], thresholds = roc_curve(y_test_[:,i], y_pred[:,i]) # fpr = false positive rate, tpr = true positive rate\n",
    "  roc_auc[i] = auc(fpr[i], tpr[i])\n"
   ]
  },
  {
   "cell_type": "code",
   "execution_count": 0,
   "metadata": {
    "colab": {
     "base_uri": "https://localhost:8080/",
     "height": 512
    },
    "colab_type": "code",
    "executionInfo": {
     "elapsed": 1355,
     "status": "ok",
     "timestamp": 1549492633078,
     "user": {
      "displayName": "Patrina Bailey",
      "photoUrl": "https://lh6.googleusercontent.com/-_-IxxZOx6Gk/AAAAAAAAAAI/AAAAAAAAJ6M/E0SG_dIR-sM/s64/photo.jpg",
      "userId": "15476889788748924708"
     },
     "user_tz": 300
    },
    "id": "f4Rb16F1Itpp",
    "outputId": "89065826-80ed-4ce4-833b-3f545e41f96f"
   },
   "outputs": [
    {
     "data": {
      "image/png": "[encoded data removed]",
      "text/plain": [
       "<Figure size 720x576 with 1 Axes>"
      ]
     },
     "metadata": {
      "tags": []
     },
     "output_type": "display_data"
    }
   ],
   "source": [
    "%matplotlib inline\n",
    "# Plot some of 537 celebs ROC curve \n",
    "#Seaborns Beautiful Styling\n",
    "sns.set_style(\"darkgrid\", {\"axes.facecolor\": \".9\"})\n",
    "\n",
    "plt.figure(figsize=(10,8))\n",
    "lw = 2 # linewidth\n",
    "for i in range(50):\n",
    "  plt.plot(fpr[i], tpr[i], lw = lw)\n",
    "  plt.xlim([0.0, 1.0])\n",
    "  plt.ylim([0.0, 1.05])\n",
    "  plt.yticks([ii/20.0 for ii in range(21)])\n",
    "  plt.xticks([ii/20.0 for ii in range(21)])\n",
    "plt.plot([0, 1], [0, 1], color='navy', lw=lw, linestyle='--')\n",
    "\n",
    "plt.xlabel('False Positive Rate')\n",
    "plt.ylabel('True Positive Rate')\n",
    "plt.title('ROC Curve for PReLU Model')\n",
    "plt.show()"
   ]
  },
  {
   "cell_type": "markdown",
   "metadata": {
    "colab_type": "text",
    "id": "Feo69Bi0H-kY"
   },
   "source": [
    "## SeLU Model"
   ]
  },
  {
   "cell_type": "code",
   "execution_count": 0,
   "metadata": {
    "colab": {},
    "colab_type": "code",
    "id": "2iRZE-whLRW8"
   },
   "outputs": [],
   "source": [
    "# Set seed to get same results\n",
    "np.random.seed(123)\n",
    "# Define model as Sequential class\n",
    "model_selu = Sequential()"
   ]
  },
  {
   "cell_type": "code",
   "execution_count": 0,
   "metadata": {
    "colab": {},
    "colab_type": "code",
    "id": "NGjQGM-gLRUy"
   },
   "outputs": [],
   "source": [
    "model_selu.add(layers.Dense(128, input_shape = (1,193), activation = 'selu'))\n",
    "model_selu.add(Dropout(rate = 0.1))\n",
    "\n",
    "model_selu.add(layers.Dense(256, activation = 'selu'))\n",
    "model_selu.add(layers.Dense(512, activation = 'selu'))\n",
    "model_selu.add(layers.Dense(512, activation = 'selu'))\n",
    "model_selu.add(Dropout(rate = 0.1))\n",
    "\n",
    "\n",
    "model_selu.add(layers.Dense(512, activation = 'selu'))\n",
    "model_selu.add(layers.Dense(512, activation = 'selu'))\n",
    "model_selu.add(Dropout(rate = 0.1))\n",
    "\n",
    "model_selu.add(layers.Dense(256, activation = 'selu'))\n",
    "model_selu.add(layers.Dense(256, activation = 'selu'))\n",
    "model_selu.add(Dropout(rate = 0.1))\n",
    "\n",
    "model_selu.add(layers.Dense(256, activation = 'selu'))\n",
    "model_selu.add(layers.Dense(256, activation = 'selu'))\n",
    "model_selu.add(Dropout(rate = 0.1))\n",
    "\n",
    "model_selu.add(layers.Dense(256, activation = 'selu'))\n",
    "model_selu.add(layers.Dense(256, activation = 'selu'))\n",
    "model_selu.add(Dropout(rate = 0.1))\n",
    "\n",
    "model_selu.add(layers.Dense(256, activation = 'selu'))\n",
    "model_selu.add(layers.Dense(256, activation = 'selu'))\n",
    "model_selu.add(Dropout(rate = 0.1))\n",
    "\n",
    "model_selu.add(layers.Flatten())\n",
    "model_selu.add(Dense(537, activation = 'softmax'))"
   ]
  },
  {
   "cell_type": "code",
   "execution_count": 0,
   "metadata": {
    "colab": {},
    "colab_type": "code",
    "id": "P1AB7FkWLRSu"
   },
   "outputs": [],
   "source": [
    "opt = Adamax(lr = 1e-3, decay = 1e-5)\n",
    "model_selu.compile(loss = 'categorical_crossentropy', \n",
    "              optimizer = opt,\n",
    "             metrics = ['accuracy'])"
   ]
  },
  {
   "cell_type": "code",
   "execution_count": 0,
   "metadata": {
    "colab": {},
    "colab_type": "code",
    "id": "nxJrviG1LROl"
   },
   "outputs": [],
   "source": [
    "earlystop = EarlyStopping(monitor='val_loss',\n",
    "                              min_delta=0.001,\n",
    "                              patience=3,\n",
    "                              verbose=0, mode='auto')"
   ]
  },
  {
   "cell_type": "code",
   "execution_count": 0,
   "metadata": {
    "colab": {
     "base_uri": "https://localhost:8080/",
     "height": 88
    },
    "colab_type": "code",
    "executionInfo": {
     "elapsed": 32952,
     "status": "ok",
     "timestamp": 1549493814591,
     "user": {
      "displayName": "Patrina Bailey",
      "photoUrl": "https://lh6.googleusercontent.com/-_-IxxZOx6Gk/AAAAAAAAAAI/AAAAAAAAJ6M/E0SG_dIR-sM/s64/photo.jpg",
      "userId": "15476889788748924708"
     },
     "user_tz": 300
    },
    "id": "qugsopXKLRFn",
    "outputId": "18707b94-e212-4a35-8e74-b3036201746a"
   },
   "outputs": [
    {
     "name": "stdout",
     "output_type": "stream",
     "text": [
      "46427/46427 [==============================] - 26s 564us/step - loss: 0.9875 - acc: 0.7398 - val_loss: 1.6399 - val_acc: 0.6798\n",
      "Epoch 43/100\n",
      "46427/46427 [==============================] - 26s 563us/step - loss: 0.9592 - acc: 0.7484 - val_loss: 1.6330 - val_acc: 0.6842\n"
     ]
    }
   ],
   "source": [
    "history = model_selu.fit(x_train_, \n",
    "                    y_train_, \n",
    "                    epochs = 100, \n",
    "                    batch_size = 25,\n",
    "                    validation_data= (x_val_,y_val_), callbacks = [earlystop])\n"
   ]
  },
  {
   "cell_type": "markdown",
   "metadata": {
    "colab_type": "text",
    "id": "_wroWXnBJvEu"
   },
   "source": [
    "### Errors & Accuracy Plot"
   ]
  },
  {
   "cell_type": "code",
   "execution_count": 0,
   "metadata": {
    "colab": {
     "base_uri": "https://localhost:8080/",
     "height": 423
    },
    "colab_type": "code",
    "executionInfo": {
     "elapsed": 1270,
     "status": "ok",
     "timestamp": 1549493844855,
     "user": {
      "displayName": "Patrina Bailey",
      "photoUrl": "https://lh6.googleusercontent.com/-_-IxxZOx6Gk/AAAAAAAAAAI/AAAAAAAAJ6M/E0SG_dIR-sM/s64/photo.jpg",
      "userId": "15476889788748924708"
     },
     "user_tz": 300
    },
    "id": "sZUr1RrFJuBd",
    "outputId": "be6e0cc8-e8df-4ac4-a280-43337c75a7fb"
   },
   "outputs": [
    {
     "data": {
      "image/png": "[encoded data removed]",
      "text/plain": [
       "<Figure size 1800x432 with 2 Axes>"
      ]
     },
     "metadata": {
      "tags": []
     },
     "output_type": "display_data"
    }
   ],
   "source": [
    "# Look at the history of the model\n",
    "hist_dense = model_selu.history.history # contains information from fitting model\n",
    "hist_dense.keys() # returns: dict_keys(['val_loss', 'val_acc', 'loss', 'acc'])\n",
    "\n",
    "# Call each key to get the values to plot\n",
    "loss_selu = hist_dense['loss'] \n",
    "val_loss_selu = hist_dense['val_loss']\n",
    "acc_selu = hist_dense['acc']\n",
    "val_acc_selu = hist_dense['val_acc']\n",
    "\n",
    "epochs = range(1, len(loss_selu) + 1)\n",
    "\n",
    "# Plot Losses of training and validation sets v. epochs\n",
    "plt.figure(figsize=(25,6))\n",
    "plt.subplot(131)\n",
    "plt.plot(epochs, loss_selu, 'k', label = 'Training loss')\n",
    "plt.plot(epochs, val_loss_selu, 'r', label = 'Validation loss')\n",
    "\n",
    "# Add the good stuff                      \n",
    "plt.title('Training and validation loss over epochs')\n",
    "plt.xlabel('epochs')\n",
    "plt.ylabel('Loss')\n",
    "plt.legend()\n",
    "\n",
    "# Plot accuracy scores over epochs for training and validation sets                      \n",
    "plt.subplot(132)\n",
    "plt.plot(epochs, acc_selu, 'k', label='Training acc')\n",
    "plt.plot(epochs, val_acc_selu, 'r', label= 'Validation acc')\n",
    "\n",
    "# Add the good stuff                      \n",
    "plt.title('Training and validation accuracy over epochs [SeLU]')\n",
    "plt.xlabel('epochs')\n",
    "plt.ylabel('accuracy')\n",
    "plt.legend()\n",
    "\n",
    "plt.show()"
   ]
  },
  {
   "cell_type": "markdown",
   "metadata": {
    "colab_type": "text",
    "id": "4ZE03wihjhce"
   },
   "source": [
    "### Basic Metrics"
   ]
  },
  {
   "cell_type": "code",
   "execution_count": 0,
   "metadata": {
    "colab": {},
    "colab_type": "code",
    "id": "nRYzEglWLbCg"
   },
   "outputs": [],
   "source": [
    "# Use model to predict on testing set\n",
    "y_pred = model_selu.predict(x_test_)"
   ]
  },
  {
   "cell_type": "code",
   "execution_count": 0,
   "metadata": {
    "colab": {},
    "colab_type": "code",
    "id": "x8g_UELSLegc"
   },
   "outputs": [],
   "source": [
    "# Convert y_pred from continuous variables to discreet binary (0,1)\n",
    "yy = []\n",
    "for elem in y_pred: # each element is an array\n",
    "  row = []\n",
    "  for e in elem: # each number in the array\n",
    "    if e == elem.max(): # since softmax outputs probability...\n",
    "      row.append(1) # assign highest prob as 1\n",
    "    else:\n",
    "      row.append(0) # assign all other probs as 0\n",
    "  yy.append(row)\n",
    "y_pred_ = np.array(yy)      "
   ]
  },
  {
   "cell_type": "code",
   "execution_count": 0,
   "metadata": {
    "colab": {
     "base_uri": "https://localhost:8080/",
     "height": 34
    },
    "colab_type": "code",
    "executionInfo": {
     "elapsed": 1154,
     "status": "ok",
     "timestamp": 1549493916102,
     "user": {
      "displayName": "Patrina Bailey",
      "photoUrl": "https://lh6.googleusercontent.com/-_-IxxZOx6Gk/AAAAAAAAAAI/AAAAAAAAJ6M/E0SG_dIR-sM/s64/photo.jpg",
      "userId": "15476889788748924708"
     },
     "user_tz": 300
    },
    "id": "oDo0jWbIRXEf",
    "outputId": "eb975fe3-1411-4850-aec3-feec08e4842f"
   },
   "outputs": [
    {
     "data": {
      "text/plain": [
       "0.6962319739494496"
      ]
     },
     "execution_count": 44,
     "metadata": {
      "tags": []
     },
     "output_type": "execute_result"
    }
   ],
   "source": [
    "f1_score(y_test_, y_pred_, average= 'weighted') # 0.6930043492601609\n",
    "precision_score(y_test_, y_pred_, average= 'weighted') # 0.7148270141132256\n",
    "accuracy_score(y_test_, y_pred_) # 0.6962319739494496\n",
    "recall_score(y_test_, y_pred_, average= 'weighted') # 0.6962319739494496"
   ]
  },
  {
   "cell_type": "markdown",
   "metadata": {
    "colab_type": "text",
    "id": "qnxWs4tuRaoN"
   },
   "source": [
    "### AUC/ROC Curve"
   ]
  },
  {
   "cell_type": "code",
   "execution_count": 0,
   "metadata": {
    "colab": {},
    "colab_type": "code",
    "id": "jp9xrdGYRh2F"
   },
   "outputs": [],
   "source": [
    "# Iterate through y_test_ and y_pred_ to get predictions for each of the 537 IDs\n",
    "fpr = dict()\n",
    "tpr = dict()\n",
    "roc_auc = dict()\n",
    "for i in range(y_test_.shape[1]):\n",
    "  # use y_pred not y_pred_, because the roc_curve function needs probability for threshold metric\n",
    "  fpr[i], tpr[i], thresholds = roc_curve(y_test_[:,i], y_pred[:,i]) # fpr = false positive rate, tpr = true positive rate\n",
    "  roc_auc[i] = auc(fpr[i], tpr[i])\n"
   ]
  },
  {
   "cell_type": "code",
   "execution_count": 0,
   "metadata": {
    "colab": {
     "base_uri": "https://localhost:8080/",
     "height": 512
    },
    "colab_type": "code",
    "executionInfo": {
     "elapsed": 1590,
     "status": "ok",
     "timestamp": 1549493941437,
     "user": {
      "displayName": "Patrina Bailey",
      "photoUrl": "https://lh6.googleusercontent.com/-_-IxxZOx6Gk/AAAAAAAAAAI/AAAAAAAAJ6M/E0SG_dIR-sM/s64/photo.jpg",
      "userId": "15476889788748924708"
     },
     "user_tz": 300
    },
    "id": "-hzx6VxHReF6",
    "outputId": "9f9d697d-99b3-4c80-9092-e4102a7cee3e"
   },
   "outputs": [
    {
     "data": {
      "image/png": "[encoded data removed]",
      "text/plain": [
       "<Figure size 720x576 with 1 Axes>"
      ]
     },
     "metadata": {
      "tags": []
     },
     "output_type": "display_data"
    }
   ],
   "source": [
    "%matplotlib inline\n",
    "# Plot some of 537 celebs ROC curve \n",
    "#Seaborns Beautiful Styling\n",
    "sns.set_style(\"darkgrid\", {\"axes.facecolor\": \".9\"})\n",
    "\n",
    "plt.figure(figsize=(10,8))\n",
    "lw = 2 # linewidth\n",
    "for i in range(50):\n",
    "  plt.plot(fpr[i], tpr[i], lw = lw)\n",
    "  plt.xlim([0.0, 1.0])\n",
    "  plt.ylim([0.0, 1.05])\n",
    "  plt.yticks([ii/20.0 for ii in range(21)])\n",
    "  plt.xticks([ii/20.0 for ii in range(21)])\n",
    "plt.plot([0, 1], [0, 1], color='navy', lw=lw, linestyle='--')\n",
    "\n",
    "plt.xlabel('False Positive Rate')\n",
    "plt.ylabel('True Positive Rate')\n",
    "plt.title('ROC Curve for SeLU Model')\n",
    "plt.show()"
   ]
  },
  {
   "cell_type": "markdown",
   "metadata": {
    "colab_type": "text",
    "id": "-QeBKSGsqb4v"
   },
   "source": [
    "## Talos (Disregard)"
   ]
  },
  {
   "cell_type": "code",
   "execution_count": 0,
   "metadata": {
    "colab": {},
    "colab_type": "code",
    "id": "67fSzqWpqpbl"
   },
   "outputs": [],
   "source": [
    "# Set seed to get same results\n",
    "np.random.seed(123)"
   ]
  },
  {
   "cell_type": "code",
   "execution_count": 0,
   "metadata": {
    "colab": {},
    "colab_type": "code",
    "id": "wAu_tU9RqeWG"
   },
   "outputs": [],
   "source": [
    "# set parameter space\n",
    "p = {'first_neuron':[64],\n",
    "     'num_neurons': [64],\n",
    "     'hidden_layers':[10,12,15],\n",
    "     'batch_size': [20],\n",
    "     'epochs': [25],\n",
    "     'dropout': [0],\n",
    "     'alpha': [0.001],\n",
    "     'advanced_act': [PReLU()],\n",
    "     'optimizer': [\"sgd\"],\n",
    "     'losses': [\"categorical_crossentropy\"],\n",
    "     'activation':[relu,elu ],\n",
    "     'last_activation': [softmax]}\n",
    "\n",
    "# # set parameter space\n",
    "# p = {'first_neuron':[64,128],\n",
    "#      'num_neurons': [64,128,256, 512],\n",
    "#      'hidden_layers':[10, 11, 12],\n",
    "#      'batch_size': [20,25,30],\n",
    "#      'epochs': [25],\n",
    "#      'dropout': [0],\n",
    "#      'alpha': [0.001, 0.01],\n",
    "#      'advanced_act': [PReLU()],\n",
    "#      'optimizer': [\"sgd\",\"Adam\"],\n",
    "#      'losses': [\"categorical_crossentropy\"],\n",
    "#      'activation':[relu, elu],\n",
    "#      'last_activation': [softmax]}"
   ]
  },
  {
   "cell_type": "code",
   "execution_count": 0,
   "metadata": {
    "colab": {},
    "colab_type": "code",
    "id": "lIdyLgRRqrf9"
   },
   "outputs": [],
   "source": [
    "def best_model(x_train, y_train, x_val, y_val, params):\n",
    "  # Define model as Sequential class\n",
    "  model = Sequential()\n",
    "    \n",
    "  # first layer\n",
    "  model.add(layers.Dense(params['first_neuron'], \n",
    "                           input_shape = (1,193)))\n",
    "  model.add(PReLU(alpha_initializer='zeros', ))\n",
    "    \n",
    "  # possibly add dropout\n",
    "  model.add(Dropout(params['dropout']))\n",
    "    \n",
    "  # add hidden layer\n",
    "  hidden_layers(model, params, y_train.shape[1])\n",
    "            \n",
    "  # add flatten layer for last output layer\n",
    "  model.add(layers.Flatten())\n",
    "    \n",
    "  # add last layer\n",
    "  model.add(Dense(343, activation = params['last_activation']))\n",
    "    \n",
    "  # Compile the model\n",
    "  model.compile(loss = params['losses'],\n",
    "                  optimizer = params['optimizer'],\n",
    "                  metrics = ['acc'])\n",
    "    \n",
    "  # Fit the model\n",
    "  history = model.fit(x_train, y_train, \n",
    "                        validation_data = (x_val, y_val),\n",
    "                        batch_size = params['batch_size'],\n",
    "                        epochs = params['epochs'],\n",
    "                        callbacks=[live()],\n",
    "                        verbose=0)\n",
    "  return history, model"
   ]
  },
  {
   "cell_type": "code",
   "execution_count": 0,
   "metadata": {
    "colab": {},
    "colab_type": "code",
    "id": "uziHzKXqxH1_"
   },
   "outputs": [],
   "source": [
    "# run the experiment\n",
    "t = ta.Scan(x = x_train_,\n",
    "            y = y_train_,\n",
    "            x_val = x_test_,\n",
    "            y_val = y_test_,\n",
    "            model = best_model,\n",
    "            params = p,\n",
    "            experiment_no='1')"
   ]
  },
  {
   "cell_type": "code",
   "execution_count": 0,
   "metadata": {
    "colab": {
     "base_uri": "https://localhost:8080/",
     "height": 34
    },
    "colab_type": "code",
    "executionInfo": {
     "elapsed": 1086,
     "status": "ok",
     "timestamp": 1549314416261,
     "user": {
      "displayName": "Patrina Bailey",
      "photoUrl": "https://lh6.googleusercontent.com/-_-IxxZOx6Gk/AAAAAAAAAAI/AAAAAAAAJ6M/E0SG_dIR-sM/s64/photo.jpg",
      "userId": "15476889788748924708"
     },
     "user_tz": 300
    },
    "id": "sSNWClzhUgFs",
    "outputId": "aa90d35b-d213-463f-e2ca-261b130139a4"
   },
   "outputs": [
    {
     "data": {
      "text/plain": [
       "talos.scan.Scan.Scan"
      ]
     },
     "execution_count": 239,
     "metadata": {
      "tags": []
     },
     "output_type": "execute_result"
    }
   ],
   "source": [
    "type(t)"
   ]
  },
  {
   "cell_type": "markdown",
   "metadata": {
    "colab_type": "text",
    "id": "gMte_XcUhJov"
   },
   "source": [
    "## CNN w/ LeakyReLU"
   ]
  },
  {
   "cell_type": "code",
   "execution_count": 0,
   "metadata": {
    "colab": {},
    "colab_type": "code",
    "id": "eOkjMdjfb9e0"
   },
   "outputs": [],
   "source": [
    "# Set seed to get same results\n",
    "np.random.seed(123)\n",
    "# Define model as Sequential class\n",
    "model_cnn = Sequential()"
   ]
  },
  {
   "cell_type": "code",
   "execution_count": 0,
   "metadata": {
    "colab": {},
    "colab_type": "code",
    "id": "vYsUSuaphIwn"
   },
   "outputs": [],
   "source": [
    "# Block 1\n",
    "model_cnn.add(Conv1D(128, (2), strides=(2), padding='same', input_shape = (1,193)))\n",
    "model_cnn.add(LeakyReLU(alpha=.001)) \n",
    "model_cnn.add(MaxPooling1D((2), strides=(2), padding='same'))\n",
    "\n",
    "# Block 2\n",
    "model_cnn.add(Conv1D(256, (2), strides=(2), padding='same'))\n",
    "model_cnn.add(LeakyReLU(alpha=.001)) \n",
    "model_cnn.add(MaxPooling1D((2), strides=(2), padding='same'))\n",
    "model_cnn.add(Dropout(rate = 0.1))\n",
    "\n",
    "# Block 3\n",
    "model_cnn.add(Conv1D(512, (2), strides=(2), padding='same'))\n",
    "model_cnn.add(LeakyReLU(alpha=.001)) \n",
    "model_cnn.add(MaxPooling1D((2), strides=(2), padding='same'))\n",
    "\n",
    "# Block 4\n",
    "model_cnn.add(Conv1D(512, (2), strides=(2), padding='same'))\n",
    "model_cnn.add(LeakyReLU(alpha=.001)) \n",
    "model_cnn.add(MaxPooling1D((2), strides=(2), padding='same'))\n",
    "model_cnn.add(Dropout(rate = 0.1))\n",
    "\n",
    "# Block 5\n",
    "model_cnn.add(Conv1D(512, (2), strides=(2), padding='same'))\n",
    "model_cnn.add(LeakyReLU(alpha=.001)) \n",
    "model_cnn.add(MaxPooling1D((2), strides=(2), padding='same'))\n",
    "\n",
    "# Output block\n",
    "model_cnn.add(layers.Flatten())\n",
    "model_cnn.add(Dense(537, activation = 'softmax'))\n"
   ]
  },
  {
   "cell_type": "code",
   "execution_count": 0,
   "metadata": {
    "colab": {},
    "colab_type": "code",
    "id": "l40voR15cHge"
   },
   "outputs": [],
   "source": [
    "opt = Adam(lr = 1e-3, decay = 1e-5)\n",
    "model_cnn.compile(loss = 'categorical_crossentropy', \n",
    "              optimizer = opt,\n",
    "             metrics = ['accuracy'])"
   ]
  },
  {
   "cell_type": "code",
   "execution_count": 0,
   "metadata": {
    "colab": {},
    "colab_type": "code",
    "id": "sTkzYXZycHbO"
   },
   "outputs": [],
   "source": [
    "earlystop = EarlyStopping(monitor='val_loss',\n",
    "                              min_delta=0.001,\n",
    "                              patience=5,\n",
    "                              verbose=0, mode='auto')"
   ]
  },
  {
   "cell_type": "code",
   "execution_count": 0,
   "metadata": {
    "colab": {},
    "colab_type": "code",
    "id": "9Ip-gjidcHUG"
   },
   "outputs": [],
   "source": [
    "history = model_cnn.fit(x_train_, \n",
    "                    y_train_, \n",
    "                    epochs = 100, \n",
    "                    batch_size = 25,\n",
    "                    validation_data= (x_test_,y_test_), callbacks= [earlystop])\n"
   ]
  },
  {
   "cell_type": "markdown",
   "metadata": {
    "colab_type": "text",
    "id": "gbTX5IoNSEFQ"
   },
   "source": [
    "### Errors & Accuracy Plot"
   ]
  },
  {
   "cell_type": "code",
   "execution_count": 0,
   "metadata": {
    "colab": {
     "base_uri": "https://localhost:8080/",
     "height": 423
    },
    "colab_type": "code",
    "executionInfo": {
     "elapsed": 712863,
     "status": "ok",
     "timestamp": 1549494684142,
     "user": {
      "displayName": "Patrina Bailey",
      "photoUrl": "https://lh6.googleusercontent.com/-_-IxxZOx6Gk/AAAAAAAAAAI/AAAAAAAAJ6M/E0SG_dIR-sM/s64/photo.jpg",
      "userId": "15476889788748924708"
     },
     "user_tz": 300
    },
    "id": "PYBvaqOXSGSx",
    "outputId": "aec6f05c-08ce-4bed-9ff2-057a04b317d9"
   },
   "outputs": [
    {
     "data": {
      "image/png": "[encoded data removed]",
      "text/plain": [
       "<Figure size 1800x432 with 2 Axes>"
      ]
     },
     "metadata": {
      "tags": []
     },
     "output_type": "display_data"
    }
   ],
   "source": [
    "# Look at the history of the model\n",
    "hist_dense = model_cnn.history.history # contains information from fitting model\n",
    "hist_dense.keys() # returns: dict_keys(['val_loss', 'val_acc', 'loss', 'acc'])\n",
    "\n",
    "# Call each key to get the values to plot\n",
    "loss_cnn = hist_dense['loss'] \n",
    "val_loss_cnn = hist_dense['val_loss']\n",
    "acc_cnn = hist_dense['acc']\n",
    "val_acc_cnn = hist_dense['val_acc']\n",
    "\n",
    "epochs = range(1, len(loss_cnn) + 1)\n",
    "\n",
    "# Plot Losses of training and validation sets v. epochs\n",
    "plt.figure(figsize=(25,6))\n",
    "plt.subplot(131)\n",
    "plt.plot(epochs, loss_cnn, 'k', label = 'Training loss')\n",
    "plt.plot(epochs, val_loss_cnn, 'r', label = 'Validation loss')\n",
    "\n",
    "# Add the good stuff                      \n",
    "plt.title('Training and validation loss over epochs')\n",
    "plt.xlabel('epochs')\n",
    "plt.ylabel('Loss')\n",
    "plt.legend()\n",
    "\n",
    "# Plot accuracy scores over epochs for training and validation sets                      \n",
    "plt.subplot(132)\n",
    "plt.plot(epochs, acc_cnn, 'k', label='Training acc')\n",
    "plt.plot(epochs, val_acc_cnn, 'r', label= 'Validation acc')\n",
    "\n",
    "# Add the good stuff                      \n",
    "plt.title('Training and validation accuracy over epochs [Leaky ReLU CNN]')\n",
    "plt.xlabel('epochs')\n",
    "plt.ylabel('accuracy')\n",
    "plt.legend()\n",
    "\n",
    "plt.show()"
   ]
  },
  {
   "cell_type": "markdown",
   "metadata": {
    "colab_type": "text",
    "id": "Qtgm69fVj4s6"
   },
   "source": [
    "### Basic Metrics"
   ]
  },
  {
   "cell_type": "code",
   "execution_count": 0,
   "metadata": {
    "colab": {},
    "colab_type": "code",
    "id": "4J3DbrkHizH_"
   },
   "outputs": [],
   "source": [
    "# Use model to predict on testing set\n",
    "y_pred = model_cnn.predict(x_test_)"
   ]
  },
  {
   "cell_type": "code",
   "execution_count": 0,
   "metadata": {
    "colab": {},
    "colab_type": "code",
    "id": "vdfBar3oi2rJ"
   },
   "outputs": [],
   "source": [
    "# Convert y_pred from continuous variables to discreet binary (0,1)\n",
    "yy = []\n",
    "for elem in y_pred: # each element is an array\n",
    "  row = []\n",
    "  for e in elem: # each number in the array\n",
    "    if e == elem.max(): # since softmax outputs probability...\n",
    "      row.append(1) # assign highest prob as 1\n",
    "    else:\n",
    "      row.append(0) # assign all other probs as 0\n",
    "  yy.append(row)\n",
    "y_pred_ = np.array(yy)      "
   ]
  },
  {
   "cell_type": "code",
   "execution_count": 0,
   "metadata": {
    "colab": {
     "base_uri": "https://localhost:8080/",
     "height": 34
    },
    "colab_type": "code",
    "executionInfo": {
     "elapsed": 1075,
     "status": "ok",
     "timestamp": 1549501433152,
     "user": {
      "displayName": "Patrina Bailey",
      "photoUrl": "https://lh6.googleusercontent.com/-_-IxxZOx6Gk/AAAAAAAAAAI/AAAAAAAAJ6M/E0SG_dIR-sM/s64/photo.jpg",
      "userId": "15476889788748924708"
     },
     "user_tz": 300
    },
    "id": "NtDXR6v1i55q",
    "outputId": "a1417dc3-1641-476a-9b0e-41adafc8176f"
   },
   "outputs": [
    {
     "data": {
      "text/plain": [
       "0.6399441773918437"
      ]
     },
     "execution_count": 61,
     "metadata": {
      "tags": []
     },
     "output_type": "execute_result"
    }
   ],
   "source": [
    "f1_score(y_test_, y_pred_, average= 'weighted') # 0.6385767271678208\n",
    "precision_score(y_test_, y_pred_, average= 'weighted') # 0.6672402298965948\n",
    "accuracy_score(y_test_, y_pred_) # 0.6399441773918437\n",
    "recall_score(y_test_, y_pred_, average= 'weighted') # 0.6399441773918437"
   ]
  },
  {
   "cell_type": "markdown",
   "metadata": {
    "colab_type": "text",
    "id": "4Fcm5uLeTCHj"
   },
   "source": [
    "### AUC/ROC Curve"
   ]
  },
  {
   "cell_type": "code",
   "execution_count": 0,
   "metadata": {
    "colab": {},
    "colab_type": "code",
    "id": "vcPSNhFMWylO"
   },
   "outputs": [],
   "source": [
    "# Iterate through y_test_ and y_pred_ to get predictions for each of the 537 IDs\n",
    "fpr = dict()\n",
    "tpr = dict()\n",
    "roc_auc = dict()\n",
    "for i in range(y_test_.shape[1]):\n",
    "  # use y_pred not y_pred_, because the roc_curve function needs probability for threshold metric\n",
    "  fpr[i], tpr[i], thresholds = roc_curve(y_test_[:,i], y_pred[:,i]) # fpr = false positive rate, tpr = true positive rate\n",
    "  roc_auc[i] = auc(fpr[i], tpr[i])\n"
   ]
  },
  {
   "cell_type": "code",
   "execution_count": 0,
   "metadata": {
    "colab": {
     "base_uri": "https://localhost:8080/",
     "height": 512
    },
    "colab_type": "code",
    "executionInfo": {
     "elapsed": 715736,
     "status": "ok",
     "timestamp": 1549494695488,
     "user": {
      "displayName": "Patrina Bailey",
      "photoUrl": "https://lh6.googleusercontent.com/-_-IxxZOx6Gk/AAAAAAAAAAI/AAAAAAAAJ6M/E0SG_dIR-sM/s64/photo.jpg",
      "userId": "15476889788748924708"
     },
     "user_tz": 300
    },
    "id": "TAWH1QuIWzoC",
    "outputId": "1f3d4623-058c-4baa-eff6-7226496fcec4"
   },
   "outputs": [
    {
     "data": {
      "image/png": "[encoded data removed]",
      "text/plain": [
       "<Figure size 720x576 with 1 Axes>"
      ]
     },
     "metadata": {
      "tags": []
     },
     "output_type": "display_data"
    }
   ],
   "source": [
    "%matplotlib inline\n",
    "# Plot some of 537 celebs ROC curve \n",
    "#Seaborns Beautiful Styling\n",
    "sns.set_style(\"darkgrid\", {\"axes.facecolor\": \".9\"})\n",
    "\n",
    "plt.figure(figsize=(10,8))\n",
    "lw = 2 # linewidth\n",
    "for i in range(50):\n",
    "  plt.plot(fpr[i], tpr[i], lw = lw)\n",
    "  plt.xlim([0.0, 1.0])\n",
    "  plt.ylim([0.0, 1.05])\n",
    "  plt.yticks([ii/20.0 for ii in range(21)])\n",
    "  plt.xticks([ii/20.0 for ii in range(21)])\n",
    "plt.plot([0, 1], [0, 1], color='navy', lw=lw, linestyle='--')\n",
    "\n",
    "plt.xlabel('False Positive Rate')\n",
    "plt.ylabel('True Positive Rate')\n",
    "plt.title('ROC Curve for Leaky ReLU CNN Model')\n",
    "plt.show()"
   ]
  },
  {
   "cell_type": "markdown",
   "metadata": {
    "colab_type": "text",
    "id": "N0E8Jp4_jKgY"
   },
   "source": [
    "## CNN  w/ PReLU"
   ]
  },
  {
   "cell_type": "code",
   "execution_count": 0,
   "metadata": {
    "colab": {},
    "colab_type": "code",
    "id": "XxI9onASjJgY"
   },
   "outputs": [],
   "source": [
    "# Set seed to get same results\n",
    "np.random.seed(121)\n",
    "# Define model as Sequential class\n",
    "model_cnnpl = Sequential()"
   ]
  },
  {
   "cell_type": "code",
   "execution_count": 0,
   "metadata": {
    "colab": {},
    "colab_type": "code",
    "id": "7wMW81jMjTDY"
   },
   "outputs": [],
   "source": [
    "# Block 1\n",
    "model_cnnpl.add(Conv1D(128, (2), strides=(2), padding='same', input_shape = (1,193)))\n",
    "model_cnnpl.add(PReLU())\n",
    "model_cnnpl.add(MaxPooling1D((2), strides=(2), padding='same'))\n",
    "\n",
    "# Block 2\n",
    "model_cnnpl.add(Conv1D(256, (2), strides=(2), padding='same'))\n",
    "model_cnnpl.add(PReLU())\n",
    "model_cnnpl.add(MaxPooling1D((2), strides=(2), padding='same'))\n",
    "model_cnnpl.add(Dropout(rate = 0.1))\n",
    "\n",
    "# Block 3\n",
    "model_cnnpl.add(Conv1D(512, (2), strides=(2), padding='same'))\n",
    "model_cnnpl.add(PReLU())\n",
    "model_cnnpl.add(MaxPooling1D((2), strides=(2), padding='same'))\n",
    "\n",
    "# Block 4\n",
    "model_cnnpl.add(Conv1D(512, (2), strides=(2), padding='same'))\n",
    "model_cnnpl.add(PReLU())\n",
    "model_cnnpl.add(MaxPooling1D((2), strides=(2), padding='same'))\n",
    "model_cnnpl.add(Dropout(rate = 0.1))\n",
    "\n",
    "# Block 5\n",
    "model_cnnpl.add(Conv1D(512, (2), strides=(2), padding='same'))\n",
    "model_cnnpl.add(PReLU())\n",
    "model_cnnpl.add(MaxPooling1D((2), strides=(2), padding='same'))\n",
    "\n",
    "# Block 6\n",
    "model_cnnpl.add(Conv1D(256, (2), strides=(2), padding='same'))\n",
    "model_cnnpl.add(PReLU())\n",
    "model_cnnpl.add(MaxPooling1D((2), strides=(2), padding='same'))\n",
    "\n",
    "# Block 7\n",
    "model_cnnpl.add(Conv1D(256, (2), strides=(2), padding='same'))\n",
    "model_cnnpl.add(PReLU())\n",
    "model_cnnpl.add(MaxPooling1D((2), strides=(2), padding='same'))\n",
    "\n",
    "# FC block\n",
    "model_cnnpl.add(layers.Flatten())\n",
    "model_cnnpl.add(Dense(537, activation = 'softmax'))\n"
   ]
  },
  {
   "cell_type": "code",
   "execution_count": 0,
   "metadata": {
    "colab": {},
    "colab_type": "code",
    "id": "FGthn29XjS92"
   },
   "outputs": [],
   "source": [
    "opt = Adamax(lr = 1e-3, decay = 1e-5)\n",
    "model_cnnpl.compile(loss = 'categorical_crossentropy', \n",
    "              optimizer = opt,\n",
    "             metrics = ['accuracy'])"
   ]
  },
  {
   "cell_type": "code",
   "execution_count": 0,
   "metadata": {
    "colab": {},
    "colab_type": "code",
    "id": "MQ39bcwqjS1P"
   },
   "outputs": [],
   "source": [
    "earlystop = EarlyStopping(monitor='val_loss',\n",
    "                              min_delta=0.001,\n",
    "                              patience=3,\n",
    "                              verbose=0, mode='auto')"
   ]
  },
  {
   "cell_type": "code",
   "execution_count": 0,
   "metadata": {
    "colab": {},
    "colab_type": "code",
    "id": "77kPc9wUjSs8"
   },
   "outputs": [],
   "source": [
    "history = model_cnnpl.fit(x_train_, \n",
    "                    y_train_, \n",
    "                    epochs = 100, \n",
    "                    batch_size = 25,\n",
    "                    validation_data= (x_test_,y_test_), callbacks = [earlystop])\n"
   ]
  },
  {
   "cell_type": "markdown",
   "metadata": {
    "colab_type": "text",
    "id": "jQPsVMTNXZcq"
   },
   "source": [
    "### Errors & Accuracy Plot"
   ]
  },
  {
   "cell_type": "code",
   "execution_count": 0,
   "metadata": {
    "colab": {
     "base_uri": "https://localhost:8080/",
     "height": 423
    },
    "colab_type": "code",
    "executionInfo": {
     "elapsed": 608443,
     "status": "ok",
     "timestamp": 1549502104314,
     "user": {
      "displayName": "Patrina Bailey",
      "photoUrl": "https://lh6.googleusercontent.com/-_-IxxZOx6Gk/AAAAAAAAAAI/AAAAAAAAJ6M/E0SG_dIR-sM/s64/photo.jpg",
      "userId": "15476889788748924708"
     },
     "user_tz": 300
    },
    "id": "H2awcUa5Xd_f",
    "outputId": "fbf5f725-2a4d-4b2d-c3cf-37c4e9ae1ea0"
   },
   "outputs": [
    {
     "data": {
      "image/png": "[encoded data removed]",
      "text/plain": [
       "<Figure size 1800x432 with 2 Axes>"
      ]
     },
     "metadata": {
      "tags": []
     },
     "output_type": "display_data"
    }
   ],
   "source": [
    "# Look at the history of the model\n",
    "hist_dense = model_cnnpl.history.history # contains information from fitting model\n",
    "hist_dense.keys() # returns: dict_keys(['val_loss', 'val_acc', 'loss', 'acc'])\n",
    "\n",
    "# Call each key to get the values to plot\n",
    "loss_cnnpl = hist_dense['loss'] \n",
    "val_loss_cnnpl = hist_dense['val_loss']\n",
    "acc_cnnpl = hist_dense['acc']\n",
    "val_acc_cnnpl = hist_dense['val_acc']\n",
    "\n",
    "epochs = range(1, len(loss_cnnpl) + 1)\n",
    "\n",
    "# Plot Losses of training and validation sets v. epochs\n",
    "plt.figure(figsize=(25,6))\n",
    "plt.subplot(131)\n",
    "plt.plot(epochs, loss_cnnpl, 'k', label = 'Training loss')\n",
    "plt.plot(epochs, val_loss_cnnpl, 'r', label = 'Validation loss')\n",
    "\n",
    "# Add the good stuff                      \n",
    "plt.title('Training and validation loss over epochs')\n",
    "plt.xlabel('epochs')\n",
    "plt.ylabel('Loss')\n",
    "plt.legend()\n",
    "\n",
    "# Plot accuracy scores over epochs for training and validation sets                      \n",
    "plt.subplot(132)\n",
    "plt.plot(epochs, acc_cnnpl, 'k', label='Training acc')\n",
    "plt.plot(epochs, val_acc_cnnpl, 'r', label= 'Validation acc')\n",
    "\n",
    "# Add the good stuff                      \n",
    "plt.title('Training and validation accuracy over epochs [PReLU CNN]')\n",
    "plt.xlabel('epochs')\n",
    "plt.ylabel('accuracy')\n",
    "plt.legend()\n",
    "\n",
    "plt.show()"
   ]
  },
  {
   "cell_type": "markdown",
   "metadata": {
    "colab_type": "text",
    "id": "mLNCBXhWkPAg"
   },
   "source": [
    "### Basic Metrics"
   ]
  },
  {
   "cell_type": "code",
   "execution_count": 0,
   "metadata": {
    "colab": {},
    "colab_type": "code",
    "id": "1xIxQYohlU7F"
   },
   "outputs": [],
   "source": [
    "# Use model to predict on testing set\n",
    "y_pred = model_cnnpl.predict(x_test_)"
   ]
  },
  {
   "cell_type": "code",
   "execution_count": 0,
   "metadata": {
    "colab": {},
    "colab_type": "code",
    "id": "icarjTH8lXxJ"
   },
   "outputs": [],
   "source": [
    "# Convert y_pred from continuous variables to discreet binary (0,1)\n",
    "yy = []\n",
    "for elem in y_pred: # each element is an array\n",
    "  row = []\n",
    "  for e in elem: # each number in the array\n",
    "    if e == elem.max(): # since softmax outputs probability...\n",
    "      row.append(1) # assign highest prob as 1\n",
    "    else:\n",
    "      row.append(0) # assign all other probs as 0\n",
    "  yy.append(row)\n",
    "y_pred_ = np.array(yy)      "
   ]
  },
  {
   "cell_type": "code",
   "execution_count": 0,
   "metadata": {
    "colab": {
     "base_uri": "https://localhost:8080/",
     "height": 34
    },
    "colab_type": "code",
    "executionInfo": {
     "elapsed": 1551,
     "status": "ok",
     "timestamp": 1549503561005,
     "user": {
      "displayName": "Patrina Bailey",
      "photoUrl": "https://lh6.googleusercontent.com/-_-IxxZOx6Gk/AAAAAAAAAAI/AAAAAAAAJ6M/E0SG_dIR-sM/s64/photo.jpg",
      "userId": "15476889788748924708"
     },
     "user_tz": 300
    },
    "id": "7YOB1I7_lbpr",
    "outputId": "f67fc687-3c9c-41ce-cb56-7077a78d61ac"
   },
   "outputs": [
    {
     "data": {
      "text/plain": [
       "0.678089626298651"
      ]
     },
     "execution_count": 75,
     "metadata": {
      "tags": []
     },
     "output_type": "execute_result"
    }
   ],
   "source": [
    "f1_score(y_test_, y_pred_, average= 'weighted') # 0.6753212975691832\n",
    "precision_score(y_test_, y_pred_, average= 'weighted') # 0.708424003115032\n",
    "accuracy_score(y_test_, y_pred_) # 0.678089626298651\n",
    "recall_score(y_test_, y_pred_, average= 'weighted') # 0.678089626298651"
   ]
  },
  {
   "cell_type": "markdown",
   "metadata": {
    "colab_type": "text",
    "id": "3S4crnn4YDQ8"
   },
   "source": [
    "### AUC/ROC Curve"
   ]
  },
  {
   "cell_type": "code",
   "execution_count": 0,
   "metadata": {
    "colab": {},
    "colab_type": "code",
    "id": "jchYzyq6imoy"
   },
   "outputs": [],
   "source": [
    "# Iterate through y_test_ and y_pred_ to get predictions for each of the 537 IDs\n",
    "fpr = dict()\n",
    "tpr = dict()\n",
    "roc_auc = dict()\n",
    "for i in range(y_test_.shape[1]):\n",
    "  # use y_pred not y_pred_, because the roc_curve function needs probability for threshold metric\n",
    "  fpr[i], tpr[i], thresholds = roc_curve(y_test_[:,i], y_pred[:,i]) # fpr = false positive rate, tpr = true positive rate\n",
    "  roc_auc[i] = auc(fpr[i], tpr[i])\n"
   ]
  },
  {
   "cell_type": "code",
   "execution_count": 0,
   "metadata": {
    "colab": {
     "base_uri": "https://localhost:8080/",
     "height": 512
    },
    "colab_type": "code",
    "executionInfo": {
     "elapsed": 1185,
     "status": "ok",
     "timestamp": 1549503639052,
     "user": {
      "displayName": "Patrina Bailey",
      "photoUrl": "https://lh6.googleusercontent.com/-_-IxxZOx6Gk/AAAAAAAAAAI/AAAAAAAAJ6M/E0SG_dIR-sM/s64/photo.jpg",
      "userId": "15476889788748924708"
     },
     "user_tz": 300
    },
    "id": "EKpVfWFkirlE",
    "outputId": "c2025c6b-2aee-4a2d-ab74-17c9db797703"
   },
   "outputs": [
    {
     "data": {
      "image/png": "[encoded data removed]",
      "text/plain": [
       "<Figure size 720x576 with 1 Axes>"
      ]
     },
     "metadata": {
      "tags": []
     },
     "output_type": "display_data"
    }
   ],
   "source": [
    "%matplotlib inline\n",
    "# Plot some of 537 celebs ROC curve \n",
    "#Seaborns Beautiful Styling\n",
    "sns.set_style(\"darkgrid\", {\"axes.facecolor\": \".9\"})\n",
    "\n",
    "plt.figure(figsize=(10,8))\n",
    "lw = 2 # linewidth\n",
    "for i in range(50):\n",
    "  plt.plot(fpr[i], tpr[i], lw = lw)\n",
    "  plt.xlim([0.0, 1.0])\n",
    "  plt.ylim([0.0, 1.05])\n",
    "  plt.yticks([ii/20.0 for ii in range(21)])\n",
    "  plt.xticks([ii/20.0 for ii in range(21)])\n",
    "plt.plot([0, 1], [0, 1], color='navy', lw=lw, linestyle='--')\n",
    "\n",
    "plt.xlabel('False Positive Rate')\n",
    "plt.ylabel('True Positive Rate')\n",
    "plt.title('ROC Curve for PReLU CNN Model')\n",
    "plt.show()"
   ]
  },
  {
   "cell_type": "markdown",
   "metadata": {
    "colab_type": "text",
    "id": "oB2sMPhX9_8a"
   },
   "source": [
    "## CNN w/ SeLU (Best Model)"
   ]
  },
  {
   "cell_type": "code",
   "execution_count": 0,
   "metadata": {
    "colab": {},
    "colab_type": "code",
    "id": "b1dpx56c98QP"
   },
   "outputs": [],
   "source": [
    "# Set seed to get same results\n",
    "np.random.seed(121)\n",
    "# Define model as Sequential class\n",
    "model_cnn_selu = Sequential()"
   ]
  },
  {
   "cell_type": "code",
   "execution_count": 0,
   "metadata": {
    "colab": {},
    "colab_type": "code",
    "id": "W9HQQ0Dt953h"
   },
   "outputs": [],
   "source": [
    "# Block 1\n",
    "\n",
    "# first layer: convolutional layer with filter size of 2 and strid of 2, due to \n",
    "# the features having shape divisable by 2. selu shown to work better than relu\n",
    "# and leaky relu without CNN.\n",
    "# Max Pool to get only the important features\n",
    "# add dropout to combat overfitting. rate = 10% of neurons to drop\n",
    "model_cnn_selu.add(Conv1D(128, (2), strides=(2), padding='same', \n",
    "                     input_shape = (1,193), activation= 'selu'))\n",
    "model_cnn_selu.add(MaxPooling1D((2), strides=(2), padding='same'))\n",
    "model_cnn_selu.add(Dropout(rate = 0.1))\n",
    "\n",
    "# Block 2\n",
    "model_cnn_selu.add(Conv1D(256, (2), strides=(2), padding='same', activation= 'selu'))\n",
    "model_cnn_selu.add(MaxPooling1D((2), strides=(2), padding='same'))\n",
    "model_cnn_selu.add(Dropout(rate = 0.1))\n",
    "\n",
    "# Block 3\n",
    "model_cnn_selu.add(Conv1D(256, (2), strides=(2), padding='same', activation= 'selu'))\n",
    "model_cnn_selu.add(Conv1D(512, (2), strides=(2), padding='same',activation= 'selu'))\n",
    "model_cnn_selu.add(MaxPooling1D((2), strides=(2), padding='same'))\n",
    "\n",
    "# Block 4\n",
    "model_cnn_selu.add(Conv1D(512, (2), strides=(2), padding='same', activation= 'selu'))\n",
    "model_cnn_selu.add(MaxPooling1D((2), strides=(2), padding='same'))\n",
    "model_cnn_selu.add(Dropout(rate = 0.1))\n",
    "\n",
    "# Block 5\n",
    "model_cnn_selu.add(Conv1D(512, (2), strides=(2), padding='same',activation= 'selu'))\n",
    "model_cnn_selu.add(MaxPooling1D((2), strides=(2), padding='same'))\n",
    "\n",
    "# Block 7\n",
    "model_cnn_selu.add(Conv1D(256, (2), strides=(2), padding='same', activation= 'selu'))\n",
    "model_cnn_selu.add(MaxPooling1D((2), strides=(2), padding='same'))\n",
    "\n",
    "# Block 8 \n",
    "model_cnn_selu.add(Conv1D(256, (2), strides=(2), padding='same', activation= 'selu'))\n",
    "model_cnn_selu.add(MaxPooling1D((2), strides=(2), padding='same'))\n",
    "model_cnn_selu.add(Dropout(rate = 0.1))\n",
    "\n",
    "# Block 9\n",
    "model_cnn_selu.add(Conv1D(256, (2), strides=(2), padding='same', activation= 'selu'))\n",
    "model_cnn_selu.add(MaxPooling1D((2), strides=(2), padding='same'))\n",
    "\n",
    "# Output Block\n",
    "model_cnn_selu.add(layers.Flatten())\n",
    "model_cnn_selu.add(Dense(537, activation = 'softmax'))\n"
   ]
  },
  {
   "cell_type": "code",
   "execution_count": 0,
   "metadata": {
    "colab": {},
    "colab_type": "code",
    "id": "1Qr_MVAu-n9F"
   },
   "outputs": [],
   "source": [
    "# Compile the model with a specified Adamax optimizer\n",
    "opt = Adamax(lr = 1e-3, decay = 1e-5) # Adamax has shown to yield faster learning than Adam and SGD\n",
    "model_cnn_selu.compile(loss = 'categorical_crossentropy', \n",
    "              optimizer = opt,\n",
    "             metrics = ['accuracy'])"
   ]
  },
  {
   "cell_type": "code",
   "execution_count": 0,
   "metadata": {
    "colab": {},
    "colab_type": "code",
    "id": "-AswpKqz-oi_"
   },
   "outputs": [],
   "source": [
    "# Add automated stopping after val_loss difference from epoch t and t-1 is \n",
    "# more than 0.001; give it three more epochs to try and get back on track (patience)\n",
    "earlystop = EarlyStopping(monitor='val_loss',\n",
    "                              min_delta=0.001,\n",
    "                              patience=3,\n",
    "                              verbose=0, mode='auto')"
   ]
  },
  {
   "cell_type": "code",
   "execution_count": 0,
   "metadata": {
    "colab": {
     "base_uri": "https://localhost:8080/",
     "height": 224
    },
    "colab_type": "code",
    "executionInfo": {
     "elapsed": 181596,
     "status": "ok",
     "timestamp": 1549504472573,
     "user": {
      "displayName": "Patrina Bailey",
      "photoUrl": "https://lh6.googleusercontent.com/-_-IxxZOx6Gk/AAAAAAAAAAI/AAAAAAAAJ6M/E0SG_dIR-sM/s64/photo.jpg",
      "userId": "15476889788748924708"
     },
     "user_tz": 300
    },
    "id": "eSCbQi4j-tOD",
    "outputId": "a6da53b4-6289-457f-bfb0-8997379934f3"
   },
   "outputs": [
    {
     "name": "stdout",
     "output_type": "stream",
     "text": [
      "46427/46427 [==============================] - 33s 708us/step - loss: 0.7676 - acc: 0.7881 - val_loss: 1.4352 - val_acc: 0.7118\n",
      "Epoch 20/100\n",
      "46427/46427 [==============================] - 33s 711us/step - loss: 0.7049 - acc: 0.8018 - val_loss: 1.4556 - val_acc: 0.7138\n",
      "Epoch 21/100\n",
      "46427/46427 [==============================] - 33s 708us/step - loss: 0.6802 - acc: 0.8077 - val_loss: 1.4141 - val_acc: 0.7190\n",
      "Epoch 22/100\n",
      "46427/46427 [==============================] - 33s 711us/step - loss: 0.6433 - acc: 0.8178 - val_loss: 1.4173 - val_acc: 0.7233\n",
      "Epoch 23/100\n",
      "46427/46427 [==============================] - 33s 710us/step - loss: 0.6072 - acc: 0.8285 - val_loss: 1.4263 - val_acc: 0.7281\n",
      "Epoch 24/100\n",
      "46427/46427 [==============================] - 33s 716us/step - loss: 0.5658 - acc: 0.8350 - val_loss: 1.4368 - val_acc: 0.7281\n"
     ]
    }
   ],
   "source": [
    "# fit the data and save it with history variable. \n",
    "history = model_cnn_selu.fit(x_train_, \n",
    "                    y_train_, \n",
    "                    epochs = 100, \n",
    "                    batch_size = 25,\n",
    "                    validation_data= (x_val_,y_val_), callbacks = [earlystop])\n"
   ]
  },
  {
   "cell_type": "code",
   "execution_count": 0,
   "metadata": {
    "colab": {
     "base_uri": "https://localhost:8080/",
     "height": 34
    },
    "colab_type": "code",
    "executionInfo": {
     "elapsed": 966,
     "status": "ok",
     "timestamp": 1549465237811,
     "user": {
      "displayName": "Patrina Bailey",
      "photoUrl": "https://lh6.googleusercontent.com/-_-IxxZOx6Gk/AAAAAAAAAAI/AAAAAAAAJ6M/E0SG_dIR-sM/s64/photo.jpg",
      "userId": "15476889788748924708"
     },
     "user_tz": 300
    },
    "id": "LMi8cQmzPfb8",
    "outputId": "c7cb5275-e11d-4795-ad2a-24d514d9f906"
   },
   "outputs": [
    {
     "name": "stdout",
     "output_type": "stream",
     "text": [
      "Saved model to drive\n"
     ]
    }
   ],
   "source": [
    "# Save best model so don't have to rerun in scenario of crash\n",
    "model_json = model_cnn_selu.to_json()\n",
    "with open(\"model.json\", \"w\") as json_file:\n",
    "    json_file.write(model_json)\n",
    "    \n",
    "model_cnn.save_weights(\"model_weights.h5\")\n",
    "print(\"Saved model to drive\")"
   ]
  },
  {
   "cell_type": "code",
   "execution_count": 0,
   "metadata": {
    "colab": {},
    "colab_type": "code",
    "id": "CbhXaYbWjXK7"
   },
   "outputs": [],
   "source": [
    "# # Read in model\n",
    "# json_file = open('model.json', 'r')\n",
    "# loaded_model_json = json_file.read()\n",
    "\n",
    "# json_file.close()\n",
    "# loaded_model = model_from_json(loaded_model_json)\n",
    "\n",
    "# # load weights into new model\n",
    "# loaded_model.load_weights(\"model_weights.h5\")\n",
    "# print(\"Loaded model into notebook\")"
   ]
  },
  {
   "cell_type": "code",
   "execution_count": 0,
   "metadata": {
    "colab": {},
    "colab_type": "code",
    "id": "lkIFV80ljdnk"
   },
   "outputs": [],
   "source": [
    "# # Compile the model with a specified Adamax optimizer\n",
    "# opt = Adamax(lr = 1e-3, decay = 1e-5) # Adamax has shown to yield faster learning than Adam and SGD\n",
    "# loaded_model.compile(loss = 'categorical_crossentropy', \n",
    "#               optimizer = opt,\n",
    "#              metrics = ['accuracy'])"
   ]
  },
  {
   "cell_type": "markdown",
   "metadata": {
    "colab_type": "text",
    "id": "CjQ14EJwjIPA"
   },
   "source": [
    "### Errors & Accuracy Plot"
   ]
  },
  {
   "cell_type": "code",
   "execution_count": 0,
   "metadata": {
    "colab": {
     "base_uri": "https://localhost:8080/",
     "height": 423
    },
    "colab_type": "code",
    "executionInfo": {
     "elapsed": 1218,
     "status": "ok",
     "timestamp": 1549504548784,
     "user": {
      "displayName": "Patrina Bailey",
      "photoUrl": "https://lh6.googleusercontent.com/-_-IxxZOx6Gk/AAAAAAAAAAI/AAAAAAAAJ6M/E0SG_dIR-sM/s64/photo.jpg",
      "userId": "15476889788748924708"
     },
     "user_tz": 300
    },
    "id": "FEGpDTtGjQnM",
    "outputId": "5cf34b98-05b7-4e61-dea1-205fc72abde3"
   },
   "outputs": [
    {
     "data": {
      "image/png": "[encoded data removed]",
      "text/plain": [
       "<Figure size 1800x432 with 2 Axes>"
      ]
     },
     "metadata": {
      "tags": []
     },
     "output_type": "display_data"
    }
   ],
   "source": [
    "# Look at the history of the model\n",
    "hist_dense = model_cnn_selu.history.history # contains information from fitting model\n",
    "hist_dense.keys() # returns: dict_keys(['val_loss', 'val_acc', 'loss', 'acc'])\n",
    "\n",
    "# Call each key to get the values to plot\n",
    "loss_cnn_selu = hist_dense['loss'] \n",
    "val_loss_cnn_selu = hist_dense['val_loss']\n",
    "acc_cnn_selu = hist_dense['acc']\n",
    "val_acc_cnn_selu = hist_dense['val_acc']\n",
    "\n",
    "epochs = range(1, len(loss_cnn_selu) + 1)\n",
    "\n",
    "# Plot Losses of training and validation sets v. epochs\n",
    "plt.figure(figsize=(25,6))\n",
    "plt.subplot(131)\n",
    "plt.plot(epochs, loss_cnn_selu, 'k', label = 'Training loss')\n",
    "plt.plot(epochs, val_loss_cnn_selu, 'r', label = 'Validation loss')\n",
    "\n",
    "# Add the good stuff                      \n",
    "plt.title('Training and validation loss over epochs')\n",
    "plt.xlabel('epochs')\n",
    "plt.ylabel('Loss')\n",
    "plt.legend()\n",
    "\n",
    "# Plot accuracy scores over epochs for training and validation sets                      \n",
    "plt.subplot(132)\n",
    "plt.plot(epochs, acc_cnn_selu, 'k', label='Training acc')\n",
    "plt.plot(epochs, val_acc_cnn_selu, 'r', label= 'Validation acc')\n",
    "\n",
    "# Add the good stuff                      \n",
    "plt.title('Training and validation accuracy over epochs [SeLU CNN]')\n",
    "plt.xlabel('epochs')\n",
    "plt.ylabel('accuracy')\n",
    "plt.legend()\n",
    "\n",
    "plt.show()"
   ]
  },
  {
   "cell_type": "markdown",
   "metadata": {
    "colab_type": "text",
    "id": "uhRiOEYXPi-8"
   },
   "source": [
    "### Basic Metrics"
   ]
  },
  {
   "cell_type": "code",
   "execution_count": 0,
   "metadata": {
    "colab": {},
    "colab_type": "code",
    "id": "SxSMW6z6AkHm"
   },
   "outputs": [],
   "source": [
    "# Use model to predict on testing set\n",
    "y_pred = model_cnn_selu.predict(x_test_)\n"
   ]
  },
  {
   "cell_type": "code",
   "execution_count": 0,
   "metadata": {
    "colab": {},
    "colab_type": "code",
    "id": "lhJ8EY3aAnJt"
   },
   "outputs": [],
   "source": [
    "# Convert y_pred from continuous variables to discreet binary (0,1)\n",
    "yy = []\n",
    "for elem in y_pred: # each element is an array\n",
    "  row = []\n",
    "  for e in elem: # each number in the array\n",
    "    if e == elem.max(): # since softmax outputs probability...\n",
    "      row.append(1) # assign highest prob as 1\n",
    "    else:\n",
    "      row.append(0) # assign all other probs as 0\n",
    "  yy.append(row)\n",
    "y_pred_ = np.array(yy)      "
   ]
  },
  {
   "cell_type": "code",
   "execution_count": 0,
   "metadata": {
    "colab": {
     "base_uri": "https://localhost:8080/",
     "height": 34
    },
    "colab_type": "code",
    "executionInfo": {
     "elapsed": 1088,
     "status": "ok",
     "timestamp": 1549504652950,
     "user": {
      "displayName": "Patrina Bailey",
      "photoUrl": "https://lh6.googleusercontent.com/-_-IxxZOx6Gk/AAAAAAAAAAI/AAAAAAAAJ6M/E0SG_dIR-sM/s64/photo.jpg",
      "userId": "15476889788748924708"
     },
     "user_tz": 300
    },
    "id": "da92kxivAsCd",
    "outputId": "2fba2c62-c550-443e-cc20-b1dd2f456002"
   },
   "outputs": [
    {
     "data": {
      "text/plain": [
       "0.732826794851915"
      ]
     },
     "execution_count": 91,
     "metadata": {
      "tags": []
     },
     "output_type": "execute_result"
    }
   ],
   "source": [
    "f1_score(y_test_, y_pred_, average= 'weighted') # 0.7299842196935593\n",
    "precision_score(y_test_, y_pred_, average= 'weighted') # 0.7503546303263359\n",
    "accuracy_score(y_test_, y_pred_) # 0.732826794851915\n",
    "recall_score(y_test_, y_pred_, average= 'weighted') # 0.732826794851915"
   ]
  },
  {
   "cell_type": "markdown",
   "metadata": {
    "colab_type": "text",
    "id": "a08P_-J5j6XK"
   },
   "source": [
    "### AUC/ROC Curve"
   ]
  },
  {
   "cell_type": "code",
   "execution_count": 0,
   "metadata": {
    "colab": {},
    "colab_type": "code",
    "id": "p2DGNnFVj8ft"
   },
   "outputs": [],
   "source": [
    "# Iterate through y_test_ and y_pred_ to get auc value for each of the 537 IDs\n",
    "fpr = dict()\n",
    "tpr = dict()\n",
    "roc_auc = dict()\n",
    "for i in range(y_test_.shape[1]):\n",
    "  # use y_pred not y_pred_, because the roc_curve function needs probability for threshold metric\n",
    "  fpr[i], tpr[i], thresholds = roc_curve(y_test_[:,i], y_pred[:,i]) # fpr = false positive rate, tpr = true positive rate\n",
    "  roc_auc[i] = auc(fpr[i], tpr[i])\n"
   ]
  },
  {
   "cell_type": "code",
   "execution_count": 0,
   "metadata": {
    "colab": {
     "base_uri": "https://localhost:8080/",
     "height": 512
    },
    "colab_type": "code",
    "executionInfo": {
     "elapsed": 1174,
     "status": "ok",
     "timestamp": 1549504680185,
     "user": {
      "displayName": "Patrina Bailey",
      "photoUrl": "https://lh6.googleusercontent.com/-_-IxxZOx6Gk/AAAAAAAAAAI/AAAAAAAAJ6M/E0SG_dIR-sM/s64/photo.jpg",
      "userId": "15476889788748924708"
     },
     "user_tz": 300
    },
    "id": "rOX_WD3oj_C3",
    "outputId": "17b4e81c-d3bd-4f23-d223-c8587f6f9090"
   },
   "outputs": [
    {
     "data": {
      "image/png": "[encoded data removed]",
      "text/plain": [
       "<Figure size 720x576 with 1 Axes>"
      ]
     },
     "metadata": {
      "tags": []
     },
     "output_type": "display_data"
    }
   ],
   "source": [
    "%matplotlib inline\n",
    "# Plot some of 537 celebs ROC curve \n",
    "#Seaborns Beautiful Styling\n",
    "sns.set_style(\"darkgrid\", {\"axes.facecolor\": \".9\"})\n",
    "\n",
    "plt.figure(figsize=(10,8))\n",
    "lw = 2 # linewidth\n",
    "for i in range(50):\n",
    "  plt.plot(fpr[i], tpr[i], lw = lw)\n",
    "  plt.xlim([0.0, 1.0])\n",
    "  plt.ylim([0.0, 1.05])\n",
    "  plt.yticks([ii/20.0 for ii in range(21)])\n",
    "  plt.xticks([ii/20.0 for ii in range(21)])\n",
    "plt.plot([0, 1], [0, 1], color='navy', lw=lw, linestyle='--')\n",
    "\n",
    "plt.xlabel('False Positive Rate')\n",
    "plt.ylabel('True Positive Rate')\n",
    "plt.title('ROC Curve for SeLU CNN Model')\n",
    "plt.show()"
   ]
  },
  {
   "cell_type": "code",
   "execution_count": 0,
   "metadata": {
    "colab": {},
    "colab_type": "code",
    "id": "J1QEPAR7avAU"
   },
   "outputs": [],
   "source": [
    "# # Confusion matrix for multiple labels:\n",
    "# def plot_confusion_matrix(cm, classes, normalize=False, title='Confusion matrix',cmap = plt.cm.Blues):\n",
    "    \n",
    "#     #Add Normalization Option\n",
    "#     '''prints pretty confusion metric with normalization option '''\n",
    "#     if normalize:\n",
    "#         cm = cm.astype('float') / cm.sum(axis=1)[:, np.newaxis]\n",
    "#         print(\"Normalized confusion matrix\")\n",
    "#     else:\n",
    "#         print('Confusion matrix, without normalization')\n",
    "    \n",
    "#     # Plot\n",
    "#     plt.imshow(cm, interpolation='nearest', cmap=cmap)\n",
    "#     plt.title(title)\n",
    "#     plt.colorbar()\n",
    "#     tick_marks = np.arange(len(classes))\n",
    "#     plt.xticks(tick_marks, classes, rotation=45)\n",
    "#     plt.yticks(tick_marks, classes)\n",
    "    \n",
    "#     fmt = '.2f' if normalize else 'd'\n",
    "#     thresh = cm.max() / 2.\n",
    "#     for i, j in itertools.product(range(cm.shape[0]), range(cm.shape[1])):\n",
    "#         plt.text(j, i, format(cm[i, j], fmt), horizontalalignment=\"center\", color=\"white\" if cm[i, j] > thresh else \"black\")\n",
    "    \n",
    "#     plt.tight_layout()\n",
    "#     plt.ylabel('True label')\n",
    "#     plt.xlabel('Predicted label')"
   ]
  },
  {
   "cell_type": "code",
   "execution_count": 0,
   "metadata": {
    "colab": {
     "base_uri": "https://localhost:8080/",
     "height": 34
    },
    "colab_type": "code",
    "id": "mrQVX0bZcHfL",
    "outputId": "75a4fe04-0f27-4567-a920-b31efe004732"
   },
   "outputs": [
    {
     "name": "stdout",
     "output_type": "stream",
     "text": [
      "Normalized confusion matrix\n"
     ]
    }
   ],
   "source": [
    "# # Get Confusion matrix\n",
    "# cm_ = confusion_matrix(y_test_.argmax(axis = 1), y_pred_.argmax(axis = 1))\n",
    "# classes_ = df.id\n",
    "# plot_confusion_matrix(cm_, classes = classes_, normalize=True, \\\n",
    "#                       title='Non-normalized confusion matrix')"
   ]
  },
  {
   "cell_type": "markdown",
   "metadata": {
    "colab_type": "text",
    "id": "oRwEJ3jkZWa5"
   },
   "source": [
    "# Sum Up"
   ]
  },
  {
   "cell_type": "markdown",
   "metadata": {
    "colab_type": "text",
    "id": "hRYaE44Vs5sF"
   },
   "source": [
    "## EDA"
   ]
  },
  {
   "cell_type": "code",
   "execution_count": 0,
   "metadata": {
    "colab": {},
    "colab_type": "code",
    "id": "b3YB3zVflDdo"
   },
   "outputs": [],
   "source": [
    "# Convert meta_df id column into integers like df columns\n",
    "meta_df.id = meta_df.id.apply(lambda x: int(x[2:]))"
   ]
  },
  {
   "cell_type": "code",
   "execution_count": 27,
   "metadata": {
    "colab": {
     "base_uri": "https://localhost:8080/",
     "height": 204
    },
    "colab_type": "code",
    "executionInfo": {
     "elapsed": 872,
     "status": "ok",
     "timestamp": 1549505650530,
     "user": {
      "displayName": "Patrina Bailey",
      "photoUrl": "https://lh6.googleusercontent.com/-_-IxxZOx6Gk/AAAAAAAAAAI/AAAAAAAAJ6M/E0SG_dIR-sM/s64/photo.jpg",
      "userId": "15476889788748924708"
     },
     "user_tz": 300
    },
    "id": "vGuulpp1mC_f",
    "outputId": "0e0ad85d-31a9-48a2-f7c4-f82041b04bad"
   },
   "outputs": [
    {
     "data": {
      "text/html": [
       "<div>\n",
       "<style scoped>\n",
       "    .dataframe tbody tr th:only-of-type {\n",
       "        vertical-align: middle;\n",
       "    }\n",
       "\n",
       "    .dataframe tbody tr th {\n",
       "        vertical-align: top;\n",
       "    }\n",
       "\n",
       "    .dataframe thead th {\n",
       "        text-align: right;\n",
       "    }\n",
       "</style>\n",
       "<table border=\"1\" class=\"dataframe\">\n",
       "  <thead>\n",
       "    <tr style=\"text-align: right;\">\n",
       "      <th></th>\n",
       "      <th>id</th>\n",
       "      <th>name</th>\n",
       "      <th>gender</th>\n",
       "      <th>nationality</th>\n",
       "      <th>set</th>\n",
       "    </tr>\n",
       "  </thead>\n",
       "  <tbody>\n",
       "    <tr>\n",
       "      <th>0</th>\n",
       "      <td>10001</td>\n",
       "      <td>A.J._Buckley</td>\n",
       "      <td>m</td>\n",
       "      <td>Ireland</td>\n",
       "      <td>dev</td>\n",
       "    </tr>\n",
       "    <tr>\n",
       "      <th>1</th>\n",
       "      <td>10002</td>\n",
       "      <td>A.R._Rahman</td>\n",
       "      <td>m</td>\n",
       "      <td>India</td>\n",
       "      <td>dev</td>\n",
       "    </tr>\n",
       "    <tr>\n",
       "      <th>2</th>\n",
       "      <td>10003</td>\n",
       "      <td>Aamir_Khan</td>\n",
       "      <td>m</td>\n",
       "      <td>India</td>\n",
       "      <td>dev</td>\n",
       "    </tr>\n",
       "    <tr>\n",
       "      <th>3</th>\n",
       "      <td>10004</td>\n",
       "      <td>Aaron_Tveit</td>\n",
       "      <td>m</td>\n",
       "      <td>USA</td>\n",
       "      <td>dev</td>\n",
       "    </tr>\n",
       "    <tr>\n",
       "      <th>4</th>\n",
       "      <td>10005</td>\n",
       "      <td>Aaron_Yoo</td>\n",
       "      <td>m</td>\n",
       "      <td>USA</td>\n",
       "      <td>dev</td>\n",
       "    </tr>\n",
       "  </tbody>\n",
       "</table>\n",
       "</div>"
      ],
      "text/plain": [
       "      id          name gender nationality  set\n",
       "0  10001  A.J._Buckley      m     Ireland  dev\n",
       "1  10002   A.R._Rahman      m       India  dev\n",
       "2  10003    Aamir_Khan      m       India  dev\n",
       "3  10004   Aaron_Tveit      m         USA  dev\n",
       "4  10005     Aaron_Yoo      m         USA  dev"
      ]
     },
     "execution_count": 27,
     "metadata": {
      "tags": []
     },
     "output_type": "execute_result"
    }
   ],
   "source": [
    "meta_df.head()"
   ]
  },
  {
   "cell_type": "code",
   "execution_count": 33,
   "metadata": {
    "colab": {
     "base_uri": "https://localhost:8080/",
     "height": 34
    },
    "colab_type": "code",
    "executionInfo": {
     "elapsed": 1053,
     "status": "ok",
     "timestamp": 1549505769525,
     "user": {
      "displayName": "Patrina Bailey",
      "photoUrl": "https://lh6.googleusercontent.com/-_-IxxZOx6Gk/AAAAAAAAAAI/AAAAAAAAJ6M/E0SG_dIR-sM/s64/photo.jpg",
      "userId": "15476889788748924708"
     },
     "user_tz": 300
    },
    "id": "D9E0VSP8vD_h",
    "outputId": "54e92f03-1282-4083-cf6c-1dd1d706521d"
   },
   "outputs": [
    {
     "data": {
      "text/plain": [
       "(64483, 198)"
      ]
     },
     "execution_count": 33,
     "metadata": {
      "tags": []
     },
     "output_type": "execute_result"
    }
   ],
   "source": [
    "df.shape # (64483, 194)\n",
    "full_df = df.merge(meta_df, how = 'left', on = 'id')\n",
    "full_df.shape # (64483, 198)"
   ]
  },
  {
   "cell_type": "code",
   "execution_count": 0,
   "metadata": {
    "colab": {},
    "colab_type": "code",
    "id": "dWfWUaX7svXM"
   },
   "outputs": [],
   "source": [
    "# Save merged dataframes to pickle file\n",
    "# full_df.to_pickle(\"full_df.pkl\")\n",
    "\n",
    "# Read in pickled file\n",
    "full_df = pd.read_pickle('full_df.pkl')"
   ]
  },
  {
   "cell_type": "code",
   "execution_count": 11,
   "metadata": {
    "colab": {
     "base_uri": "https://localhost:8080/",
     "height": 253
    },
    "colab_type": "code",
    "executionInfo": {
     "elapsed": 635,
     "status": "ok",
     "timestamp": 1549508860629,
     "user": {
      "displayName": "Patrina Bailey",
      "photoUrl": "https://lh6.googleusercontent.com/-_-IxxZOx6Gk/AAAAAAAAAAI/AAAAAAAAJ6M/E0SG_dIR-sM/s64/photo.jpg",
      "userId": "15476889788748924708"
     },
     "user_tz": 300
    },
    "id": "GC1Am7UkvvXo",
    "outputId": "6032614b-dbb9-48a3-c81e-096d25a895f9"
   },
   "outputs": [
    {
     "data": {
      "text/html": [
       "<div>\n",
       "<style scoped>\n",
       "    .dataframe tbody tr th:only-of-type {\n",
       "        vertical-align: middle;\n",
       "    }\n",
       "\n",
       "    .dataframe tbody tr th {\n",
       "        vertical-align: top;\n",
       "    }\n",
       "\n",
       "    .dataframe thead th {\n",
       "        text-align: right;\n",
       "    }\n",
       "</style>\n",
       "<table border=\"1\" class=\"dataframe\">\n",
       "  <thead>\n",
       "    <tr style=\"text-align: right;\">\n",
       "      <th></th>\n",
       "      <th>id</th>\n",
       "      <th>mfcc</th>\n",
       "      <th>mfcc</th>\n",
       "      <th>mfcc</th>\n",
       "      <th>mfcc</th>\n",
       "      <th>mfcc</th>\n",
       "      <th>mfcc</th>\n",
       "      <th>mfcc</th>\n",
       "      <th>mfcc</th>\n",
       "      <th>mfcc</th>\n",
       "      <th>...</th>\n",
       "      <th>tonnetz</th>\n",
       "      <th>tonnetz</th>\n",
       "      <th>tonnetz</th>\n",
       "      <th>tonnetz</th>\n",
       "      <th>tonnetz</th>\n",
       "      <th>tonnetz</th>\n",
       "      <th>name</th>\n",
       "      <th>gender</th>\n",
       "      <th>nationality</th>\n",
       "      <th>set</th>\n",
       "    </tr>\n",
       "  </thead>\n",
       "  <tbody>\n",
       "    <tr>\n",
       "      <th>0</th>\n",
       "      <td>10332</td>\n",
       "      <td>-274.717176</td>\n",
       "      <td>124.096613</td>\n",
       "      <td>-57.174884</td>\n",
       "      <td>47.091800</td>\n",
       "      <td>-31.190586</td>\n",
       "      <td>-3.631755</td>\n",
       "      <td>-34.891319</td>\n",
       "      <td>-4.590279</td>\n",
       "      <td>-0.825808</td>\n",
       "      <td>...</td>\n",
       "      <td>0.004705</td>\n",
       "      <td>0.003553</td>\n",
       "      <td>-0.009748</td>\n",
       "      <td>0.026007</td>\n",
       "      <td>0.001958</td>\n",
       "      <td>-0.009467</td>\n",
       "      <td>Gemma_Atkinson</td>\n",
       "      <td>f</td>\n",
       "      <td>UK</td>\n",
       "      <td>dev</td>\n",
       "    </tr>\n",
       "    <tr>\n",
       "      <th>1</th>\n",
       "      <td>10332</td>\n",
       "      <td>-263.282737</td>\n",
       "      <td>110.169695</td>\n",
       "      <td>-37.532975</td>\n",
       "      <td>49.808548</td>\n",
       "      <td>-30.783113</td>\n",
       "      <td>4.530054</td>\n",
       "      <td>-34.272742</td>\n",
       "      <td>-0.396505</td>\n",
       "      <td>2.088190</td>\n",
       "      <td>...</td>\n",
       "      <td>-0.008559</td>\n",
       "      <td>0.001090</td>\n",
       "      <td>-0.052647</td>\n",
       "      <td>0.053715</td>\n",
       "      <td>-0.014433</td>\n",
       "      <td>-0.001219</td>\n",
       "      <td>Gemma_Atkinson</td>\n",
       "      <td>f</td>\n",
       "      <td>UK</td>\n",
       "      <td>dev</td>\n",
       "    </tr>\n",
       "    <tr>\n",
       "      <th>2</th>\n",
       "      <td>10332</td>\n",
       "      <td>-255.330134</td>\n",
       "      <td>107.140581</td>\n",
       "      <td>-37.526152</td>\n",
       "      <td>66.718413</td>\n",
       "      <td>-25.090227</td>\n",
       "      <td>5.835736</td>\n",
       "      <td>-34.682863</td>\n",
       "      <td>0.156228</td>\n",
       "      <td>0.196809</td>\n",
       "      <td>...</td>\n",
       "      <td>-0.000381</td>\n",
       "      <td>0.004534</td>\n",
       "      <td>0.003975</td>\n",
       "      <td>0.063643</td>\n",
       "      <td>-0.003111</td>\n",
       "      <td>-0.009005</td>\n",
       "      <td>Gemma_Atkinson</td>\n",
       "      <td>f</td>\n",
       "      <td>UK</td>\n",
       "      <td>dev</td>\n",
       "    </tr>\n",
       "    <tr>\n",
       "      <th>3</th>\n",
       "      <td>10332</td>\n",
       "      <td>-238.647293</td>\n",
       "      <td>116.777418</td>\n",
       "      <td>-43.337226</td>\n",
       "      <td>57.847068</td>\n",
       "      <td>-29.790134</td>\n",
       "      <td>4.556106</td>\n",
       "      <td>-29.883005</td>\n",
       "      <td>-1.273415</td>\n",
       "      <td>0.166903</td>\n",
       "      <td>...</td>\n",
       "      <td>-0.015756</td>\n",
       "      <td>-0.000640</td>\n",
       "      <td>0.002584</td>\n",
       "      <td>0.037222</td>\n",
       "      <td>-0.006243</td>\n",
       "      <td>0.002152</td>\n",
       "      <td>Gemma_Atkinson</td>\n",
       "      <td>f</td>\n",
       "      <td>UK</td>\n",
       "      <td>dev</td>\n",
       "    </tr>\n",
       "    <tr>\n",
       "      <th>4</th>\n",
       "      <td>10332</td>\n",
       "      <td>-253.325462</td>\n",
       "      <td>110.840374</td>\n",
       "      <td>-47.403615</td>\n",
       "      <td>46.822241</td>\n",
       "      <td>-28.057003</td>\n",
       "      <td>5.674004</td>\n",
       "      <td>-26.317193</td>\n",
       "      <td>-0.719588</td>\n",
       "      <td>1.632264</td>\n",
       "      <td>...</td>\n",
       "      <td>-0.006521</td>\n",
       "      <td>0.009226</td>\n",
       "      <td>0.008907</td>\n",
       "      <td>0.020127</td>\n",
       "      <td>0.001455</td>\n",
       "      <td>0.002741</td>\n",
       "      <td>Gemma_Atkinson</td>\n",
       "      <td>f</td>\n",
       "      <td>UK</td>\n",
       "      <td>dev</td>\n",
       "    </tr>\n",
       "  </tbody>\n",
       "</table>\n",
       "<p>5 rows × 198 columns</p>\n",
       "</div>"
      ],
      "text/plain": [
       "      id        mfcc        mfcc       mfcc       mfcc       mfcc      mfcc  \\\n",
       "0  10332 -274.717176  124.096613 -57.174884  47.091800 -31.190586 -3.631755   \n",
       "1  10332 -263.282737  110.169695 -37.532975  49.808548 -30.783113  4.530054   \n",
       "2  10332 -255.330134  107.140581 -37.526152  66.718413 -25.090227  5.835736   \n",
       "3  10332 -238.647293  116.777418 -43.337226  57.847068 -29.790134  4.556106   \n",
       "4  10332 -253.325462  110.840374 -47.403615  46.822241 -28.057003  5.674004   \n",
       "\n",
       "        mfcc      mfcc      mfcc ...    tonnetz   tonnetz   tonnetz   tonnetz  \\\n",
       "0 -34.891319 -4.590279 -0.825808 ...   0.004705  0.003553 -0.009748  0.026007   \n",
       "1 -34.272742 -0.396505  2.088190 ...  -0.008559  0.001090 -0.052647  0.053715   \n",
       "2 -34.682863  0.156228  0.196809 ...  -0.000381  0.004534  0.003975  0.063643   \n",
       "3 -29.883005 -1.273415  0.166903 ...  -0.015756 -0.000640  0.002584  0.037222   \n",
       "4 -26.317193 -0.719588  1.632264 ...  -0.006521  0.009226  0.008907  0.020127   \n",
       "\n",
       "    tonnetz   tonnetz            name  gender  nationality  set  \n",
       "0  0.001958 -0.009467  Gemma_Atkinson       f           UK  dev  \n",
       "1 -0.014433 -0.001219  Gemma_Atkinson       f           UK  dev  \n",
       "2 -0.003111 -0.009005  Gemma_Atkinson       f           UK  dev  \n",
       "3 -0.006243  0.002152  Gemma_Atkinson       f           UK  dev  \n",
       "4  0.001455  0.002741  Gemma_Atkinson       f           UK  dev  \n",
       "\n",
       "[5 rows x 198 columns]"
      ]
     },
     "execution_count": 11,
     "metadata": {
      "tags": []
     },
     "output_type": "execute_result"
    }
   ],
   "source": [
    "full_df.head()"
   ]
  },
  {
   "cell_type": "code",
   "execution_count": 12,
   "metadata": {
    "colab": {
     "base_uri": "https://localhost:8080/",
     "height": 253
    },
    "colab_type": "code",
    "executionInfo": {
     "elapsed": 290,
     "status": "ok",
     "timestamp": 1549508864103,
     "user": {
      "displayName": "Patrina Bailey",
      "photoUrl": "https://lh6.googleusercontent.com/-_-IxxZOx6Gk/AAAAAAAAAAI/AAAAAAAAJ6M/E0SG_dIR-sM/s64/photo.jpg",
      "userId": "15476889788748924708"
     },
     "user_tz": 300
    },
    "id": "5n3A0f_nwQ8f",
    "outputId": "484a04db-1bde-44a0-88ff-3940f406f5b5"
   },
   "outputs": [
    {
     "data": {
      "text/html": [
       "<div>\n",
       "<style scoped>\n",
       "    .dataframe tbody tr th:only-of-type {\n",
       "        vertical-align: middle;\n",
       "    }\n",
       "\n",
       "    .dataframe tbody tr th {\n",
       "        vertical-align: top;\n",
       "    }\n",
       "\n",
       "    .dataframe thead th {\n",
       "        text-align: right;\n",
       "    }\n",
       "</style>\n",
       "<table border=\"1\" class=\"dataframe\">\n",
       "  <thead>\n",
       "    <tr style=\"text-align: right;\">\n",
       "      <th></th>\n",
       "      <th>id</th>\n",
       "      <th>mfcc</th>\n",
       "      <th>mfcc</th>\n",
       "      <th>mfcc</th>\n",
       "      <th>mfcc</th>\n",
       "      <th>mfcc</th>\n",
       "      <th>mfcc</th>\n",
       "      <th>mfcc</th>\n",
       "      <th>mfcc</th>\n",
       "      <th>mfcc</th>\n",
       "      <th>...</th>\n",
       "      <th>tonnetz</th>\n",
       "      <th>tonnetz</th>\n",
       "      <th>tonnetz</th>\n",
       "      <th>tonnetz</th>\n",
       "      <th>tonnetz</th>\n",
       "      <th>tonnetz</th>\n",
       "      <th>name</th>\n",
       "      <th>gender</th>\n",
       "      <th>nationality</th>\n",
       "      <th>set</th>\n",
       "    </tr>\n",
       "  </thead>\n",
       "  <tbody>\n",
       "    <tr>\n",
       "      <th>0</th>\n",
       "      <td>10332</td>\n",
       "      <td>-274.717176</td>\n",
       "      <td>124.096613</td>\n",
       "      <td>-57.174884</td>\n",
       "      <td>47.091800</td>\n",
       "      <td>-31.190586</td>\n",
       "      <td>-3.631755</td>\n",
       "      <td>-34.891319</td>\n",
       "      <td>-4.590279</td>\n",
       "      <td>-0.825808</td>\n",
       "      <td>...</td>\n",
       "      <td>0.004705</td>\n",
       "      <td>0.003553</td>\n",
       "      <td>-0.009748</td>\n",
       "      <td>0.026007</td>\n",
       "      <td>0.001958</td>\n",
       "      <td>-0.009467</td>\n",
       "      <td>Gemma_Atkinson</td>\n",
       "      <td>0</td>\n",
       "      <td>UK</td>\n",
       "      <td>dev</td>\n",
       "    </tr>\n",
       "    <tr>\n",
       "      <th>1</th>\n",
       "      <td>10332</td>\n",
       "      <td>-263.282737</td>\n",
       "      <td>110.169695</td>\n",
       "      <td>-37.532975</td>\n",
       "      <td>49.808548</td>\n",
       "      <td>-30.783113</td>\n",
       "      <td>4.530054</td>\n",
       "      <td>-34.272742</td>\n",
       "      <td>-0.396505</td>\n",
       "      <td>2.088190</td>\n",
       "      <td>...</td>\n",
       "      <td>-0.008559</td>\n",
       "      <td>0.001090</td>\n",
       "      <td>-0.052647</td>\n",
       "      <td>0.053715</td>\n",
       "      <td>-0.014433</td>\n",
       "      <td>-0.001219</td>\n",
       "      <td>Gemma_Atkinson</td>\n",
       "      <td>0</td>\n",
       "      <td>UK</td>\n",
       "      <td>dev</td>\n",
       "    </tr>\n",
       "    <tr>\n",
       "      <th>2</th>\n",
       "      <td>10332</td>\n",
       "      <td>-255.330134</td>\n",
       "      <td>107.140581</td>\n",
       "      <td>-37.526152</td>\n",
       "      <td>66.718413</td>\n",
       "      <td>-25.090227</td>\n",
       "      <td>5.835736</td>\n",
       "      <td>-34.682863</td>\n",
       "      <td>0.156228</td>\n",
       "      <td>0.196809</td>\n",
       "      <td>...</td>\n",
       "      <td>-0.000381</td>\n",
       "      <td>0.004534</td>\n",
       "      <td>0.003975</td>\n",
       "      <td>0.063643</td>\n",
       "      <td>-0.003111</td>\n",
       "      <td>-0.009005</td>\n",
       "      <td>Gemma_Atkinson</td>\n",
       "      <td>0</td>\n",
       "      <td>UK</td>\n",
       "      <td>dev</td>\n",
       "    </tr>\n",
       "    <tr>\n",
       "      <th>3</th>\n",
       "      <td>10332</td>\n",
       "      <td>-238.647293</td>\n",
       "      <td>116.777418</td>\n",
       "      <td>-43.337226</td>\n",
       "      <td>57.847068</td>\n",
       "      <td>-29.790134</td>\n",
       "      <td>4.556106</td>\n",
       "      <td>-29.883005</td>\n",
       "      <td>-1.273415</td>\n",
       "      <td>0.166903</td>\n",
       "      <td>...</td>\n",
       "      <td>-0.015756</td>\n",
       "      <td>-0.000640</td>\n",
       "      <td>0.002584</td>\n",
       "      <td>0.037222</td>\n",
       "      <td>-0.006243</td>\n",
       "      <td>0.002152</td>\n",
       "      <td>Gemma_Atkinson</td>\n",
       "      <td>0</td>\n",
       "      <td>UK</td>\n",
       "      <td>dev</td>\n",
       "    </tr>\n",
       "    <tr>\n",
       "      <th>4</th>\n",
       "      <td>10332</td>\n",
       "      <td>-253.325462</td>\n",
       "      <td>110.840374</td>\n",
       "      <td>-47.403615</td>\n",
       "      <td>46.822241</td>\n",
       "      <td>-28.057003</td>\n",
       "      <td>5.674004</td>\n",
       "      <td>-26.317193</td>\n",
       "      <td>-0.719588</td>\n",
       "      <td>1.632264</td>\n",
       "      <td>...</td>\n",
       "      <td>-0.006521</td>\n",
       "      <td>0.009226</td>\n",
       "      <td>0.008907</td>\n",
       "      <td>0.020127</td>\n",
       "      <td>0.001455</td>\n",
       "      <td>0.002741</td>\n",
       "      <td>Gemma_Atkinson</td>\n",
       "      <td>0</td>\n",
       "      <td>UK</td>\n",
       "      <td>dev</td>\n",
       "    </tr>\n",
       "  </tbody>\n",
       "</table>\n",
       "<p>5 rows × 198 columns</p>\n",
       "</div>"
      ],
      "text/plain": [
       "      id        mfcc        mfcc       mfcc       mfcc       mfcc      mfcc  \\\n",
       "0  10332 -274.717176  124.096613 -57.174884  47.091800 -31.190586 -3.631755   \n",
       "1  10332 -263.282737  110.169695 -37.532975  49.808548 -30.783113  4.530054   \n",
       "2  10332 -255.330134  107.140581 -37.526152  66.718413 -25.090227  5.835736   \n",
       "3  10332 -238.647293  116.777418 -43.337226  57.847068 -29.790134  4.556106   \n",
       "4  10332 -253.325462  110.840374 -47.403615  46.822241 -28.057003  5.674004   \n",
       "\n",
       "        mfcc      mfcc      mfcc ...    tonnetz   tonnetz   tonnetz   tonnetz  \\\n",
       "0 -34.891319 -4.590279 -0.825808 ...   0.004705  0.003553 -0.009748  0.026007   \n",
       "1 -34.272742 -0.396505  2.088190 ...  -0.008559  0.001090 -0.052647  0.053715   \n",
       "2 -34.682863  0.156228  0.196809 ...  -0.000381  0.004534  0.003975  0.063643   \n",
       "3 -29.883005 -1.273415  0.166903 ...  -0.015756 -0.000640  0.002584  0.037222   \n",
       "4 -26.317193 -0.719588  1.632264 ...  -0.006521  0.009226  0.008907  0.020127   \n",
       "\n",
       "    tonnetz   tonnetz            name  gender  nationality  set  \n",
       "0  0.001958 -0.009467  Gemma_Atkinson       0           UK  dev  \n",
       "1 -0.014433 -0.001219  Gemma_Atkinson       0           UK  dev  \n",
       "2 -0.003111 -0.009005  Gemma_Atkinson       0           UK  dev  \n",
       "3 -0.006243  0.002152  Gemma_Atkinson       0           UK  dev  \n",
       "4  0.001455  0.002741  Gemma_Atkinson       0           UK  dev  \n",
       "\n",
       "[5 rows x 198 columns]"
      ]
     },
     "execution_count": 12,
     "metadata": {
      "tags": []
     },
     "output_type": "execute_result"
    }
   ],
   "source": [
    "# Binarize gender column\n",
    "le_gender = LabelEncoder()\n",
    "full_df.gender = le_gender.fit_transform(full_df.gender)\n",
    "full_df.gender.unique() # array([0, 1])\n",
    "full_df.head()"
   ]
  },
  {
   "cell_type": "code",
   "execution_count": 13,
   "metadata": {
    "colab": {
     "base_uri": "https://localhost:8080/",
     "height": 253
    },
    "colab_type": "code",
    "executionInfo": {
     "elapsed": 916,
     "status": "ok",
     "timestamp": 1549508866785,
     "user": {
      "displayName": "Patrina Bailey",
      "photoUrl": "https://lh6.googleusercontent.com/-_-IxxZOx6Gk/AAAAAAAAAAI/AAAAAAAAJ6M/E0SG_dIR-sM/s64/photo.jpg",
      "userId": "15476889788748924708"
     },
     "user_tz": 300
    },
    "id": "l5CJQGaEyOzl",
    "outputId": "12d1b475-74e7-40fa-a3a0-80734c19bf66"
   },
   "outputs": [
    {
     "data": {
      "text/html": [
       "<div>\n",
       "<style scoped>\n",
       "    .dataframe tbody tr th:only-of-type {\n",
       "        vertical-align: middle;\n",
       "    }\n",
       "\n",
       "    .dataframe tbody tr th {\n",
       "        vertical-align: top;\n",
       "    }\n",
       "\n",
       "    .dataframe thead th {\n",
       "        text-align: right;\n",
       "    }\n",
       "</style>\n",
       "<table border=\"1\" class=\"dataframe\">\n",
       "  <thead>\n",
       "    <tr style=\"text-align: right;\">\n",
       "      <th></th>\n",
       "      <th>id</th>\n",
       "      <th>mfcc</th>\n",
       "      <th>mfcc</th>\n",
       "      <th>mfcc</th>\n",
       "      <th>mfcc</th>\n",
       "      <th>mfcc</th>\n",
       "      <th>mfcc</th>\n",
       "      <th>mfcc</th>\n",
       "      <th>mfcc</th>\n",
       "      <th>mfcc</th>\n",
       "      <th>...</th>\n",
       "      <th>tonnetz</th>\n",
       "      <th>tonnetz</th>\n",
       "      <th>tonnetz</th>\n",
       "      <th>tonnetz</th>\n",
       "      <th>tonnetz</th>\n",
       "      <th>tonnetz</th>\n",
       "      <th>name</th>\n",
       "      <th>gender</th>\n",
       "      <th>nationality</th>\n",
       "      <th>set</th>\n",
       "    </tr>\n",
       "  </thead>\n",
       "  <tbody>\n",
       "    <tr>\n",
       "      <th>0</th>\n",
       "      <td>10332</td>\n",
       "      <td>-274.717176</td>\n",
       "      <td>124.096613</td>\n",
       "      <td>-57.174884</td>\n",
       "      <td>47.091800</td>\n",
       "      <td>-31.190586</td>\n",
       "      <td>-3.631755</td>\n",
       "      <td>-34.891319</td>\n",
       "      <td>-4.590279</td>\n",
       "      <td>-0.825808</td>\n",
       "      <td>...</td>\n",
       "      <td>0.004705</td>\n",
       "      <td>0.003553</td>\n",
       "      <td>-0.009748</td>\n",
       "      <td>0.026007</td>\n",
       "      <td>0.001958</td>\n",
       "      <td>-0.009467</td>\n",
       "      <td>Gemma_Atkinson</td>\n",
       "      <td>0</td>\n",
       "      <td>22</td>\n",
       "      <td>dev</td>\n",
       "    </tr>\n",
       "    <tr>\n",
       "      <th>1</th>\n",
       "      <td>10332</td>\n",
       "      <td>-263.282737</td>\n",
       "      <td>110.169695</td>\n",
       "      <td>-37.532975</td>\n",
       "      <td>49.808548</td>\n",
       "      <td>-30.783113</td>\n",
       "      <td>4.530054</td>\n",
       "      <td>-34.272742</td>\n",
       "      <td>-0.396505</td>\n",
       "      <td>2.088190</td>\n",
       "      <td>...</td>\n",
       "      <td>-0.008559</td>\n",
       "      <td>0.001090</td>\n",
       "      <td>-0.052647</td>\n",
       "      <td>0.053715</td>\n",
       "      <td>-0.014433</td>\n",
       "      <td>-0.001219</td>\n",
       "      <td>Gemma_Atkinson</td>\n",
       "      <td>0</td>\n",
       "      <td>22</td>\n",
       "      <td>dev</td>\n",
       "    </tr>\n",
       "    <tr>\n",
       "      <th>2</th>\n",
       "      <td>10332</td>\n",
       "      <td>-255.330134</td>\n",
       "      <td>107.140581</td>\n",
       "      <td>-37.526152</td>\n",
       "      <td>66.718413</td>\n",
       "      <td>-25.090227</td>\n",
       "      <td>5.835736</td>\n",
       "      <td>-34.682863</td>\n",
       "      <td>0.156228</td>\n",
       "      <td>0.196809</td>\n",
       "      <td>...</td>\n",
       "      <td>-0.000381</td>\n",
       "      <td>0.004534</td>\n",
       "      <td>0.003975</td>\n",
       "      <td>0.063643</td>\n",
       "      <td>-0.003111</td>\n",
       "      <td>-0.009005</td>\n",
       "      <td>Gemma_Atkinson</td>\n",
       "      <td>0</td>\n",
       "      <td>22</td>\n",
       "      <td>dev</td>\n",
       "    </tr>\n",
       "    <tr>\n",
       "      <th>3</th>\n",
       "      <td>10332</td>\n",
       "      <td>-238.647293</td>\n",
       "      <td>116.777418</td>\n",
       "      <td>-43.337226</td>\n",
       "      <td>57.847068</td>\n",
       "      <td>-29.790134</td>\n",
       "      <td>4.556106</td>\n",
       "      <td>-29.883005</td>\n",
       "      <td>-1.273415</td>\n",
       "      <td>0.166903</td>\n",
       "      <td>...</td>\n",
       "      <td>-0.015756</td>\n",
       "      <td>-0.000640</td>\n",
       "      <td>0.002584</td>\n",
       "      <td>0.037222</td>\n",
       "      <td>-0.006243</td>\n",
       "      <td>0.002152</td>\n",
       "      <td>Gemma_Atkinson</td>\n",
       "      <td>0</td>\n",
       "      <td>22</td>\n",
       "      <td>dev</td>\n",
       "    </tr>\n",
       "    <tr>\n",
       "      <th>4</th>\n",
       "      <td>10332</td>\n",
       "      <td>-253.325462</td>\n",
       "      <td>110.840374</td>\n",
       "      <td>-47.403615</td>\n",
       "      <td>46.822241</td>\n",
       "      <td>-28.057003</td>\n",
       "      <td>5.674004</td>\n",
       "      <td>-26.317193</td>\n",
       "      <td>-0.719588</td>\n",
       "      <td>1.632264</td>\n",
       "      <td>...</td>\n",
       "      <td>-0.006521</td>\n",
       "      <td>0.009226</td>\n",
       "      <td>0.008907</td>\n",
       "      <td>0.020127</td>\n",
       "      <td>0.001455</td>\n",
       "      <td>0.002741</td>\n",
       "      <td>Gemma_Atkinson</td>\n",
       "      <td>0</td>\n",
       "      <td>22</td>\n",
       "      <td>dev</td>\n",
       "    </tr>\n",
       "  </tbody>\n",
       "</table>\n",
       "<p>5 rows × 198 columns</p>\n",
       "</div>"
      ],
      "text/plain": [
       "      id        mfcc        mfcc       mfcc       mfcc       mfcc      mfcc  \\\n",
       "0  10332 -274.717176  124.096613 -57.174884  47.091800 -31.190586 -3.631755   \n",
       "1  10332 -263.282737  110.169695 -37.532975  49.808548 -30.783113  4.530054   \n",
       "2  10332 -255.330134  107.140581 -37.526152  66.718413 -25.090227  5.835736   \n",
       "3  10332 -238.647293  116.777418 -43.337226  57.847068 -29.790134  4.556106   \n",
       "4  10332 -253.325462  110.840374 -47.403615  46.822241 -28.057003  5.674004   \n",
       "\n",
       "        mfcc      mfcc      mfcc ...    tonnetz   tonnetz   tonnetz   tonnetz  \\\n",
       "0 -34.891319 -4.590279 -0.825808 ...   0.004705  0.003553 -0.009748  0.026007   \n",
       "1 -34.272742 -0.396505  2.088190 ...  -0.008559  0.001090 -0.052647  0.053715   \n",
       "2 -34.682863  0.156228  0.196809 ...  -0.000381  0.004534  0.003975  0.063643   \n",
       "3 -29.883005 -1.273415  0.166903 ...  -0.015756 -0.000640  0.002584  0.037222   \n",
       "4 -26.317193 -0.719588  1.632264 ...  -0.006521  0.009226  0.008907  0.020127   \n",
       "\n",
       "    tonnetz   tonnetz            name  gender  nationality  set  \n",
       "0  0.001958 -0.009467  Gemma_Atkinson       0           22  dev  \n",
       "1 -0.014433 -0.001219  Gemma_Atkinson       0           22  dev  \n",
       "2 -0.003111 -0.009005  Gemma_Atkinson       0           22  dev  \n",
       "3 -0.006243  0.002152  Gemma_Atkinson       0           22  dev  \n",
       "4  0.001455  0.002741  Gemma_Atkinson       0           22  dev  \n",
       "\n",
       "[5 rows x 198 columns]"
      ]
     },
     "execution_count": 13,
     "metadata": {
      "tags": []
     },
     "output_type": "execute_result"
    }
   ],
   "source": [
    "# Label Encode nationality column\n",
    "le_nationality = LabelEncoder()\n",
    "full_df.nationality = le_nationality.fit_transform(full_df.nationality)\n",
    "full_df.nationality.unique()\n",
    "full_df.head()\n",
    "# le_nationality.classes_"
   ]
  },
  {
   "cell_type": "code",
   "execution_count": 14,
   "metadata": {
    "colab": {
     "base_uri": "https://localhost:8080/",
     "height": 198
    },
    "colab_type": "code",
    "executionInfo": {
     "elapsed": 322,
     "status": "error",
     "timestamp": 1549508871905,
     "user": {
      "displayName": "Patrina Bailey",
      "photoUrl": "https://lh6.googleusercontent.com/-_-IxxZOx6Gk/AAAAAAAAAAI/AAAAAAAAJ6M/E0SG_dIR-sM/s64/photo.jpg",
      "userId": "15476889788748924708"
     },
     "user_tz": 300
    },
    "id": "v6zw5Jdi4Zm-",
    "outputId": "5187ada3-64ed-4a5c-f19a-5b593a6edfb0"
   },
   "outputs": [
    {
     "ename": "AttributeError",
     "evalue": "ignored",
     "output_type": "error",
     "traceback": [
      "\u001b[0;31m---------------------------------------------------------------------------\u001b[0m",
      "\u001b[0;31mAttributeError\u001b[0m                            Traceback (most recent call last)",
      "\u001b[0;32m<ipython-input-14-d8169bf99b3d>\u001b[0m in \u001b[0;36m<module>\u001b[0;34m()\u001b[0m\n\u001b[1;32m      2\u001b[0m \u001b[0mid10332_mfcc\u001b[0m \u001b[0;34m=\u001b[0m \u001b[0mid10332_df\u001b[0m\u001b[0;34m.\u001b[0m\u001b[0mmfcc\u001b[0m\u001b[0;34m\u001b[0m\u001b[0;34m\u001b[0m\u001b[0m\n\u001b[1;32m      3\u001b[0m \u001b[0mid10332_mfcc\u001b[0m\u001b[0;34m.\u001b[0m\u001b[0miloc\u001b[0m\u001b[0;34m[\u001b[0m\u001b[0;36m1\u001b[0m\u001b[0;34m,\u001b[0m\u001b[0;34m:\u001b[0m\u001b[0;34m]\u001b[0m\u001b[0;34m\u001b[0m\u001b[0;34m\u001b[0m\u001b[0m\n\u001b[0;32m----> 4\u001b[0;31m \u001b[0max\u001b[0m \u001b[0;34m=\u001b[0m \u001b[0msns\u001b[0m\u001b[0;34m.\u001b[0m\u001b[0mscatterplot\u001b[0m\u001b[0;34m(\u001b[0m\u001b[0mx\u001b[0m \u001b[0;34m=\u001b[0m \u001b[0mlen\u001b[0m\u001b[0;34m(\u001b[0m\u001b[0mid10332_mfcc\u001b[0m\u001b[0;34m.\u001b[0m\u001b[0mcolumns\u001b[0m\u001b[0;34m)\u001b[0m\u001b[0;34m,\u001b[0m \u001b[0my\u001b[0m \u001b[0;34m=\u001b[0m \u001b[0mid10332_mfcc\u001b[0m\u001b[0;34m.\u001b[0m\u001b[0miloc\u001b[0m\u001b[0;34m[\u001b[0m\u001b[0;36m1\u001b[0m\u001b[0;34m,\u001b[0m\u001b[0;34m:\u001b[0m\u001b[0;34m]\u001b[0m\u001b[0;34m)\u001b[0m\u001b[0;34m\u001b[0m\u001b[0;34m\u001b[0m\u001b[0m\n\u001b[0m",
      "\u001b[0;31mAttributeError\u001b[0m: module 'seaborn' has no attribute 'scatterplot'"
     ]
    }
   ],
   "source": [
    "id10332_df = full_df[full_df.id == 10332]\n",
    "id10332_mfcc = id10332_df.mfcc\n",
    "id10332_mfcc.iloc[1,:]\n",
    "ax = sns.scatterplot(x = len(id10332_mfcc.columns), y = id10332_mfcc.iloc[1,:])"
   ]
  },
  {
   "cell_type": "code",
   "execution_count": 18,
   "metadata": {
    "colab": {
     "base_uri": "https://localhost:8080/",
     "height": 314
    },
    "colab_type": "code",
    "executionInfo": {
     "elapsed": 1088,
     "status": "ok",
     "timestamp": 1549507338107,
     "user": {
      "displayName": "Patrina Bailey",
      "photoUrl": "https://lh6.googleusercontent.com/-_-IxxZOx6Gk/AAAAAAAAAAI/AAAAAAAAJ6M/E0SG_dIR-sM/s64/photo.jpg",
      "userId": "15476889788748924708"
     },
     "user_tz": 300
    },
    "id": "PnieeA86v9zg",
    "outputId": "a7c7e851-b180-4ff1-877d-741214662d7e"
   },
   "outputs": [
    {
     "data": {
      "text/plain": [
       "<function matplotlib.pyplot.show>"
      ]
     },
     "execution_count": 18,
     "metadata": {
      "tags": []
     },
     "output_type": "execute_result"
    },
    {
     "data": {
      "image/png": "[encoded data removed]",
      "text/plain": [
       "<Figure size 432x288 with 1 Axes>"
      ]
     },
     "metadata": {
      "tags": []
     },
     "output_type": "display_data"
    }
   ],
   "source": [
    "%matplotlib inline\n",
    "ax = sns.distplot(full_df[\"gender\"], hist = True, kde = False, color = '#ff8c91',\n",
    "             norm_hist = True, label = 'female')\n",
    "ax.set(xticks = full_df.gender.unique())\n",
    "plt.tight_layout()\n",
    "plt.show"
   ]
  },
  {
   "cell_type": "code",
   "execution_count": 37,
   "metadata": {
    "colab": {
     "base_uri": "https://localhost:8080/",
     "height": 2635
    },
    "colab_type": "code",
    "executionInfo": {
     "elapsed": 867,
     "status": "ok",
     "timestamp": 1549505843876,
     "user": {
      "displayName": "Patrina Bailey",
      "photoUrl": "https://lh6.googleusercontent.com/-_-IxxZOx6Gk/AAAAAAAAAAI/AAAAAAAAJ6M/E0SG_dIR-sM/s64/photo.jpg",
      "userId": "15476889788748924708"
     },
     "user_tz": 300
    },
    "id": "TVHrEWZrjgTP",
    "outputId": "2a4f6c81-15ff-4fc7-d320-bcc4de4ce5a7"
   },
   "outputs": [
    {
     "data": {
      "text/plain": [
       "array(['Gemma_Atkinson', 'Keri_Hilson', 'Dyan_Cannon', 'Carrie_Fisher',\n",
       "       'Jeremy_Renner', 'Daniel_Craig', 'Brett_Davern',\n",
       "       'Katheryn_Winnick', 'Katee_Sackhoff', 'Chris_Hemsworth',\n",
       "       'Josh_Henderson', 'Donna_Murphy', 'Luke_Evans', 'Dreama_Walker',\n",
       "       'Daniel_Auteuil', 'Carrie_Ann_Inaba', 'Irrfan_Khan',\n",
       "       'Kristen_Wiig', 'Hannah_Spearritt', 'Lou_Diamond_Phillips',\n",
       "       'Kenya_Moore', 'Keeley_Hawes', 'Mathilda_May', 'Jon_Lovitz',\n",
       "       'Drea_de_Matteo', 'Jessie_J', 'Brenda_Blethyn', 'Hannah_Simone',\n",
       "       'Jessica_Lowndes', 'Lotte_Verbeek', 'Carolyn_Hennesy',\n",
       "       'Jon_Huertas', 'Diego_Klattenhoff', 'Hal_Sparks', 'Ingrid_Bergman',\n",
       "       'Dana_Delany', 'Janice_Dickinson', 'Chloe_Bennet', 'Armie_Hammer',\n",
       "       'Kate_Mulgrew', 'Bradley_Steven_Perry', 'Geena_Davis',\n",
       "       'Hailee_Steinfeld', 'Janet_Montgomery', 'Jeremy_Irons',\n",
       "       'Kristen_Stewart', 'Josh_Groban', 'Ben_McKenzie', 'Keegan_Allen',\n",
       "       'Drake_Bell', 'Jon_Favreau', 'Indira_Varma', 'Armand_Assante',\n",
       "       'Mathieu_Kassovitz', 'Dan_Stevens', 'Ludacris', 'Ben_Feldman',\n",
       "       'America_Ferrera', 'Damon_Wayans', 'John_Goodman', 'Margot_Robbie',\n",
       "       'Kayvan_Novak', 'Jennifer_Saunders', 'Johnny_Galecki',\n",
       "       'Brad_Paisley', 'Loretta_Swit', 'Lily_Cole', 'Janet_McTeer',\n",
       "       'Mark_Webber', 'Dakota_Fanning', 'Amber_Riley', 'Mathieu_Amalric',\n",
       "       'Guy_Pearce', 'Derek_Theler', 'Lucy_Punch', 'Dr._Dre',\n",
       "       'Kristen_Johnston', 'Josh_Duhamel', 'Janet_Jackson',\n",
       "       'Imelda_Staunton', 'Antonio_Cupo', 'James_Cosmo',\n",
       "       'Jesse_McCartney', 'Loretta_Devine', 'Derek_Mears', 'Max_Adler',\n",
       "       'Jennifer_Coolidge', 'Margo_Martindale', 'Bonnie_Wright',\n",
       "       'John_Terry', 'Janel_Parrish', 'Josh_Brolin', 'Kate_Flannery',\n",
       "       'Candice_Accola', 'Lucy_Hale', 'Jesse_Eisenberg', 'Damon_Lindelof',\n",
       "       'Derek_Jacobi', 'Jemaine_Clement', 'Guillaume_Canet',\n",
       "       'Mary_McDonnell', 'Jerry_Trainor', 'John_Slattery',\n",
       "       'Janeane_Garofalo', 'Lorenza_Izzo', 'Kenny_Rogers', 'Jane_Badler',\n",
       "       'John_Simm', 'Jennette_McCurdy', 'John_DiMaggio',\n",
       "       'Marcia_Gay_Harden', 'Goran_Visnjic', 'Jenna_Fischer',\n",
       "       'Denise_Crosby', 'Garry_Marshall', 'Michelle_Keegan',\n",
       "       'Joseph_Gordon-Levitt', 'Melissa_Leo', 'Jana_Kramer',\n",
       "       'Kris_Jenner', 'Michael_Cudlitz', 'Jenna_Coleman',\n",
       "       'James_Badge_Dale', 'Idina_Menzel', 'Matthew_Modine',\n",
       "       'John_Oliver', 'Lorde', 'Marcia_Cross', 'Jenifer_Lewis',\n",
       "       'Candace_Cameron_Bure', 'Mary_Lynn_Rajskub', 'Mark_Sheppard',\n",
       "       'Doutzen_Kroes', 'Allison_Williams', 'Anthony_Rapp',\n",
       "       'Agyness_Deyn', 'Kat_Dennings', 'Amy_Poehler', 'Melissa_George',\n",
       "       'Jordin_Sparks', 'Cote_de_Pablo', 'Moon_Bloodgood',\n",
       "       'Miranda_Cosgrove', 'John_Noble', 'Denis_Leary', 'Glenn_Close',\n",
       "       'Dougray_Scott', 'Colin_Donnell', 'Ian_Somerhalder',\n",
       "       'Jamel_Debbouze', 'Kodi_Smit-McPhee', 'Jamie_Foxx', 'John_Nettles',\n",
       "       'Mary_Elizabeth_Winstead', 'Alison_Pill', 'Jordana_Brewster',\n",
       "       'Costas_Mandylor', 'Mira_Furlan', 'Adrianne_Palicki',\n",
       "       'John_Lloyd_Young', 'Jamie_Chung', 'Chelsea_Handler',\n",
       "       'Karoline_Herfurth', 'Adrianne_Curry', 'Demian_Bichir',\n",
       "       'Jeffrey_Tambor', 'Michael_Copon', 'Jamie-Lynn_Sigler',\n",
       "       'Jeffrey_Donovan', 'Meghan_Trainor', 'Anthony_Mackie',\n",
       "       'Cliff_Curtis', 'Glen_Hansard', 'Adam_Driver', 'Callan_McAuliffe',\n",
       "       'Gillian_Jacobs', 'Matthew_Lillard', 'Mindy_Kaling',\n",
       "       'Mark_Ruffalo', 'Gemma_Arterton', 'Natalie_Dormer',\n",
       "       'Hunter_Parrish', 'Douglas_Booth', 'Mary-Louise_Parker',\n",
       "       'Michaela_Conlin', 'Della_Reese', 'Michael_Cera', 'Claudia_Lee',\n",
       "       'Amaury_Nolasco', 'Karla_Souza', 'Chazz_Palminteri', 'Jeff_Garlin',\n",
       "       'Deidre_Hall', 'Gates_McFadden', 'Alison_Arngrim',\n",
       "       'Alicja_Bachleda', 'Dot-Marie_Jones', 'Natalia_Tena',\n",
       "       'Alexandra_Daddario', 'Freddie_Highmore', 'Hugh_Laurie',\n",
       "       'Debra_Jo_Rupp', 'Gary_Busey', 'Anthony_Anderson', 'John_Cho',\n",
       "       'Jon_Seda', 'Martine_McCutcheon', 'Nicola_Peltz', 'Debi_Mazar',\n",
       "       'John_Hurt', 'Jon_Pertwee', 'Dean_Cain', 'Matthew_Goode',\n",
       "       'David_Lyons', 'Mark_Harmon', 'CCH_Pounder', 'Adam_Brody',\n",
       "       'Bob_Barker', 'Karan_Brar', 'Gregg_Sulkin', 'Garrett_Hedlund',\n",
       "       'Neil_Gaiman', 'Hugh_Dancy', 'Jeff_Daniels', 'Olivia_Munn',\n",
       "       'Milla_Jovovich', 'Burt_Reynolds', 'James_Woods', 'Julie_Walters',\n",
       "       'Megan_Fox', 'Michael_Trevino', 'Julie_Gonzalo', 'Dawn_French',\n",
       "       'Jake_Abel', 'Michael_C._Hall', 'John_Gallagher_Jr.',\n",
       "       'Naseeruddin_Shah', 'Freema_Agyeman', 'Blake_Shelton',\n",
       "       'Neal_McDonough', 'James_Roday', 'Jean-Paul_Belmondo',\n",
       "       'Greg_Grunberg', 'Jeannie_Mai', 'Olivia_Holt', 'Jeanine_Mason',\n",
       "       'David_Wenham', 'Corbin_Bleu', 'Michael_Socha', 'John_Barrowman',\n",
       "       'John_Cleese', 'Nick_Thune', 'Matthew_Fox', 'Jaime_Winstone',\n",
       "       'James_Purefoy', 'Alexz_Johnson', 'David_Tennant', 'Paul_Scheer',\n",
       "       'Blair_Underwood', 'Jean_Smart', 'David_Suchet', 'Abigail_Spencer',\n",
       "       'Greg_Finley', 'Martin_Shaw', 'NeNe_Leakes', 'James_Nesbitt',\n",
       "       'Pablo_Schreiber', 'Olivia_Cooke', 'Peter_Coyote',\n",
       "       'Rade_Serbedzija', 'Hugh_Bonneville', 'James_Maslow',\n",
       "       'Cindy_Williams', 'David_Oyelowo', 'Raoul_Bova', 'Jean_Reno',\n",
       "       'Naomie_Harris', 'Francia_Raisa', 'David_Mazouz', 'Mark_Gatiss',\n",
       "       'Missi_Pyle', 'Joel_Edgerton', 'David_Mamet', 'Nazanin_Boniadi',\n",
       "       'Forest_Whitaker', 'Abigail_Breslin', 'Martin_Kove',\n",
       "       'Michael_Shannon', 'Peter_Capaldi', 'Rene_Auberjonois',\n",
       "       'Miley_Cyrus', 'David_Kross', 'Greer_Garson', 'Patrick_Duffy',\n",
       "       'Grant_Bowler', 'Olivia_Colman', 'David_Koechner', 'Paul_Reubens',\n",
       "       'Naturi_Naughton', 'Chris_Colfer', 'John_Amos', 'David_Henrie',\n",
       "       'Nancy_Cartwright', 'Rachel_McAdams', 'Joe_Flanigan', 'Reid_Scott',\n",
       "       'Oscar_Isaac', 'Joaquim_de_Almeida', 'Gordon_Ramsay',\n",
       "       'Abbie_Cornish', 'Billie_Joe_Armstrong', 'Marisa_Miller',\n",
       "       'Matt_Lanter', 'Donna_Mills', 'Hope_Solo', 'Randolph_Mantooth',\n",
       "       'Paul_McGann', 'Chloe_Dykstra', 'Oliver_Platt', 'Richard_E._Grant',\n",
       "       'Mia_Wasikowska', 'Patrick_Dempsey', 'James_Marsden',\n",
       "       'Pierre_Niney', 'John_Abraham', 'Nana_Visitor', 'Rachel_Dratch',\n",
       "       'David_Harewood', 'Florence_Henderson', 'Miles_Teller',\n",
       "       'Martin_Henderson', 'Mischa_Barton', 'Aaron_Yoo', 'Joel_McHale',\n",
       "       'Regina_Hall', 'Matt_Dallas', 'Bill_Pullman', 'Robbie_Kay',\n",
       "       'Nadia_Bjorlin', 'Robert_Vaughn', 'RZA', 'Pierfrancesco_Favino',\n",
       "       'David_Attenborough', 'Bill_Nighy', 'Richard_Dean_Anderson',\n",
       "       'Paul_Gross', 'Nathan_Fillion', 'Maya_Rudolph', 'David_Giuntoli',\n",
       "       'Dave_Foley', 'James_Lafferty', 'Danielle_Panabaker', 'Peter_Berg',\n",
       "       'Dan_Fogler', 'Russell_Tovey', 'Dan_Aykroyd', 'Pat_Monahan',\n",
       "       'Miriam_Margolyes', 'Matt_Bomer', 'David_Faustino',\n",
       "       'Jacqueline_Emerson', 'Cyndi_Lauper', 'Mena_Suvari',\n",
       "       'Martin_Clunes', 'Cassandra_Peterson', 'Rik_Mayall',\n",
       "       'Ryan_McPartlin', 'Reggie_Lee', 'Max_Thieriot', 'Robbie_Amell',\n",
       "       'Michael_Kelly', 'Olga_Kurylenko', 'Mila_Kunis', 'Fiona_Shaw',\n",
       "       'Omari_Hardwick', 'Betty_White', 'James_Frain', 'Neve_Campbell',\n",
       "       'Nathalie_Emmanuel', 'Jack_Whitehall', 'Michael_K._Williams',\n",
       "       'Rico_Rodriguez', 'Miranda_Richardson', 'Reece_Ritchie',\n",
       "       'Melora_Hardin', 'Sandra_Bernhard', 'Aamir_Khan', 'Finola_Hughes',\n",
       "       'Sarah_Bolger', 'Sam_Worthington', 'Phyllis_Diller', 'Arden_Cho',\n",
       "       'Miranda_Lambert', 'Odeya_Rush', 'Rooney_Mara', 'Rob_Riggle',\n",
       "       'Michelle_Williams', 'Parineeti_Chopra', 'James_Earl_Jones',\n",
       "       'Om_Puri', 'Nate_Parker', 'Odette_Annable', 'Ansel_Elgort',\n",
       "       'Michael_Jai_White', 'Sally_Hawkins', 'Quentin_Tarantino',\n",
       "       'Sanaa_Lathan', 'Philip_Glenister', 'Fergie', 'Hilary_Swank',\n",
       "       'Michelle_Stafford', 'Hilarie_Burton', 'Robert_Picardo',\n",
       "       'Paolo_Sorrentino', 'Penn_Jillette', 'A.R._Rahman',\n",
       "       'Rebecca_Mader', 'Melissa_Rycroft', 'Max_Irons',\n",
       "       'Moritz_Bleibtreu', 'Prince', 'Anne_Hathaway', 'Ruby_Dee',\n",
       "       'Ronda_Rousey', 'Sam_Trammell', 'Olivia_Williams', 'Nelly',\n",
       "       'A.J._Buckley', 'Retta', 'Shannen_Doherty', 'Sasha_Pieterse',\n",
       "       'Octavia_Spencer', 'Natalie_Zea', 'Felicity_Jones', 'Sara_Gilbert',\n",
       "       'Reba_McEntire', 'Shemar_Moore', 'Ricky_Gervais', 'Pamela_Adlon',\n",
       "       'Ron_Perlman', 'Melissa_Rauch', 'Sarah_Wayne_Callies',\n",
       "       'Morena_Baccarin', 'Seann_William_Scott', 'Norman_Reedus',\n",
       "       'Santiago_Cabrera', 'Sammy_Davis_Jr.', 'Paul_Wesley', 'Rami_Malek',\n",
       "       'Ruth_Jones', 'Sharon_Gless', 'Michelle_Krusiec', 'Noomi_Rapace',\n",
       "       'Rowan_Atkinson', 'Moran_Atias', 'Shane_West', 'Paul_Sorvino',\n",
       "       'Shiri_Appleby', 'Olivia_Wilde', 'Ron_Livingston',\n",
       "       'Sammi_Hanratty', 'Stephen_Colbert', 'Ralph_Macchio',\n",
       "       'Richard_Madden', 'Stana_Katic', 'Melissa_Peterman',\n",
       "       'Preity_Zinta', 'Sofia_Coppola', 'Sandra_Oh', 'Noel_Fielding',\n",
       "       'Robert_Carlyle', 'Sarah_Palin', 'Steven_Soderbergh',\n",
       "       'Seth_MacFarlane', 'Sidse_Babett_Knudsen', 'Sharni_Vinson',\n",
       "       'Paloma_Faith', 'Sean_Patrick_Flanery', 'Noel_Clarke',\n",
       "       'Richard_Kind', 'Rutger_Hauer', 'Samira_Wiley', 'Shiloh_Fernandez',\n",
       "       'Ralf_Little', 'Natalie_Martinez', 'Ryan_Potter', 'Sonja_Sohn',\n",
       "       'Peter_Jackson', 'Patton_Oswalt', 'Tabu', 'Melissa_McCarthy',\n",
       "       'Pooja_Kumar', 'Suzanne_Pleshette', 'Simon_Callow',\n",
       "       'Rosie_Huntington-Whiteley', 'Stephen_Mangan', 'Ruta_Lee',\n",
       "       'Steve_Burton', 'Tamala_Jones', 'Sarah_Hyland', 'Nina_Hoss',\n",
       "       'Sunny_Leone', 'Nina_Arianda', 'Sterling_Knight',\n",
       "       'Stefanie_Powers', 'Samantha_Barks', 'Richard_Hammond',\n",
       "       'Ryan_Phillippe', 'Stacy_Keach', 'Sidharth_Malhotra',\n",
       "       'Rainn_Wilson', 'Ted_Danson', 'Rob_Reiner', 'Simon_Baker',\n",
       "       'Tamera_Mowry-Housley', 'Sam_Palladio', 'Tahmoh_Penikett',\n",
       "       'Taryn_Manning', 'Nikolaj_Coster-Waldau', 'Sherri_Shepherd',\n",
       "       'Stephen_Merchant', 'Smokey_Robinson', 'Roshon_Fegan',\n",
       "       'Nicole_Scherzinger', 'Peter_Facinelli', 'Sharlto_Copley',\n",
       "       'Nicole_Richie', 'Serinda_Swan', 'Stanley_Tucci',\n",
       "       'Silas_Weir_Mitchell', 'Nicki_Minaj', 'Spencer_Boldman',\n",
       "       'Steven_Moffat', 'Nick_Kroll', 'Sung_Kang', 'Shahid_Kapoor',\n",
       "       'Sonam_Kapoor'], dtype=object)"
      ]
     },
     "execution_count": 37,
     "metadata": {
      "tags": []
     },
     "output_type": "execute_result"
    }
   ],
   "source": [
    "full_df.name.unique()"
   ]
  },
  {
   "cell_type": "code",
   "execution_count": 0,
   "metadata": {
    "colab": {},
    "colab_type": "code",
    "id": "Kj-xnF4HjgRm"
   },
   "outputs": [],
   "source": []
  },
  {
   "cell_type": "code",
   "execution_count": 0,
   "metadata": {
    "colab": {},
    "colab_type": "code",
    "id": "dWtWQPA2jgNr"
   },
   "outputs": [],
   "source": []
  },
  {
   "cell_type": "code",
   "execution_count": 0,
   "metadata": {
    "colab": {},
    "colab_type": "code",
    "id": "2tqDL1KEjgKS"
   },
   "outputs": [],
   "source": []
  },
  {
   "cell_type": "markdown",
   "metadata": {
    "colab_type": "text",
    "id": "_qhqxihs35fb"
   },
   "source": [
    "#Stuff below is irrelevant to this project"
   ]
  },
  {
   "cell_type": "markdown",
   "metadata": {
    "colab_type": "text",
    "id": "Dld2qPgRsWcg"
   },
   "source": [
    "## Concatenate the file clips into full videos"
   ]
  },
  {
   "cell_type": "markdown",
   "metadata": {
    "colab_type": "text",
    "id": "EJ8x_XbqsWch"
   },
   "source": [
    "According to the article the final dataset consists of 121 videos including 61 deceptive and 60 truthful trial clips. The videos are written in the format 'trial_lie_001_000.mp4' - 'trial_lie_001_004.mp4' and 'trial_truth_041_000.mp4' - 'trial_truth_041_008.mp4'. The exact number of chunks per video is unknown."
   ]
  },
  {
   "cell_type": "code",
   "execution_count": 0,
   "metadata": {
    "colab": {},
    "colab_type": "code",
    "id": "34N66mRqsWci"
   },
   "outputs": [],
   "source": [
    "# Get the filenames in the directory: video_chunks\n",
    "files = [f for f in listdir('video_chunks/') if isfile(join('video_chunks/',f))]\n",
    "files.pop(0) # .DS_Store is first element in the list, don't need this"
   ]
  },
  {
   "cell_type": "code",
   "execution_count": 0,
   "metadata": {
    "colab": {},
    "colab_type": "code",
    "id": "i-Jx0rPlsWck"
   },
   "outputs": [],
   "source": [
    "print(len(files)) # 829. matches how many video files I have in my directory \n",
    "files"
   ]
  },
  {
   "cell_type": "code",
   "execution_count": 0,
   "metadata": {
    "colab": {},
    "colab_type": "code",
    "id": "Sl9waUKGsWcn"
   },
   "outputs": [],
   "source": [
    "# Split files list into truth list and lie list\n",
    "truth = 'trial_truth_'\n",
    "lie = 'trial_lie_'\n",
    "truth_list = list(filter(lambda file: file.startswith(truth),files))\n",
    "lie_list = list(filter(lambda file: file.startswith(lie),files))"
   ]
  },
  {
   "cell_type": "code",
   "execution_count": 0,
   "metadata": {
    "colab": {},
    "colab_type": "code",
    "id": "mP46pfPosWcq"
   },
   "outputs": [],
   "source": [
    "# Format list into dictionary\n",
    "lie_dict = {}\n",
    "for file in lie_list:\n",
    "    try: \n",
    "        lie_dict[file[10:13]]: lie_dict[file[10:13]].append(file) # append filename to appropriate key\n",
    "    except:\n",
    "        lie_dict[file[10:13]] = [] # create key with value as empty list\n",
    "        lie_dict[file[10:13]]: lie_dict[file[10:13]].append(file) # append filename to appropriate key\n",
    "\n",
    "truth_dict = {}\n",
    "for file in truth_list:\n",
    "    try: \n",
    "        truth_dict[file[12:15]]: truth_dict[file[12:15]].append(file)\n",
    "    except:\n",
    "        truth_dict[file[12:15]] = []\n",
    "        truth_dict[file[12:15]]: truth_dict[file[12:15]].append(file)  "
   ]
  },
  {
   "cell_type": "code",
   "execution_count": 0,
   "metadata": {
    "colab": {},
    "colab_type": "code",
    "id": "x2qXC7_zsWct",
    "scrolled": true
   },
   "outputs": [],
   "source": [
    "# Concat truth videos and save them in a new folder\n",
    "# Had to restart kernel and start at stopping point because the error was OSError: [Errno 24] Too many open files'\n",
    "\n",
    "try:\n",
    "    for key in list(truth_dict.keys())[49:]: # There are 50 keys in the list. some numbers are skipped\n",
    "        vids = [VideoFileClip(\"Video_chunks/{}\".format(clip)) for clip in truth_dict[key]] # read each clip, save as list of clips\n",
    "        full_video = concatenate_videoclips(vids) # put all the chunks together to one video\n",
    "        name = truth_dict[key][0][:15] # call it the appropriate name\n",
    "        full_video.write_videofile('videos/'+name+'.mp4') # write the full video and save in a diff. folder\n",
    "except OSError:\n",
    "    print('stopped at index: {}'.format(list(truth_dict.keys()).index(key)))\n",
    "    # Clear the kernel and change the first line of try to start at the index it failed on"
   ]
  },
  {
   "cell_type": "code",
   "execution_count": 0,
   "metadata": {
    "colab": {},
    "colab_type": "code",
    "id": "FhQkwMcGsWcw"
   },
   "outputs": [],
   "source": [
    "# Concat lie videos and save them in a new folder\n",
    "# Had to restart kernel and start at stopping point because the error was OSError: [Errno 24] Too many open files'\n",
    "\n",
    "try:\n",
    "    for key in list(lie_dict.keys())[55:]: # There are 61 keys in the list. some numbers are skipped\n",
    "        vids = [VideoFileClip(\"Video_chunks/{}\".format(clip)) for clip in lie_dict[key]] # read each clip, save as list of clips\n",
    "        full_video = concatenate_videoclips(vids) # put all the chunks together to one video\n",
    "        name = lie_dict[key][0][:13] # call it the appropriate name\n",
    "        full_video.write_videofile('videos/'+name+'.mp4') # write the full video and save in a diff. folder\n",
    "except OSError:\n",
    "    print('stopped at index: {}'.format(list(lie_dict.keys()).index(key)))\n",
    "    # Clear the kernel and change the first line of try to start at the index it failed on"
   ]
  },
  {
   "cell_type": "markdown",
   "metadata": {
    "colab_type": "text",
    "id": "W8xdt-DosWcz"
   },
   "source": [
    "## Get audio from each video"
   ]
  },
  {
   "cell_type": "code",
   "execution_count": 0,
   "metadata": {
    "colab": {},
    "colab_type": "code",
    "id": "wuP4N74DsWcz",
    "outputId": "ad2ef2e9-517a-4638-a5f1-075bb1585581"
   },
   "outputs": [
    {
     "data": {
      "text/plain": [
       "'.DS_Store'"
      ]
     },
     "execution_count": 6,
     "metadata": {
      "tags": []
     },
     "output_type": "execute_result"
    }
   ],
   "source": [
    "# Get the filenames in the directory: video_chunks\n",
    "videos = [f for f in listdir('videos/')]\n",
    "videos.pop(0)# .DS_Store is first element in the list, don't need this. 109 videos in total"
   ]
  },
  {
   "cell_type": "code",
   "execution_count": 0,
   "metadata": {
    "colab": {},
    "colab_type": "code",
    "collapsed": true,
    "id": "JdJ2EAQPsWc5",
    "outputId": "1f03e60f-b90d-48c7-d593-c314e50aeadf"
   },
   "outputs": [
    {
     "name": "stdout",
     "output_type": "stream",
     "text": [
      "[MoviePy] Writing audio in audio/trial_lie_001.wav\n"
     ]
    },
    {
     "name": "stderr",
     "output_type": "stream",
     "text": [
      "100%|██████████| 377/377 [00:00<00:00, 2556.18it/s]"
     ]
    },
    {
     "name": "stdout",
     "output_type": "stream",
     "text": [
      "[MoviePy] Done.\n"
     ]
    },
    {
     "name": "stderr",
     "output_type": "stream",
     "text": [
      "\n"
     ]
    },
    {
     "name": "stdout",
     "output_type": "stream",
     "text": [
      "[MoviePy] Writing audio in audio/trial_lie_002.wav\n"
     ]
    },
    {
     "name": "stderr",
     "output_type": "stream",
     "text": [
      "100%|██████████| 1381/1381 [00:00<00:00, 2868.92it/s]"
     ]
    },
    {
     "name": "stdout",
     "output_type": "stream",
     "text": [
      "[MoviePy] Done.\n"
     ]
    },
    {
     "name": "stderr",
     "output_type": "stream",
     "text": [
      "\n"
     ]
    },
    {
     "name": "stdout",
     "output_type": "stream",
     "text": [
      "[MoviePy] Writing audio in audio/trial_lie_003.wav\n"
     ]
    },
    {
     "name": "stderr",
     "output_type": "stream",
     "text": [
      "100%|██████████| 158/158 [00:00<00:00, 2634.74it/s]"
     ]
    },
    {
     "name": "stdout",
     "output_type": "stream",
     "text": [
      "[MoviePy] Done.\n",
      "[MoviePy] Writing audio in audio/trial_lie_004.wav\n"
     ]
    },
    {
     "name": "stderr",
     "output_type": "stream",
     "text": [
      "\n",
      "100%|██████████| 258/258 [00:00<00:00, 2719.71it/s]"
     ]
    },
    {
     "name": "stdout",
     "output_type": "stream",
     "text": [
      "[MoviePy] Done.\n"
     ]
    },
    {
     "name": "stderr",
     "output_type": "stream",
     "text": [
      "\n"
     ]
    },
    {
     "name": "stdout",
     "output_type": "stream",
     "text": [
      "[MoviePy] Writing audio in audio/trial_lie_005.wav\n"
     ]
    },
    {
     "name": "stderr",
     "output_type": "stream",
     "text": [
      "100%|██████████| 1181/1181 [00:00<00:00, 2720.25it/s]"
     ]
    },
    {
     "name": "stdout",
     "output_type": "stream",
     "text": [
      "[MoviePy] Done.\n"
     ]
    },
    {
     "name": "stderr",
     "output_type": "stream",
     "text": [
      "\n"
     ]
    },
    {
     "name": "stdout",
     "output_type": "stream",
     "text": [
      "[MoviePy] Writing audio in audio/trial_lie_006.wav\n"
     ]
    },
    {
     "name": "stderr",
     "output_type": "stream",
     "text": [
      "100%|██████████| 404/404 [00:00<00:00, 2714.65it/s]"
     ]
    },
    {
     "name": "stdout",
     "output_type": "stream",
     "text": [
      "[MoviePy] Done.\n"
     ]
    },
    {
     "name": "stderr",
     "output_type": "stream",
     "text": [
      "\n"
     ]
    },
    {
     "name": "stdout",
     "output_type": "stream",
     "text": [
      "[MoviePy] Writing audio in audio/trial_lie_007.wav\n"
     ]
    },
    {
     "name": "stderr",
     "output_type": "stream",
     "text": [
      "100%|██████████| 1034/1034 [00:00<00:00, 2861.60it/s]"
     ]
    },
    {
     "name": "stdout",
     "output_type": "stream",
     "text": [
      "[MoviePy] Done.\n"
     ]
    },
    {
     "name": "stderr",
     "output_type": "stream",
     "text": [
      "\n"
     ]
    },
    {
     "name": "stdout",
     "output_type": "stream",
     "text": [
      "[MoviePy] Writing audio in audio/trial_lie_008.wav\n"
     ]
    },
    {
     "name": "stderr",
     "output_type": "stream",
     "text": [
      "100%|██████████| 163/163 [00:00<00:00, 2695.55it/s]"
     ]
    },
    {
     "name": "stdout",
     "output_type": "stream",
     "text": [
      "[MoviePy] Done.\n"
     ]
    },
    {
     "name": "stderr",
     "output_type": "stream",
     "text": [
      "\n"
     ]
    },
    {
     "name": "stdout",
     "output_type": "stream",
     "text": [
      "[MoviePy] Writing audio in audio/trial_lie_009.wav\n"
     ]
    },
    {
     "name": "stderr",
     "output_type": "stream",
     "text": [
      "100%|██████████| 457/457 [00:00<00:00, 2391.07it/s]\n"
     ]
    },
    {
     "name": "stdout",
     "output_type": "stream",
     "text": [
      "[MoviePy] Done.\n",
      "[MoviePy] Writing audio in audio/trial_lie_010.wav\n"
     ]
    },
    {
     "name": "stderr",
     "output_type": "stream",
     "text": [
      "100%|██████████| 646/646 [00:00<00:00, 2867.08it/s]"
     ]
    },
    {
     "name": "stdout",
     "output_type": "stream",
     "text": [
      "[MoviePy] Done.\n"
     ]
    },
    {
     "name": "stderr",
     "output_type": "stream",
     "text": [
      "\n"
     ]
    },
    {
     "name": "stdout",
     "output_type": "stream",
     "text": [
      "[MoviePy] Writing audio in audio/trial_lie_011.wav\n"
     ]
    },
    {
     "name": "stderr",
     "output_type": "stream",
     "text": [
      "100%|██████████| 745/745 [00:00<00:00, 2855.76it/s]\n"
     ]
    },
    {
     "name": "stdout",
     "output_type": "stream",
     "text": [
      "[MoviePy] Done.\n",
      "[MoviePy] Writing audio in audio/trial_lie_012.wav\n"
     ]
    },
    {
     "name": "stderr",
     "output_type": "stream",
     "text": [
      "100%|██████████| 176/176 [00:00<00:00, 2625.41it/s]"
     ]
    },
    {
     "name": "stdout",
     "output_type": "stream",
     "text": [
      "[MoviePy] Done.\n"
     ]
    },
    {
     "name": "stderr",
     "output_type": "stream",
     "text": [
      "\n"
     ]
    },
    {
     "name": "stdout",
     "output_type": "stream",
     "text": [
      "[MoviePy] Writing audio in audio/trial_lie_013.wav\n"
     ]
    },
    {
     "name": "stderr",
     "output_type": "stream",
     "text": [
      "100%|██████████| 422/422 [00:00<00:00, 2685.66it/s]"
     ]
    },
    {
     "name": "stdout",
     "output_type": "stream",
     "text": [
      "[MoviePy] Done.\n"
     ]
    },
    {
     "name": "stderr",
     "output_type": "stream",
     "text": [
      "\n"
     ]
    },
    {
     "name": "stdout",
     "output_type": "stream",
     "text": [
      "[MoviePy] Writing audio in audio/trial_lie_014.wav\n"
     ]
    },
    {
     "name": "stderr",
     "output_type": "stream",
     "text": [
      "100%|██████████| 335/335 [00:00<00:00, 2467.03it/s]"
     ]
    },
    {
     "name": "stdout",
     "output_type": "stream",
     "text": [
      "[MoviePy] Done.\n"
     ]
    },
    {
     "name": "stderr",
     "output_type": "stream",
     "text": [
      "\n"
     ]
    },
    {
     "name": "stdout",
     "output_type": "stream",
     "text": [
      "[MoviePy] Writing audio in audio/trial_lie_015.wav\n"
     ]
    },
    {
     "name": "stderr",
     "output_type": "stream",
     "text": [
      "100%|██████████| 778/778 [00:00<00:00, 2831.39it/s]"
     ]
    },
    {
     "name": "stdout",
     "output_type": "stream",
     "text": [
      "[MoviePy] Done.\n"
     ]
    },
    {
     "name": "stderr",
     "output_type": "stream",
     "text": [
      "\n"
     ]
    },
    {
     "name": "stdout",
     "output_type": "stream",
     "text": [
      "[MoviePy] Writing audio in audio/trial_lie_016.wav\n"
     ]
    },
    {
     "name": "stderr",
     "output_type": "stream",
     "text": [
      "100%|██████████| 833/833 [00:00<00:00, 2721.75it/s]"
     ]
    },
    {
     "name": "stdout",
     "output_type": "stream",
     "text": [
      "[MoviePy] Done.\n"
     ]
    },
    {
     "name": "stderr",
     "output_type": "stream",
     "text": [
      "\n"
     ]
    },
    {
     "name": "stdout",
     "output_type": "stream",
     "text": [
      "[MoviePy] Writing audio in audio/trial_lie_017.wav\n"
     ]
    },
    {
     "name": "stderr",
     "output_type": "stream",
     "text": [
      "100%|██████████| 1000/1000 [00:00<00:00, 2502.58it/s]\n"
     ]
    },
    {
     "name": "stdout",
     "output_type": "stream",
     "text": [
      "[MoviePy] Done.\n",
      "[MoviePy] Writing audio in audio/trial_lie_018.wav\n"
     ]
    },
    {
     "name": "stderr",
     "output_type": "stream",
     "text": [
      "100%|██████████| 773/773 [00:00<00:00, 2681.49it/s]\n"
     ]
    },
    {
     "name": "stdout",
     "output_type": "stream",
     "text": [
      "[MoviePy] Done.\n",
      "[MoviePy] Writing audio in audio/trial_lie_019.wav\n"
     ]
    },
    {
     "name": "stderr",
     "output_type": "stream",
     "text": [
      "100%|██████████| 823/823 [00:00<00:00, 2785.83it/s]\n"
     ]
    },
    {
     "name": "stdout",
     "output_type": "stream",
     "text": [
      "[MoviePy] Done.\n",
      "[MoviePy] Writing audio in audio/trial_lie_020.wav\n"
     ]
    },
    {
     "name": "stderr",
     "output_type": "stream",
     "text": [
      "100%|██████████| 271/271 [00:00<00:00, 2758.04it/s]"
     ]
    },
    {
     "name": "stdout",
     "output_type": "stream",
     "text": [
      "[MoviePy] Done.\n"
     ]
    },
    {
     "name": "stderr",
     "output_type": "stream",
     "text": [
      "\n"
     ]
    },
    {
     "name": "stdout",
     "output_type": "stream",
     "text": [
      "[MoviePy] Writing audio in audio/trial_lie_021.wav\n"
     ]
    },
    {
     "name": "stderr",
     "output_type": "stream",
     "text": [
      "100%|██████████| 421/421 [00:00<00:00, 2740.55it/s]"
     ]
    },
    {
     "name": "stdout",
     "output_type": "stream",
     "text": [
      "[MoviePy] Done.\n"
     ]
    },
    {
     "name": "stderr",
     "output_type": "stream",
     "text": [
      "\n"
     ]
    },
    {
     "name": "stdout",
     "output_type": "stream",
     "text": [
      "[MoviePy] Writing audio in audio/trial_lie_022.wav\n"
     ]
    },
    {
     "name": "stderr",
     "output_type": "stream",
     "text": [
      "100%|██████████| 939/939 [00:00<00:00, 2810.95it/s]"
     ]
    },
    {
     "name": "stdout",
     "output_type": "stream",
     "text": [
      "[MoviePy] Done.\n"
     ]
    },
    {
     "name": "stderr",
     "output_type": "stream",
     "text": [
      "\n"
     ]
    },
    {
     "name": "stdout",
     "output_type": "stream",
     "text": [
      "[MoviePy] Writing audio in audio/trial_lie_023.wav\n"
     ]
    },
    {
     "name": "stderr",
     "output_type": "stream",
     "text": [
      "100%|██████████| 994/994 [00:00<00:00, 2861.38it/s]"
     ]
    },
    {
     "name": "stdout",
     "output_type": "stream",
     "text": [
      "[MoviePy] Done.\n"
     ]
    },
    {
     "name": "stderr",
     "output_type": "stream",
     "text": [
      "\n"
     ]
    },
    {
     "name": "stdout",
     "output_type": "stream",
     "text": [
      "[MoviePy] Writing audio in audio/trial_lie_024.wav\n"
     ]
    },
    {
     "name": "stderr",
     "output_type": "stream",
     "text": [
      "100%|██████████| 564/564 [00:00<00:00, 2743.41it/s]"
     ]
    },
    {
     "name": "stdout",
     "output_type": "stream",
     "text": [
      "[MoviePy] Done.\n"
     ]
    },
    {
     "name": "stderr",
     "output_type": "stream",
     "text": [
      "\n"
     ]
    },
    {
     "name": "stdout",
     "output_type": "stream",
     "text": [
      "[MoviePy] Writing audio in audio/trial_lie_025.wav\n"
     ]
    },
    {
     "name": "stderr",
     "output_type": "stream",
     "text": [
      "100%|██████████| 668/668 [00:00<00:00, 2808.90it/s]"
     ]
    },
    {
     "name": "stdout",
     "output_type": "stream",
     "text": [
      "[MoviePy] Done.\n"
     ]
    },
    {
     "name": "stderr",
     "output_type": "stream",
     "text": [
      "\n"
     ]
    },
    {
     "name": "stdout",
     "output_type": "stream",
     "text": [
      "[MoviePy] Writing audio in audio/trial_lie_026.wav\n"
     ]
    },
    {
     "name": "stderr",
     "output_type": "stream",
     "text": [
      "100%|██████████| 642/642 [00:00<00:00, 2799.23it/s]"
     ]
    },
    {
     "name": "stdout",
     "output_type": "stream",
     "text": [
      "[MoviePy] Done.\n"
     ]
    },
    {
     "name": "stderr",
     "output_type": "stream",
     "text": [
      "\n"
     ]
    },
    {
     "name": "stdout",
     "output_type": "stream",
     "text": [
      "[MoviePy] Writing audio in audio/trial_lie_027.wav\n"
     ]
    },
    {
     "name": "stderr",
     "output_type": "stream",
     "text": [
      "100%|██████████| 611/611 [00:00<00:00, 2835.29it/s]"
     ]
    },
    {
     "name": "stdout",
     "output_type": "stream",
     "text": [
      "[MoviePy] Done.\n"
     ]
    },
    {
     "name": "stderr",
     "output_type": "stream",
     "text": [
      "\n"
     ]
    },
    {
     "name": "stdout",
     "output_type": "stream",
     "text": [
      "[MoviePy] Writing audio in audio/trial_lie_028.wav\n"
     ]
    },
    {
     "name": "stderr",
     "output_type": "stream",
     "text": [
      "100%|██████████| 559/559 [00:00<00:00, 2859.13it/s]"
     ]
    },
    {
     "name": "stdout",
     "output_type": "stream",
     "text": [
      "[MoviePy] Done.\n"
     ]
    },
    {
     "name": "stderr",
     "output_type": "stream",
     "text": [
      "\n"
     ]
    },
    {
     "name": "stdout",
     "output_type": "stream",
     "text": [
      "[MoviePy] Writing audio in audio/trial_lie_029.wav\n"
     ]
    },
    {
     "name": "stderr",
     "output_type": "stream",
     "text": [
      "100%|██████████| 476/476 [00:00<00:00, 2827.53it/s]"
     ]
    },
    {
     "name": "stdout",
     "output_type": "stream",
     "text": [
      "[MoviePy] Done.\n"
     ]
    },
    {
     "name": "stderr",
     "output_type": "stream",
     "text": [
      "\n"
     ]
    },
    {
     "name": "stdout",
     "output_type": "stream",
     "text": [
      "[MoviePy] Writing audio in audio/trial_lie_030.wav\n"
     ]
    },
    {
     "name": "stderr",
     "output_type": "stream",
     "text": [
      "100%|██████████| 839/839 [00:00<00:00, 2690.62it/s]"
     ]
    },
    {
     "name": "stdout",
     "output_type": "stream",
     "text": [
      "[MoviePy] Done.\n"
     ]
    },
    {
     "name": "stderr",
     "output_type": "stream",
     "text": [
      "\n"
     ]
    },
    {
     "name": "stdout",
     "output_type": "stream",
     "text": [
      "[MoviePy] Writing audio in audio/trial_lie_031.wav\n"
     ]
    },
    {
     "name": "stderr",
     "output_type": "stream",
     "text": [
      "100%|██████████| 593/593 [00:00<00:00, 2863.21it/s]"
     ]
    },
    {
     "name": "stdout",
     "output_type": "stream",
     "text": [
      "[MoviePy] Done.\n"
     ]
    },
    {
     "name": "stderr",
     "output_type": "stream",
     "text": [
      "\n"
     ]
    },
    {
     "name": "stdout",
     "output_type": "stream",
     "text": [
      "[MoviePy] Writing audio in audio/trial_lie_033.wav\n"
     ]
    },
    {
     "name": "stderr",
     "output_type": "stream",
     "text": [
      "100%|██████████| 997/997 [00:00<00:00, 2853.74it/s]"
     ]
    },
    {
     "name": "stdout",
     "output_type": "stream",
     "text": [
      "[MoviePy] Done.\n"
     ]
    },
    {
     "name": "stderr",
     "output_type": "stream",
     "text": [
      "\n"
     ]
    },
    {
     "name": "stdout",
     "output_type": "stream",
     "text": [
      "[MoviePy] Writing audio in audio/trial_lie_035.wav\n"
     ]
    },
    {
     "name": "stderr",
     "output_type": "stream",
     "text": [
      "100%|██████████| 779/779 [00:00<00:00, 2923.37it/s]"
     ]
    },
    {
     "name": "stdout",
     "output_type": "stream",
     "text": [
      "[MoviePy] Done.\n"
     ]
    },
    {
     "name": "stderr",
     "output_type": "stream",
     "text": [
      "\n"
     ]
    },
    {
     "name": "stdout",
     "output_type": "stream",
     "text": [
      "[MoviePy] Writing audio in audio/trial_lie_036.wav\n"
     ]
    },
    {
     "name": "stderr",
     "output_type": "stream",
     "text": [
      "100%|██████████| 864/864 [00:00<00:00, 2998.00it/s]"
     ]
    },
    {
     "name": "stdout",
     "output_type": "stream",
     "text": [
      "[MoviePy] Done.\n"
     ]
    },
    {
     "name": "stderr",
     "output_type": "stream",
     "text": [
      "\n"
     ]
    },
    {
     "name": "stdout",
     "output_type": "stream",
     "text": [
      "[MoviePy] Writing audio in audio/trial_lie_037.wav\n"
     ]
    },
    {
     "name": "stderr",
     "output_type": "stream",
     "text": [
      "100%|██████████| 577/577 [00:00<00:00, 2977.31it/s]\n"
     ]
    },
    {
     "name": "stdout",
     "output_type": "stream",
     "text": [
      "[MoviePy] Done.\n",
      "[MoviePy] Writing audio in audio/trial_lie_038.wav\n"
     ]
    },
    {
     "name": "stderr",
     "output_type": "stream",
     "text": [
      "100%|██████████| 511/511 [00:00<00:00, 2902.50it/s]"
     ]
    },
    {
     "name": "stdout",
     "output_type": "stream",
     "text": [
      "[MoviePy] Done.\n"
     ]
    },
    {
     "name": "stderr",
     "output_type": "stream",
     "text": [
      "\n"
     ]
    },
    {
     "name": "stdout",
     "output_type": "stream",
     "text": [
      "[MoviePy] Writing audio in audio/trial_lie_039.wav\n"
     ]
    },
    {
     "name": "stderr",
     "output_type": "stream",
     "text": [
      "100%|██████████| 666/666 [00:00<00:00, 2993.57it/s]"
     ]
    },
    {
     "name": "stdout",
     "output_type": "stream",
     "text": [
      "[MoviePy] Done.\n"
     ]
    },
    {
     "name": "stderr",
     "output_type": "stream",
     "text": [
      "\n"
     ]
    },
    {
     "name": "stdout",
     "output_type": "stream",
     "text": [
      "[MoviePy] Writing audio in audio/trial_lie_040.wav\n"
     ]
    },
    {
     "name": "stderr",
     "output_type": "stream",
     "text": [
      "100%|██████████| 533/533 [00:00<00:00, 2947.86it/s]"
     ]
    },
    {
     "name": "stdout",
     "output_type": "stream",
     "text": [
      "[MoviePy] Done.\n"
     ]
    },
    {
     "name": "stderr",
     "output_type": "stream",
     "text": [
      "\n"
     ]
    },
    {
     "name": "stdout",
     "output_type": "stream",
     "text": [
      "[MoviePy] Writing audio in audio/trial_lie_041.wav\n"
     ]
    },
    {
     "name": "stderr",
     "output_type": "stream",
     "text": [
      "100%|██████████| 576/576 [00:00<00:00, 2907.48it/s]\n"
     ]
    },
    {
     "name": "stdout",
     "output_type": "stream",
     "text": [
      "[MoviePy] Done.\n",
      "[MoviePy] Writing audio in audio/trial_lie_042.wav\n"
     ]
    },
    {
     "name": "stderr",
     "output_type": "stream",
     "text": [
      "100%|██████████| 532/532 [00:00<00:00, 3004.38it/s]"
     ]
    },
    {
     "name": "stdout",
     "output_type": "stream",
     "text": [
      "[MoviePy] Done.\n"
     ]
    },
    {
     "name": "stderr",
     "output_type": "stream",
     "text": [
      "\n"
     ]
    },
    {
     "name": "stdout",
     "output_type": "stream",
     "text": [
      "[MoviePy] Writing audio in audio/trial_lie_043.wav\n"
     ]
    },
    {
     "name": "stderr",
     "output_type": "stream",
     "text": [
      "100%|██████████| 313/313 [00:00<00:00, 2812.11it/s]"
     ]
    },
    {
     "name": "stdout",
     "output_type": "stream",
     "text": [
      "[MoviePy] Done.\n"
     ]
    },
    {
     "name": "stderr",
     "output_type": "stream",
     "text": [
      "\n"
     ]
    },
    {
     "name": "stdout",
     "output_type": "stream",
     "text": [
      "[MoviePy] Writing audio in audio/trial_lie_044.wav\n"
     ]
    },
    {
     "name": "stderr",
     "output_type": "stream",
     "text": [
      "100%|██████████| 202/202 [00:00<00:00, 2602.46it/s]"
     ]
    },
    {
     "name": "stdout",
     "output_type": "stream",
     "text": [
      "[MoviePy] Done.\n"
     ]
    },
    {
     "name": "stderr",
     "output_type": "stream",
     "text": [
      "\n"
     ]
    },
    {
     "name": "stdout",
     "output_type": "stream",
     "text": [
      "[MoviePy] Writing audio in audio/trial_lie_045.wav\n"
     ]
    },
    {
     "name": "stderr",
     "output_type": "stream",
     "text": [
      "100%|██████████| 423/423 [00:00<00:00, 2702.84it/s]"
     ]
    },
    {
     "name": "stdout",
     "output_type": "stream",
     "text": [
      "[MoviePy] Done.\n"
     ]
    },
    {
     "name": "stderr",
     "output_type": "stream",
     "text": [
      "\n"
     ]
    },
    {
     "name": "stdout",
     "output_type": "stream",
     "text": [
      "[MoviePy] Writing audio in audio/trial_lie_046.wav\n"
     ]
    },
    {
     "name": "stderr",
     "output_type": "stream",
     "text": [
      "100%|██████████| 732/732 [00:00<00:00, 2933.33it/s]"
     ]
    },
    {
     "name": "stdout",
     "output_type": "stream",
     "text": [
      "[MoviePy] Done.\n"
     ]
    },
    {
     "name": "stderr",
     "output_type": "stream",
     "text": [
      "\n"
     ]
    },
    {
     "name": "stdout",
     "output_type": "stream",
     "text": [
      "[MoviePy] Writing audio in audio/trial_lie_047.wav\n"
     ]
    },
    {
     "name": "stderr",
     "output_type": "stream",
     "text": [
      "100%|██████████| 357/357 [00:00<00:00, 2607.00it/s]"
     ]
    },
    {
     "name": "stdout",
     "output_type": "stream",
     "text": [
      "[MoviePy] Done.\n"
     ]
    },
    {
     "name": "stderr",
     "output_type": "stream",
     "text": [
      "\n"
     ]
    },
    {
     "name": "stdout",
     "output_type": "stream",
     "text": [
      "[MoviePy] Writing audio in audio/trial_lie_048.wav\n"
     ]
    },
    {
     "name": "stderr",
     "output_type": "stream",
     "text": [
      "100%|██████████| 1063/1063 [00:00<00:00, 2890.64it/s]"
     ]
    },
    {
     "name": "stdout",
     "output_type": "stream",
     "text": [
      "[MoviePy] Done.\n"
     ]
    },
    {
     "name": "stderr",
     "output_type": "stream",
     "text": [
      "\n"
     ]
    },
    {
     "name": "stdout",
     "output_type": "stream",
     "text": [
      "[MoviePy] Writing audio in audio/trial_lie_049.wav\n"
     ]
    },
    {
     "name": "stderr",
     "output_type": "stream",
     "text": [
      "100%|██████████| 511/511 [00:00<00:00, 2938.05it/s]"
     ]
    },
    {
     "name": "stdout",
     "output_type": "stream",
     "text": [
      "[MoviePy] Done.\n"
     ]
    },
    {
     "name": "stderr",
     "output_type": "stream",
     "text": [
      "\n"
     ]
    },
    {
     "name": "stdout",
     "output_type": "stream",
     "text": [
      "[MoviePy] Writing audio in audio/trial_lie_050.wav\n"
     ]
    },
    {
     "name": "stderr",
     "output_type": "stream",
     "text": [
      "100%|██████████| 555/555 [00:00<00:00, 2816.27it/s]\n"
     ]
    },
    {
     "name": "stdout",
     "output_type": "stream",
     "text": [
      "[MoviePy] Done.\n",
      "[MoviePy] Writing audio in audio/trial_lie_051.wav\n"
     ]
    },
    {
     "name": "stderr",
     "output_type": "stream",
     "text": [
      "100%|██████████| 158/158 [00:00<00:00, 3011.41it/s]"
     ]
    },
    {
     "name": "stdout",
     "output_type": "stream",
     "text": [
      "[MoviePy] Done.\n",
      "[MoviePy] Writing audio in audio/trial_lie_052.wav\n"
     ]
    },
    {
     "name": "stderr",
     "output_type": "stream",
     "text": [
      "\n",
      "100%|██████████| 1062/1062 [00:00<00:00, 2928.09it/s]"
     ]
    },
    {
     "name": "stdout",
     "output_type": "stream",
     "text": [
      "[MoviePy] Done.\n"
     ]
    },
    {
     "name": "stderr",
     "output_type": "stream",
     "text": [
      "\n"
     ]
    },
    {
     "name": "stdout",
     "output_type": "stream",
     "text": [
      "[MoviePy] Writing audio in audio/trial_lie_053.wav\n"
     ]
    },
    {
     "name": "stderr",
     "output_type": "stream",
     "text": [
      "100%|██████████| 801/801 [00:00<00:00, 2926.85it/s]"
     ]
    },
    {
     "name": "stdout",
     "output_type": "stream",
     "text": [
      "[MoviePy] Done.\n"
     ]
    },
    {
     "name": "stderr",
     "output_type": "stream",
     "text": [
      "\n"
     ]
    },
    {
     "name": "stdout",
     "output_type": "stream",
     "text": [
      "[MoviePy] Writing audio in audio/trial_lie_054.wav\n"
     ]
    },
    {
     "name": "stderr",
     "output_type": "stream",
     "text": [
      "100%|██████████| 445/445 [00:00<00:00, 2847.16it/s]"
     ]
    },
    {
     "name": "stdout",
     "output_type": "stream",
     "text": [
      "[MoviePy] Done.\n"
     ]
    },
    {
     "name": "stderr",
     "output_type": "stream",
     "text": [
      "\n"
     ]
    },
    {
     "name": "stdout",
     "output_type": "stream",
     "text": [
      "[MoviePy] Writing audio in audio/trial_lie_055.wav\n"
     ]
    },
    {
     "name": "stderr",
     "output_type": "stream",
     "text": [
      "100%|██████████| 709/709 [00:00<00:00, 2828.44it/s]"
     ]
    },
    {
     "name": "stdout",
     "output_type": "stream",
     "text": [
      "[MoviePy] Done.\n"
     ]
    },
    {
     "name": "stderr",
     "output_type": "stream",
     "text": [
      "\n"
     ]
    },
    {
     "name": "stdout",
     "output_type": "stream",
     "text": [
      "[MoviePy] Writing audio in audio/trial_lie_056.wav\n"
     ]
    },
    {
     "name": "stderr",
     "output_type": "stream",
     "text": [
      "100%|██████████| 643/643 [00:00<00:00, 2856.27it/s]"
     ]
    },
    {
     "name": "stdout",
     "output_type": "stream",
     "text": [
      "[MoviePy] Done.\n"
     ]
    },
    {
     "name": "stderr",
     "output_type": "stream",
     "text": [
      "\n"
     ]
    },
    {
     "name": "stdout",
     "output_type": "stream",
     "text": [
      "[MoviePy] Writing audio in audio/trial_lie_057.wav\n"
     ]
    },
    {
     "name": "stderr",
     "output_type": "stream",
     "text": [
      "100%|██████████| 423/423 [00:00<00:00, 2685.23it/s]"
     ]
    },
    {
     "name": "stdout",
     "output_type": "stream",
     "text": [
      "[MoviePy] Done.\n"
     ]
    },
    {
     "name": "stderr",
     "output_type": "stream",
     "text": [
      "\n"
     ]
    },
    {
     "name": "stdout",
     "output_type": "stream",
     "text": [
      "[MoviePy] Writing audio in audio/trial_lie_058.wav\n"
     ]
    },
    {
     "name": "stderr",
     "output_type": "stream",
     "text": [
      "100%|██████████| 489/489 [00:00<00:00, 2880.40it/s]"
     ]
    },
    {
     "name": "stdout",
     "output_type": "stream",
     "text": [
      "[MoviePy] Done.\n"
     ]
    },
    {
     "name": "stderr",
     "output_type": "stream",
     "text": [
      "\n"
     ]
    },
    {
     "name": "stdout",
     "output_type": "stream",
     "text": [
      "[MoviePy] Writing audio in audio/trial_lie_059.wav\n"
     ]
    },
    {
     "name": "stderr",
     "output_type": "stream",
     "text": [
      "100%|██████████| 886/886 [00:00<00:00, 2894.20it/s]"
     ]
    },
    {
     "name": "stdout",
     "output_type": "stream",
     "text": [
      "[MoviePy] Done.\n"
     ]
    },
    {
     "name": "stderr",
     "output_type": "stream",
     "text": [
      "\n"
     ]
    },
    {
     "name": "stdout",
     "output_type": "stream",
     "text": [
      "[MoviePy] Writing audio in audio/trial_lie_060.wav\n"
     ]
    },
    {
     "name": "stderr",
     "output_type": "stream",
     "text": [
      "100%|██████████| 555/555 [00:00<00:00, 2836.39it/s]\n"
     ]
    },
    {
     "name": "stdout",
     "output_type": "stream",
     "text": [
      "[MoviePy] Done.\n",
      "[MoviePy] Writing audio in audio/trial_lie_061.wav\n"
     ]
    },
    {
     "name": "stderr",
     "output_type": "stream",
     "text": [
      "100%|██████████| 643/643 [00:00<00:00, 2859.00it/s]"
     ]
    },
    {
     "name": "stdout",
     "output_type": "stream",
     "text": [
      "[MoviePy] Done.\n"
     ]
    },
    {
     "name": "stderr",
     "output_type": "stream",
     "text": [
      "\n"
     ]
    },
    {
     "name": "stdout",
     "output_type": "stream",
     "text": [
      "[MoviePy] Writing audio in audio/trial_truth_001.wav\n"
     ]
    },
    {
     "name": "stderr",
     "output_type": "stream",
     "text": [
      "100%|██████████| 317/317 [00:00<00:00, 2602.97it/s]"
     ]
    },
    {
     "name": "stdout",
     "output_type": "stream",
     "text": [
      "[MoviePy] Done.\n"
     ]
    },
    {
     "name": "stderr",
     "output_type": "stream",
     "text": [
      "\n"
     ]
    },
    {
     "name": "stdout",
     "output_type": "stream",
     "text": [
      "[MoviePy] Writing audio in audio/trial_truth_002.wav\n"
     ]
    },
    {
     "name": "stderr",
     "output_type": "stream",
     "text": [
      "100%|██████████| 458/458 [00:00<00:00, 2650.65it/s]"
     ]
    },
    {
     "name": "stdout",
     "output_type": "stream",
     "text": [
      "[MoviePy] Done.\n"
     ]
    },
    {
     "name": "stderr",
     "output_type": "stream",
     "text": [
      "\n"
     ]
    },
    {
     "name": "stdout",
     "output_type": "stream",
     "text": [
      "[MoviePy] Writing audio in audio/trial_truth_003.wav\n"
     ]
    },
    {
     "name": "stderr",
     "output_type": "stream",
     "text": [
      "100%|██████████| 283/283 [00:00<00:00, 2732.29it/s]"
     ]
    },
    {
     "name": "stdout",
     "output_type": "stream",
     "text": [
      "[MoviePy] Done.\n"
     ]
    },
    {
     "name": "stderr",
     "output_type": "stream",
     "text": [
      "\n"
     ]
    },
    {
     "name": "stdout",
     "output_type": "stream",
     "text": [
      "[MoviePy] Writing audio in audio/trial_truth_004.wav\n"
     ]
    },
    {
     "name": "stderr",
     "output_type": "stream",
     "text": [
      "100%|██████████| 1799/1799 [00:00<00:00, 2740.74it/s]"
     ]
    },
    {
     "name": "stdout",
     "output_type": "stream",
     "text": [
      "[MoviePy] Done.\n"
     ]
    },
    {
     "name": "stderr",
     "output_type": "stream",
     "text": [
      "\n"
     ]
    },
    {
     "name": "stdout",
     "output_type": "stream",
     "text": [
      "[MoviePy] Writing audio in audio/trial_truth_005.wav\n"
     ]
    },
    {
     "name": "stderr",
     "output_type": "stream",
     "text": [
      "100%|██████████| 769/769 [00:00<00:00, 2829.13it/s]"
     ]
    },
    {
     "name": "stdout",
     "output_type": "stream",
     "text": [
      "[MoviePy] Done.\n"
     ]
    },
    {
     "name": "stderr",
     "output_type": "stream",
     "text": [
      "\n"
     ]
    },
    {
     "name": "stdout",
     "output_type": "stream",
     "text": [
      "[MoviePy] Writing audio in audio/trial_truth_006.wav\n"
     ]
    },
    {
     "name": "stderr",
     "output_type": "stream",
     "text": [
      "100%|██████████| 677/677 [00:00<00:00, 2802.87it/s]"
     ]
    },
    {
     "name": "stdout",
     "output_type": "stream",
     "text": [
      "[MoviePy] Done.\n"
     ]
    },
    {
     "name": "stderr",
     "output_type": "stream",
     "text": [
      "\n"
     ]
    },
    {
     "name": "stdout",
     "output_type": "stream",
     "text": [
      "[MoviePy] Writing audio in audio/trial_truth_007.wav\n"
     ]
    },
    {
     "name": "stderr",
     "output_type": "stream",
     "text": [
      "100%|██████████| 1581/1581 [00:00<00:00, 2538.85it/s]"
     ]
    },
    {
     "name": "stdout",
     "output_type": "stream",
     "text": [
      "[MoviePy] Done.\n"
     ]
    },
    {
     "name": "stderr",
     "output_type": "stream",
     "text": [
      "\n"
     ]
    },
    {
     "name": "stdout",
     "output_type": "stream",
     "text": [
      "[MoviePy] Writing audio in audio/trial_truth_008.wav\n"
     ]
    },
    {
     "name": "stderr",
     "output_type": "stream",
     "text": [
      "100%|██████████| 1011/1011 [00:00<00:00, 2829.56it/s]"
     ]
    },
    {
     "name": "stdout",
     "output_type": "stream",
     "text": [
      "[MoviePy] Done.\n"
     ]
    },
    {
     "name": "stderr",
     "output_type": "stream",
     "text": [
      "\n"
     ]
    },
    {
     "name": "stdout",
     "output_type": "stream",
     "text": [
      "[MoviePy] Writing audio in audio/trial_truth_009.wav\n"
     ]
    },
    {
     "name": "stderr",
     "output_type": "stream",
     "text": [
      "100%|██████████| 504/504 [00:00<00:00, 2551.01it/s]\n"
     ]
    },
    {
     "name": "stdout",
     "output_type": "stream",
     "text": [
      "[MoviePy] Done.\n",
      "[MoviePy] Writing audio in audio/trial_truth_010.wav\n"
     ]
    },
    {
     "name": "stderr",
     "output_type": "stream",
     "text": [
      "100%|██████████| 1615/1615 [00:00<00:00, 2792.21it/s]"
     ]
    },
    {
     "name": "stdout",
     "output_type": "stream",
     "text": [
      "[MoviePy] Done.\n"
     ]
    },
    {
     "name": "stderr",
     "output_type": "stream",
     "text": [
      "\n"
     ]
    },
    {
     "name": "stdout",
     "output_type": "stream",
     "text": [
      "[MoviePy] Writing audio in audio/trial_truth_011.wav\n"
     ]
    },
    {
     "name": "stderr",
     "output_type": "stream",
     "text": [
      "100%|██████████| 945/945 [00:00<00:00, 2904.07it/s]"
     ]
    },
    {
     "name": "stdout",
     "output_type": "stream",
     "text": [
      "[MoviePy] Done.\n"
     ]
    },
    {
     "name": "stderr",
     "output_type": "stream",
     "text": [
      "\n"
     ]
    },
    {
     "name": "stdout",
     "output_type": "stream",
     "text": [
      "[MoviePy] Writing audio in audio/trial_truth_012.wav\n"
     ]
    },
    {
     "name": "stderr",
     "output_type": "stream",
     "text": [
      "100%|██████████| 635/635 [00:00<00:00, 2655.05it/s]"
     ]
    },
    {
     "name": "stdout",
     "output_type": "stream",
     "text": [
      "[MoviePy] Done.\n"
     ]
    },
    {
     "name": "stderr",
     "output_type": "stream",
     "text": [
      "\n"
     ]
    },
    {
     "name": "stdout",
     "output_type": "stream",
     "text": [
      "[MoviePy] Writing audio in audio/trial_truth_013.wav\n"
     ]
    },
    {
     "name": "stderr",
     "output_type": "stream",
     "text": [
      "100%|██████████| 653/653 [00:00<00:00, 2801.32it/s]"
     ]
    },
    {
     "name": "stdout",
     "output_type": "stream",
     "text": [
      "[MoviePy] Done.\n"
     ]
    },
    {
     "name": "stderr",
     "output_type": "stream",
     "text": [
      "\n"
     ]
    },
    {
     "name": "stdout",
     "output_type": "stream",
     "text": [
      "[MoviePy] Writing audio in audio/trial_truth_014.wav\n"
     ]
    },
    {
     "name": "stderr",
     "output_type": "stream",
     "text": [
      "100%|██████████| 304/304 [00:00<00:00, 2821.64it/s]"
     ]
    },
    {
     "name": "stdout",
     "output_type": "stream",
     "text": [
      "[MoviePy] Done.\n"
     ]
    },
    {
     "name": "stderr",
     "output_type": "stream",
     "text": [
      "\n"
     ]
    },
    {
     "name": "stdout",
     "output_type": "stream",
     "text": [
      "[MoviePy] Writing audio in audio/trial_truth_015.wav\n"
     ]
    },
    {
     "name": "stderr",
     "output_type": "stream",
     "text": [
      "100%|██████████| 820/820 [00:00<00:00, 2874.90it/s]"
     ]
    },
    {
     "name": "stdout",
     "output_type": "stream",
     "text": [
      "[MoviePy] Done.\n"
     ]
    },
    {
     "name": "stderr",
     "output_type": "stream",
     "text": [
      "\n"
     ]
    },
    {
     "name": "stdout",
     "output_type": "stream",
     "text": [
      "[MoviePy] Writing audio in audio/trial_truth_016.wav\n"
     ]
    },
    {
     "name": "stderr",
     "output_type": "stream",
     "text": [
      "100%|██████████| 169/169 [00:00<00:00, 2677.53it/s]"
     ]
    },
    {
     "name": "stdout",
     "output_type": "stream",
     "text": [
      "[MoviePy] Done.\n"
     ]
    },
    {
     "name": "stderr",
     "output_type": "stream",
     "text": [
      "\n"
     ]
    },
    {
     "name": "stdout",
     "output_type": "stream",
     "text": [
      "[MoviePy] Writing audio in audio/trial_truth_017.wav\n"
     ]
    },
    {
     "name": "stderr",
     "output_type": "stream",
     "text": [
      "100%|██████████| 103/103 [00:00<00:00, 2623.54it/s]"
     ]
    },
    {
     "name": "stdout",
     "output_type": "stream",
     "text": [
      "[MoviePy] Done.\n"
     ]
    },
    {
     "name": "stderr",
     "output_type": "stream",
     "text": [
      "\n"
     ]
    },
    {
     "name": "stdout",
     "output_type": "stream",
     "text": [
      "[MoviePy] Writing audio in audio/trial_truth_018.wav\n"
     ]
    },
    {
     "name": "stderr",
     "output_type": "stream",
     "text": [
      "100%|██████████| 157/157 [00:00<00:00, 3140.24it/s]"
     ]
    },
    {
     "name": "stdout",
     "output_type": "stream",
     "text": [
      "[MoviePy] Done.\n"
     ]
    },
    {
     "name": "stderr",
     "output_type": "stream",
     "text": [
      "\n"
     ]
    },
    {
     "name": "stdout",
     "output_type": "stream",
     "text": [
      "[MoviePy] Writing audio in audio/trial_truth_019.wav\n"
     ]
    },
    {
     "name": "stderr",
     "output_type": "stream",
     "text": [
      "100%|██████████| 289/289 [00:00<00:00, 2676.39it/s]"
     ]
    },
    {
     "name": "stdout",
     "output_type": "stream",
     "text": [
      "[MoviePy] Done.\n"
     ]
    },
    {
     "name": "stderr",
     "output_type": "stream",
     "text": [
      "\n"
     ]
    },
    {
     "name": "stdout",
     "output_type": "stream",
     "text": [
      "[MoviePy] Writing audio in audio/trial_truth_020.wav\n"
     ]
    },
    {
     "name": "stderr",
     "output_type": "stream",
     "text": [
      "100%|██████████| 156/156 [00:00<00:00, 2761.83it/s]"
     ]
    },
    {
     "name": "stdout",
     "output_type": "stream",
     "text": [
      "[MoviePy] Done.\n"
     ]
    },
    {
     "name": "stderr",
     "output_type": "stream",
     "text": [
      "\n"
     ]
    },
    {
     "name": "stdout",
     "output_type": "stream",
     "text": [
      "[MoviePy] Writing audio in audio/trial_truth_021.wav\n"
     ]
    },
    {
     "name": "stderr",
     "output_type": "stream",
     "text": [
      "100%|██████████| 243/243 [00:00<00:00, 2830.16it/s]"
     ]
    },
    {
     "name": "stdout",
     "output_type": "stream",
     "text": [
      "[MoviePy] Done.\n"
     ]
    },
    {
     "name": "stderr",
     "output_type": "stream",
     "text": [
      "\n"
     ]
    },
    {
     "name": "stdout",
     "output_type": "stream",
     "text": [
      "[MoviePy] Writing audio in audio/trial_truth_022.wav\n"
     ]
    },
    {
     "name": "stderr",
     "output_type": "stream",
     "text": [
      "100%|██████████| 633/633 [00:00<00:00, 2834.64it/s]"
     ]
    },
    {
     "name": "stdout",
     "output_type": "stream",
     "text": [
      "[MoviePy] Done.\n"
     ]
    },
    {
     "name": "stderr",
     "output_type": "stream",
     "text": [
      "\n"
     ]
    },
    {
     "name": "stdout",
     "output_type": "stream",
     "text": [
      "[MoviePy] Writing audio in audio/trial_truth_023.wav\n"
     ]
    },
    {
     "name": "stderr",
     "output_type": "stream",
     "text": [
      "100%|██████████| 520/520 [00:00<00:00, 2772.05it/s]"
     ]
    },
    {
     "name": "stdout",
     "output_type": "stream",
     "text": [
      "[MoviePy] Done.\n"
     ]
    },
    {
     "name": "stderr",
     "output_type": "stream",
     "text": [
      "\n"
     ]
    },
    {
     "name": "stdout",
     "output_type": "stream",
     "text": [
      "[MoviePy] Writing audio in audio/trial_truth_024.wav\n"
     ]
    },
    {
     "name": "stderr",
     "output_type": "stream",
     "text": [
      "100%|██████████| 536/536 [00:00<00:00, 2814.76it/s]"
     ]
    },
    {
     "name": "stdout",
     "output_type": "stream",
     "text": [
      "[MoviePy] Done.\n"
     ]
    },
    {
     "name": "stderr",
     "output_type": "stream",
     "text": [
      "\n"
     ]
    },
    {
     "name": "stdout",
     "output_type": "stream",
     "text": [
      "[MoviePy] Writing audio in audio/trial_truth_025.wav\n"
     ]
    },
    {
     "name": "stderr",
     "output_type": "stream",
     "text": [
      "100%|██████████| 787/787 [00:00<00:00, 2660.04it/s]\n"
     ]
    },
    {
     "name": "stdout",
     "output_type": "stream",
     "text": [
      "[MoviePy] Done.\n",
      "[MoviePy] Writing audio in audio/trial_truth_026.wav\n"
     ]
    },
    {
     "name": "stderr",
     "output_type": "stream",
     "text": [
      "100%|██████████| 710/710 [00:00<00:00, 2603.16it/s]"
     ]
    },
    {
     "name": "stdout",
     "output_type": "stream",
     "text": [
      "[MoviePy] Done.\n"
     ]
    },
    {
     "name": "stderr",
     "output_type": "stream",
     "text": [
      "\n"
     ]
    },
    {
     "name": "stdout",
     "output_type": "stream",
     "text": [
      "[MoviePy] Writing audio in audio/trial_truth_027.wav\n"
     ]
    },
    {
     "name": "stderr",
     "output_type": "stream",
     "text": [
      "100%|██████████| 557/557 [00:00<00:00, 2947.43it/s]"
     ]
    },
    {
     "name": "stdout",
     "output_type": "stream",
     "text": [
      "[MoviePy] Done.\n"
     ]
    },
    {
     "name": "stderr",
     "output_type": "stream",
     "text": [
      "\n"
     ]
    },
    {
     "name": "stdout",
     "output_type": "stream",
     "text": [
      "[MoviePy] Writing audio in audio/trial_truth_030.wav\n"
     ]
    },
    {
     "name": "stderr",
     "output_type": "stream",
     "text": [
      "100%|██████████| 1218/1218 [00:00<00:00, 2909.10it/s]"
     ]
    },
    {
     "name": "stdout",
     "output_type": "stream",
     "text": [
      "[MoviePy] Done.\n"
     ]
    },
    {
     "name": "stderr",
     "output_type": "stream",
     "text": [
      "\n"
     ]
    },
    {
     "name": "stdout",
     "output_type": "stream",
     "text": [
      "[MoviePy] Writing audio in audio/trial_truth_037.wav\n"
     ]
    },
    {
     "name": "stderr",
     "output_type": "stream",
     "text": [
      "100%|██████████| 489/489 [00:00<00:00, 2868.07it/s]"
     ]
    },
    {
     "name": "stdout",
     "output_type": "stream",
     "text": [
      "[MoviePy] Done.\n"
     ]
    },
    {
     "name": "stderr",
     "output_type": "stream",
     "text": [
      "\n"
     ]
    },
    {
     "name": "stdout",
     "output_type": "stream",
     "text": [
      "[MoviePy] Writing audio in audio/trial_truth_039.wav\n"
     ]
    },
    {
     "name": "stderr",
     "output_type": "stream",
     "text": [
      "100%|██████████| 710/710 [00:00<00:00, 2818.64it/s]"
     ]
    },
    {
     "name": "stdout",
     "output_type": "stream",
     "text": [
      "[MoviePy] Done.\n"
     ]
    },
    {
     "name": "stderr",
     "output_type": "stream",
     "text": [
      "\n"
     ]
    },
    {
     "name": "stdout",
     "output_type": "stream",
     "text": [
      "[MoviePy] Writing audio in audio/trial_truth_041.wav\n"
     ]
    },
    {
     "name": "stderr",
     "output_type": "stream",
     "text": [
      "100%|██████████| 757/757 [00:00<00:00, 2922.10it/s]"
     ]
    },
    {
     "name": "stdout",
     "output_type": "stream",
     "text": [
      "[MoviePy] Done.\n"
     ]
    },
    {
     "name": "stderr",
     "output_type": "stream",
     "text": [
      "\n"
     ]
    },
    {
     "name": "stdout",
     "output_type": "stream",
     "text": [
      "[MoviePy] Writing audio in audio/trial_truth_042.wav\n"
     ]
    },
    {
     "name": "stderr",
     "output_type": "stream",
     "text": [
      "100%|██████████| 669/669 [00:00<00:00, 2979.75it/s]"
     ]
    },
    {
     "name": "stdout",
     "output_type": "stream",
     "text": [
      "[MoviePy] Done.\n"
     ]
    },
    {
     "name": "stderr",
     "output_type": "stream",
     "text": [
      "\n"
     ]
    },
    {
     "name": "stdout",
     "output_type": "stream",
     "text": [
      "[MoviePy] Writing audio in audio/trial_truth_043.wav\n"
     ]
    },
    {
     "name": "stderr",
     "output_type": "stream",
     "text": [
      "100%|██████████| 492/492 [00:00<00:00, 2817.07it/s]"
     ]
    },
    {
     "name": "stdout",
     "output_type": "stream",
     "text": [
      "[MoviePy] Done.\n"
     ]
    },
    {
     "name": "stderr",
     "output_type": "stream",
     "text": [
      "\n"
     ]
    },
    {
     "name": "stdout",
     "output_type": "stream",
     "text": [
      "[MoviePy] Writing audio in audio/trial_truth_044.wav\n"
     ]
    },
    {
     "name": "stderr",
     "output_type": "stream",
     "text": [
      "100%|██████████| 470/470 [00:00<00:00, 2812.15it/s]"
     ]
    },
    {
     "name": "stdout",
     "output_type": "stream",
     "text": [
      "[MoviePy] Done.\n"
     ]
    },
    {
     "name": "stderr",
     "output_type": "stream",
     "text": [
      "\n"
     ]
    },
    {
     "name": "stdout",
     "output_type": "stream",
     "text": [
      "[MoviePy] Writing audio in audio/trial_truth_045.wav\n"
     ]
    },
    {
     "name": "stderr",
     "output_type": "stream",
     "text": [
      "100%|██████████| 735/735 [00:00<00:00, 2832.84it/s]"
     ]
    },
    {
     "name": "stdout",
     "output_type": "stream",
     "text": [
      "[MoviePy] Done.\n"
     ]
    },
    {
     "name": "stderr",
     "output_type": "stream",
     "text": [
      "\n"
     ]
    },
    {
     "name": "stdout",
     "output_type": "stream",
     "text": [
      "[MoviePy] Writing audio in audio/trial_truth_046.wav\n"
     ]
    },
    {
     "name": "stderr",
     "output_type": "stream",
     "text": [
      "100%|██████████| 823/823 [00:00<00:00, 2927.37it/s]"
     ]
    },
    {
     "name": "stdout",
     "output_type": "stream",
     "text": [
      "[MoviePy] Done.\n"
     ]
    },
    {
     "name": "stderr",
     "output_type": "stream",
     "text": [
      "\n"
     ]
    },
    {
     "name": "stdout",
     "output_type": "stream",
     "text": [
      "[MoviePy] Writing audio in audio/trial_truth_047.wav\n"
     ]
    },
    {
     "name": "stderr",
     "output_type": "stream",
     "text": [
      "100%|██████████| 580/580 [00:00<00:00, 2901.54it/s]"
     ]
    },
    {
     "name": "stdout",
     "output_type": "stream",
     "text": [
      "[MoviePy] Done.\n"
     ]
    },
    {
     "name": "stderr",
     "output_type": "stream",
     "text": [
      "\n"
     ]
    },
    {
     "name": "stdout",
     "output_type": "stream",
     "text": [
      "[MoviePy] Writing audio in audio/trial_truth_048.wav\n"
     ]
    },
    {
     "name": "stderr",
     "output_type": "stream",
     "text": [
      "100%|██████████| 580/580 [00:00<00:00, 2806.57it/s]"
     ]
    },
    {
     "name": "stdout",
     "output_type": "stream",
     "text": [
      "[MoviePy] Done.\n"
     ]
    },
    {
     "name": "stderr",
     "output_type": "stream",
     "text": [
      "\n"
     ]
    },
    {
     "name": "stdout",
     "output_type": "stream",
     "text": [
      "[MoviePy] Writing audio in audio/trial_truth_049.wav\n"
     ]
    },
    {
     "name": "stderr",
     "output_type": "stream",
     "text": [
      "100%|██████████| 669/669 [00:00<00:00, 2836.48it/s]"
     ]
    },
    {
     "name": "stdout",
     "output_type": "stream",
     "text": [
      "[MoviePy] Done.\n"
     ]
    },
    {
     "name": "stderr",
     "output_type": "stream",
     "text": [
      "\n"
     ]
    },
    {
     "name": "stdout",
     "output_type": "stream",
     "text": [
      "[MoviePy] Writing audio in audio/trial_truth_050.wav\n"
     ]
    },
    {
     "name": "stderr",
     "output_type": "stream",
     "text": [
      "100%|██████████| 514/514 [00:00<00:00, 3039.52it/s]"
     ]
    },
    {
     "name": "stdout",
     "output_type": "stream",
     "text": [
      "[MoviePy] Done.\n"
     ]
    },
    {
     "name": "stderr",
     "output_type": "stream",
     "text": [
      "\n"
     ]
    },
    {
     "name": "stdout",
     "output_type": "stream",
     "text": [
      "[MoviePy] Writing audio in audio/trial_truth_051.wav\n"
     ]
    },
    {
     "name": "stderr",
     "output_type": "stream",
     "text": [
      "100%|██████████| 643/643 [00:00<00:00, 2786.27it/s]"
     ]
    },
    {
     "name": "stdout",
     "output_type": "stream",
     "text": [
      "[MoviePy] Done.\n"
     ]
    },
    {
     "name": "stderr",
     "output_type": "stream",
     "text": [
      "\n"
     ]
    },
    {
     "name": "stdout",
     "output_type": "stream",
     "text": [
      "[MoviePy] Writing audio in audio/trial_truth_052.wav\n"
     ]
    },
    {
     "name": "stderr",
     "output_type": "stream",
     "text": [
      "100%|██████████| 647/647 [00:00<00:00, 2996.47it/s]"
     ]
    },
    {
     "name": "stdout",
     "output_type": "stream",
     "text": [
      "[MoviePy] Done.\n"
     ]
    },
    {
     "name": "stderr",
     "output_type": "stream",
     "text": [
      "\n"
     ]
    },
    {
     "name": "stdout",
     "output_type": "stream",
     "text": [
      "[MoviePy] Writing audio in audio/trial_truth_053.wav\n"
     ]
    },
    {
     "name": "stderr",
     "output_type": "stream",
     "text": [
      "100%|██████████| 666/666 [00:00<00:00, 2926.40it/s]"
     ]
    },
    {
     "name": "stdout",
     "output_type": "stream",
     "text": [
      "[MoviePy] Done.\n"
     ]
    },
    {
     "name": "stderr",
     "output_type": "stream",
     "text": [
      "\n"
     ]
    },
    {
     "name": "stdout",
     "output_type": "stream",
     "text": [
      "[MoviePy] Writing audio in audio/trial_truth_054.wav\n"
     ]
    },
    {
     "name": "stderr",
     "output_type": "stream",
     "text": [
      "100%|██████████| 533/533 [00:00<00:00, 2872.03it/s]"
     ]
    },
    {
     "name": "stdout",
     "output_type": "stream",
     "text": [
      "[MoviePy] Done.\n"
     ]
    },
    {
     "name": "stderr",
     "output_type": "stream",
     "text": [
      "\n"
     ]
    },
    {
     "name": "stdout",
     "output_type": "stream",
     "text": [
      "[MoviePy] Writing audio in audio/trial_truth_055.wav\n"
     ]
    },
    {
     "name": "stderr",
     "output_type": "stream",
     "text": [
      "100%|██████████| 643/643 [00:00<00:00, 2858.54it/s]"
     ]
    },
    {
     "name": "stdout",
     "output_type": "stream",
     "text": [
      "[MoviePy] Done.\n"
     ]
    },
    {
     "name": "stderr",
     "output_type": "stream",
     "text": [
      "\n"
     ]
    },
    {
     "name": "stdout",
     "output_type": "stream",
     "text": [
      "[MoviePy] Writing audio in audio/trial_truth_056.wav\n"
     ]
    },
    {
     "name": "stderr",
     "output_type": "stream",
     "text": [
      "100%|██████████| 754/754 [00:00<00:00, 2848.12it/s]"
     ]
    },
    {
     "name": "stdout",
     "output_type": "stream",
     "text": [
      "[MoviePy] Done.\n"
     ]
    },
    {
     "name": "stderr",
     "output_type": "stream",
     "text": [
      "\n"
     ]
    },
    {
     "name": "stdout",
     "output_type": "stream",
     "text": [
      "[MoviePy] Writing audio in audio/trial_truth_057.wav\n"
     ]
    },
    {
     "name": "stderr",
     "output_type": "stream",
     "text": [
      "100%|██████████| 842/842 [00:00<00:00, 2999.27it/s]"
     ]
    },
    {
     "name": "stdout",
     "output_type": "stream",
     "text": [
      "[MoviePy] Done.\n"
     ]
    },
    {
     "name": "stderr",
     "output_type": "stream",
     "text": [
      "\n"
     ]
    },
    {
     "name": "stdout",
     "output_type": "stream",
     "text": [
      "[MoviePy] Writing audio in audio/trial_truth_058.wav\n"
     ]
    },
    {
     "name": "stderr",
     "output_type": "stream",
     "text": [
      "100%|██████████| 467/467 [00:00<00:00, 2869.59it/s]"
     ]
    },
    {
     "name": "stdout",
     "output_type": "stream",
     "text": [
      "[MoviePy] Done.\n"
     ]
    },
    {
     "name": "stderr",
     "output_type": "stream",
     "text": [
      "\n"
     ]
    },
    {
     "name": "stdout",
     "output_type": "stream",
     "text": [
      "[MoviePy] Writing audio in audio/trial_truth_059.wav\n"
     ]
    },
    {
     "name": "stderr",
     "output_type": "stream",
     "text": [
      "100%|██████████| 599/599 [00:00<00:00, 3028.27it/s]\n"
     ]
    },
    {
     "name": "stdout",
     "output_type": "stream",
     "text": [
      "[MoviePy] Done.\n",
      "[MoviePy] Writing audio in audio/trial_truth_060.wav\n"
     ]
    },
    {
     "name": "stderr",
     "output_type": "stream",
     "text": [
      "100%|██████████| 445/445 [00:00<00:00, 2859.97it/s]"
     ]
    },
    {
     "name": "stdout",
     "output_type": "stream",
     "text": [
      "[MoviePy] Done.\n"
     ]
    },
    {
     "name": "stderr",
     "output_type": "stream",
     "text": [
      "\n"
     ]
    }
   ],
   "source": [
    "# Write audio files from videos and save it in the empty audio file\n",
    "for video in videos:\n",
    "    vid = VideoFileClip('videos/'+video)\n",
    "    name = video[:-4]\n",
    "    vid.audio.write_audiofile(\"audio/\"+name+\".wav\") # name the audio file like its corresponding video, minus the .mp4\n",
    "    "
   ]
  },
  {
   "cell_type": "markdown",
   "metadata": {
    "colab_type": "text",
    "id": "KWBimd_osWc8"
   },
   "source": [
    "## Extract features & store in dataframe"
   ]
  },
  {
   "cell_type": "code",
   "execution_count": 0,
   "metadata": {
    "colab": {},
    "colab_type": "code",
    "id": "7aEchr-GsWc_",
    "outputId": "e956776f-165f-4822-f853-54e2ea41854d"
   },
   "outputs": [
    {
     "data": {
      "text/plain": [
       "'.DS_Store'"
      ]
     },
     "execution_count": 16,
     "metadata": {
      "tags": []
     },
     "output_type": "execute_result"
    }
   ],
   "source": [
    "# Get the name of the audio files in the audio folder\n",
    "audio_files = [f for f in listdir('audio/')]\n",
    "audio_files.pop(0) # '.DS_Store' is first element in list of audio_files"
   ]
  },
  {
   "cell_type": "code",
   "execution_count": 0,
   "metadata": {
    "colab": {},
    "colab_type": "code",
    "id": "orGY5uq1sWdC"
   },
   "outputs": [],
   "source": [
    "def extract_features(file_name):\n",
    "    y, samp_rate = librosa.load('audio/'+file_name, sr = None) # sr = None, keeps original sample_rate from audio\n",
    "\n",
    "    mfccs = librosa.feature.mfcc(y = y, sr = samp_rate, n_mfcc=40) # returns shape (num of mfcc, num of frames), each column is a frame of 40 mfcc values\n",
    "    mfccs_avg = np.mean(scale(mfccs, axis = 1), axis = 1) # average mfcc over the frames frame. shape = (40,). scale across columns, within a row\n",
    "\n",
    "    mel = librosa.feature.melspectrogram(y = y, sr = samp_rate)\n",
    "    mel_avg = np.mean(scale(mel, axis = 1), axis = 1)\n",
    "\n",
    "    stft = np.abs(librosa.stft(y))\n",
    "    chroma = librosa.feature.chroma_stft(S = stft, y = y, sr = samp_rate)\n",
    "    chroma_avg = np.mean(scale(chroma, axis = 1), axis = 1)\n",
    "\n",
    "    contrast = librosa.feature.spectral_contrast(S = stft, y = y, sr = samp_rate)\n",
    "    contrast_avg = np.mean(scale(contrast, axis = 1), axis = 1)\n",
    "\n",
    "    tonnetz = librosa.feature.tonnetz(y = librosa.effects.harmonic(y), sr = samp_rate)\n",
    "    tonnetz_avg = np.mean(scale(tonnetz, axis = 1), axis = 1)\n",
    "    \n",
    "    return mfccs_avg, mel_avg, chroma_avg, contrast_avg, tonnetz_avg # return shape: (40,), (128,), (12,), (7,), (6,) respectively\n"
   ]
  },
  {
   "cell_type": "code",
   "execution_count": 0,
   "metadata": {
    "colab": {
     "base_uri": "https://localhost:8080/",
     "height": 34
    },
    "colab_type": "code",
    "executionInfo": {
     "elapsed": 297,
     "status": "ok",
     "timestamp": 1548968356634,
     "user": {
      "displayName": "Patrina Bailey",
      "photoUrl": "https://lh6.googleusercontent.com/-_-IxxZOx6Gk/AAAAAAAAAAI/AAAAAAAAJ6M/E0SG_dIR-sM/s64/photo.jpg",
      "userId": "15476889788748924708"
     },
     "user_tz": 300
    },
    "id": "J6AAARKLtOHd",
    "outputId": "f960b2b4-17e8-43dc-cbea-7cb2a4a2b1c1"
   },
   "outputs": [
    {
     "data": {
      "text/plain": [
       "['mfcc', 'mfcc', 'mel', 'mel']"
      ]
     },
     "execution_count": 48,
     "metadata": {
      "tags": []
     },
     "output_type": "execute_result"
    }
   ],
   "source": [
    "['mfcc']*40 + ['mel']*128 + ['chroma']*12 + ['contrast']*7 + ['tonnetz']*6"
   ]
  },
  {
   "cell_type": "code",
   "execution_count": 0,
   "metadata": {
    "colab": {},
    "colab_type": "code",
    "id": "UXu8ROz3sWdD",
    "outputId": "4a50251b-1bae-4328-a345-48b9c36fb66d"
   },
   "outputs": [
    {
     "data": {
      "text/html": [
       "<div>\n",
       "<style scoped>\n",
       "    .dataframe tbody tr th:only-of-type {\n",
       "        vertical-align: middle;\n",
       "    }\n",
       "\n",
       "    .dataframe tbody tr th {\n",
       "        vertical-align: top;\n",
       "    }\n",
       "\n",
       "    .dataframe thead th {\n",
       "        text-align: right;\n",
       "    }\n",
       "</style>\n",
       "<table border=\"1\" class=\"dataframe\">\n",
       "  <thead>\n",
       "    <tr style=\"text-align: right;\">\n",
       "      <th></th>\n",
       "      <th>lie/truth</th>\n",
       "      <th>mfcc</th>\n",
       "      <th>mel</th>\n",
       "      <th>chroma</th>\n",
       "      <th>contrast</th>\n",
       "      <th>tonnetz</th>\n",
       "    </tr>\n",
       "  </thead>\n",
       "  <tbody>\n",
       "  </tbody>\n",
       "</table>\n",
       "</div>"
      ],
      "text/plain": [
       "Empty DataFrame\n",
       "Columns: [lie/truth, mfcc, mel, chroma, contrast, tonnetz]\n",
       "Index: []"
      ]
     },
     "execution_count": 501,
     "metadata": {
      "tags": []
     },
     "output_type": "execute_result"
    }
   ],
   "source": [
    "# Build Dataframe framework\n",
    "columns = ['lie/truth','mfcc','mel','chroma','contrast','tonnetz'] # make each feature its own column, each cell will have list of floats\n",
    "\n",
    "audio_df = pd.DataFrame(columns = columns)\n",
    "audio_df # 0 rows × 194 columns"
   ]
  },
  {
   "cell_type": "code",
   "execution_count": 0,
   "metadata": {
    "colab": {},
    "colab_type": "code",
    "id": "aXhCXhHasWdH"
   },
   "outputs": [],
   "source": [
    "mfcc, mel, chroma, contrast, tonnetz = extract_features(audio_file)\n"
   ]
  },
  {
   "cell_type": "code",
   "execution_count": 0,
   "metadata": {
    "colab": {},
    "colab_type": "code",
    "id": "Lbxd9IaxsWdK"
   },
   "outputs": [],
   "source": [
    "mfcc = np.reshape(np.append(mfcc,[[0]*(mel.shape[0] - mfcc.shape[0])]), newshape = (128,1)) \n",
    "mel = np.reshape(mel, newshape = (128,1))\n",
    "chroma = np.reshape(np.append(chroma,[[0]*(mel.shape[0] - chroma.shape[0])]), newshape = (128,1))\n",
    "contrast = np.reshape(np.append(contrast,[[0]*(mel.shape[0] - contrast.shape[0])]), newshape = (128,1))\n",
    "tonnetz = np.reshape(np.append(tonnetz,[[0]*(mel.shape[0] - tonnetz.shape[0])]), newshape = (128,1))"
   ]
  },
  {
   "cell_type": "code",
   "execution_count": 0,
   "metadata": {
    "colab": {},
    "colab_type": "code",
    "id": "brYhzCk8sWdM",
    "outputId": "e33636d9-f0f7-4569-849e-d9a297b38a59"
   },
   "outputs": [
    {
     "data": {
      "text/plain": [
       "(1, 128, 5)"
      ]
     },
     "execution_count": 590,
     "metadata": {
      "tags": []
     },
     "output_type": "execute_result"
    }
   ],
   "source": [
    "data = np.concatenate((mfcc, mel, chroma, contrast, tonnetz), axis = 1)\n",
    "data = np.reshape(data, newshape = (1,128,5))\n",
    "data.shape # (128, 5)\n",
    "       "
   ]
  },
  {
   "cell_type": "code",
   "execution_count": 0,
   "metadata": {
    "colab": {},
    "colab_type": "code",
    "id": "aBXZq4obsWdS",
    "outputId": "95a989bd-854b-47cd-9435-022bbc312ce4"
   },
   "outputs": [
    {
     "data": {
      "text/plain": [
       "'truth'"
      ]
     },
     "execution_count": 591,
     "metadata": {
      "tags": []
     },
     "output_type": "execute_result"
    }
   ],
   "source": [
    "name = 'trial_lie_001.wav'\n",
    "try:\n",
    "    name = re.search('lie', audio_file).group()\n",
    "except AttributeError:\n",
    "    name = re.search('truth', audio_file).group()\n",
    "name"
   ]
  },
  {
   "cell_type": "code",
   "execution_count": 0,
   "metadata": {
    "colab": {},
    "colab_type": "code",
    "id": "pCCjX743sWdV"
   },
   "outputs": [],
   "source": [
    "panel = pd.Panel(data, items = [name], minor_axis= ['mfcc','mel','chroma','contrast','tonnetz'])\n",
    "panel2 = pd.Panel(data, items = [name], minor_axis= ['mfcc','mel','chroma','contrast','tonnetz'])\n"
   ]
  },
  {
   "cell_type": "code",
   "execution_count": 0,
   "metadata": {
    "colab": {},
    "colab_type": "code",
    "id": "zcH5NN4OsWdX",
    "outputId": "bf317ca9-f937-450a-e14f-8b7ca9591a58"
   },
   "outputs": [
    {
     "data": {
      "text/plain": [
       "<class 'pandas.core.panel.Panel'>\n",
       "Dimensions: 2 (items) x 128 (major_axis) x 5 (minor_axis)\n",
       "Items axis: truth to truth\n",
       "Major_axis axis: 0 to 127\n",
       "Minor_axis axis: mfcc to tonnetz"
      ]
     },
     "execution_count": 600,
     "metadata": {
      "tags": []
     },
     "output_type": "execute_result"
    }
   ],
   "source": [
    "pd.concat([panel, panel2], axis=0)"
   ]
  },
  {
   "cell_type": "code",
   "execution_count": 0,
   "metadata": {
    "colab": {},
    "colab_type": "code",
    "id": "vlgkHdvHsWdb"
   },
   "outputs": [],
   "source": [
    "panels = []\n",
    "for audio_file in audio_files:\n",
    "    # Get the features for each audio file\n",
    "    mfcc, mel, chroma, contrast, tonnetz = extract_features(audio_file)\n",
    "    \n",
    "    # reshape np.array\n",
    "    mfcc = np.reshape(np.append(mfcc,[[0]*(mel.shape[0] - mfcc.shape[0])]), newshape = (128,1)) \n",
    "    mel = np.reshape(mel, newshape = (128,1))\n",
    "    chroma = np.reshape(np.append(chroma,[[0]*(mel.shape[0] - chroma.shape[0])]), newshape = (128,1))\n",
    "    contrast = np.reshape(np.append(contrast,[[0]*(mel.shape[0] - contrast.shape[0])]), newshape = (128,1))\n",
    "    tonnetz = np.reshape(np.append(tonnetz,[[0]*(mel.shape[0] - tonnetz.shape[0])]), newshape = (128,1))\n",
    "    \n",
    "    # concat all the columns together and reshape to give it 3D shape\n",
    "    data = np.concatenate((mfcc, mel, chroma, contrast, tonnetz), axis = 1)\n",
    "    data = np.reshape(data, newshape = (1,128,5))\n",
    "       \n",
    "    # horizontally stack each array to one another\n",
    "#     features = np.hstack(extracted_features) # horizontally stack each array next to each other to achieve one big array. shape = (193,)\n",
    "    \n",
    "    # get the label of the audio\n",
    "    try:\n",
    "        name = re.search('lie', audio_file).group()\n",
    "    except AttributeError:\n",
    "        name = re.search('truth', audio_file).group()\n",
    "    \n",
    "    panel = pd.Panel(data, items = [name], minor_axis = ['mfcc','mel','chroma','contrast','tonnetz'])\n",
    "    panels.append(panel)\n",
    "#     row_df = pd.DataFrame([[name, mfcc, mel, chroma, contrast, tonnetz]], columns = columns)\n",
    "#     audio_df = audio_df.append(row_df, ignore_index = True)\n"
   ]
  },
  {
   "cell_type": "code",
   "execution_count": 0,
   "metadata": {
    "colab": {},
    "colab_type": "code",
    "id": "dAbhgZSgsWde"
   },
   "outputs": [],
   "source": [
    "dataframe = pd.concat(panels, axis = 0)"
   ]
  },
  {
   "cell_type": "code",
   "execution_count": 0,
   "metadata": {
    "colab": {},
    "colab_type": "code",
    "id": "4r582jj2sWdh"
   },
   "outputs": [],
   "source": [
    "dataframe.to_pickle('./df.pkl') # pickle dataframe so we can run models in a diff. file\n",
    "\n"
   ]
  },
  {
   "cell_type": "code",
   "execution_count": 0,
   "metadata": {
    "colab": {},
    "colab_type": "code",
    "id": "SvQDQ9sTsWdk"
   },
   "outputs": [],
   "source": [
    "dataframe.to_pickle('./df.pkl')\n",
    "pd.read_pickle('./audio_df.pkl')"
   ]
  },
  {
   "cell_type": "code",
   "execution_count": 0,
   "metadata": {
    "colab": {},
    "colab_type": "code",
    "id": "S4NpzYV5sWdn"
   },
   "outputs": [],
   "source": []
  }
 ],
 "metadata": {
  "accelerator": "GPU",
  "colab": {
   "collapsed_sections": [
    "4o2mHJO6skA5",
    "7wXEGyHyZjlc",
    "-QeBKSGsqb4v",
    "_qhqxihs35fb",
    "Dld2qPgRsWcg",
    "W8xdt-DosWcz",
    "KWBimd_osWc8"
   ],
   "name": "AudioRecognition.ipynb",
   "provenance": [],
   "toc_visible": true,
   "version": "0.3.2"
  },
  "kernelspec": {
   "display_name": "Python 3",
   "language": "python",
   "name": "python3"
  },
  "language_info": {
   "codemirror_mode": {
    "name": "ipython",
    "version": 3
   },
   "file_extension": ".py",
   "mimetype": "text/x-python",
   "name": "python",
   "nbconvert_exporter": "python",
   "pygments_lexer": "ipython3",
   "version": "3.6.7"
  }
 },
 "nbformat": 4,
 "nbformat_minor": 1
}
