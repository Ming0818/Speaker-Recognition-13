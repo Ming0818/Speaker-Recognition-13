{
 "cells": [
  {
   "cell_type": "markdown",
   "metadata": {
    "colab_type": "text",
    "id": "r2SPD-nqCGpJ"
   },
   "source": [
    "# Interact with Google Colab"
   ]
  },
  {
   "cell_type": "code",
   "execution_count": 3,
   "metadata": {
    "colab": {
     "base_uri": "https://localhost:8080/",
     "height": 156
    },
    "colab_type": "code",
    "executionInfo": {
     "elapsed": 45347,
     "status": "ok",
     "timestamp": 1549527511107,
     "user": {
      "displayName": "Patrina Bailey",
      "photoUrl": "https://lh6.googleusercontent.com/-_-IxxZOx6Gk/AAAAAAAAAAI/AAAAAAAAJ6M/E0SG_dIR-sM/s64/photo.jpg",
      "userId": "15476889788748924708"
     },
     "user_tz": 300
    },
    "id": "l3AxTt7BCJZo",
    "outputId": "941080e9-e27d-4570-846a-a357c69fc8d7"
   },
   "outputs": [
    {
     "name": "stdout",
     "output_type": "stream",
     "text": [
      "\u001b[?25l\r",
      "\u001b[K    1% |▎                               | 10kB 13.5MB/s eta 0:00:01\r",
      "\u001b[K    2% |▋                               | 20kB 1.9MB/s eta 0:00:01\r",
      "\u001b[K    3% |█                               | 30kB 2.7MB/s eta 0:00:01\r",
      "\u001b[K    4% |█▎                              | 40kB 1.8MB/s eta 0:00:01\r",
      "\u001b[K    5% |█▋                              | 51kB 2.2MB/s eta 0:00:01\r",
      "\u001b[K    6% |██                              | 61kB 2.6MB/s eta 0:00:01\r",
      "\u001b[K    7% |██▎                             | 71kB 3.0MB/s eta 0:00:01\r",
      "\u001b[K    8% |██▋                             | 81kB 3.4MB/s eta 0:00:01\r",
      "\u001b[K    9% |███                             | 92kB 3.8MB/s eta 0:00:01\r",
      "\u001b[K    10% |███▎                            | 102kB 2.9MB/s eta 0:00:01\r",
      "\u001b[K    11% |███▋                            | 112kB 2.9MB/s eta 0:00:01\r",
      "\u001b[K    12% |████                            | 122kB 4.1MB/s eta 0:00:01\r",
      "\u001b[K    13% |████▎                           | 133kB 4.1MB/s eta 0:00:01\r",
      "\u001b[K    14% |████▋                           | 143kB 7.6MB/s eta 0:00:01\r",
      "\u001b[K    15% |█████                           | 153kB 7.7MB/s eta 0:00:01\r",
      "\u001b[K    16% |█████▎                          | 163kB 7.7MB/s eta 0:00:01\r",
      "\u001b[K    17% |█████▋                          | 174kB 7.6MB/s eta 0:00:01\r",
      "\u001b[K    18% |██████                          | 184kB 7.6MB/s eta 0:00:01\r",
      "\u001b[K    19% |██████▎                         | 194kB 7.6MB/s eta 0:00:01\r",
      "\u001b[K    20% |██████▋                         | 204kB 35.7MB/s eta 0:00:01\r",
      "\u001b[K    21% |███████                         | 215kB 8.7MB/s eta 0:00:01\r",
      "\u001b[K    22% |███████▎                        | 225kB 8.4MB/s eta 0:00:01\r",
      "\u001b[K    23% |███████▋                        | 235kB 8.4MB/s eta 0:00:01\r",
      "\u001b[K    24% |████████                        | 245kB 8.4MB/s eta 0:00:01\r",
      "\u001b[K    25% |████████▎                       | 256kB 8.4MB/s eta 0:00:01\r",
      "\u001b[K    26% |████████▋                       | 266kB 8.0MB/s eta 0:00:01\r",
      "\u001b[K    27% |█████████                       | 276kB 8.2MB/s eta 0:00:01\r",
      "\u001b[K    29% |█████████▎                      | 286kB 8.2MB/s eta 0:00:01\r",
      "\u001b[K    30% |█████████▋                      | 296kB 8.2MB/s eta 0:00:01\r",
      "\u001b[K    31% |██████████                      | 307kB 8.4MB/s eta 0:00:01\r",
      "\u001b[K    32% |██████████▎                     | 317kB 34.1MB/s eta 0:00:01\r",
      "\u001b[K    33% |██████████▋                     | 327kB 41.9MB/s eta 0:00:01\r",
      "\u001b[K    34% |███████████                     | 337kB 42.8MB/s eta 0:00:01\r",
      "\u001b[K    35% |███████████▎                    | 348kB 39.1MB/s eta 0:00:01\r",
      "\u001b[K    36% |███████████▋                    | 358kB 38.2MB/s eta 0:00:01\r",
      "\u001b[K    37% |████████████                    | 368kB 47.0MB/s eta 0:00:01\r",
      "\u001b[K    38% |████████████▎                   | 378kB 48.6MB/s eta 0:00:01\r",
      "\u001b[K    39% |████████████▋                   | 389kB 48.5MB/s eta 0:00:01\r",
      "\u001b[K    40% |█████████████                   | 399kB 47.9MB/s eta 0:00:01\r",
      "\u001b[K    41% |█████████████▎                  | 409kB 47.9MB/s eta 0:00:01\r",
      "\u001b[K    42% |█████████████▋                  | 419kB 47.1MB/s eta 0:00:01\r",
      "\u001b[K    43% |██████████████                  | 430kB 49.0MB/s eta 0:00:01\r",
      "\u001b[K    44% |██████████████▎                 | 440kB 11.3MB/s eta 0:00:01\r",
      "\u001b[K    45% |██████████████▋                 | 450kB 11.0MB/s eta 0:00:01\r",
      "\u001b[K    46% |███████████████                 | 460kB 11.0MB/s eta 0:00:01\r",
      "\u001b[K    47% |███████████████▎                | 471kB 11.0MB/s eta 0:00:01\r",
      "\u001b[K    48% |███████████████▋                | 481kB 10.9MB/s eta 0:00:01\r",
      "\u001b[K    49% |████████████████                | 491kB 11.0MB/s eta 0:00:01\r",
      "\u001b[K    50% |████████████████▎               | 501kB 11.0MB/s eta 0:00:01\r",
      "\u001b[K    51% |████████████████▋               | 512kB 10.6MB/s eta 0:00:01\r",
      "\u001b[K    52% |█████████████████               | 522kB 10.6MB/s eta 0:00:01\r",
      "\u001b[K    53% |█████████████████▎              | 532kB 10.6MB/s eta 0:00:01\r",
      "\u001b[K    54% |█████████████████▋              | 542kB 38.3MB/s eta 0:00:01\r",
      "\u001b[K    55% |██████████████████              | 552kB 49.6MB/s eta 0:00:01\r",
      "\u001b[K    57% |██████████████████▎             | 563kB 51.4MB/s eta 0:00:01\r",
      "\u001b[K    58% |██████████████████▋             | 573kB 51.5MB/s eta 0:00:01\r",
      "\u001b[K    59% |███████████████████             | 583kB 51.1MB/s eta 0:00:01\r",
      "\u001b[K    60% |███████████████████▎            | 593kB 50.7MB/s eta 0:00:01\r",
      "\u001b[K    61% |███████████████████▋            | 604kB 50.4MB/s eta 0:00:01\r",
      "\u001b[K    62% |████████████████████            | 614kB 59.5MB/s eta 0:00:01\r",
      "\u001b[K    63% |████████████████████▎           | 624kB 61.2MB/s eta 0:00:01\r",
      "\u001b[K    64% |████████████████████▋           | 634kB 61.4MB/s eta 0:00:01\r",
      "\u001b[K    65% |█████████████████████           | 645kB 11.0MB/s eta 0:00:01\r",
      "\u001b[K    66% |█████████████████████▎          | 655kB 10.7MB/s eta 0:00:01\r",
      "\u001b[K    67% |█████████████████████▋          | 665kB 9.7MB/s eta 0:00:01\r",
      "\u001b[K    68% |██████████████████████          | 675kB 9.6MB/s eta 0:00:01\r",
      "\u001b[K    69% |██████████████████████▎         | 686kB 9.6MB/s eta 0:00:01\r",
      "\u001b[K    70% |██████████████████████▋         | 696kB 9.6MB/s eta 0:00:01\r",
      "\u001b[K    71% |███████████████████████         | 706kB 9.7MB/s eta 0:00:01\r",
      "\u001b[K    72% |███████████████████████▎        | 716kB 9.7MB/s eta 0:00:01\r",
      "\u001b[K    73% |███████████████████████▋        | 727kB 9.6MB/s eta 0:00:01\r",
      "\u001b[K    74% |████████████████████████        | 737kB 9.6MB/s eta 0:00:01\r",
      "\u001b[K    75% |████████████████████████▎       | 747kB 33.3MB/s eta 0:00:01\r",
      "\u001b[K    76% |████████████████████████▋       | 757kB 37.0MB/s eta 0:00:01\r",
      "\u001b[K    77% |████████████████████████▉       | 768kB 57.5MB/s eta 0:00:01\r",
      "\u001b[K    78% |█████████████████████████▏      | 778kB 58.9MB/s eta 0:00:01\r",
      "\u001b[K    79% |█████████████████████████▌      | 788kB 58.7MB/s eta 0:00:01\r",
      "\u001b[K    80% |█████████████████████████▉      | 798kB 57.8MB/s eta 0:00:01\r",
      "\u001b[K    81% |██████████████████████████▏     | 808kB 56.2MB/s eta 0:00:01\r",
      "\u001b[K    82% |██████████████████████████▌     | 819kB 56.4MB/s eta 0:00:01\r",
      "\u001b[K    83% |██████████████████████████▉     | 829kB 57.4MB/s eta 0:00:01\r",
      "\u001b[K    85% |███████████████████████████▏    | 839kB 57.0MB/s eta 0:00:01\r",
      "\u001b[K    86% |███████████████████████████▌    | 849kB 58.0MB/s eta 0:00:01\r",
      "\u001b[K    87% |███████████████████████████▉    | 860kB 10.8MB/s eta 0:00:01\r",
      "\u001b[K    88% |████████████████████████████▏   | 870kB 10.7MB/s eta 0:00:01\r",
      "\u001b[K    89% |████████████████████████████▌   | 880kB 10.7MB/s eta 0:00:01\r",
      "\u001b[K    90% |████████████████████████████▉   | 890kB 10.7MB/s eta 0:00:01\r",
      "\u001b[K    91% |█████████████████████████████▏  | 901kB 10.8MB/s eta 0:00:01\r",
      "\u001b[K    92% |█████████████████████████████▌  | 911kB 10.7MB/s eta 0:00:01\r",
      "\u001b[K    93% |█████████████████████████████▉  | 921kB 10.8MB/s eta 0:00:01\r",
      "\u001b[K    94% |██████████████████████████████▏ | 931kB 10.7MB/s eta 0:00:01\r",
      "\u001b[K    95% |██████████████████████████████▌ | 942kB 10.8MB/s eta 0:00:01\r",
      "\u001b[K    96% |██████████████████████████████▉ | 952kB 10.8MB/s eta 0:00:01\r",
      "\u001b[K    97% |███████████████████████████████▏| 962kB 57.8MB/s eta 0:00:01\r",
      "\u001b[K    98% |███████████████████████████████▌| 972kB 60.4MB/s eta 0:00:01\r",
      "\u001b[K    99% |███████████████████████████████▉| 983kB 61.5MB/s eta 0:00:01\r",
      "\u001b[K    100% |████████████████████████████████| 993kB 16.8MB/s \n",
      "\u001b[?25h  Building wheel for PyDrive (setup.py) ... \u001b[?25ldone\n",
      "\u001b[?25hGo to this URL in a browser: https://accounts.google.com/o/oauth2/auth?client_id=947318989803-6bn6qk8qdgf4n4g3pfee6491hc0brc4i.apps.googleusercontent.com&redirect_uri=urn%3Aietf%3Awg%3Aoauth%3A2.0%3Aoob&scope=email%20https%3A%2F%2Fwww.googleapis.com%2Fauth%2Fdocs.test%20https%3A%2F%2Fwww.googleapis.com%2Fauth%2Fdrive%20https%3A%2F%2Fwww.googleapis.com%2Fauth%2Fdrive.photos.readonly%20https%3A%2F%2Fwww.googleapis.com%2Fauth%2Fpeopleapi.readonly&response_type=code\n",
      "\n",
      "Enter your authorization code:\n",
      "··········\n",
      "Mounted at /content/drive\n"
     ]
    }
   ],
   "source": [
    "# Install the PyDrive wrapper & import libraries.\n",
    "# This only needs to be done once per notebook.\n",
    "\n",
    "# PyDrive simplifies many common Google Drive API tasks.\n",
    "!pip install -U -q PyDrive\n",
    "# -q means quiet\n",
    "\n",
    "# provide the ability to authenticate to Google APIs using various methods.\n",
    "from pydrive.auth import GoogleAuth\n",
    "from pydrive.drive import GoogleDrive\n",
    "from google.colab import auth\n",
    "from oauth2client.client import GoogleCredentials\n",
    "\n",
    "# Authenticate and create the PyDrive client.\n",
    "# This only needs to be done once per notebook.\n",
    "auth.authenticate_user()\n",
    "gauth = GoogleAuth()\n",
    "gauth.credentials = GoogleCredentials.get_application_default()\n",
    "drive = GoogleDrive(gauth)\n",
    "\n",
    "\n",
    "# Be able to work within google folder\n",
    "from google.colab import drive\n",
    "drive.mount('/content/drive')"
   ]
  },
  {
   "cell_type": "code",
   "execution_count": 4,
   "metadata": {
    "colab": {
     "base_uri": "https://localhost:8080/",
     "height": 34
    },
    "colab_type": "code",
    "executionInfo": {
     "elapsed": 1364,
     "status": "ok",
     "timestamp": 1549527530467,
     "user": {
      "displayName": "Patrina Bailey",
      "photoUrl": "https://lh6.googleusercontent.com/-_-IxxZOx6Gk/AAAAAAAAAAI/AAAAAAAAJ6M/E0SG_dIR-sM/s64/photo.jpg",
      "userId": "15476889788748924708"
     },
     "user_tz": 300
    },
    "id": "gg7HRKrLCa3e",
    "outputId": "8e65aea0-4785-41db-bc48-0735ecb40607"
   },
   "outputs": [
    {
     "name": "stdout",
     "output_type": "stream",
     "text": [
      "/content\n"
     ]
    }
   ],
   "source": [
    "!pwd"
   ]
  },
  {
   "cell_type": "code",
   "execution_count": 5,
   "metadata": {
    "colab": {
     "base_uri": "https://localhost:8080/",
     "height": 102
    },
    "colab_type": "code",
    "executionInfo": {
     "elapsed": 1205,
     "status": "ok",
     "timestamp": 1549527533932,
     "user": {
      "displayName": "Patrina Bailey",
      "photoUrl": "https://lh6.googleusercontent.com/-_-IxxZOx6Gk/AAAAAAAAAAI/AAAAAAAAJ6M/E0SG_dIR-sM/s64/photo.jpg",
      "userId": "15476889788748924708"
     },
     "user_tz": 300
    },
    "id": "jydhP8zACb_5",
    "outputId": "a28cef8f-c1dd-4790-d123-4b9f6441b070"
   },
   "outputs": [
    {
     "name": "stdout",
     "output_type": "stream",
     "text": [
      " audio_df2.pkl\t        AudioRecognition.ipynb\t'Speaker Recognition.gslides'\n",
      " audio_df3.pkl\t        demo.ipynb\t\t test_audio\n",
      " audio_df4.pkl\t        full_df.pkl\t\t train_audio\n",
      " audio_df.pkl\t        model.json\t\t vox1_meta.csv\n",
      " audio_features.ipynb   model_weights.h5\n"
     ]
    }
   ],
   "source": [
    "# Change directory to the one this notebook is in\n",
    "import os\n",
    "os.chdir(\"drive/My Drive/Colab Notebooks/\")\n",
    "!ls"
   ]
  },
  {
   "cell_type": "markdown",
   "metadata": {
    "colab_type": "text",
    "id": "89NmI3p_Cdaq"
   },
   "source": [
    "# Load in Model"
   ]
  },
  {
   "cell_type": "code",
   "execution_count": 1,
   "metadata": {
    "colab": {},
    "colab_type": "code",
    "id": "DfH6bbKNBPqc"
   },
   "outputs": [
    {
     "name": "stderr",
     "output_type": "stream",
     "text": [
      "Using TensorFlow backend.\n"
     ]
    }
   ],
   "source": [
    "from keras.models import model_from_json\n",
    "from keras.optimizers import Adamax\n",
    "import pandas as pd\n",
    "from pydub import AudioSegment\n",
    "from pydub.playback import play\n",
    "import librosa\n",
    "import librosa.feature \n",
    "import random\n",
    "from os import listdir\n",
    "from IPython.display import Audio\n",
    "import numpy as np"
   ]
  },
  {
   "cell_type": "code",
   "execution_count": 2,
   "metadata": {
    "colab": {
     "base_uri": "https://localhost:8080/",
     "height": 156
    },
    "colab_type": "code",
    "executionInfo": {
     "elapsed": 2416,
     "status": "ok",
     "timestamp": 1549527547893,
     "user": {
      "displayName": "Patrina Bailey",
      "photoUrl": "https://lh6.googleusercontent.com/-_-IxxZOx6Gk/AAAAAAAAAAI/AAAAAAAAJ6M/E0SG_dIR-sM/s64/photo.jpg",
      "userId": "15476889788748924708"
     },
     "user_tz": 300
    },
    "id": "xznI2kUlBUhb",
    "outputId": "9672715f-f6c1-4072-e28f-0fc8bead0334"
   },
   "outputs": [
    {
     "name": "stdout",
     "output_type": "stream",
     "text": [
      "Loaded model into notebook\n"
     ]
    }
   ],
   "source": [
    "# Read in model\n",
    "json_file = open('model.json', 'r')\n",
    "loaded_model_json = json_file.read()\n",
    "\n",
    "json_file.close()\n",
    "loaded_model = model_from_json(loaded_model_json)\n",
    "\n",
    "# load weights into new model\n",
    "loaded_model.load_weights(\"model_weights.h5\")\n",
    "print(\"Loaded model into notebook\")"
   ]
  },
  {
   "cell_type": "code",
   "execution_count": 3,
   "metadata": {
    "colab": {},
    "colab_type": "code",
    "id": "QUsmJLOoBYta"
   },
   "outputs": [],
   "source": [
    "# Compile the model with a specified Adamax optimizer\n",
    "opt = Adamax(lr = 1e-3, decay = 1e-5) # Adamax has shown to yield faster learning than Adam and SGD\n",
    "loaded_model.compile(loss = 'categorical_crossentropy', \n",
    "              optimizer = opt,\n",
    "             metrics = ['accuracy'])"
   ]
  },
  {
   "cell_type": "code",
   "execution_count": 4,
   "metadata": {
    "colab": {},
    "colab_type": "code",
    "collapsed": true,
    "id": "ecFe8PJ1Ch1J"
   },
   "outputs": [
    {
     "name": "stdout",
     "output_type": "stream",
     "text": [
      "_________________________________________________________________\n",
      "Layer (type)                 Output Shape              Param #   \n",
      "=================================================================\n",
      "conv1d_1 (Conv1D)            (None, 1, 128)            49536     \n",
      "_________________________________________________________________\n",
      "max_pooling1d_1 (MaxPooling1 (None, 1, 128)            0         \n",
      "_________________________________________________________________\n",
      "dropout_1 (Dropout)          (None, 1, 128)            0         \n",
      "_________________________________________________________________\n",
      "conv1d_2 (Conv1D)            (None, 1, 256)            65792     \n",
      "_________________________________________________________________\n",
      "max_pooling1d_2 (MaxPooling1 (None, 1, 256)            0         \n",
      "_________________________________________________________________\n",
      "dropout_2 (Dropout)          (None, 1, 256)            0         \n",
      "_________________________________________________________________\n",
      "conv1d_3 (Conv1D)            (None, 1, 256)            131328    \n",
      "_________________________________________________________________\n",
      "conv1d_4 (Conv1D)            (None, 1, 512)            262656    \n",
      "_________________________________________________________________\n",
      "max_pooling1d_3 (MaxPooling1 (None, 1, 512)            0         \n",
      "_________________________________________________________________\n",
      "conv1d_5 (Conv1D)            (None, 1, 512)            524800    \n",
      "_________________________________________________________________\n",
      "max_pooling1d_4 (MaxPooling1 (None, 1, 512)            0         \n",
      "_________________________________________________________________\n",
      "dropout_3 (Dropout)          (None, 1, 512)            0         \n",
      "_________________________________________________________________\n",
      "conv1d_6 (Conv1D)            (None, 1, 512)            524800    \n",
      "_________________________________________________________________\n",
      "max_pooling1d_5 (MaxPooling1 (None, 1, 512)            0         \n",
      "_________________________________________________________________\n",
      "conv1d_7 (Conv1D)            (None, 1, 256)            262400    \n",
      "_________________________________________________________________\n",
      "max_pooling1d_6 (MaxPooling1 (None, 1, 256)            0         \n",
      "_________________________________________________________________\n",
      "conv1d_8 (Conv1D)            (None, 1, 256)            131328    \n",
      "_________________________________________________________________\n",
      "max_pooling1d_7 (MaxPooling1 (None, 1, 256)            0         \n",
      "_________________________________________________________________\n",
      "dropout_4 (Dropout)          (None, 1, 256)            0         \n",
      "_________________________________________________________________\n",
      "conv1d_9 (Conv1D)            (None, 1, 256)            131328    \n",
      "_________________________________________________________________\n",
      "max_pooling1d_8 (MaxPooling1 (None, 1, 256)            0         \n",
      "_________________________________________________________________\n",
      "flatten_1 (Flatten)          (None, 256)               0         \n",
      "_________________________________________________________________\n",
      "dense_1 (Dense)              (None, 537)               138009    \n",
      "=================================================================\n",
      "Total params: 2,221,977\n",
      "Trainable params: 2,221,977\n",
      "Non-trainable params: 0\n",
      "_________________________________________________________________\n"
     ]
    }
   ],
   "source": [
    "loaded_model.summary()"
   ]
  },
  {
   "cell_type": "markdown",
   "metadata": {
    "colab_type": "text",
    "id": "AtY8JTYLDenI"
   },
   "source": [
    "# Load in dataframe"
   ]
  },
  {
   "cell_type": "code",
   "execution_count": 5,
   "metadata": {
    "colab": {},
    "colab_type": "code",
    "id": "AyV0c6CpCjRh"
   },
   "outputs": [
    {
     "data": {
      "text/html": [
       "<div>\n",
       "<style scoped>\n",
       "    .dataframe tbody tr th:only-of-type {\n",
       "        vertical-align: middle;\n",
       "    }\n",
       "\n",
       "    .dataframe tbody tr th {\n",
       "        vertical-align: top;\n",
       "    }\n",
       "\n",
       "    .dataframe thead th {\n",
       "        text-align: right;\n",
       "    }\n",
       "</style>\n",
       "<table border=\"1\" class=\"dataframe\">\n",
       "  <thead>\n",
       "    <tr style=\"text-align: right;\">\n",
       "      <th></th>\n",
       "      <th>id</th>\n",
       "      <th>mfcc</th>\n",
       "      <th>mfcc</th>\n",
       "      <th>mfcc</th>\n",
       "      <th>mfcc</th>\n",
       "      <th>mfcc</th>\n",
       "      <th>mfcc</th>\n",
       "      <th>mfcc</th>\n",
       "      <th>mfcc</th>\n",
       "      <th>mfcc</th>\n",
       "      <th>...</th>\n",
       "      <th>tonnetz</th>\n",
       "      <th>tonnetz</th>\n",
       "      <th>tonnetz</th>\n",
       "      <th>tonnetz</th>\n",
       "      <th>tonnetz</th>\n",
       "      <th>tonnetz</th>\n",
       "      <th>name</th>\n",
       "      <th>gender</th>\n",
       "      <th>nationality</th>\n",
       "      <th>set</th>\n",
       "    </tr>\n",
       "  </thead>\n",
       "  <tbody>\n",
       "    <tr>\n",
       "      <th>0</th>\n",
       "      <td>10332</td>\n",
       "      <td>-274.717176</td>\n",
       "      <td>124.096613</td>\n",
       "      <td>-57.174884</td>\n",
       "      <td>47.091800</td>\n",
       "      <td>-31.190586</td>\n",
       "      <td>-3.631755</td>\n",
       "      <td>-34.891319</td>\n",
       "      <td>-4.590279</td>\n",
       "      <td>-0.825808</td>\n",
       "      <td>...</td>\n",
       "      <td>0.004705</td>\n",
       "      <td>0.003553</td>\n",
       "      <td>-0.009748</td>\n",
       "      <td>0.026007</td>\n",
       "      <td>0.001958</td>\n",
       "      <td>-0.009467</td>\n",
       "      <td>Gemma_Atkinson</td>\n",
       "      <td>f</td>\n",
       "      <td>UK</td>\n",
       "      <td>dev</td>\n",
       "    </tr>\n",
       "    <tr>\n",
       "      <th>1</th>\n",
       "      <td>10332</td>\n",
       "      <td>-263.282737</td>\n",
       "      <td>110.169695</td>\n",
       "      <td>-37.532975</td>\n",
       "      <td>49.808548</td>\n",
       "      <td>-30.783113</td>\n",
       "      <td>4.530054</td>\n",
       "      <td>-34.272742</td>\n",
       "      <td>-0.396505</td>\n",
       "      <td>2.088190</td>\n",
       "      <td>...</td>\n",
       "      <td>-0.008559</td>\n",
       "      <td>0.001090</td>\n",
       "      <td>-0.052647</td>\n",
       "      <td>0.053715</td>\n",
       "      <td>-0.014433</td>\n",
       "      <td>-0.001219</td>\n",
       "      <td>Gemma_Atkinson</td>\n",
       "      <td>f</td>\n",
       "      <td>UK</td>\n",
       "      <td>dev</td>\n",
       "    </tr>\n",
       "    <tr>\n",
       "      <th>2</th>\n",
       "      <td>10332</td>\n",
       "      <td>-255.330134</td>\n",
       "      <td>107.140581</td>\n",
       "      <td>-37.526152</td>\n",
       "      <td>66.718413</td>\n",
       "      <td>-25.090227</td>\n",
       "      <td>5.835736</td>\n",
       "      <td>-34.682863</td>\n",
       "      <td>0.156228</td>\n",
       "      <td>0.196809</td>\n",
       "      <td>...</td>\n",
       "      <td>-0.000381</td>\n",
       "      <td>0.004534</td>\n",
       "      <td>0.003975</td>\n",
       "      <td>0.063643</td>\n",
       "      <td>-0.003111</td>\n",
       "      <td>-0.009005</td>\n",
       "      <td>Gemma_Atkinson</td>\n",
       "      <td>f</td>\n",
       "      <td>UK</td>\n",
       "      <td>dev</td>\n",
       "    </tr>\n",
       "    <tr>\n",
       "      <th>3</th>\n",
       "      <td>10332</td>\n",
       "      <td>-238.647293</td>\n",
       "      <td>116.777418</td>\n",
       "      <td>-43.337226</td>\n",
       "      <td>57.847068</td>\n",
       "      <td>-29.790134</td>\n",
       "      <td>4.556106</td>\n",
       "      <td>-29.883005</td>\n",
       "      <td>-1.273415</td>\n",
       "      <td>0.166903</td>\n",
       "      <td>...</td>\n",
       "      <td>-0.015756</td>\n",
       "      <td>-0.000640</td>\n",
       "      <td>0.002584</td>\n",
       "      <td>0.037222</td>\n",
       "      <td>-0.006243</td>\n",
       "      <td>0.002152</td>\n",
       "      <td>Gemma_Atkinson</td>\n",
       "      <td>f</td>\n",
       "      <td>UK</td>\n",
       "      <td>dev</td>\n",
       "    </tr>\n",
       "    <tr>\n",
       "      <th>4</th>\n",
       "      <td>10332</td>\n",
       "      <td>-253.325462</td>\n",
       "      <td>110.840374</td>\n",
       "      <td>-47.403615</td>\n",
       "      <td>46.822241</td>\n",
       "      <td>-28.057003</td>\n",
       "      <td>5.674004</td>\n",
       "      <td>-26.317193</td>\n",
       "      <td>-0.719588</td>\n",
       "      <td>1.632264</td>\n",
       "      <td>...</td>\n",
       "      <td>-0.006521</td>\n",
       "      <td>0.009226</td>\n",
       "      <td>0.008907</td>\n",
       "      <td>0.020127</td>\n",
       "      <td>0.001455</td>\n",
       "      <td>0.002741</td>\n",
       "      <td>Gemma_Atkinson</td>\n",
       "      <td>f</td>\n",
       "      <td>UK</td>\n",
       "      <td>dev</td>\n",
       "    </tr>\n",
       "  </tbody>\n",
       "</table>\n",
       "<p>5 rows × 198 columns</p>\n",
       "</div>"
      ],
      "text/plain": [
       "      id        mfcc        mfcc       mfcc       mfcc       mfcc      mfcc  \\\n",
       "0  10332 -274.717176  124.096613 -57.174884  47.091800 -31.190586 -3.631755   \n",
       "1  10332 -263.282737  110.169695 -37.532975  49.808548 -30.783113  4.530054   \n",
       "2  10332 -255.330134  107.140581 -37.526152  66.718413 -25.090227  5.835736   \n",
       "3  10332 -238.647293  116.777418 -43.337226  57.847068 -29.790134  4.556106   \n",
       "4  10332 -253.325462  110.840374 -47.403615  46.822241 -28.057003  5.674004   \n",
       "\n",
       "        mfcc      mfcc      mfcc  ...   tonnetz   tonnetz   tonnetz   tonnetz  \\\n",
       "0 -34.891319 -4.590279 -0.825808  ...  0.004705  0.003553 -0.009748  0.026007   \n",
       "1 -34.272742 -0.396505  2.088190  ... -0.008559  0.001090 -0.052647  0.053715   \n",
       "2 -34.682863  0.156228  0.196809  ... -0.000381  0.004534  0.003975  0.063643   \n",
       "3 -29.883005 -1.273415  0.166903  ... -0.015756 -0.000640  0.002584  0.037222   \n",
       "4 -26.317193 -0.719588  1.632264  ... -0.006521  0.009226  0.008907  0.020127   \n",
       "\n",
       "    tonnetz   tonnetz            name  gender  nationality  set  \n",
       "0  0.001958 -0.009467  Gemma_Atkinson       f           UK  dev  \n",
       "1 -0.014433 -0.001219  Gemma_Atkinson       f           UK  dev  \n",
       "2 -0.003111 -0.009005  Gemma_Atkinson       f           UK  dev  \n",
       "3 -0.006243  0.002152  Gemma_Atkinson       f           UK  dev  \n",
       "4  0.001455  0.002741  Gemma_Atkinson       f           UK  dev  \n",
       "\n",
       "[5 rows x 198 columns]"
      ]
     },
     "execution_count": 5,
     "metadata": {},
     "output_type": "execute_result"
    }
   ],
   "source": [
    "full_df = pd.read_pickle('full_df.pkl')\n",
    "full_df.head()"
   ]
  },
  {
   "cell_type": "code",
   "execution_count": 6,
   "metadata": {
    "colab": {},
    "colab_type": "code",
    "id": "d-k4rNK1DrDI"
   },
   "outputs": [],
   "source": [
    "# Convert underscore in name columns to spaces\n",
    "full_df.name = full_df.name.apply(lambda n: ' '.join(n.split('_')))\n"
   ]
  },
  {
   "cell_type": "code",
   "execution_count": 0,
   "metadata": {
    "colab": {},
    "colab_type": "code",
    "id": "JSM1CDqEG6DU"
   },
   "outputs": [],
   "source": [
    "def extract_feat(filename, filepath):\n",
    "  \n",
    "  # load in audio file\n",
    "  y, sr = librosa.load(filepath + filename) # y = audio file, sr = sample rate\n",
    "\n",
    "  # extract the various features of the audio\n",
    "  mfcc = np.mean(librosa.feature.mfcc(y = y, sr = sr, n_mfcc=40).T, axis = 0)  \n",
    "  mel = np.mean(librosa.feature.melspectrogram(y = y, sr = sr).T, axis = 0)\n",
    "  stft = np.abs(librosa.stft(y))\n",
    "  chroma = np.mean(librosa.feature.chroma_stft(S = stft, y = y, sr = sr).T, axis = 0)\n",
    "  contrast = np.mean(librosa.feature.spectral_contrast(S = stft, y = y, sr = sr).T, axis = 0)\n",
    "  tonnetz =  np.mean(librosa.feature.tonnetz(y = librosa.effects.harmonic(y), sr = sr).T, axis = 0)\n",
    "  \n",
    "  return mfcc,chroma,mel,contrast,tonnetz # shape: (40,), (12,), (128,), (7,), (6,)\n",
    "  "
   ]
  },
  {
   "cell_type": "code",
   "execution_count": 0,
   "metadata": {
    "colab": {},
    "colab_type": "code",
    "id": "4DPkVSJxD0tf"
   },
   "outputs": [],
   "source": [
    "# When function is called, return a list of names to choose from\n",
    "def list_names():\n",
    "  return full_df.name.unique()"
   ]
  },
  {
   "cell_type": "code",
   "execution_count": 0,
   "metadata": {
    "colab": {},
    "colab_type": "code",
    "id": "TnZaFPnsFmKI"
   },
   "outputs": [],
   "source": [
    "def persons_voice(name):\n",
    "  id_from_name = full_df[full_df.name == name].id.unique()\n",
    "  idd = str(id_from_name[0])[:-2]\n",
    "  original_format = 'id'+idd\n",
    "  subfiles = [f for f in listdir('train_audio/{}'.format(original_format))] # go into each celeb file\n",
    "  \n",
    "  # choose a random subfile\n",
    "  subfile = random.choice(subfiles)\n",
    "  audiofiles = [f for f in listdir('train_audio/{}/{}'.format(original_format, subfile))] # extract the audio files in each subfile\n",
    "  \n",
    "  # choose a random audio file\n",
    "  global audiofile\n",
    "  audiofile = random.choice(audiofiles)\n",
    "  global pathname\n",
    "  pathname = 'train_audio/{}/{}/'.format(original_format, subfile)\n",
    "  \n",
    "  return AudioSegment.from_wav(pathname + audiofile)"
   ]
  },
  {
   "cell_type": "code",
   "execution_count": 266,
   "metadata": {
    "colab": {
     "base_uri": "https://localhost:8080/",
     "height": 75
    },
    "colab_type": "code",
    "executionInfo": {
     "elapsed": 682,
     "status": "ok",
     "timestamp": 1549535129692,
     "user": {
      "displayName": "Patrina Bailey",
      "photoUrl": "https://lh6.googleusercontent.com/-_-IxxZOx6Gk/AAAAAAAAAAI/AAAAAAAAJ6M/E0SG_dIR-sM/s64/photo.jpg",
      "userId": "15476889788748924708"
     },
     "user_tz": 300
    },
    "id": "Aes8sQOtIfXn",
    "outputId": "714192d2-9883-48ec-b93b-797f83244716"
   },
   "outputs": [
    {
     "data": {
      "text/html": [
       "\n",
       "                    <audio controls>\n",
       "                        <source src=\"data:audio/mpeg;base64,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\" type=\"audio/mpeg\"/>\n",
       "                        Your browser does not support the audio element.\n",
       "                    </audio>\n",
       "                  "
      ],
      "text/plain": [
       "<pydub.audio_segment.AudioSegment at 0x7f1bc9102a90>"
      ]
     },
     "execution_count": 266,
     "metadata": {
      "tags": []
     },
     "output_type": "execute_result"
    }
   ],
   "source": [
    "persons_voice('Jessie J')"
   ]
  },
  {
   "cell_type": "code",
   "execution_count": 267,
   "metadata": {
    "colab": {
     "base_uri": "https://localhost:8080/",
     "height": 34
    },
    "colab_type": "code",
    "executionInfo": {
     "elapsed": 362,
     "status": "ok",
     "timestamp": 1549535139039,
     "user": {
      "displayName": "Patrina Bailey",
      "photoUrl": "https://lh6.googleusercontent.com/-_-IxxZOx6Gk/AAAAAAAAAAI/AAAAAAAAJ6M/E0SG_dIR-sM/s64/photo.jpg",
      "userId": "15476889788748924708"
     },
     "user_tz": 300
    },
    "id": "pt_s-x_NP0Ke",
    "outputId": "33d463f7-86a0-4169-ae38-dfcbadcc20ac"
   },
   "outputs": [
    {
     "data": {
      "text/plain": [
       "'00004.wav'"
      ]
     },
     "execution_count": 267,
     "metadata": {
      "tags": []
     },
     "output_type": "execute_result"
    }
   ],
   "source": [
    "audiofile"
   ]
  },
  {
   "cell_type": "code",
   "execution_count": 0,
   "metadata": {
    "colab": {},
    "colab_type": "code",
    "id": "9bONohQieWq-"
   },
   "outputs": [],
   "source": [
    "def predict_celeb(): \n",
    "  # get features for the audio\n",
    "  mfcc,chroma,mel,contrast,tonnetz = extract_feat(audiofile, pathname)\n",
    "  features = np.hstack([mfcc,chroma,mel,contrast,tonnetz])\n",
    "  fill = np.empty((0,193))\n",
    "  row = np.vstack([fill,features]) # shape (1,193) \n",
    "\n",
    "  #reshape row to fit into model\n",
    "  row_reshaped = np.expand_dims(row, axis=0) # shape (1,1,193) \n",
    "  y_pred = loaded_model.predict(row_reshaped)\n",
    "\n",
    "  # Convert y_pred from continuous variables to discreet binary (0,1)\n",
    "  yy = []\n",
    "  for elem in y_pred: # each element is an array\n",
    "    row = []\n",
    "    for e in elem: # each number in the array\n",
    "      if e == elem.max(): # since softmax outputs probability...\n",
    "        row.append(1) # assign highest prob as 1\n",
    "      else:\n",
    "        row.append(0) # assign all other probs as 0\n",
    "    yy.append(row)\n",
    "  y_pred_ = np.array(yy)\n",
    "\n",
    "  # Find index where value = 1\n",
    "  index = list(y_pred_[0]).index(1)\n",
    "\n",
    "  # Use index to find person in a dummified dataframe of the names\n",
    "  dummied_df = pd.get_dummies(full_df.id)\n",
    "  name_index = dummied_df.columns[index]\n",
    "  name = full_df[full_df.id == name_index].name.unique()\n",
    "\n",
    "  return name"
   ]
  },
  {
   "cell_type": "code",
   "execution_count": 273,
   "metadata": {
    "colab": {
     "base_uri": "https://localhost:8080/",
     "height": 34
    },
    "colab_type": "code",
    "executionInfo": {
     "elapsed": 1111,
     "status": "ok",
     "timestamp": 1549535210635,
     "user": {
      "displayName": "Patrina Bailey",
      "photoUrl": "https://lh6.googleusercontent.com/-_-IxxZOx6Gk/AAAAAAAAAAI/AAAAAAAAJ6M/E0SG_dIR-sM/s64/photo.jpg",
      "userId": "15476889788748924708"
     },
     "user_tz": 300
    },
    "id": "9VSiDXnnMyRO",
    "outputId": "96fd1285-e3b4-464d-bcaf-7ad7348283c5"
   },
   "outputs": [
    {
     "data": {
      "text/plain": [
       "array(['Jenna Coleman'], dtype=object)"
      ]
     },
     "execution_count": 273,
     "metadata": {
      "tags": []
     },
     "output_type": "execute_result"
    }
   ],
   "source": [
    "predict_celeb()"
   ]
  },
  {
   "cell_type": "code",
   "execution_count": 272,
   "metadata": {
    "colab": {
     "base_uri": "https://localhost:8080/",
     "height": 75
    },
    "colab_type": "code",
    "executionInfo": {
     "elapsed": 3401,
     "status": "ok",
     "timestamp": 1549535188003,
     "user": {
      "displayName": "Patrina Bailey",
      "photoUrl": "https://lh6.googleusercontent.com/-_-IxxZOx6Gk/AAAAAAAAAAI/AAAAAAAAJ6M/E0SG_dIR-sM/s64/photo.jpg",
      "userId": "15476889788748924708"
     },
     "user_tz": 300
    },
    "id": "Bh_QI25Aflu5",
    "outputId": "f84860da-d7a6-4539-8dc7-9fc34bde732c"
   },
   "outputs": [
    {
     "data": {
      "text/html": [
       "\n",
       "                    <audio controls>\n",
       "                        <source src=\"data:audio/mpeg;base64,SUQzBAAAAAAAI1RTU0UAAAAPAAADTGF2ZjU3LjgzLjEwMAAAAAAAAAAAAAAA//NYwAAAAAAAAAAAAEluZm8AAAAPAAAAiwAAO1gABggMDQ8TFRgaHCAhJScpLC4yNDU5Oz1AQkZISk1PU1RWWlxfYWNnaGpucHN1d3t8gIKEh4mNj5CUlpqbnaGjpaiqrq+xtbe6vL7Cw8fJy87Q0tbX293f4uTo6uvv8fX2+Pz+AAAAAExhdmM1Ny4xMAAAAAAAAAAAAAAAACQC/wAAAAAAADtYuFKFggAAAAAAAAAAAAAA//M4xAARsKZkBEsGGBYAGCYJiGUQBA8SExpYXwrHg9J6RDAAHShwJBgsWLBbu+7vu8AEBCsHwfB9/IB/E5+IAQDAPj3//5Q/icCO/+c/8vfqOf5BeuSay0Bi5SWjkbGkZPXpCKEhcBgEExID//M4xBgV0daMXmGGiC7JC76naKGSvBygpzLT1tRKZhRRZHIj7KupGhHD5/nI0I7Spt7nfKdJtlPKAbKybCVPpeAlp7sZdL4oQRGuQxUGWyW33bAYkbVKSevXozmq+4oSrTxOZP+6fPOQREoE//M4xB8W+RaVH0wYADD1YEgmP5ywkhxYpytRjswxkG2lVig6LkzxwiUFGAOZn1tRB5rBARQy299TxIUSSCbWTgw/S8cKt7iMgpIEHDy//////8BJF82o3hKZlQoFdYuCtP5Hn+OOEFMKRgDU//M4xCIdyvaVlY9QAGj8FYkEl3OLEZCwIBhUeEzP9HYnJCc+clIsEm7qp6GqrbX8xj55cfj9x3t1bbecoiGMnDws59/+j2XsqnmC3J0bRmpu//zJyMe7NzJ6ERYJidsx/8nVEF9YGws1vHJj//M4xAkXCdKsy49oADoSZKSkOMSYBCCTgRxKgU1cXYFAMgojBDLNBhB6lEoGqaLo7L16v9f/sq/a9BAwJBAlkEi+Syyox0WQQooa5mo1RRnWLpw2VQN5qhBEj7P/3jf1qgnLIQBKBT38d2d2//M4xAsXkd6of9hAAA15B5VKmlM63Zhw4JX/ap8bf0rUN3NItyI1rfDjWSP5EO+4hMcMSkuiRHldZS/qeup6i7+aVWvTulipC0+14YMpCtYIFri7f+McEbpCpiJsSi36apJZLbLSALRzX/h3//M4xAsWAVbhvsFZCtuucUxvfMt+KChMMKzQ3O15PAlWfxxwsOW5G1RaBMIDqEOqZ9tfdy9KwX6jxZPjk7PHnViCLRKDkJRGCXzJCCDjk/1f////7fqr1w4UgwbUkhALcENkh6j+QbIVh/Bu//M4xBIYYn7FvnjK8r35L6yBzvTpOok1FK4j0tP/UgQtDzBiUcjtKQSdhyhaWXTIwI43/qQqdXORylViBAOBwWdKnQcIsrZzF/f//9qUIdjeRhZawsS5b/9QwcA601U22qJcoBWWrpZscDSH//M4xA8VSO7ZvmDBCrhPWUoZlwdr3h3CqNQDmpNzA7VL2wMOnUYtzNSOguhKFAWD3CIVFWe5TQLfGAUBSwlBUUAqj2oGv/02jQFrdY0C6+A1SorVDe9jakaDNt6w5AyEIs5GkeRvoFY3rfrm//M4xBgUQzK0fmBE/W9xmNyYAIGzCMyL0YXCnzSOM1vMZmMdfn/Z/M2wf/Ola6bf/7efq7U73Irr/6+pmuUPVyFkDuqCMwjIo2WemLwYzMG/SsbDAnATAu6X92NPq8ebBT9SS+aoYBb2RJ/I//M4xCYT4aq0enjK5NpQTcjHUaHgIc7Is+pdFdE0Uiv5NeJjzmK///o7cTOFiZm3/KqcdIrBZYAAnZJo7LxMdZdESjKl1wlWXA2AclTGMU2DqtKCt8gqGsNSq7KveDqoICNDfqA3ZtHbPKY2//M4xDUUkaqxvmDE0L6ZSloZDBgJ1Cnfpv/zGDS3FQ0WfUVLCJH1Vd1CFQdqHSKl2fiTPBgrwMBf2B2tuzOSmGIq8tTcszq0nMPuCwqzrg+XffNP/fNXFXTLcXUx/EIvE1E/dDzIDdAgqvXC//M4xEEU2UKQVVhAAMLG96TxZajQLFkT2V6KP3///QppqK6ay7Xa7631+IVAS54nXKywJRgTR3JqgchFLwKBKLQhGp7GFBULRuhRY1B+eeDkaCULva7nuYURvui3QyROcw8Y+ZoyHuDsiPCO//M4xEwm4866X4w4AHEAFBZNPk3UnB4WJjQZEQKigVlAWiQY7/7QeCwSGnvj5MmNgWms5dheRBeKhR//zjDFPJ43J3Y8wHg+AYJyRAuDwwcJg+B6L0//////8RTqThDcP/sRFnXkwtiwBfoU//M4xA8VWobCW88QAPpY1T/Qt3SfUpf0Ln+8aIRuLRTOVyMnr3RGe/7T4tTs7OblT/39Ct7HcyZf///+UylLLdHqQE7IuGBkriVvkhZbmlixXqH1gSLbsbSkTasTCdgsLpxhx8daOLKrDMs4//M4xBgVCbrFvGGEzpoHrAJYBQw+FkS97SBBVd42Ssh+ZC0826ogd3aZWQttOhn35mXLKUQM5JBnr+r/nBCwyUDydv8/BBWTD6ra5Sy2ON2MiyISYXZSVLL40vRMzgEAjJhMT9h2RGlfm72D//M4xCIS0zbJuDDEm+1PdjlNc1vN8Mr2CkfQtlb+bdUkb///////rfr/WnvsbVndbvKaYwRlquZqpNbJNAvFZ0nSCCkP7ogZmLGgMQUij3zyCAu2lpQRRxAc4GJlM4npqLOxI3nP7o7Udjqq//M4xDUUidbZvEjLDivr1Rn86mSQowCKg0PnE4YD3+9n+XQZnEO/rb/I1UDBBbdsUQIuXAp9BdpsahetxBTAueqG1/ILUDCQgdipdBXZmDxAElTBkWliRzD4dTL9uZn6t20rDA8M1CiNwSC6//M4xEEXWRK+XBZYODM0edbJb7mly7tmt+CEgbJqCxRQNbv///Lf//LKSBFMJRJuADH3aXBRi+zfvU+TI3UOcVe1ooOFSJNkj4grsXFZx/6BV//nkku2WYWr/aNBgoCK1QEj8hW+j+RRusM///M4xEIT+XK6PnmFCAMHTrwa189lXZ3ktT8loSUabZMcgH985bCrL1u2JmFoB+HE/iyyPhAyaqnTOrmVKa1b4WHS3OcUCR9088Lm72CiFNoQWpkZf9U9CA2fE7tDVak1NG4DZjvA7wsjTLHn//M4xFEUkV7BvnmFCmaVcJCUcciMjAGKwJ6SjTZ8R6RLncgVRH92o2W9XrEvlO6NX/3XDv1zromf4XpZlNasgYKgEYUgVJYZPDT8Jf/M7/2Rlu5pB80wwukqle1GKzS9X7tKVCEAltoCdoGy//M4xF0U6d7SXnjTMiDCy6rWq1fFWBDKWIxXxCUEZ1xMaOrIBB7poJlbnI/qtOn7V/+2tzih3OcTMz0cSFR9VHi4OKP0P9U+n1X85LEiYwuqiQ5yIxBQXdFqlBCBuuxCs4EPuKwbgYI9Sb1A//M4xGgVYpLCXhvKMGE4gNUVMXLxznL6qbdqNR/2TiVagcbA5nzJSJucE0E3NIjEAyzqWBQkHYhUVg0CpEsHQm7+dyz63fBUKjB9mgBeiky5ZGo5hEMlAWKRmS8yUZBFQsiLI4GQDEESEbbP//M4xHEU4N66XnmGyHdzpjnMgrI/Pg+BgKUAQXWtwGCNJKfLBwwTcEzZ8yLAMPmm1UXlwvYcbw+XhF6fiPsmP/oRJxf9txzl48GGSdbqvuwKyew7h8PAHIn9xhKAx1WYOScF9od46WWc/f53//M4xHwUuL6cfjJMKNWLKsyIiUt/v/+bqqeehXFwQXKLLKqE9dbE2+v0IdziguCYyz93/8ttagIwTUgDkct36nXwEDnuuvnr0ugDCdTxLLbYK4KahG/VMh/iHoDcKOny/kNct2tOOoRlHQr1//M4xIgUqkKcKnsKXM2ZtVEP3DsmMxnDrPt8Ff//ZCKQ1v////RVBJWxPfjeb5XY7j/eTeGuC3GVvtV1chzNfVob1W3i43BegJPUBZ21KUrWNK85SFNyoyIzXvQpjFf69c+f/6e1crsedNX///M4xJQTiPqlnMPEXKVp+6qcz7U33DuVetMz9iSOJKKeWe/kBtyas68jYhGY87kYuxyWu5N2pY6bT2QMkiapGWRiGFhHRZPAF5u6RbzszTDaMukynWe3dg+SgTkll0JlBupcsSmaaq5DmnQc//M4xKQka0qsXnixHApAYcQdpsw3C4ej8js3M1marQ3JmCF22CzU+EkYPwz6DoynHf4QaGdd6X8t8t3FjERjbf+hUu/5+/KZpfrEZTLZCZRaFHiQI8ESjsCx9+uQ66coiNI4cef6AZYuNZjY//M4xHEjC0ahHjDxPFqclpYks5katzKkVGsSokGAgrzQrlSFq1XSiVWpluO2SSQM2PyziMM42B5piBCHQaR2EgeZLajPhqmpmb9xlep8zafdL9BH82FLkZBqXD2Yj8y1XJqXtw8GAzMK4mgM//M4xEMVcca9vHmGXhwjLfyyA6tnEXlhzxL//EoK8FXRu/qjgEuYbdRhFsVHs0NsIWwsDhNtqRCwxikdsmEVn08+9f97vx/d6g++AukIjDAjMzOQQ/QjepPner1O6E1Fuo5d84Z+xdus/tkI//M4xEwUWZ609nmE1trfv7dtah8pH9hrcQayGTxZa/j7v2XHAwc+Y0IsuawJ9WoAxQdgyozR7hhrCYCUOH6wqN491fKrTxMKblVZGp+u22BxFcECiY+Z/qkBtnPkkp5/8VvdvwJZXV3My1dy//M4xFkgSqqIItJLNIiMUCZVlsuWBJnFIZNmH2RWToXXZfsalbPLY4wzkjR4MUTMwcGuDk1VIS01DleVTjwk+rat2nZtigjyWiXRlNOzwEAi2q2FJYaJgHAESGrpVw7Sqil+F6RKpiU4KFsx//M4xDYVESaMKspGxKmXWnMwahr0jX7p2g9HLGtvrO0fp/9OVegy858W+pUr6WbcE2JU4Yt+oRR7rsIAhhypqR1TR9pYQeRAPc4cr3wkRX79hRjkl/+L/qv5YVRQVFXYDEbixEhGSOeXy6ne//M4xEAUWcKUKssGxCmm8YY7E0A9xdSw+fr////D6oQrv7qxLB8WNXEERSbLtBKAGAc2JrCgETqqqQQSrDkDftjdlFUfY2aWQG3rdJWQw954YeR2T0cdWdBo8eR//12o/R4aeSNlmgsLQieE//M4xE0UOSatHmDEmG4RBpEJyRyOIgfGU1PCqdYm4ogwbH7YdnoJ8i2tp7tWmnX/+T2QTciEIU4vQzEdkW9tMIAQeIBxnka2EhH8iEiaaenP/80Lul5/yi+iz/d4hZHxETibwuXfcWPgCNIW//M4xFsWQyKsfjFG/eS2tvlCiD5YsmncoEIy9L3CCGaKRA7D4x2qR171cnvzpafOne7l//y7QMz9RzGRP9Zc7Mx8DTkhDBgtOlPlLP2+7ZknHH//1lhU2hJAFOWgDENXa9elaKWQX9TXaEuu//M4xGETedbNvDDM3jZxKvIQAcGB4hjNcjRWZc7Gc9Usddbncj36OtWRcj//X60ijAg2kAMQbNqWBInLQmONLU2///Boel3/krSxUYPqAUtpACcFJAfDgBBBU3YK8GofRaqUO8ZM6imeLz2L//M4xHIU0XahHMJEiKp65uau+yCLLU1dkUzV9vMOPr/sELCRPmH5vhQsAn/////nL/5JVsBkZBjKLkQnfwlJIu/US6Jy8h2cIYC5WtWAF0qb72zJYQcWqCIOyboxXFAmZuZmjjSn2hT7faC0//M4xH0XWzagfmhRddnOTRrvl7+Kin/6Feyk37EGPe9/cx9dOWq9GZGJyP/oAEaBU5+RjTRX/1H///0D8///UhWwTJua+8RXIcKYCAqgN4a7QDhn1ytVloGRAHpifMZ/pcTJ/FV43ybDFjUR//M4xH4XO0a+XlhTsIXHkOUgBAhVcoQCQjdMnCjLTssLlkNq7OSoiWZYz//yJJojUTb//ycXDujPf/8S+yqJolr3bZZQNSOd2cWMnDe8VgPQc5553WBF181guOPwQp+AiTTKA5WDDXhjxIUP//M4xIAUUPKk8MPSbASEosPQkPqIpgqw8GRp0+8T+9iA64sIyazqKdSnwaedWdR++n9dAybk1s2s22u0tgA0Sk3SQO1CbwgmbcQwDwYFJEgnCHiE0ygGGANC2QTAFDxuPehWf7fANkkzTJjy//M4xI0U6MrOP08QAhjazijof3aEKnFT7zM3MlXLW1+zpz3ZXRVemwkH0+Mlm5uSGoWvVOOyhEvZSjM0OE83Pbdy9TD+nxVR1Ubdn1xBubvNDjCe95M67r6/6/viufn/zRhPP2cfnEEdInGp//M4xJglaw6lH5lYATu7bXa7ba3fNpkwioopUVNTxmXNZh1ynUj5oGDhz1ZhzeJhYBhQkoElUKpW0DrOOKwEYrNLbGc5f10G3lMuUprpub3FW4MMoo5mtHCLz+PIEp+T4LHVupbtRSUELazK//M4xGEmKw7iX5hIAoshempZH6lGlf/8qFTg6///Uoy6e///+vXiTy1BbcEfxHnntf7cf6j7fCdJTnftRZ4LMI/8//zdkkcu22tshABdGkkZeboiiFVULEGWLJJJR5Ayp0yT4fBCZ3pEisey//M4xCcYeWrWX8kwAh+9rxKKfvTf90EMsRMbf7vLZnb5y/klpE7w+J9QbE4TcB3j2s8nwprnpcDEIUIBgOUT7dwosiKhaFQqbkjtu1kswCeRP6Br1Ux3qrSsgGCDkFPib7/pNBIiFq07F4zM//M4xCQbqjbWXDJNZtGftjPf93WLr0QDYbQTWbXRygKwvKdwkB0oEPrYMs4YyBeWVllkiJzeryIfTP/3u9YhkCyd7DlEMFjj+paGC0GRTCRGkzqfKx/bXUnc1iJiu1gOBjSKDJpbgYlqRVbi//M4xBQUETa6fjBHQCSn8iip6qsbTsuubEWvfMNdGagQ//C9hVVVpKFgVBXCcNlip3/wa+HbZZ7js7GFgLr1uYVZadjRnLPRiVVk2b1qTstvwoZBMnUUyIrREi0D+FFQSAdJN+bS7DU2CA4S//M4xCIToRalGEsHJJEdYGg1HYIQ9LQ+l4czUjMlsjCkkGQCyhA50uB1R4pGKFmjyonHmT663bViNSgT4AcgNdp45TQ0IUwUY/9PLIm8pImeJbnROHJh+pclYa1+Kgmpl9Ni5wa97b0P/T85//M4xDIUKUaZlMsMxPHMVpOMze5pPTJ7Hk0DzNcwABB6Fk3fXtX0//8Tq1IFY8LnHuHlB0Xc4iZgG9A7iGkpOoVwWae3YwHn7Fa/r/X+tH1rJovOiiuOyKGFfFF84i83riAI4PBbiXkLeQt3//M4xEAUck6kypvFhfWYavj3/9Cf///6EV21FpDvZkCSAaHb0xd/FD9Alf5TXq5dkivJu6/JjFN0MA4Z8S+hH/+v8v6L8PDxEj40stPdMZMA8y6+sEgKEG8ER2JZaWx9OLAcfEPfs2naxI8u//M4xE0UKb6o8sFY2A++IE1ssWS22gIKganb6QEWNOLjENJUI05LudVRx6BX0BX2YEMUL3eJU+BhUr7G7oQIivkR6IRW9UVf///2dVOkj0K3tkpIW8Rv/+tk4MgNjVLz58+IEPs3bdc0osBa//M4xFsUubrSXnlNFpEvIkSQTPlcdp/F3UMzS9fH4cSqzAb4Y82bfv129md0sfJLgbOl69EmdjygujCga/rZFwZDRENA07Qw8R8S6j3K2/w7ZoEQKD0HU5SHnK9tEneBzPeN5OdSNjvytEMV//M4xGcUuQbZvnmHAjQ5btv5F11S7uJmSw4j99tuD/ryM7uYnJ6wk3sRGPrVf+EhfpwnCCCQhB9TCb72T5AH3Tmj/+CFQx0onwTP2o2WS5ICTwm7dr/Z67LBInSIdxajBYOi9decVi2Eojjq//M4xHMUuUK+XsMGxNLjv0Brf6An/zOiY1G6BeWxwuYjHaYl20Nwjzf/ziQCEhN8OtJOnnr//ijgMkRDSBVni65IBTeTuTSgY7od5EgIw9tN5UqHQQyzPgUZVrZHkBFqyyBIlWrVCOlbPpSo//M4xH8U8Va9vMJE7n/i20Ir4u9mjmTIKvt6G6CQOywcPXfKgqGipeMNN53r+5HdVQRqQRTB2KVrTqmMoqligLJ3WMINz+A4OwvRnEtKNsdnnqswwRNnMrHRfN107rcQBHmODsd6bNvB2shH//M4xIoUEU6pvsMKdAfd+JkEyijlf9NWclwfic+LAgsplCGqy7hBSIoK7LLddrcAWJYzmUfByNr3wi0NpVv+GTeOtMQ9RiYxbCs3n1gvkxciuaWpF2XESq//LwNMD844YE4AQIxAHEiAZCJZ//M4xJgVAOKACt4WbKe1OMLtcUPEU6OmiOZ/5/+17kYKs7lh1XEvH31cf/+WvRD/xNUAhtuSslYEqW/q1a5ijqaRuvLRwo6IxZeH4efQQgOIyeJbjCb9SxZv9nc8v6CBBSEHLEQNMXZ5RFui//M4xKMaCq7WXnhRE6F2WAkcu/mZpGTXlDE2wxrPImgI9xkmT7C0gVTctf1/YKuDxdpz1/Ln6g1Jqia4AbzNLATp0rLM/Uxdg1QmYaTKqwNrSRkoeKk7GVnykCJHIOz7GOznGw6jxmjWguWS//M4xJkZAa6VvMjTEEANzTSyzgNBM2TKqlkf1ip1pJPgsOX7hK6se7ljygaCVGt9lNuSyOOYVPdTy86XHZaW8ri5Zqx26Bey2sIl0Ya29Np3L6VfpHdGw4hLcXVbEVGxzDcJxYtox8Ryelro//M4xJQVwOKkfnpMcEppuK5AQyWHB2TxDBAR0ogALaAorD85EsnD4reUnleACBADL+fC/cOLrse77nBoSPThH+56E4QAALEiZRKyZrw9jzMAbRKZ+3d6+Pt/3eudkfqTD5wSnHMy43hGpE/J//M4xJwkQzrFvmDNy0CsMt7BRBAnqCq9HlRGURCv4/OlnOyEIy5Cm1UVbKzZdl9dzAwCyjTGdS9+3mesTQ3+pS//p9PVFKhVzKFOhAVdaY89T/w0IUJU4CS068wMELq347I4gIBDYU8qCUYS//M4xGoUenq9vnmEVPUAjUfjOg4pFK9Pmd6u4ELT0IDGypY+KAQF0NIGJF3EowilqO9RN8re6XqsVsQqM606RLW3MBCrcKRe0UqIFnG2W6MSy0ik6Wq9vRhXq2zLCVqrgMcV9Ty68C9Jq+8F//M4xHcVIK6cvDYMFORO8tHhfGba7OuCFRsxTE+32nbzsky4mfqxLk5eZPcrVvwqdzb///////L3CFUJ3Oi+7RQgcVs13FUOhDEBghge8IOaQQFAKBisWAKZCFSS9iL4hJYxuHguFReAY7W2//M4xIEfQ0qw/njfXsPjePkjxTd9c6djqSh1SngBhKEctdtrF61bykIp05zGX+nqEa0qLHJ4RPXMxKF6JeToN4C7XSV5yZ+4tG/lI/NukaAZNBJeaGt/IiZu0vqtPv2n6+bwdkF+HMFOyueo//M4xGMjw0qY/mDxPN/KGUTsPMjgeCIXUp6KVy+/YvWrGEXpZRQUmoDZSthLpYwGqQqJnIMrOgmi7Xjclsk1RdZdNTSG73UyFibNkAkEgWFTaTbcZgZ9uhMEUWqlOEZitmMzcsGxMgIkv6RA//M4xDMU2c7JvEmGyuavwztMjdNsznpk0/v8RWGVhmlPKe//60LLoYyed/htdZKy5JbtbY2BWj2Y8Jw0gfhjpp2flttgxRPr3cpX7GQqua9VQRfcnU9mT/snR1EsCe9odi02TJ7D6VEJ/H/3//M4xD4Uec7qXmCM2ny1kwUGGgU79v/6Etv5h6wEb+8qchLq0ERhi2JWWEB0OpyliLYMMAQBpIdBivj3tb7o/bAHoQ4VCvq5xk+EOWnYIq+u6///MZ5jRISBwKLOMDiO073LU8oeFxGBTx8I//M4xEsVgcqxnHjK7IaXfbb/37jRAGUvUCFC6+glQBvapJmEzQWbh4G0yiCPo9668ul0on8ZXIp2CLcLMkmwf4LJcQfBpU4ZJQZnlND/4vy9/8i/IgQEaNQAS3LQceLkD0w61v/bQiu+Gnka//M4xFQU4cayPn4GaHEgxvkhLUAmaqEbZCUgJjm42eDvIOL3EhyUQWr5F7xX8+vDF8OJuiD5yRZYMm2OLa6dfPpmrIhUFq700/P/hOhkUJ0FbEnW+RVNTIqamv9qrKiNFeAGqcbclojvG2Dx//M4xF8U2abGPnoGtvap+8yF1Q1Z8UWIwxZgVjUocutxJQ74MvLuYkK1tXMeUuZxjlXv8ux/eMxn9EB1hYYOKgLRTJ0qUOEbmv+/UBppdR5bU/s6lYC6mTVgAzi18lGq4yw4sxAAaKX4i8CA//M4xGoUkXbFnnoGmn65z6tH/8nipRc54T9/oj6NnDOk7k6RRYGBnXsrgAAjwAKZU3P6+noUTIOLNRf/klMeKqddvsDCxyqkhamm5JAM0vLcnrTn6lOYpJ4edE7Ptn/GXAR1k+TU8/Z/LyMK//M4xHYUCZ60/nsGcEib4s8NrRJPmVkmqo1Re97K9wrilXju2NQWM8HjVZiLNDmR/eC+if7rW/+cVv9fNqa+M5vv1hZvf2g7xjEZ7NWuYDOyKQYHwZYgBOeqlAM43B2TpbVGm0bouLI+ucDS//M4xIQbcoLRnnhe1+BSK43HPxDLaImFllf9ijVGRFFsrRZjnkpW/kGFLsGbWM1E8bCkx/SYv9V19mZqAiWfDuGkc78jhqWET1uyMrUAwRpSxuNUakewzLLhLRNIxcJgLRRVBGhz9ILhmOEG//M4xHUVWbaxFnpGltzKmXMMdSe6zMd5iAsKPE4ZNSiz8ZFgADEMKMD26ZB1WbXUsEFLH3qnMg7X1gRz5Sw5/3OHKj52QoFArkqpBADRUSTEYSibjJ9icmI3nrx4W1y781cEhCTChTUW8UCa//M4xH4VCNKZvmJGcI488HGMX+Zf0OaglUYi9edWRmsIggCbYg9wYbQEkqY5G2ln9S10iYSNzi1JNKkcEaba2X3K+eSXbJWiPdnbR7JRU2DiidoLud9LqdeJxs7MgmjgtrKjUUbipJsAGYty//M4xIgi8tp8AHjS8Zz0u548AAmBDxs6WpGjtg9Ds9rq43WsQl+LKe3shYTkOIyY3A3tqA3r/DBOZWO6nQQQDoaEyR1NvDANPQeKCUFRUnEsaWKqULBYWJTzX1iyAXImgKuTiX9A8InUVQBj//M4xFsWCUaUNmBG8K3bJ22YSjA78FIwGxWBlsbZ786zTIdPVoZZmtNgK8Mr0f2/vl/QqnVBQUONvUgPSggMQufXMUJKVnWxeKPdj9e8uhbRQGgqV+3UzL1CdQlLLK7rNRWFw8jbKJbxE9Ju//M4xGET4RapvkGGNE+bkGH4vIGH7l2raP7irhaptUn0R3gZy/VdTfUl6dsRnh4EGJOhwOSJg+AbyDAAXb2mTbYWFw2J89OoNSTYswm1l6hr/F1D+8PyuB1FQedkNzEXjQg4D3UCDmwmmWQt//M4xHAh6z6hHkoNEW3hAHEFKykD7QCI3MByXPFH2tALRJnOsi9L6y0PTGoyUE2avbuIyaZkENIIVJCQ4JRUUhGdibeXS2wttVFy+0yP+nymDjoZnezP3JZ3aGHRPAWbFRO9LaewDco9jzGt//M4xEcT2Z6kdDDFECeYhqvZpRtx1SiY1bdGSUXBdSG1nHCak1L4WQWiWqmGZ/EaJ1xVQtM7DTJCiOXwk6WDDAwoRFmJYAwGQJtKsn0iYg1KUH1WlDiYTxbb16lJFS63NW9wFWwY7tulcwsR//M4xFYVQOKqXkpGcH+gRc3QdMFd6ARyZHTVSXGOkoN9Zy5+0kJzNpR+VetcrMyU60XWrbgueyTBp0OWrKpY4CgEm4WHLADw4pp4c/3SliTg1SuGWEexGn6vD04JnG21JbdtJLKAqdOBcqip//M4xGAUeXKU9DDLDGYZTUidZSYnkZI3rFFs7YyX9lZiUNNalJExemZPqqisFWWBI8WWdFSodOsQKGixqp5batzZgam8iHhEMpJf3+WHCwOigA+mMBOa1oBJgFYFESLT/Z6vJWUkOLzyEA2C//M4xG0VMP7KXkmGfgwogkRw4YojohtaThTcPMp138rcIWm9/yEIeRnJQjybHfq/znRnQIYHBhDL//2ZymULyAPgZpuyLz+tHeRaYEXAA4XdMPY6jY4cfczi1HIsPcQ3G8aHcq6ZKBwU3tWl//M4xHcUOc6ZvkjE8P5puz05s3p95zf+mzSZmmTu072Om8R82ThxQgrJglHJdCMl6jL8T1XYFKEiSKX3y+O6tfQzR60foQcYYGZITxLvwXxDLpn883fU8wSxoIAZJQYD5ALAmcUv+9SZ+3zk//M4xIUgOn6YKnsG/Hy7BM+WZXZKssFDYZO56hyGAMNnE7upGpmpM58tVQEA4rmVE5f1//RTuT7Gdeu0wvc1BtAKiaXdNkiImvk5snEdepT5ETTZ1aSY4C+/bRYeqwqKlQEgwhdjVqYo2GCD//M4xGMWAdakAMFTDMWOsLLnhf4gJAGgWBAwFVcCI4CU4eXoQ8EMzzUNOsRcX/NNSQjhCIyRmDjqpz0qXGUM3qOns6kqbQSnA0Q0XZSsSE6f9dUFnkC8BrHYZo6KC44zcrL2DuTwGYl2n/jr//M4xGoUCYqZassQiPstrPuzstJD8VqXCA65oaFTmbLbX7jr+rlV/pViHUqySWUY7lBoR7sXOHNMpaN8Wz30LtKPAdlUnAo6IPtORYBVJcX0qoQCE44UpKBLfP2VRB84gwAJIQtijbJoG3c0//M4xHgXSc6o9DYQGBUP/M5r56tv3Ni37iVMvhTqkYciUmNb7f0Ks/oC5gMjbN+NDT4djDxATPknQ1vPU/8+LB2hr2F6OyqEFKS2yW2gZrb0OweU9MUJ4SaPqlG13u2sxmXXfBM57AgGzggV//M4xHkU0Va9vnmGlseBwdI2IBGrwGaeTGnOtJ56jdQUvnjL58REAbTlr6QOUc5ggEAocfmdSYpLh8/ulQAApAotNMiAXlM/EUkyVmKWCJp9dDrAWdNXEwz7zRtnSD4BxcCGodNllpSNR2A5//M4xIQVQPLFv08YAjVG01z7b7JBsebtO9Wu2WtNFkJQ5SPmsRPWgQRQWk0eSrRa86sarWw440NATnU33lJotM1MdLONDneuYOc1ysImpSeeruXqPc6d8OPU6VoYWPri9zpg2qX7KfP3/7nN//M4xI4nMyZ5dZhYAK9lvcxa2XK74OFjf+//opEKPfv/dIMcIGd48boJ3dWRGwzUSqGSCzibjcLCgkC+HkSJd6AkfbOdSflBA/IZnu3a3szcNJ6vIpzyOZVQmjUcFyeZ3+PjHrvJG1K1HOLf//M4xFAnI361lY9IAFxW3nzd92zPfv7pN6Rt4Rm7Iw2VJ2xJt/3Xj4XW/P/kfJrUeigZAsSis2wvSISCslRVKTcZz3+6fUtlLfv//lcm7/////////TQ/8Gq+AK/6WAtZwxGRBNo1vmGy6/y//M4xBIZGcLRlc9gAv3JSqFxJ4EMCFkYcnCQOj9a8cExQutML7tsvan1vNqO2xx19Tb1Z849FA++4kVl8/GhKFQ6qGKG7i87eYfbtbttC+rfyudSf6lHfFWGLv/XqtKVaiicckYKbuGa4xs+//M4xAwXgabaXnlHLgrok/yOUD/qJuo6DHhx0gFeEYP46V7EqzPn6RKo3vUgBLsIgrrOER3QSrqZeJB71bzF5kKGf1hV34r0GJAgwGQIsJUv++Jfknueu7Wfj3jqf+8McEBaxsAsNUmc4A+g//M4xA0U0q6yXHjKzJXbrJ+F4BlG1PAfKI2ImuFEAIjsZn4qyJbIxZbXh90Vvp5b+pHKpZTl1Yz6sYxWGB0IMraopeQxnzv///9bbq/q3yqyYzpVjeMM1hZYk3OK3btXJuqQ2d55GVDBQ29e//M4xBgUeqrafsPEdlWlcZg1PjwtJr6m3AUnY8RFaN86ddGlZ7wiafBO/Unz/I/q/o3z/X9/hPo32+/1+r/X6fBGN//lkxpwtJzfaxpygVsOmAEIxniiWAQJ+VECdkdbVIB/NvYH9GA+XWqt//M4xCUUkX7eXlvGru8NHF3OhAEipH4pGgVPzOF9df68f8gxdfIfLUCHWYflXUPw1s/1fnpQlh7JZaqEAN5yFKK4R5qR6D7K2FjNQvVYdV4pNKmd6MBT7WnF+iFjHBv375llSQSXnMjJtAbF//M4xDEU8RapvnpGiKyaYfLC4H0IW5i6ccxIEDb0TZpBY4tnWDgEGo/cT6P3aXB+2bc12skl1E434GT3P6uI8U133EHTpKEC0043xOggoeOroRAq1P//PlcnYoHkBtflys6/9u5Pt2/b6r////M4xDwUomLlvjDFE/1RnCwIwzA32qlIROq7Pk4m988Jsb/KcMUblkabMCN6K58YJYP9dSAMjHEZWR4+AdSD7FW08CzLWsN0DiX8cO3IYq48OKvnMtoM7dCGtkI9LhCpOgG/IRnb7lmOjq8g//M4xEgUqbbWXH4EroY4H//+hEuslPyliIyU2/ibk4DXK1AoAZjrEQBFhFf9OmnK8ufzbc0c4O/nYm81nLwgpe4QTOvAcuWBqYUGajOkNFwYNvMkpkkkhcQWEnoGLcjT6teu9cOnK2VNSoUM//M4xFQUaOLKXl4GcHLfQglOgZhPc87istj6JkFweaz7BaRLFOsxIIRxVX1iGHld+qEZw/aQgrqACvcvV/V/RvI2xA6G2lWzQamjEzLnqv/sxCqTzJicba1WqoiOYZrWEEqBrWIWiRm1XflD//M4xGET4U7CXnsE5GxgoM3oDWBeHUcl46AAp6uqEsbaUH9sThjo+CbaV1CKVn6kaur+I1QKdY1thfPZmVZvlf216D8G6g4fi1QcTQ60BIN4bszQga12DmpMuKpVqQJIog6wWafIpnQ7ItvE//M4xHAT6U6+XnrEyO1A35mLayHAJeRm/Vu34aij2Yy9jL1YV5AQoKqrqXygJTxZ8O1B2Cp25VZ2t3lfibEXw5hpcxlOJCh2pcUQCicJsHOOcZhhuYQElJOwkReTIJJIF8SwZBxCtM/ZAoOP//M4xH8VMWqcVVgYAM9N3pm6DEiVGRSLDVJmzB1ItMThm7GCSTp6vpuYLMCkXSYSXdWu1amZ0TxJmBcQEvFEnE8m//9aZvr1HJLFEqKjYeBdPl8cav/9aZuqaJ1Im5ugzC3ANwG8FVAvwqYK//M4xIknC86IAY9oAGD+ZBjEyHMUhsF7///dD//8yHGqbVYs010ThDuW4zFEQkDbE9KFZTOAWK6VNg7DEC5DJ4LiLW5JZsVhYDAWscxjzjMhdbcQ/7P/LW9ZWMWSUmXZ2am+n97vfv/35//u//M4xEsaQcayXdgwAH/zc1thRN4nrlP9tiVTv3lXFTr/DTUEDrBp2RkeGgwFjMSF2q45rBrgRBjBk+nJCw1dkfVSKBh4JMFnLtJLoJWZ0G5iTS2rrKXIYvdLP3GxJCLlvvuCB2fzk7/MuoGs//M4xEEeem6IKsmHExkikiOVUz2N0pFI5ESrNh1ihSI1jfOnGOl31Kl+flf4y5UMKY1xRIEqSq9deaY7sjev37dvxK+Bq0IOsHdNpPvxQyShm7goYsMjA+1MMDg/gMVL1MikgUATWTNZXDTF//M4xCYdqeqiXsrG1AIb+zBZ1RqtfR8iiZ7bQHhtr7y1tqnD1VnLRrhh0tbc3VOAZFHJvkitTxX5VppI2c5/l+oJTBZ4aLZNJk+6bEMuYLKa8G0h4uMt51JU2s8vYszkW45FJJRCSH6SBchD//M4xA4XqSK9vmYQTljx2wRcWpI5LNKDOIkPCpiWBW/kIx0Cm904ouL1owlFKeMyrR1vRGebvV+pGicDiU2sSZQ+GOfUPeD52o2/IJOIu4oCA0PpVortdojn/4grReTAVoXptcB4E94ZLGl8//M4xA4X6tK5vniLLcCvHcAqmg8gQD9dK60WA5U/zBpTf+UgXkSmIDl1T+HF//ISc6sIELSmQQlVQOAxlK87/7sHzuhL7v6gODCi7f/y7pp65zi9R8jTvfOHzFOLlNKALWY4fspaFYyXCCGy//M4xA0UqcKoymPOiGTgx5JI4kZwsuLTyvX2TGPObKBAEjP56b+JwgJ/90NUYJAvCQob6b13Qkqf+9bHjiGF2O9YmBhn8LexxFwSBQOhMUe8WH0MCZa0EiGZrkTCIRD14/PkRVF+/e9ELW+e//M4xBkUscasKmFRKKL7J0eIZJCiknzIjEXQpQUGIvv0FCCAGjRBNHiiCi807v/V0yu8TzX6d3JdlsKBhHEwj/sbRP+j9S3BHj2jznuE+tSVUwDeXdmVL27AeElHrIqm9uVz1lYma0KM+XCk//M4xCUU0casoniXKDRi6K3pbocjg+kuVjGR5qeKgPjQua1cud/3FUmO9Z3/zX/Le07ROv1Bgzv//aOVMAYJgTgKtwG5EkJYvFXUsh4J4CgOQ2FBqmB3CYpQYP24sGimHBT/6g0Qk29FOrLC//M4xDAVAsK6XmQKKIo5//znDqN+n+URQU/se44hUMJP6v8hE7qn9Sski0Vn9Bc7maEAVaKuU5eBonLfTioZpfiGkWmOTLWiIeFlUzztX3nLZs1UotQWgxIP/SZ2e2nRg0pwQxNPL9XABf2U//M4xDsUmZq+XmKFBCq4LPEYEaDrVPAKFf5H2rsEB68zKs0SioACwPArGMeHRUckSHiqcTD4fEg12/7bD0dpv/y/S36aHHM3Ytv8v/l/z5/HPHjqNgUye6CIHp73298REQQAYXd20RjSnv/n//M4xEcUGr65lChNqeQd7hGY/CBhwRWIQLPQkp4VKOz0o5tQMO1RlGs5TZ9m//ds1LMb+k2ZSFR3GOAMgyBxlIkjAYADdF9mQlGtPa9y6ar1GT+Mn3YxP7H+slXaTSSnqunQLChIZmRruYSD//M4xFUhQ0LBHkiS3GK2MZai0Kbx8JD5QqkRiguG0Q2saQJqba1pXOaUC6q6MMDaUFlQTAQBaFZAIpkbaJZNZ9s7G6A1/d0NyJIEZPVZXe6o8Oim1Ist3OX70bClB3NDQljuHohgHarmOwFx//M4xC8VGVL6XMsQ6kZm77Bn9P5e/4FKgyr3YHBE/hWJP/6Up1xDQmJXLWMf/9S3ZYOqwAGu1ABMCAjmJfdg1rcNbuOA+Lq2d9sRxmh+6DUTauIFSTSABJrMG+jNpKhiqSbF2Iv5FGc3E6mE//M4xDkWiO7FvB5ePHnUFQBoGGcyJRrlZ+rJjqqCpiRNvgDvdpY9nd//7Nw+5NV5swAOq0pgPCrDQwN0BUw43QDebgPNRIJlS9S/ktxG1coAE0myir8KAC0rn+ahiA+QVqhftTcWwH81G3AA//M4xD0YCVq+VniHSCK2Q5W5/oj9Fd/RYlBWAg6qY4olo59FQwGhUYv6rNH1hZn2qt7p645vbd+B5I2jeIEApEMn0XE7rhzOh4GiU2RXQrNU114dwvq6h4P4EjO/rCoJhi/6bFYF1llpE+/E//M4xDsZ8qr+XnpFDkUFzHzaZHnVsrt0BPvMf1V2zLP+/3/O+/W+q/vs7s9KMR6ZCXNYEMLLBMwvvnIqaboEBabEeELhxHEiycBAwuTECt0IiUIoDaJ+UhMVzatnsfMVP5RdpJdmd9bYSn5d//M4xDIVeRK1VgvYDDoxe7+gqe5uy+zUJA6Jci2TKyZVFacSsSVdhTqydvX+x1d7EWzQob1qSAfSSmZjSwayL3HpZ2nqMjd25Grc+0hodrC/BN/WIv8d/Y50HlkIdNzJkmjfkH3E4n95cLNz//M4xDsUWQLGNsGGyjRcfbFNEhkXhEE0O7koTDCrwReCtyXq12zWueNRjNjOIOcVwZdFo/QzlA/WXZgKEVtiEuaKgyPPVhgbF8x16O3ubzStv3oIl0K2KAmFtAPkgSD6bVttlEdZYWMf2MLG//M4xEgXabqoAMHY7GD8gWOrmeyVnjCDXoV6/30isuQyUD2UCFM4ABGYfygpaFr7FaG3uOiM6rc/98V3AAiowEAyGtMFquoDMbmfkdyNle3+X0DzoRQkPEnxod8xvM/y+JC3////o/q3//lb//M4xEkVIzq1vsGKpMnzWrL//+hznfEBRe3m3a5LQ5xEmnyAFD0YPyg+F2JZslbvubGOHbM/J32TjriNHH/850n+mZxpUf/tsWt/+xpn2Nb///////TnItTjBrq852TDjINcinRyDg+YomAY//M4xFMYq0rdvkFfXrm4kiSD/C/IAOgWUyE4lqKpIOS22EgM8q4CUPzsF0gy53ZY1KP8IBJKP+AcjGS/9BAsYUNdAimKZaojsvn0r02l6UqRlRraKzv//9vVtv3LdUUE9Uvoai+j+ilRyo5n//M4xE8WG0K9HjBFBCkMFEmc0pdnDNWAuORuDE97SokAeC0TbsrkKIIJoxUrFsXQcBqOMsh7jaQ1sZfIg9velBH/9mRT5uFcmqG7E/gbZ4iLnBYrG828wTHSW31YvW7lixvmEvm9u3+eV978//M4xFUU+RKkvnmHBOpLMIBJmmZy239Co2BwkfrkbvvULAGqIw9Ol1HKMBAYbTRafE5hsa1mGwLb3QpVqvfmK79w1YGJwLYvVmUQn5ur+4I/eeDpIv+XVZ55a8/YgpeR22L/YxA+cTAMWFNA//M4xGAdinKcAMmLaeMdtG/+/+mpzoahCFFw5OHw/I2Hz/hV/dS33AeUgD9XoMLOJNQXerW09BYKnrO48Jhom7AmdELNG1UxWRZWBminDjMJBVts5CU3vXJ2HgBahvMMBbFDFt5Ve4238w44//M4xEgempakAMvFDQss7hBWhwj9g4YbgxytqLEmsYIGONDmY11fbZl6LZ9bG1dDFqMoVjHDCANgxwNEUAR6imoHc9PVqgUDDrPFiw7S/p0Hm5vFhZrChVI7NSmZ6wV/eMecJAiD3lw5qv4F//M4xCwUkPbGNg4QGJv0Fm+UPNqSz3QeDUYJTqSx3PZ7DuJUxKjMU/V27drlMdKixYC7qveakJdJpNOBTG54Hg2No8gIQdtevL4PiGcPkhYzH0uLIcvt/c798QaTAHnlT8JT7bCcJggwmDp3//M4xDgUeUbWXmBNJLB9Mg8+ihGTw+siT9/9H03F4RFgGPPmUgMnxAAvBQghVm1IdMeesg73riyn+QRHL7OqCFdsZrxYwAM1hJaQuZG7hxCDzwwoZBhQIWDGKJNdS7oZea121TerhhVnb/////M4xEUUSq61lHhE8P///KWrGpRyiSBSVqoHuPAy2KOMABhBmqKWdUD2Vmg7kcoHDHPuh7VOOrlJFnU1xVcjv3v2WaKtat13TCiKFf+rcsqijCTgI+VSNf/////8F+sp+AH3yrIIxs7iyji6//M4xFIVQ0KgVFhNeC3B0/ptvrkhWUaKUjmF0izGIY+EFwElf/WsZPm/7xPvyItjpJ0OMa438wSCBo8hpYwQtFV707yIDM60Vl9P////6+V9nqkyuW6sn7J1HZGslSkcioYEEDi6apAO3qIA//M4xFwVkz7JnEBFamv1mxgKgpFGu3JkN8esTcTNdNEg4oIN3Mw8BmlZ+z1vVfwqWJG6DQIB8VA4ZBATg4gmLlkkSjlooqDksEwp96i8BBojUj+2NBGoKf/9mIk1oBZ+NthwDOcwoDo4nL0q//M4xGQVGL6k9kvMLK90So4ncBrP07CTT5ncWLCdq/527/qBhoUju3OfNN2c6Guix56BIsJpYCvmnToXJBtKLWGHFnklmam//+eofFTMideJQCp0Qmii6kQBu67FFFdyqXCThxtMrJdlSFEa//M4xG4VGSrFn08wAi37607KXilUmUDBqwTKVV4yy9jkntK5VbTTdaNRqZWU/lLUrrDJwxuX0buy3LLJyqa7NU0ifmzYjfYG/eP/jrGyvK/nr8LXYTdq///rLc1ANJlfoZDYtTV6Zs2n0gV+//M4xHgmUi58VZjAAO5jjrKtqmy/87d+/zuOdvmfMe2892C4fyuCpbu7BDc1oyqZtb5mtdrh0JRObBEAEtFUGpNiaXW1YiJtiykFgBEqQqFSKZCCIIvIQRDLNIkSLFkSJrYoUOqoWRgdiL8s//M4xD0UKQ3oAcxIABwsHVgqPBU6IjwNHjoiGA10f/EtTEFNRTMuMTAwVVVVVVVVVVVVVVVVVVVVVVVVVVVVVVVVVVVVVVVVVVVVVVVVVVVVVVVVVVVVVVVVVVVVVVVVVVVVVVVVVVVVVVVV\" type=\"audio/mpeg\"/>\n",
       "                        Your browser does not support the audio element.\n",
       "                    </audio>\n",
       "                  "
      ],
      "text/plain": [
       "<pydub.audio_segment.AudioSegment at 0x7f1bc911f668>"
      ]
     },
     "execution_count": 272,
     "metadata": {
      "tags": []
     },
     "output_type": "execute_result"
    }
   ],
   "source": [
    "persons_voice('Jenna Coleman')"
   ]
  },
  {
   "cell_type": "code",
   "execution_count": 0,
   "metadata": {
    "colab": {},
    "colab_type": "code",
    "id": "x3amTFMAfoaB"
   },
   "outputs": [],
   "source": []
  }
 ],
 "metadata": {
  "colab": {
   "collapsed_sections": [
    "r2SPD-nqCGpJ"
   ],
   "name": "demo.ipynb",
   "provenance": [],
   "version": "0.3.2"
  },
  "kernelspec": {
   "display_name": "Python 3",
   "language": "python",
   "name": "python3"
  },
  "language_info": {
   "codemirror_mode": {
    "name": "ipython",
    "version": 3
   },
   "file_extension": ".py",
   "mimetype": "text/x-python",
   "name": "python",
   "nbconvert_exporter": "python",
   "pygments_lexer": "ipython3",
   "version": "3.6.7"
  }
 },
 "nbformat": 4,
 "nbformat_minor": 1
}
